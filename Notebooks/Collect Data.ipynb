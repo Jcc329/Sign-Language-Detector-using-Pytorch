{
 "cells": [
  {
   "cell_type": "markdown",
   "id": "11267653",
   "metadata": {},
   "source": [
    "# Data 690 Practical AI: Final Project\n",
    "Jessica Conroy\n",
    "## Notebook 1: Data Collection\n",
    "Contents:\n",
    "- <b>Notebook 1</b> in this series collects the dataset for the project. \n",
    "- <b>Notebook 2</b> takes the next step by preparing and transforming the data for use in a pytorch model. It includes the training of the model with updatable constants for testing different parameters and configurations.\n",
    "- <b>Notebook 3</b> This is the code used in the App.py script below, but with additional documentation added\n",
    "- <b>App.py</b> represents the 3rd piece of the project which will launch the sign language detector. \n",
    "\n",
    "To perform the annotations section, make sure to set up labelImg (https://github.com/tzutalin/labelImg)\n",
    "\n",
    "### Sources\n",
    "https://github.com/nicknochnack/RealTimeObjectDetection\n",
    "https://github.com/tzutalin/labelImg\n",
    "\n"
   ]
  },
  {
   "cell_type": "code",
   "execution_count": 1,
   "id": "6f230a04-4fc9-4e78-a56c-340c962c01fd",
   "metadata": {},
   "outputs": [
    {
     "name": "stdout",
     "output_type": "stream",
     "text": [
      "Requirement already satisfied: opencv-python in c:\\users\\15856\\anaconda3\\lib\\site-packages (4.5.5.64)\n",
      "Requirement already satisfied: numpy>=1.19.3 in c:\\users\\15856\\anaconda3\\lib\\site-packages (from opencv-python) (1.22.3)\n"
     ]
    },
    {
     "name": "stderr",
     "output_type": "stream",
     "text": [
      "WARNING: Ignoring invalid distribution -ensorflow (c:\\users\\15856\\anaconda3\\lib\\site-packages)\n",
      "WARNING: Ignoring invalid distribution -ensorflow (c:\\users\\15856\\anaconda3\\lib\\site-packages)\n",
      "WARNING: Ignoring invalid distribution -ensorflow (c:\\users\\15856\\anaconda3\\lib\\site-packages)\n",
      "WARNING: Ignoring invalid distribution -ensorflow (c:\\users\\15856\\anaconda3\\lib\\site-packages)\n",
      "WARNING: Ignoring invalid distribution -ensorflow (c:\\users\\15856\\anaconda3\\lib\\site-packages)\n",
      "WARNING: Ignoring invalid distribution -ensorflow (c:\\users\\15856\\anaconda3\\lib\\site-packages)\n"
     ]
    },
    {
     "name": "stdout",
     "output_type": "stream",
     "text": [
      "Requirement already satisfied: torch in c:\\users\\15856\\anaconda3\\lib\\site-packages (1.11.0)\n",
      "Requirement already satisfied: typing-extensions in c:\\users\\15856\\anaconda3\\lib\\site-packages (from torch) (3.10.0.2)\n"
     ]
    },
    {
     "name": "stderr",
     "output_type": "stream",
     "text": [
      "WARNING: Ignoring invalid distribution -ensorflow (c:\\users\\15856\\anaconda3\\lib\\site-packages)\n",
      "WARNING: Ignoring invalid distribution -ensorflow (c:\\users\\15856\\anaconda3\\lib\\site-packages)\n",
      "WARNING: Ignoring invalid distribution -ensorflow (c:\\users\\15856\\anaconda3\\lib\\site-packages)\n",
      "WARNING: Ignoring invalid distribution -ensorflow (c:\\users\\15856\\anaconda3\\lib\\site-packages)\n",
      "WARNING: Ignoring invalid distribution -ensorflow (c:\\users\\15856\\anaconda3\\lib\\site-packages)\n",
      "WARNING: Ignoring invalid distribution -ensorflow (c:\\users\\15856\\anaconda3\\lib\\site-packages)\n"
     ]
    },
    {
     "name": "stdout",
     "output_type": "stream",
     "text": [
      "Requirement already satisfied: uuid in c:\\users\\15856\\anaconda3\\lib\\site-packages (1.30)\n"
     ]
    },
    {
     "name": "stderr",
     "output_type": "stream",
     "text": [
      "WARNING: Ignoring invalid distribution -ensorflow (c:\\users\\15856\\anaconda3\\lib\\site-packages)\n",
      "WARNING: Ignoring invalid distribution -ensorflow (c:\\users\\15856\\anaconda3\\lib\\site-packages)\n",
      "WARNING: Ignoring invalid distribution -ensorflow (c:\\users\\15856\\anaconda3\\lib\\site-packages)\n",
      "WARNING: Ignoring invalid distribution -ensorflow (c:\\users\\15856\\anaconda3\\lib\\site-packages)\n",
      "WARNING: Ignoring invalid distribution -ensorflow (c:\\users\\15856\\anaconda3\\lib\\site-packages)\n",
      "WARNING: Ignoring invalid distribution -ensorflow (c:\\users\\15856\\anaconda3\\lib\\site-packages)\n"
     ]
    },
    {
     "name": "stdout",
     "output_type": "stream",
     "text": [
      "Requirement already satisfied: torchvision in c:\\users\\15856\\anaconda3\\lib\\site-packages (0.12.0)\n",
      "Requirement already satisfied: pillow!=8.3.*,>=5.3.0 in c:\\users\\15856\\anaconda3\\lib\\site-packages (from torchvision) (8.4.0)\n",
      "Requirement already satisfied: requests in c:\\users\\15856\\anaconda3\\lib\\site-packages (from torchvision) (2.26.0)\n",
      "Requirement already satisfied: torch==1.11.0 in c:\\users\\15856\\anaconda3\\lib\\site-packages (from torchvision) (1.11.0)\n",
      "Requirement already satisfied: typing-extensions in c:\\users\\15856\\anaconda3\\lib\\site-packages (from torchvision) (3.10.0.2)\n",
      "Requirement already satisfied: numpy in c:\\users\\15856\\anaconda3\\lib\\site-packages (from torchvision) (1.22.3)\n",
      "Requirement already satisfied: certifi>=2017.4.17 in c:\\users\\15856\\anaconda3\\lib\\site-packages (from requests->torchvision) (2021.10.8)\n",
      "Requirement already satisfied: charset-normalizer~=2.0.0 in c:\\users\\15856\\anaconda3\\lib\\site-packages (from requests->torchvision) (2.0.4)\n",
      "Requirement already satisfied: idna<4,>=2.5 in c:\\users\\15856\\anaconda3\\lib\\site-packages (from requests->torchvision) (3.2)\n",
      "Requirement already satisfied: urllib3<1.27,>=1.21.1 in c:\\users\\15856\\anaconda3\\lib\\site-packages (from requests->torchvision) (1.26.7)\n"
     ]
    },
    {
     "name": "stderr",
     "output_type": "stream",
     "text": [
      "WARNING: Ignoring invalid distribution -ensorflow (c:\\users\\15856\\anaconda3\\lib\\site-packages)\n",
      "WARNING: Ignoring invalid distribution -ensorflow (c:\\users\\15856\\anaconda3\\lib\\site-packages)\n",
      "WARNING: Ignoring invalid distribution -ensorflow (c:\\users\\15856\\anaconda3\\lib\\site-packages)\n",
      "WARNING: Ignoring invalid distribution -ensorflow (c:\\users\\15856\\anaconda3\\lib\\site-packages)\n",
      "WARNING: Ignoring invalid distribution -ensorflow (c:\\users\\15856\\anaconda3\\lib\\site-packages)\n",
      "WARNING: Ignoring invalid distribution -ensorflow (c:\\users\\15856\\anaconda3\\lib\\site-packages)\n"
     ]
    },
    {
     "name": "stdout",
     "output_type": "stream",
     "text": [
      "Requirement already satisfied: labelImg in c:\\users\\15856\\appdata\\roaming\\python\\python39\\site-packages (1.8.6)\n",
      "Requirement already satisfied: lxml in c:\\users\\15856\\anaconda3\\lib\\site-packages (from labelImg) (4.6.3)\n",
      "Requirement already satisfied: pyqt5 in c:\\users\\15856\\appdata\\roaming\\python\\python39\\site-packages (from labelImg) (5.15.6)\n",
      "Requirement already satisfied: PyQt5-Qt5>=5.15.2 in c:\\users\\15856\\appdata\\roaming\\python\\python39\\site-packages (from pyqt5->labelImg) (5.15.2)\n",
      "Requirement already satisfied: PyQt5-sip<13,>=12.8 in c:\\users\\15856\\appdata\\roaming\\python\\python39\\site-packages (from pyqt5->labelImg) (12.10.1)\n"
     ]
    },
    {
     "name": "stderr",
     "output_type": "stream",
     "text": [
      "WARNING: Ignoring invalid distribution -ensorflow (c:\\users\\15856\\anaconda3\\lib\\site-packages)\n",
      "WARNING: Ignoring invalid distribution -ensorflow (c:\\users\\15856\\anaconda3\\lib\\site-packages)\n",
      "WARNING: Ignoring invalid distribution -ensorflow (c:\\users\\15856\\anaconda3\\lib\\site-packages)\n",
      "WARNING: Ignoring invalid distribution -ensorflow (c:\\users\\15856\\anaconda3\\lib\\site-packages)\n",
      "WARNING: Ignoring invalid distribution -ensorflow (c:\\users\\15856\\anaconda3\\lib\\site-packages)\n",
      "WARNING: Ignoring invalid distribution -ensorflow (c:\\users\\15856\\anaconda3\\lib\\site-packages)\n"
     ]
    },
    {
     "name": "stdout",
     "output_type": "stream",
     "text": [
      "Requirement already satisfied: barbar in c:\\users\\15856\\anaconda3\\lib\\site-packages (0.2.1)\n"
     ]
    },
    {
     "name": "stderr",
     "output_type": "stream",
     "text": [
      "WARNING: Ignoring invalid distribution -ensorflow (c:\\users\\15856\\anaconda3\\lib\\site-packages)\n",
      "WARNING: Ignoring invalid distribution -ensorflow (c:\\users\\15856\\anaconda3\\lib\\site-packages)\n",
      "WARNING: Ignoring invalid distribution -ensorflow (c:\\users\\15856\\anaconda3\\lib\\site-packages)\n",
      "WARNING: Ignoring invalid distribution -ensorflow (c:\\users\\15856\\anaconda3\\lib\\site-packages)\n",
      "WARNING: Ignoring invalid distribution -ensorflow (c:\\users\\15856\\anaconda3\\lib\\site-packages)\n",
      "WARNING: Ignoring invalid distribution -ensorflow (c:\\users\\15856\\anaconda3\\lib\\site-packages)\n"
     ]
    },
    {
     "name": "stdout",
     "output_type": "stream",
     "text": [
      "Requirement already satisfied: torchsummary in c:\\users\\15856\\anaconda3\\lib\\site-packages (1.5.1)\n"
     ]
    },
    {
     "name": "stderr",
     "output_type": "stream",
     "text": [
      "WARNING: Ignoring invalid distribution -ensorflow (c:\\users\\15856\\anaconda3\\lib\\site-packages)\n",
      "WARNING: Ignoring invalid distribution -ensorflow (c:\\users\\15856\\anaconda3\\lib\\site-packages)\n",
      "WARNING: Ignoring invalid distribution -ensorflow (c:\\users\\15856\\anaconda3\\lib\\site-packages)\n",
      "WARNING: Ignoring invalid distribution -ensorflow (c:\\users\\15856\\anaconda3\\lib\\site-packages)\n",
      "WARNING: Ignoring invalid distribution -ensorflow (c:\\users\\15856\\anaconda3\\lib\\site-packages)\n",
      "WARNING: Ignoring invalid distribution -ensorflow (c:\\users\\15856\\anaconda3\\lib\\site-packages)\n",
      "WARNING: Ignoring invalid distribution -ensorflow (c:\\users\\15856\\anaconda3\\lib\\site-packages)\n",
      "WARNING: Ignoring invalid distribution -ensorflow (c:\\users\\15856\\anaconda3\\lib\\site-packages)\n",
      "ERROR: Could not find a version that satisfies the requirement MobileNetV2 (from versions: none)\n",
      "ERROR: No matching distribution found for MobileNetV2\n",
      "WARNING: Ignoring invalid distribution -ensorflow (c:\\users\\15856\\anaconda3\\lib\\site-packages)\n",
      "WARNING: Ignoring invalid distribution -ensorflow (c:\\users\\15856\\anaconda3\\lib\\site-packages)\n",
      "WARNING: Ignoring invalid distribution -ensorflow (c:\\users\\15856\\anaconda3\\lib\\site-packages)\n"
     ]
    }
   ],
   "source": [
    "!pip install opencv-python\n",
    "!pip install uuid\n",
    "!pip install torchvision\n",
    "!pip install labelImg --user"
   ]
  },
  {
   "cell_type": "code",
   "execution_count": null,
   "id": "48ca4a91",
   "metadata": {},
   "outputs": [],
   "source": [
    "!pip uninstall tensorflow"
   ]
  },
  {
   "cell_type": "code",
   "execution_count": 1,
   "id": "ca85da6c-9c0e-4123-80f4-cdde491010d1",
   "metadata": {},
   "outputs": [
    {
     "data": {
      "text/plain": [
       "'C:\\\\Users\\\\15856\\\\Data 690 AI\\\\Final Project'"
      ]
     },
     "execution_count": 1,
     "metadata": {},
     "output_type": "execute_result"
    }
   ],
   "source": [
    "import cv2\n",
    "import os\n",
    "import time\n",
    "import uuid\n",
    "import torch\n",
    "import torch.nn as nn\n",
    "import torchvision\n",
    "import torchvision.transforms as transforms\n",
    "from torch.utils.data import DataLoader\n",
    "from sklearn.metrics import accuracy_score\n",
    "from tqdm.autonotebook import tqdm\n",
    "import xml.etree.ElementTree as ET\n",
    "from PIL import Image\n",
    "import string\n",
    "import numpy as np\n",
    "import glob\n",
    "\n",
    "os.getcwd()\n",
    "# os.chdir('..')\n",
    "os.getcwd()\n",
    "# os.mkdir('imagesupplement')"
   ]
  },
  {
   "cell_type": "markdown",
   "id": "5a6fd995-2e34-498c-8919-a3cfc2ae1bc1",
   "metadata": {},
   "source": [
    "# Dataset Creation and Labeling\n"
   ]
  },
  {
   "cell_type": "code",
   "execution_count": 4,
   "id": "338a1ecb-0ceb-44c2-9a6d-ddf7c6df0268",
   "metadata": {},
   "outputs": [],
   "source": [
    "Image_Path = './Images'\n",
    "img_count = 20\n",
    "\n",
    "#I will train on a few simple words and the alphabet\n",
    "Labels = ['hello', 'my', 'name', 'this', 'project','ThankYou', 'j', 'e', 's']\n",
    "# Labels = ['ThankYou', 'j']"
   ]
  },
  {
   "cell_type": "code",
   "execution_count": 5,
   "id": "45311458-ff95-41ee-9a48-e52fde9570de",
   "metadata": {},
   "outputs": [
    {
     "name": "stdout",
     "output_type": "stream",
     "text": [
      "Capturing Images for ThankYou\n",
      "Capturing Images for j\n"
     ]
    }
   ],
   "source": [
    "#Used https://www.youtube.com/watch?v=pDXdlXlaCco&ab_channel=NicholasRenotte \n",
    "# as a guideline for creating my dataset quickly using openCV\n",
    "for label in Labels:\n",
    "    capture = cv2.VideoCapture(0)\n",
    "    print('Capturing Images for {}'.format(label))\n",
    "    time.sleep(5)\n",
    "    for image_number in range(img_count):\n",
    "        val, img = capture.read()\n",
    "        imgname = os.path.join(Image_Path, label+'.'+'{}.jpg'.format(str(uuid.uuid1())))\n",
    "        cv2.imwrite(imgname, img)\n",
    "        cv2.imshow('frame', img)\n",
    "        time.sleep(3)\n",
    "        if cv2.waitKey(1) & 0xFF == ord('q'):\n",
    "            break\n",
    "    capture.release()    "
   ]
  },
  {
   "cell_type": "code",
   "execution_count": null,
   "id": "f2f14584-1f56-427b-a18c-ed6ea80b3fe7",
   "metadata": {},
   "outputs": [],
   "source": [
    "capture = cv2.VideoCapture(0)\n",
    "print('Capturing Images for {}'.format('ThankYou'))\n",
    "!mkdir {'.\\Images\\\\'+'ThankYou'}\n",
    "time.sleep(5)\n",
    "for image_number in range(img_count):\n",
    "    val, img = capture.read()\n",
    "    imgname = os.path.join(Image_Path, 'ThankYou', 'ThankYou'+'.'+'{}.jpg'.format(str(uuid.uuid1())))\n",
    "    cv2.imwrite(imgname, img)\n",
    "    cv2.imshow('frame', img)\n",
    "    time.sleep(3)\n",
    "    if cv2.waitKey(1) & 0xFF == ord('q'):\n",
    "        break\n",
    "capture.release()   "
   ]
  },
  {
   "cell_type": "code",
   "execution_count": null,
   "id": "59aac0ad-e8de-49fd-b651-e521d428ff22",
   "metadata": {},
   "outputs": [],
   "source": [
    "os.chdir('./labelImg/labelImg')\n",
    "!python3 labelImg.py\n",
    "# \"C:\\Users\\15856\\AppData\\Roaming\\Python\\Python38\\site-packages\\labelImg\\labelImg.py\""
   ]
  }
 ],
 "metadata": {
  "kernelspec": {
   "display_name": "Python 3 (ipykernel)",
   "language": "python",
   "name": "python3"
  },
  "language_info": {
   "codemirror_mode": {
    "name": "ipython",
    "version": 3
   },
   "file_extension": ".py",
   "mimetype": "text/x-python",
   "name": "python",
   "nbconvert_exporter": "python",
   "pygments_lexer": "ipython3",
   "version": "3.9.7"
  }
 },
 "nbformat": 4,
 "nbformat_minor": 5
}
