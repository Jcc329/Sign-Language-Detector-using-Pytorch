{
  "cells": [
    {
      "cell_type": "markdown",
      "source": [
        "# Data 690 Practical AI: Final Project\n",
        "Jessica Conroy\n",
        "## Notebook 2: Training the classifier\n",
        "Contents:\n",
        "- <b>Notebook 1</b> in this series collects the dataset for the project. \n",
        "- <b>Notebook 2</b> takes the next step by preparing and transforming the data for use in a pytorch model. It includes the training of the model with updatable constants for testing different parameters and configurations.\n",
        "- <b>Notebook 3</b> This is the code used in the App.py script below, but with additional documentation added\n",
        "- <b>App.py</b> represents the 3rd piece of the project which will launch the sign language detector. \n",
        "\n",
        "## Comments:\n",
        "Earlier in the life of this project, I did initially attempt training using a Faster RCNN. That notebook is available for reference in the notebooks file. I also attempted using tensorflow to train this model, but found that it was a little to difficult to get working within the timeframe of this project.\n",
        "Performance was extremely poor when using it in the final application and I therefore changed tactics moving forward. \n",
        "\n",
        "## Sources:\n",
        "### Guides:\n",
        "https://pyimagesearch.com/2021/11/01/training-an-object-detector-from-scratch-in-pytorch/\n",
        "\n",
        "https://medium.com/academy-eldoradocps/creating-a-custom-neural-network-with-pytorch-fd3621705d32\n",
        "\n",
        "https://github.com/Gunnika/Sign_Language_Detector-PyTorch\n",
        "\n",
        "https://medium.com/bitgrit-data-science-publication/building-an-image-classification-model-with-pytorch-from-scratch-f10452073212\n",
        "\n",
        "https://github.com/EdwardRaff/Inside-Deep-Learning\n",
        "\n",
        "Raff, E. (2022). Inside Deep Learning: Math, Algorithms, Models (Annotated ed.). Manning.\n",
        "\n",
        "https://towardsdatascience.com/custom-dataset-in-pytorch-part-1-images-2df3152895\n",
        "\n",
        "\n",
        "### Documentation:\n",
        "https://github.com/pytorch/vision/blob/main/torchvision/models/resnet.py\n",
        "\n",
        "https://pytorch.org/vision/stable/models.html\n",
        "\n",
        "https://pytorch.org/tutorials/beginner/hyperparameter_tuning_tutorial.html\n",
        "\n",
        "https://pytorch.org/docs/stable/generated/torch.nn.Identity.html\n",
        "\n",
        "https://pytorch.org/tutorials/beginner/saving_loading_models.html"
      ],
      "metadata": {
        "id": "pZ4EMO3V0bpZ"
      },
      "id": "pZ4EMO3V0bpZ"
    },
    {
      "cell_type": "code",
      "execution_count": 54,
      "id": "5f94be2a",
      "metadata": {
        "colab": {
          "base_uri": "https://localhost:8080/"
        },
        "id": "5f94be2a",
        "outputId": "d216b52d-d4d0-4cb8-c5d4-b8d30afc078a"
      },
      "outputs": [
        {
          "output_type": "stream",
          "name": "stdout",
          "text": [
            "Archive:  collectedimgs (2).zip\n",
            "replace ./data/collectedimgs/test/a.ee50b36b-cccd-11ec-ab81-287fcffe570f.jpg? [y]es, [n]o, [A]ll, [N]one, [r]ename: N\n"
          ]
        }
      ],
      "source": [
        "import torch\n",
        "import torchvision\n",
        "import torchvision.transforms as transforms\n",
        "from torch.utils.data import Dataset, DataLoader\n",
        "from torch.optim import Adam\n",
        "from torchvision.models import resnet34, resnet50, resnet101\n",
        "from torch.nn import CrossEntropyLoss\n",
        "from torch.nn import Dropout\n",
        "from torch.nn import Identity\n",
        "from torch.nn import Linear\n",
        "from torch.nn import Module\n",
        "from torch.nn import ReLU\n",
        "from torch.nn import Sequential\n",
        "from torch.nn import Sigmoid\n",
        "from torch.nn import Flatten\n",
        "import torch.nn as nn\n",
        "from tqdm import tqdm\n",
        "from sklearn.model_selection import train_test_split\n",
        "import cv2\n",
        "import glob\n",
        "import numpy\n",
        "import random\n",
        "import xml.etree.ElementTree as ET\n",
        "\n",
        "%matplotlib inline\n",
        "%config InlineBackend.figure_format = 'retina'\n",
        "\n",
        "import matplotlib.pyplot as plt\n",
        "import os\n",
        "\n",
        "import time\n",
        "\n",
        "os.getcwd()\n",
        "\n",
        "\n",
        "# !unzip \"collectedimgs.zip\" -d \"./data\"\n",
        "!unzip \"collectedimgs (2).zip\" -d \"./data\" "
      ]
    },
    {
      "cell_type": "code",
      "source": [
        "# os.mkdir('annotations')\n",
        "# os.mkdir(\"output\")\n",
        "# os.chdir('output')\n",
        "# os.mkdir(\"plots\")\n",
        "# os.chdir('..')\n",
        "BASE_PATH = \"\"\n",
        "# define the path to the base output directory\n",
        "BASE_OUTPUT = \"output\"\n",
        "# define the path to the output model, label encoder, plots output\n",
        "# directory, and testing image paths\n",
        "MODEL_PATH = os.path.sep.join([BASE_OUTPUT, \"classification_200epochs_croppedTI.pth\"])\n",
        "Checkpoint = os.path.sep.join([BASE_OUTPUT, \"classification_200epochs_croppedTI_checkpoint.pth\"])\n",
        "LE_PATH = os.path.sep.join([BASE_OUTPUT, \"le.pickle\"])\n",
        "PLOTS_PATH = os.path.sep.join([BASE_OUTPUT, \"plots\"])\n",
        "TEST_PATHS = os.path.sep.join([BASE_OUTPUT, \"test_paths.txt\"])"
      ],
      "metadata": {
        "id": "b2aPLtIKS90-"
      },
      "id": "b2aPLtIKS90-",
      "execution_count": 132,
      "outputs": []
    },
    {
      "cell_type": "code",
      "execution_count": 154,
      "id": "35bd76bc",
      "metadata": {
        "id": "35bd76bc"
      },
      "outputs": [],
      "source": [
        "# determine the current device and based on that set the pin memory\n",
        "# flag\n",
        "DEVICE = \"cuda\" if torch.cuda.is_available() else \"cpu\"\n",
        "PIN_MEMORY = True if DEVICE == \"cuda\" else False\n",
        "# specify ImageNet mean and standard deviation\n",
        "MEAN = [0.485, 0.456, 0.406]\n",
        "STD = [0.229, 0.224, 0.225]\n",
        "# initialize our initial learning rate, number of epochs to train\n",
        "# for, and the batch size\n",
        "INIT_LR = 1e-4\n",
        "NUM_EPOCHS = 200\n",
        "BATCH_SIZE = 32\n",
        "# specify the loss weights\n",
        "LABELS = 1.0\n",
        "BBOX = 1.0"
      ]
    },
    {
      "cell_type": "code",
      "execution_count": 155,
      "id": "61b57e78",
      "metadata": {
        "colab": {
          "base_uri": "https://localhost:8080/"
        },
        "id": "61b57e78",
        "outputId": "1a022968-d376-4188-d0bb-be4e978951a6"
      },
      "outputs": [
        {
          "output_type": "stream",
          "name": "stdout",
          "text": [
            "['thank you', 'a', 'b', 'c', 'd', 'e', 'f', 'g', 'h', 'hello', 'i', 'j', 'k', 'l', 'm', 'my', 'n', 'name', 'no', 'o', 'p', 'project', 'q', 'r', 's', 't', 'this', 'u', 'v', 'w', 'x', 'y', 'yes', 'z']\n"
          ]
        }
      ],
      "source": [
        "train_data_path = './data/collectedimgs/train' \n",
        "test_data_path = './data/collectedimgs/test'\n",
        "\n",
        "\n",
        "train_image_paths = []\n",
        "train_annotation_paths = []\n",
        "test_image_paths = []\n",
        "test_annotations_paths = []\n",
        "\n",
        "train_annotation_paths = glob.glob(train_data_path+\"/*.xml\")\n",
        "train_annotation_paths = sorted(train_annotation_paths)\n",
        "train_image_paths = glob.glob(train_data_path+\"/*.jpg\")\n",
        "train_image_paths = sorted(train_image_paths)\n",
        "\n",
        "test_annotations_paths = glob.glob(test_data_path+\"/*.xml\")\n",
        "test_annotations_paths = sorted(test_annotations_paths)\n",
        "test_image_paths = glob.glob(test_data_path+\"/*.jpg\")\n",
        "test_image_paths = sorted(test_image_paths)\n",
        "\n",
        "classes = []\n",
        "for path in train_image_paths:\n",
        "    filename = path.split('/')[-1]\n",
        "    class_name = filename.split('.')[0]\n",
        "    if class_name == 'ThankYou':\n",
        "        class_name = 'thank you'\n",
        "    if class_name in classes:\n",
        "        continue\n",
        "    else:\n",
        "        classes.append(class_name)\n",
        "\n",
        "print(classes)"
      ]
    },
    {
      "cell_type": "code",
      "source": [
        "# len(test_image_paths_lite)"
      ],
      "metadata": {
        "id": "iqSPbY7IFNVN"
      },
      "id": "iqSPbY7IFNVN",
      "execution_count": 156,
      "outputs": []
    },
    {
      "cell_type": "code",
      "source": [
        "#Uncomment to select only a few classes to train\n",
        "\n",
        "my_classes = ['ThankYou', 'hello','my', 'name', 'project','this', 'j', 'e', 's']\n",
        "\n",
        "train_annotation_paths_lite = []\n",
        "test_annotation_paths_lite = []\n",
        "\n",
        "train_image_paths_lite = []\n",
        "test_image_paths_lite = []\n",
        "\n",
        "for i,path in enumerate(train_image_paths):\n",
        "    filename = path.split('/')[-1]\n",
        "    class_name = filename.split('.')[0]\n",
        "    for CN in my_classes:\n",
        "        if CN == class_name:\n",
        "            train_image_paths_lite.append(path)\n",
        "            train_annotation_paths_lite.append(train_annotation_paths[i])\n",
        "\n",
        "for i,path in enumerate(test_image_paths):\n",
        "    filename = path.split('/')[-1]\n",
        "    class_name = filename.split('.')[0]\n",
        "    for CN in my_classes:\n",
        "        if CN == class_name:\n",
        "            test_image_paths_lite.append(path)\n",
        "            test_annotation_paths_lite.append(test_annotations_paths[i])\n",
        "\n",
        "classes = []\n",
        "for path in train_annotation_paths_lite:\n",
        "    filename = path.split('/')[-1]\n",
        "    class_name = filename.split('.')[0]\n",
        "    if class_name == 'ThankYou':\n",
        "        class_name = 'thank you'\n",
        "    if class_name in classes:\n",
        "        continue\n",
        "    else:\n",
        "        classes.append(class_name)"
      ],
      "metadata": {
        "id": "ji-bib_WCwQ2"
      },
      "id": "ji-bib_WCwQ2",
      "execution_count": 157,
      "outputs": []
    },
    {
      "cell_type": "code",
      "source": [
        "print(train_annotation_paths_lite)\n",
        "print(train_image_paths_lite)"
      ],
      "metadata": {
        "colab": {
          "base_uri": "https://localhost:8080/"
        },
        "id": "pQhkYnzaQGT5",
        "outputId": "4e16da9d-a57a-460a-b562-5542e2140606"
      },
      "id": "pQhkYnzaQGT5",
      "execution_count": 158,
      "outputs": [
        {
          "output_type": "stream",
          "name": "stdout",
          "text": [
            "['./data/collectedimgs/train/ThankYou.4bd68bea-ccd8-11ec-b32d-287fcffe570f.xml', './data/collectedimgs/train/ThankYou.4da5dcd5-ccd8-11ec-bcf7-287fcffe570f.xml', './data/collectedimgs/train/ThankYou.4f748e67-ccd8-11ec-bafb-287fcffe570f.xml', './data/collectedimgs/train/ThankYou.5315c7a4-ccd8-11ec-ae63-287fcffe570f.xml', './data/collectedimgs/train/ThankYou.54e65b5d-ccd8-11ec-b94a-287fcffe570f.xml', './data/collectedimgs/train/ThankYou.56b93aaa-ccd8-11ec-ae0a-287fcffe570f.xml', './data/collectedimgs/train/ThankYou.58859e9b-ccd8-11ec-a668-287fcffe570f.xml', './data/collectedimgs/train/ThankYou.5a55f747-ccd8-11ec-8893-287fcffe570f.xml', './data/collectedimgs/train/ThankYou.5c2735bd-ccd8-11ec-a2f7-287fcffe570f.xml', './data/collectedimgs/train/ThankYou.5df665d4-ccd8-11ec-97c6-287fcffe570f.xml', './data/collectedimgs/train/ThankYou.5fc525ba-ccd8-11ec-9f83-287fcffe570f.xml', './data/collectedimgs/train/ThankYou.619287c2-ccd8-11ec-902f-287fcffe570f.xml', './data/collectedimgs/train/ThankYou.63444db2-d3b2-11ec-960e-00d86189407e.xml', './data/collectedimgs/train/ThankYou.651a8138-d3b2-11ec-be1d-00d86189407e.xml', './data/collectedimgs/train/ThankYou.6530bcc4-ccd8-11ec-927a-287fcffe570f.xml', './data/collectedimgs/train/ThankYou.66e882cb-d3b2-11ec-b680-00d86189407e.xml', './data/collectedimgs/train/ThankYou.6700f6b2-ccd8-11ec-bedb-287fcffe570f.xml', './data/collectedimgs/train/ThankYou.68b72a7a-d3b2-11ec-b92b-00d86189407e.xml', './data/collectedimgs/train/ThankYou.68d17ef5-ccd8-11ec-97af-287fcffe570f.xml', './data/collectedimgs/train/ThankYou.6a9ef2fa-ccd8-11ec-a626-287fcffe570f.xml', './data/collectedimgs/train/ThankYou.6c6d3d0a-ccd8-11ec-8e5f-287fcffe570f.xml', './data/collectedimgs/train/ThankYou.6e21b65f-d3b2-11ec-a4be-00d86189407e.xml', './data/collectedimgs/train/ThankYou.6e3da6f4-ccd8-11ec-adf4-287fcffe570f.xml', './data/collectedimgs/train/ThankYou.6ff05cdc-d3b2-11ec-801b-00d86189407e.xml', './data/collectedimgs/train/ThankYou.71bf9513-d3b2-11ec-bd49-00d86189407e.xml', './data/collectedimgs/train/ThankYou.738f4db2-d3b2-11ec-baed-00d86189407e.xml', './data/collectedimgs/train/ThankYou.75615664-d3b2-11ec-9639-00d86189407e.xml', './data/collectedimgs/train/ThankYou.77334ce3-d3b2-11ec-93fc-00d86189407e.xml', './data/collectedimgs/train/ThankYou.79039d3d-d3b2-11ec-8c3c-00d86189407e.xml', './data/collectedimgs/train/ThankYou.7ad4e911-d3b2-11ec-8a24-00d86189407e.xml', './data/collectedimgs/train/ThankYou.7ca5f59a-d3b2-11ec-b38a-00d86189407e.xml', './data/collectedimgs/train/ThankYou.7e746b79-d3b2-11ec-acad-00d86189407e.xml', './data/collectedimgs/train/ThankYou.8044c6ec-d3b2-11ec-87db-00d86189407e.xml', './data/collectedimgs/train/ThankYou.8215e01a-d3b2-11ec-806b-00d86189407e.xml', './data/collectedimgs/train/ThankYou.83e46703-d3b2-11ec-b222-00d86189407e.xml', './data/collectedimgs/train/ThankYou.85b32049-d3b2-11ec-af5a-00d86189407e.xml', './data/collectedimgs/train/e.00729e58-d3b2-11ec-82bb-00d86189407e.xml', './data/collectedimgs/train/e.02448061-d3b2-11ec-bc2e-00d86189407e.xml', './data/collectedimgs/train/e.05e291de-d3b2-11ec-a29a-00d86189407e.xml', './data/collectedimgs/train/e.09814463-d3b2-11ec-a570-00d86189407e.xml', './data/collectedimgs/train/e.0b52a5d4-d3b2-11ec-9501-00d86189407e.xml', './data/collectedimgs/train/e.706b7933-ccce-11ec-bb7a-287fcffe570f.xml', './data/collectedimgs/train/e.723e666e-ccce-11ec-857c-287fcffe570f.xml', './data/collectedimgs/train/e.740cd5cd-ccce-11ec-8119-287fcffe570f.xml', './data/collectedimgs/train/e.75dc3680-ccce-11ec-bc1d-287fcffe570f.xml', './data/collectedimgs/train/e.77ab6e27-ccce-11ec-9b04-287fcffe570f.xml', './data/collectedimgs/train/e.7b45b596-ccce-11ec-9b3d-287fcffe570f.xml', './data/collectedimgs/train/e.7d12a277-ccce-11ec-a69c-287fcffe570f.xml', './data/collectedimgs/train/e.7ee372ef-ccce-11ec-af73-287fcffe570f.xml', './data/collectedimgs/train/e.80b40641-ccce-11ec-843d-287fcffe570f.xml', './data/collectedimgs/train/e.844ea44a-ccce-11ec-8fbc-287fcffe570f.xml', './data/collectedimgs/train/e.861eb076-ccce-11ec-a161-287fcffe570f.xml', './data/collectedimgs/train/e.87ed15c1-ccce-11ec-b964-287fcffe570f.xml', './data/collectedimgs/train/e.89bc99e2-ccce-11ec-8568-287fcffe570f.xml', './data/collectedimgs/train/e.8b8aa6b2-ccce-11ec-8840-287fcffe570f.xml', './data/collectedimgs/train/e.8d5af5fb-ccce-11ec-9e9a-287fcffe570f.xml', './data/collectedimgs/train/e.8f2a2723-ccce-11ec-bb29-287fcffe570f.xml', './data/collectedimgs/train/e.90f893ce-ccce-11ec-ad87-287fcffe570f.xml', './data/collectedimgs/train/e.92c9d182-ccce-11ec-8a52-287fcffe570f.xml', './data/collectedimgs/train/e.e8ddca66-d3b1-11ec-a4c4-00d86189407e.xml', './data/collectedimgs/train/e.eab384dc-d3b1-11ec-af9f-00d86189407e.xml', './data/collectedimgs/train/e.ec840caf-d3b1-11ec-95e7-00d86189407e.xml', './data/collectedimgs/train/e.ee573147-d3b1-11ec-afb1-00d86189407e.xml', './data/collectedimgs/train/e.f0240aee-d3b1-11ec-907c-00d86189407e.xml', './data/collectedimgs/train/e.f1f5059c-d3b1-11ec-ba06-00d86189407e.xml', './data/collectedimgs/train/e.f3c644d8-d3b1-11ec-b5a9-00d86189407e.xml', './data/collectedimgs/train/e.f595a4ee-d3b1-11ec-aa7e-00d86189407e.xml', './data/collectedimgs/train/e.f7664cf4-d3b1-11ec-9a03-00d86189407e.xml', './data/collectedimgs/train/e.f9369e1e-d3b1-11ec-96ce-00d86189407e.xml', './data/collectedimgs/train/e.fb0648df-d3b1-11ec-9350-00d86189407e.xml', './data/collectedimgs/train/e.fcd562c6-d3b1-11ec-9247-00d86189407e.xml', './data/collectedimgs/train/e.fea3fa14-d3b1-11ec-9298-00d86189407e.xml', './data/collectedimgs/train/hello.0066a128-d3b1-11ec-89ba-00d86189407e.xml', './data/collectedimgs/train/hello.02342a6a-d3b1-11ec-b65d-00d86189407e.xml', './data/collectedimgs/train/hello.0404969f-d3b1-11ec-b28d-00d86189407e.xml', './data/collectedimgs/train/hello.05d3aaee-d3b1-11ec-b7c9-00d86189407e.xml', './data/collectedimgs/train/hello.071c8e01-cccc-11ec-93b6-287fcffe570f.xml', './data/collectedimgs/train/hello.07a6ad47-d3b1-11ec-a12b-00d86189407e.xml', './data/collectedimgs/train/hello.0974bf37-d3b1-11ec-b065-00d86189407e.xml', './data/collectedimgs/train/hello.0ee21791-d3b1-11ec-a238-00d86189407e.xml', './data/collectedimgs/train/hello.10b2063c-d3b1-11ec-86f7-00d86189407e.xml', './data/collectedimgs/train/hello.127e2a62-d3b1-11ec-b39f-00d86189407e.xml', './data/collectedimgs/train/hello.144d9c43-d3b1-11ec-8c2f-00d86189407e.xml', './data/collectedimgs/train/hello.161d18cb-d3b1-11ec-bec9-00d86189407e.xml', './data/collectedimgs/train/hello.17e86eaf-d3b1-11ec-b5a2-00d86189407e.xml', './data/collectedimgs/train/hello.8a5f13e3-cccc-11ec-bf13-287fcffe570f.xml', './data/collectedimgs/train/hello.8c2e6c44-cccc-11ec-b8e0-287fcffe570f.xml', './data/collectedimgs/train/hello.8e007380-cccc-11ec-814a-287fcffe570f.xml', './data/collectedimgs/train/hello.8fd2ce39-cccc-11ec-9788-287fcffe570f.xml', './data/collectedimgs/train/hello.91a0b0d6-cccc-11ec-b251-287fcffe570f.xml', './data/collectedimgs/train/hello.937049fa-cccc-11ec-8eaf-287fcffe570f.xml', './data/collectedimgs/train/hello.953e77b2-cccc-11ec-9f13-287fcffe570f.xml', './data/collectedimgs/train/hello.970aee56-cccc-11ec-835c-287fcffe570f.xml', './data/collectedimgs/train/hello.98dc9b37-cccc-11ec-b8fa-287fcffe570f.xml', './data/collectedimgs/train/hello.9aac97e6-cccc-11ec-bda2-287fcffe570f.xml', './data/collectedimgs/train/hello.9c7d6b51-cccc-11ec-9a7e-287fcffe570f.xml', './data/collectedimgs/train/hello.9e4cddac-cccc-11ec-a62d-287fcffe570f.xml', './data/collectedimgs/train/hello.a01d3ab5-cccc-11ec-bc9c-287fcffe570f.xml', './data/collectedimgs/train/hello.a1ec342b-cccc-11ec-a1e4-287fcffe570f.xml', './data/collectedimgs/train/hello.a3bda944-cccc-11ec-9bfd-287fcffe570f.xml', './data/collectedimgs/train/hello.a75ae2b2-cccc-11ec-8731-287fcffe570f.xml', './data/collectedimgs/train/hello.a92b7251-cccc-11ec-bfd6-287fcffe570f.xml', './data/collectedimgs/train/hello.f58519a9-d3b0-11ec-9d11-00d86189407e.xml', './data/collectedimgs/train/hello.f75eda86-d3b0-11ec-abf8-00d86189407e.xml', './data/collectedimgs/train/hello.f92e8664-d3b0-11ec-9312-00d86189407e.xml', './data/collectedimgs/train/hello.fafc0bdd-d3b0-11ec-8640-00d86189407e.xml', './data/collectedimgs/train/hello.fccb1aa8-d3b0-11ec-809a-00d86189407e.xml', './data/collectedimgs/train/hello.fe99a5c0-d3b0-11ec-b1cd-00d86189407e.xml', './data/collectedimgs/train/j.3c1f7009-cccf-11ec-b8d5-287fcffe570f.xml', './data/collectedimgs/train/j.3df4c86c-cccf-11ec-a5a6-287fcffe570f.xml', './data/collectedimgs/train/j.3fc47b20-cccf-11ec-8ac2-287fcffe570f.xml', './data/collectedimgs/train/j.4361bbec-cccf-11ec-a14a-287fcffe570f.xml', './data/collectedimgs/train/j.46fe8913-cccf-11ec-99b0-287fcffe570f.xml', './data/collectedimgs/train/j.48cfb4f1-cccf-11ec-b51b-287fcffe570f.xml', './data/collectedimgs/train/j.4a9b3cf9-cccf-11ec-99c2-287fcffe570f.xml', './data/collectedimgs/train/j.4c6bb763-cccf-11ec-8457-287fcffe570f.xml', './data/collectedimgs/train/j.4e3c8df9-cccf-11ec-b9f1-287fcffe570f.xml', './data/collectedimgs/train/j.500d3bbd-cccf-11ec-a152-287fcffe570f.xml', './data/collectedimgs/train/j.51dd2993-cccf-11ec-9cba-287fcffe570f.xml', './data/collectedimgs/train/j.53ae337f-cccf-11ec-b904-287fcffe570f.xml', './data/collectedimgs/train/j.557da5de-cccf-11ec-8a0e-287fcffe570f.xml', './data/collectedimgs/train/j.574e6836-cccf-11ec-809d-287fcffe570f.xml', './data/collectedimgs/train/j.591db12b-cccf-11ec-92d0-287fcffe570f.xml', './data/collectedimgs/train/j.5aec9779-cccf-11ec-9269-287fcffe570f.xml', './data/collectedimgs/train/j.5cbe92ce-cccf-11ec-9269-287fcffe570f.xml', './data/collectedimgs/train/j.5e8abada-cccf-11ec-beea-287fcffe570f.xml', './data/collectedimgs/train/j.8f886b3c-d3b2-11ec-a2ac-00d86189407e.xml', './data/collectedimgs/train/j.9157075f-d3b2-11ec-9c68-00d86189407e.xml', './data/collectedimgs/train/j.9324f07b-d3b2-11ec-825a-00d86189407e.xml', './data/collectedimgs/train/j.94f4f2ce-d3b2-11ec-bb9d-00d86189407e.xml', './data/collectedimgs/train/j.96c58803-d3b2-11ec-9c57-00d86189407e.xml', './data/collectedimgs/train/j.9895b5da-d3b2-11ec-9c76-00d86189407e.xml', './data/collectedimgs/train/j.9a673703-d3b2-11ec-80f3-00d86189407e.xml', './data/collectedimgs/train/j.9c34447e-d3b2-11ec-b65c-00d86189407e.xml', './data/collectedimgs/train/j.9e048062-d3b2-11ec-929d-00d86189407e.xml', './data/collectedimgs/train/j.9fd319e1-d3b2-11ec-a91a-00d86189407e.xml', './data/collectedimgs/train/j.a1a12539-d3b2-11ec-8992-00d86189407e.xml', './data/collectedimgs/train/j.a36f871f-d3b2-11ec-a6c7-00d86189407e.xml', './data/collectedimgs/train/j.a53c8c76-d3b2-11ec-9ba6-00d86189407e.xml', './data/collectedimgs/train/j.a70bd163-d3b2-11ec-b051-00d86189407e.xml', './data/collectedimgs/train/j.a8db34b7-d3b2-11ec-9644-00d86189407e.xml', './data/collectedimgs/train/j.aaaa2e9a-d3b2-11ec-8554-00d86189407e.xml', './data/collectedimgs/train/j.ac7a14c0-d3b2-11ec-b9fd-00d86189407e.xml', './data/collectedimgs/train/j.ae4a36f2-d3b2-11ec-8e4c-00d86189407e.xml', './data/collectedimgs/train/my.21a7ca86-d3b1-11ec-bd93-00d86189407e.xml', './data/collectedimgs/train/my.2377fd56-d3b1-11ec-b935-00d86189407e.xml', './data/collectedimgs/train/my.25487480-d3b1-11ec-9b09-00d86189407e.xml', './data/collectedimgs/train/my.27186f4d-d3b1-11ec-9932-00d86189407e.xml', './data/collectedimgs/train/my.28e87052-d3b1-11ec-a0fc-00d86189407e.xml', './data/collectedimgs/train/my.2ab6745c-d3b1-11ec-92b9-00d86189407e.xml', './data/collectedimgs/train/my.2c84cf2c-d3b1-11ec-97f7-00d86189407e.xml', './data/collectedimgs/train/my.2e53905d-d3b1-11ec-90fd-00d86189407e.xml', './data/collectedimgs/train/my.302518ba-d3b1-11ec-bc42-00d86189407e.xml', './data/collectedimgs/train/my.31f17fc4-d3b1-11ec-b874-00d86189407e.xml', './data/collectedimgs/train/my.33c13d15-d3b1-11ec-afc3-00d86189407e.xml', './data/collectedimgs/train/my.358ff041-d3b1-11ec-b7af-00d86189407e.xml', './data/collectedimgs/train/my.37613272-d3b1-11ec-a1a3-00d86189407e.xml', './data/collectedimgs/train/my.39336122-d3b1-11ec-b97e-00d86189407e.xml', './data/collectedimgs/train/my.3aff1275-d3b1-11ec-8315-00d86189407e.xml', './data/collectedimgs/train/my.3ccd1c4b-d3b1-11ec-b2f7-00d86189407e.xml', './data/collectedimgs/train/my.3e9c7514-d3b1-11ec-9ed2-00d86189407e.xml', './data/collectedimgs/train/my.406c154e-d3b1-11ec-b5ae-00d86189407e.xml', './data/collectedimgs/train/my.b144668e-cccc-11ec-8504-287fcffe570f.xml', './data/collectedimgs/train/my.b313cf47-cccc-11ec-ab54-287fcffe570f.xml', './data/collectedimgs/train/my.b4e56273-cccc-11ec-b39e-287fcffe570f.xml', './data/collectedimgs/train/my.b6b7558d-cccc-11ec-8c27-287fcffe570f.xml', './data/collectedimgs/train/my.b882f251-cccc-11ec-aa6b-287fcffe570f.xml', './data/collectedimgs/train/my.ba52aeb1-cccc-11ec-94df-287fcffe570f.xml', './data/collectedimgs/train/my.bc234c65-cccc-11ec-b8dd-287fcffe570f.xml', './data/collectedimgs/train/my.bdf4f00c-cccc-11ec-88a6-287fcffe570f.xml', './data/collectedimgs/train/my.bfc3f5ac-cccc-11ec-b61d-287fcffe570f.xml', './data/collectedimgs/train/my.c1944882-cccc-11ec-8b61-287fcffe570f.xml', './data/collectedimgs/train/my.c36480a6-cccc-11ec-89a1-287fcffe570f.xml', './data/collectedimgs/train/my.c5336ac8-cccc-11ec-b860-287fcffe570f.xml', './data/collectedimgs/train/my.c704a130-cccc-11ec-a4fb-287fcffe570f.xml', './data/collectedimgs/train/my.c8d5c297-cccc-11ec-add5-287fcffe570f.xml', './data/collectedimgs/train/my.caa286a9-cccc-11ec-b73e-287fcffe570f.xml', './data/collectedimgs/train/my.cc72d651-cccc-11ec-b4d9-287fcffe570f.xml', './data/collectedimgs/train/my.ce42229f-cccc-11ec-b85b-287fcffe570f.xml', './data/collectedimgs/train/my.d1e1ce31-cccc-11ec-a6cb-287fcffe570f.xml', './data/collectedimgs/train/name.1390a179-cccc-11ec-b9b8-287fcffe570f.xml', './data/collectedimgs/train/name.469797c0-d3b1-11ec-92bf-00d86189407e.xml', './data/collectedimgs/train/name.486908c7-d3b1-11ec-b5ba-00d86189407e.xml', './data/collectedimgs/train/name.4dd338b7-d3b1-11ec-b337-00d86189407e.xml', './data/collectedimgs/train/name.4fa35f58-d3b1-11ec-950a-00d86189407e.xml', './data/collectedimgs/train/name.51720118-d3b1-11ec-9dc6-00d86189407e.xml', './data/collectedimgs/train/name.53401d67-d3b1-11ec-a4ba-00d86189407e.xml', './data/collectedimgs/train/name.5510ade8-d3b1-11ec-bc24-00d86189407e.xml', './data/collectedimgs/train/name.56e21ce0-d3b1-11ec-a699-00d86189407e.xml', './data/collectedimgs/train/name.58b1a0f1-d3b1-11ec-9fee-00d86189407e.xml', './data/collectedimgs/train/name.5a82b69f-d3b1-11ec-bf46-00d86189407e.xml', './data/collectedimgs/train/name.5c52bcdb-d3b1-11ec-85f7-00d86189407e.xml', './data/collectedimgs/train/name.5e23dfbe-d3b1-11ec-9d28-00d86189407e.xml', './data/collectedimgs/train/name.5ff102b3-d3b1-11ec-ab72-00d86189407e.xml', './data/collectedimgs/train/name.61be0981-d3b1-11ec-8a36-00d86189407e.xml', './data/collectedimgs/train/name.638f0be6-d3b1-11ec-a7d2-00d86189407e.xml', './data/collectedimgs/train/name.655fbd7e-d3b1-11ec-85e7-00d86189407e.xml', './data/collectedimgs/train/name.67308b10-d3b1-11ec-b96a-00d86189407e.xml', './data/collectedimgs/train/name.69011676-d3b1-11ec-8576-00d86189407e.xml', './data/collectedimgs/train/name.da02c8be-cccc-11ec-b60e-287fcffe570f.xml', './data/collectedimgs/train/name.dbcfcf97-cccc-11ec-bd0d-287fcffe570f.xml', './data/collectedimgs/train/name.dd9f6c52-cccc-11ec-b9a1-287fcffe570f.xml', './data/collectedimgs/train/name.df6e2774-cccc-11ec-8385-287fcffe570f.xml', './data/collectedimgs/train/name.e13f7693-cccc-11ec-8429-287fcffe570f.xml', './data/collectedimgs/train/name.e30f6f2d-cccc-11ec-9c63-287fcffe570f.xml', './data/collectedimgs/train/name.e4df52c9-cccc-11ec-aeed-287fcffe570f.xml', './data/collectedimgs/train/name.e6aff933-cccc-11ec-9005-287fcffe570f.xml', './data/collectedimgs/train/name.e87c0518-cccc-11ec-b2e8-287fcffe570f.xml', './data/collectedimgs/train/name.ea4b0dc3-cccc-11ec-971e-287fcffe570f.xml', './data/collectedimgs/train/name.ec1bd492-cccc-11ec-afd3-287fcffe570f.xml', './data/collectedimgs/train/name.edec476f-cccc-11ec-9867-287fcffe570f.xml', './data/collectedimgs/train/name.efbe9a25-cccc-11ec-9531-287fcffe570f.xml', './data/collectedimgs/train/name.f18bf444-cccc-11ec-8307-287fcffe570f.xml', './data/collectedimgs/train/name.f35cb24d-cccc-11ec-9706-287fcffe570f.xml', './data/collectedimgs/train/name.f52a6921-cccc-11ec-8a35-287fcffe570f.xml', './data/collectedimgs/train/name.f6f9b945-cccc-11ec-bada-287fcffe570f.xml', './data/collectedimgs/train/name.f8ca0978-cccc-11ec-8f75-287fcffe570f.xml', './data/collectedimgs/train/project.2b3cb8b9-cccd-11ec-b638-287fcffe570f.xml', './data/collectedimgs/train/project.2d0ca3c3-cccd-11ec-a987-287fcffe570f.xml', './data/collectedimgs/train/project.2eddcdaa-cccd-11ec-b9a7-287fcffe570f.xml', './data/collectedimgs/train/project.30ae8a4e-cccd-11ec-b783-287fcffe570f.xml', './data/collectedimgs/train/project.327dea45-cccd-11ec-b126-287fcffe570f.xml', './data/collectedimgs/train/project.344b89f7-cccd-11ec-8aea-287fcffe570f.xml', './data/collectedimgs/train/project.361be311-cccd-11ec-b8fb-287fcffe570f.xml', './data/collectedimgs/train/project.37eb8cb9-cccd-11ec-846f-287fcffe570f.xml', './data/collectedimgs/train/project.39ba1997-cccd-11ec-bbc3-287fcffe570f.xml', './data/collectedimgs/train/project.3b87ae52-cccd-11ec-b68c-287fcffe570f.xml', './data/collectedimgs/train/project.3d587bee-cccd-11ec-80f1-287fcffe570f.xml', './data/collectedimgs/train/project.3f258750-cccd-11ec-b87b-287fcffe570f.xml', './data/collectedimgs/train/project.40f5ed66-cccd-11ec-8ad6-287fcffe570f.xml', './data/collectedimgs/train/project.42c6bc81-cccd-11ec-9606-287fcffe570f.xml', './data/collectedimgs/train/project.4493c5c7-cccd-11ec-b393-287fcffe570f.xml', './data/collectedimgs/train/project.4a00cb65-cccd-11ec-bb41-287fcffe570f.xml', './data/collectedimgs/train/project.4bd18416-cccd-11ec-a741-287fcffe570f.xml', './data/collectedimgs/train/project.4da242b9-cccd-11ec-bf60-287fcffe570f.xml', './data/collectedimgs/train/project.97aa32dd-d3b1-11ec-9c90-00d86189407e.xml', './data/collectedimgs/train/project.997effa6-d3b1-11ec-bb1b-00d86189407e.xml', './data/collectedimgs/train/project.9d21831c-d3b1-11ec-9cf8-00d86189407e.xml', './data/collectedimgs/train/project.9ef28bd2-d3b1-11ec-8c0d-00d86189407e.xml', './data/collectedimgs/train/project.a0c36000-d3b1-11ec-a6eb-00d86189407e.xml', './data/collectedimgs/train/project.a291ec7c-d3b1-11ec-bd61-00d86189407e.xml', './data/collectedimgs/train/project.a45e4eb1-d3b1-11ec-aab5-00d86189407e.xml', './data/collectedimgs/train/project.a62cc436-d3b1-11ec-a5da-00d86189407e.xml', './data/collectedimgs/train/project.a9ce5f28-d3b1-11ec-ada5-00d86189407e.xml', './data/collectedimgs/train/project.aba169cc-d3b1-11ec-8bd1-00d86189407e.xml', './data/collectedimgs/train/project.ad6ee1ea-d3b1-11ec-8e08-00d86189407e.xml', './data/collectedimgs/train/project.af3f4abd-d3b1-11ec-a0dc-00d86189407e.xml', './data/collectedimgs/train/project.b10e5e50-d3b1-11ec-b9fc-00d86189407e.xml', './data/collectedimgs/train/project.b2dce8cf-d3b1-11ec-9e3c-00d86189407e.xml', './data/collectedimgs/train/project.b4ae53ad-d3b1-11ec-90ec-00d86189407e.xml', './data/collectedimgs/train/project.b67e5e52-d3b1-11ec-9772-00d86189407e.xml', './data/collectedimgs/train/project.b84f333e-d3b1-11ec-ab13-00d86189407e.xml', './data/collectedimgs/train/project.ba1eacf3-d3b1-11ec-92a6-00d86189407e.xml', './data/collectedimgs/train/s.11895886-d3b2-11ec-a030-00d86189407e.xml', './data/collectedimgs/train/s.1359672a-d3b2-11ec-8444-00d86189407e.xml', './data/collectedimgs/train/s.1529b3b5-d3b2-11ec-98fa-00d86189407e.xml', './data/collectedimgs/train/s.16fa3688-d3b2-11ec-8e4f-00d86189407e.xml', './data/collectedimgs/train/s.18cbc70a-d3b2-11ec-a988-00d86189407e.xml', './data/collectedimgs/train/s.1e3df1eb-d3b2-11ec-8936-00d86189407e.xml', './data/collectedimgs/train/s.200b0de5-d3b2-11ec-bd80-00d86189407e.xml', './data/collectedimgs/train/s.21da5a51-d3b2-11ec-b0e2-00d86189407e.xml', './data/collectedimgs/train/s.23a6c962-d3b2-11ec-acc6-00d86189407e.xml', './data/collectedimgs/train/s.25742c4d-d3b2-11ec-b418-00d86189407e.xml', './data/collectedimgs/train/s.2744ace1-d3b2-11ec-9e6a-00d86189407e.xml', './data/collectedimgs/train/s.291506f2-d3b2-11ec-aeeb-00d86189407e.xml', './data/collectedimgs/train/s.2ae5399d-d3b2-11ec-aed2-00d86189407e.xml', './data/collectedimgs/train/s.2cb48567-d3b2-11ec-9471-00d86189407e.xml', './data/collectedimgs/train/s.2e85cc34-d3b2-11ec-b110-00d86189407e.xml', './data/collectedimgs/train/s.30525018-d3b2-11ec-89ee-00d86189407e.xml', './data/collectedimgs/train/s.32221799-d3b2-11ec-86ad-00d86189407e.xml', './data/collectedimgs/train/s.33f30c80-d3b2-11ec-9c03-00d86189407e.xml', './data/collectedimgs/train/s.aac125f6-ccd0-11ec-8d7a-287fcffe570f.xml', './data/collectedimgs/train/s.ac928510-ccd0-11ec-ae19-287fcffe570f.xml', './data/collectedimgs/train/s.ae60a155-ccd0-11ec-bfb8-287fcffe570f.xml', './data/collectedimgs/train/s.b0302743-ccd0-11ec-9b88-287fcffe570f.xml', './data/collectedimgs/train/s.b1fd3fa0-ccd0-11ec-bf71-287fcffe570f.xml', './data/collectedimgs/train/s.b3cc951b-ccd0-11ec-a88a-287fcffe570f.xml', './data/collectedimgs/train/s.b59aec65-ccd0-11ec-b4bd-287fcffe570f.xml', './data/collectedimgs/train/s.b76aca40-ccd0-11ec-aa98-287fcffe570f.xml', './data/collectedimgs/train/s.b93ac11f-ccd0-11ec-a738-287fcffe570f.xml', './data/collectedimgs/train/s.bb08d66a-ccd0-11ec-ab3d-287fcffe570f.xml', './data/collectedimgs/train/s.bcd7c455-ccd0-11ec-bf5c-287fcffe570f.xml', './data/collectedimgs/train/s.bea497f9-ccd0-11ec-80a5-287fcffe570f.xml', './data/collectedimgs/train/s.c0732d30-ccd0-11ec-99a1-287fcffe570f.xml', './data/collectedimgs/train/s.c240e3c7-ccd0-11ec-82e7-287fcffe570f.xml', './data/collectedimgs/train/s.c40d0df2-ccd0-11ec-a04a-287fcffe570f.xml', './data/collectedimgs/train/s.c5dd80ce-ccd0-11ec-8f6e-287fcffe570f.xml', './data/collectedimgs/train/s.c7aedb39-ccd0-11ec-8685-287fcffe570f.xml', './data/collectedimgs/train/s.c97f5989-ccd0-11ec-a9b4-287fcffe570f.xml', './data/collectedimgs/train/this.029a32fd-cccd-11ec-a08d-287fcffe570f.xml', './data/collectedimgs/train/this.04688e3b-cccd-11ec-834f-287fcffe570f.xml', './data/collectedimgs/train/this.06378e23-cccd-11ec-98c3-287fcffe570f.xml', './data/collectedimgs/train/this.09d5d882-cccd-11ec-94eb-287fcffe570f.xml', './data/collectedimgs/train/this.0ba62967-cccd-11ec-8008-287fcffe570f.xml', './data/collectedimgs/train/this.0d756ce5-cccd-11ec-9482-287fcffe570f.xml', './data/collectedimgs/train/this.0f443cf5-cccd-11ec-9dd7-287fcffe570f.xml', './data/collectedimgs/train/this.1112aedf-cccd-11ec-9586-287fcffe570f.xml', './data/collectedimgs/train/this.12df54ee-cccd-11ec-914b-287fcffe570f.xml', './data/collectedimgs/train/this.14aeb38f-cccd-11ec-8927-287fcffe570f.xml', './data/collectedimgs/train/this.167e8a51-cccd-11ec-91e8-287fcffe570f.xml', './data/collectedimgs/train/this.184ff240-cccd-11ec-9e9b-287fcffe570f.xml', './data/collectedimgs/train/this.1a1ca4ae-cccd-11ec-8224-287fcffe570f.xml', './data/collectedimgs/train/this.1be93ad3-cccd-11ec-9325-287fcffe570f.xml', './data/collectedimgs/train/this.1dba7efa-cccd-11ec-b053-287fcffe570f.xml', './data/collectedimgs/train/this.1f8d1f99-cccd-11ec-bdab-287fcffe570f.xml', './data/collectedimgs/train/this.232a1c44-cccd-11ec-8ca7-287fcffe570f.xml', './data/collectedimgs/train/this.24f93f59-cccd-11ec-9b24-287fcffe570f.xml', './data/collectedimgs/train/this.70f2c410-d3b1-11ec-8e9c-00d86189407e.xml', './data/collectedimgs/train/this.72bf881c-d3b1-11ec-9ff9-00d86189407e.xml', './data/collectedimgs/train/this.748b6e64-d3b1-11ec-b9d6-00d86189407e.xml', './data/collectedimgs/train/this.765bbe92-d3b1-11ec-b6d1-00d86189407e.xml', './data/collectedimgs/train/this.782cbe67-d3b1-11ec-9de4-00d86189407e.xml', './data/collectedimgs/train/this.79fd76a4-d3b1-11ec-9e36-00d86189407e.xml', './data/collectedimgs/train/this.7d9f5f77-d3b1-11ec-aa1a-00d86189407e.xml', './data/collectedimgs/train/this.7f6b8b92-d3b1-11ec-803c-00d86189407e.xml', './data/collectedimgs/train/this.813cc001-d3b1-11ec-ae9a-00d86189407e.xml', './data/collectedimgs/train/this.830a172a-d3b1-11ec-8918-00d86189407e.xml', './data/collectedimgs/train/this.84da3fe5-d3b1-11ec-bdf2-00d86189407e.xml', './data/collectedimgs/train/this.86a930c6-d3b1-11ec-80cb-00d86189407e.xml', './data/collectedimgs/train/this.8877af94-d3b1-11ec-ac74-00d86189407e.xml', './data/collectedimgs/train/this.8a491771-d3b1-11ec-a332-00d86189407e.xml', './data/collectedimgs/train/this.8c195db1-d3b1-11ec-bd27-00d86189407e.xml', './data/collectedimgs/train/this.8de7e459-d3b1-11ec-9433-00d86189407e.xml', './data/collectedimgs/train/this.8fba3a1f-d3b1-11ec-9f08-00d86189407e.xml', './data/collectedimgs/train/this.918a2834-d3b1-11ec-a0ba-00d86189407e.xml']\n",
            "['./data/collectedimgs/train/ThankYou.4bd68bea-ccd8-11ec-b32d-287fcffe570f.jpg', './data/collectedimgs/train/ThankYou.4da5dcd5-ccd8-11ec-bcf7-287fcffe570f.jpg', './data/collectedimgs/train/ThankYou.4f748e67-ccd8-11ec-bafb-287fcffe570f.jpg', './data/collectedimgs/train/ThankYou.5315c7a4-ccd8-11ec-ae63-287fcffe570f.jpg', './data/collectedimgs/train/ThankYou.54e65b5d-ccd8-11ec-b94a-287fcffe570f.jpg', './data/collectedimgs/train/ThankYou.56b93aaa-ccd8-11ec-ae0a-287fcffe570f.jpg', './data/collectedimgs/train/ThankYou.58859e9b-ccd8-11ec-a668-287fcffe570f.jpg', './data/collectedimgs/train/ThankYou.5a55f747-ccd8-11ec-8893-287fcffe570f.jpg', './data/collectedimgs/train/ThankYou.5c2735bd-ccd8-11ec-a2f7-287fcffe570f.jpg', './data/collectedimgs/train/ThankYou.5df665d4-ccd8-11ec-97c6-287fcffe570f.jpg', './data/collectedimgs/train/ThankYou.5fc525ba-ccd8-11ec-9f83-287fcffe570f.jpg', './data/collectedimgs/train/ThankYou.619287c2-ccd8-11ec-902f-287fcffe570f.jpg', './data/collectedimgs/train/ThankYou.63444db2-d3b2-11ec-960e-00d86189407e.jpg', './data/collectedimgs/train/ThankYou.651a8138-d3b2-11ec-be1d-00d86189407e.jpg', './data/collectedimgs/train/ThankYou.6530bcc4-ccd8-11ec-927a-287fcffe570f.jpg', './data/collectedimgs/train/ThankYou.66e882cb-d3b2-11ec-b680-00d86189407e.jpg', './data/collectedimgs/train/ThankYou.6700f6b2-ccd8-11ec-bedb-287fcffe570f.jpg', './data/collectedimgs/train/ThankYou.68b72a7a-d3b2-11ec-b92b-00d86189407e.jpg', './data/collectedimgs/train/ThankYou.68d17ef5-ccd8-11ec-97af-287fcffe570f.jpg', './data/collectedimgs/train/ThankYou.6a9ef2fa-ccd8-11ec-a626-287fcffe570f.jpg', './data/collectedimgs/train/ThankYou.6c6d3d0a-ccd8-11ec-8e5f-287fcffe570f.jpg', './data/collectedimgs/train/ThankYou.6e21b65f-d3b2-11ec-a4be-00d86189407e.jpg', './data/collectedimgs/train/ThankYou.6e3da6f4-ccd8-11ec-adf4-287fcffe570f.jpg', './data/collectedimgs/train/ThankYou.6ff05cdc-d3b2-11ec-801b-00d86189407e.jpg', './data/collectedimgs/train/ThankYou.71bf9513-d3b2-11ec-bd49-00d86189407e.jpg', './data/collectedimgs/train/ThankYou.738f4db2-d3b2-11ec-baed-00d86189407e.jpg', './data/collectedimgs/train/ThankYou.75615664-d3b2-11ec-9639-00d86189407e.jpg', './data/collectedimgs/train/ThankYou.77334ce3-d3b2-11ec-93fc-00d86189407e.jpg', './data/collectedimgs/train/ThankYou.79039d3d-d3b2-11ec-8c3c-00d86189407e.jpg', './data/collectedimgs/train/ThankYou.7ad4e911-d3b2-11ec-8a24-00d86189407e.jpg', './data/collectedimgs/train/ThankYou.7ca5f59a-d3b2-11ec-b38a-00d86189407e.jpg', './data/collectedimgs/train/ThankYou.7e746b79-d3b2-11ec-acad-00d86189407e.jpg', './data/collectedimgs/train/ThankYou.8044c6ec-d3b2-11ec-87db-00d86189407e.jpg', './data/collectedimgs/train/ThankYou.8215e01a-d3b2-11ec-806b-00d86189407e.jpg', './data/collectedimgs/train/ThankYou.83e46703-d3b2-11ec-b222-00d86189407e.jpg', './data/collectedimgs/train/ThankYou.85b32049-d3b2-11ec-af5a-00d86189407e.jpg', './data/collectedimgs/train/e.00729e58-d3b2-11ec-82bb-00d86189407e.jpg', './data/collectedimgs/train/e.02448061-d3b2-11ec-bc2e-00d86189407e.jpg', './data/collectedimgs/train/e.05e291de-d3b2-11ec-a29a-00d86189407e.jpg', './data/collectedimgs/train/e.09814463-d3b2-11ec-a570-00d86189407e.jpg', './data/collectedimgs/train/e.0b52a5d4-d3b2-11ec-9501-00d86189407e.jpg', './data/collectedimgs/train/e.706b7933-ccce-11ec-bb7a-287fcffe570f.jpg', './data/collectedimgs/train/e.723e666e-ccce-11ec-857c-287fcffe570f.jpg', './data/collectedimgs/train/e.740cd5cd-ccce-11ec-8119-287fcffe570f.jpg', './data/collectedimgs/train/e.75dc3680-ccce-11ec-bc1d-287fcffe570f.jpg', './data/collectedimgs/train/e.77ab6e27-ccce-11ec-9b04-287fcffe570f.jpg', './data/collectedimgs/train/e.7b45b596-ccce-11ec-9b3d-287fcffe570f.jpg', './data/collectedimgs/train/e.7d12a277-ccce-11ec-a69c-287fcffe570f.jpg', './data/collectedimgs/train/e.7ee372ef-ccce-11ec-af73-287fcffe570f.jpg', './data/collectedimgs/train/e.80b40641-ccce-11ec-843d-287fcffe570f.jpg', './data/collectedimgs/train/e.844ea44a-ccce-11ec-8fbc-287fcffe570f.jpg', './data/collectedimgs/train/e.861eb076-ccce-11ec-a161-287fcffe570f.jpg', './data/collectedimgs/train/e.87ed15c1-ccce-11ec-b964-287fcffe570f.jpg', './data/collectedimgs/train/e.89bc99e2-ccce-11ec-8568-287fcffe570f.jpg', './data/collectedimgs/train/e.8b8aa6b2-ccce-11ec-8840-287fcffe570f.jpg', './data/collectedimgs/train/e.8d5af5fb-ccce-11ec-9e9a-287fcffe570f.jpg', './data/collectedimgs/train/e.8f2a2723-ccce-11ec-bb29-287fcffe570f.jpg', './data/collectedimgs/train/e.90f893ce-ccce-11ec-ad87-287fcffe570f.jpg', './data/collectedimgs/train/e.92c9d182-ccce-11ec-8a52-287fcffe570f.jpg', './data/collectedimgs/train/e.e8ddca66-d3b1-11ec-a4c4-00d86189407e.jpg', './data/collectedimgs/train/e.eab384dc-d3b1-11ec-af9f-00d86189407e.jpg', './data/collectedimgs/train/e.ec840caf-d3b1-11ec-95e7-00d86189407e.jpg', './data/collectedimgs/train/e.ee573147-d3b1-11ec-afb1-00d86189407e.jpg', './data/collectedimgs/train/e.f0240aee-d3b1-11ec-907c-00d86189407e.jpg', './data/collectedimgs/train/e.f1f5059c-d3b1-11ec-ba06-00d86189407e.jpg', './data/collectedimgs/train/e.f3c644d8-d3b1-11ec-b5a9-00d86189407e.jpg', './data/collectedimgs/train/e.f595a4ee-d3b1-11ec-aa7e-00d86189407e.jpg', './data/collectedimgs/train/e.f7664cf4-d3b1-11ec-9a03-00d86189407e.jpg', './data/collectedimgs/train/e.f9369e1e-d3b1-11ec-96ce-00d86189407e.jpg', './data/collectedimgs/train/e.fb0648df-d3b1-11ec-9350-00d86189407e.jpg', './data/collectedimgs/train/e.fcd562c6-d3b1-11ec-9247-00d86189407e.jpg', './data/collectedimgs/train/e.fea3fa14-d3b1-11ec-9298-00d86189407e.jpg', './data/collectedimgs/train/hello.0066a128-d3b1-11ec-89ba-00d86189407e.jpg', './data/collectedimgs/train/hello.02342a6a-d3b1-11ec-b65d-00d86189407e.jpg', './data/collectedimgs/train/hello.0404969f-d3b1-11ec-b28d-00d86189407e.jpg', './data/collectedimgs/train/hello.05d3aaee-d3b1-11ec-b7c9-00d86189407e.jpg', './data/collectedimgs/train/hello.071c8e01-cccc-11ec-93b6-287fcffe570f.jpg', './data/collectedimgs/train/hello.07a6ad47-d3b1-11ec-a12b-00d86189407e.jpg', './data/collectedimgs/train/hello.0974bf37-d3b1-11ec-b065-00d86189407e.jpg', './data/collectedimgs/train/hello.0ee21791-d3b1-11ec-a238-00d86189407e.jpg', './data/collectedimgs/train/hello.10b2063c-d3b1-11ec-86f7-00d86189407e.jpg', './data/collectedimgs/train/hello.127e2a62-d3b1-11ec-b39f-00d86189407e.jpg', './data/collectedimgs/train/hello.144d9c43-d3b1-11ec-8c2f-00d86189407e.jpg', './data/collectedimgs/train/hello.161d18cb-d3b1-11ec-bec9-00d86189407e.jpg', './data/collectedimgs/train/hello.17e86eaf-d3b1-11ec-b5a2-00d86189407e.jpg', './data/collectedimgs/train/hello.8a5f13e3-cccc-11ec-bf13-287fcffe570f.jpg', './data/collectedimgs/train/hello.8c2e6c44-cccc-11ec-b8e0-287fcffe570f.jpg', './data/collectedimgs/train/hello.8e007380-cccc-11ec-814a-287fcffe570f.jpg', './data/collectedimgs/train/hello.8fd2ce39-cccc-11ec-9788-287fcffe570f.jpg', './data/collectedimgs/train/hello.91a0b0d6-cccc-11ec-b251-287fcffe570f.jpg', './data/collectedimgs/train/hello.937049fa-cccc-11ec-8eaf-287fcffe570f.jpg', './data/collectedimgs/train/hello.953e77b2-cccc-11ec-9f13-287fcffe570f.jpg', './data/collectedimgs/train/hello.970aee56-cccc-11ec-835c-287fcffe570f.jpg', './data/collectedimgs/train/hello.98dc9b37-cccc-11ec-b8fa-287fcffe570f.jpg', './data/collectedimgs/train/hello.9aac97e6-cccc-11ec-bda2-287fcffe570f.jpg', './data/collectedimgs/train/hello.9c7d6b51-cccc-11ec-9a7e-287fcffe570f.jpg', './data/collectedimgs/train/hello.9e4cddac-cccc-11ec-a62d-287fcffe570f.jpg', './data/collectedimgs/train/hello.a01d3ab5-cccc-11ec-bc9c-287fcffe570f.jpg', './data/collectedimgs/train/hello.a1ec342b-cccc-11ec-a1e4-287fcffe570f.jpg', './data/collectedimgs/train/hello.a3bda944-cccc-11ec-9bfd-287fcffe570f.jpg', './data/collectedimgs/train/hello.a75ae2b2-cccc-11ec-8731-287fcffe570f.jpg', './data/collectedimgs/train/hello.a92b7251-cccc-11ec-bfd6-287fcffe570f.jpg', './data/collectedimgs/train/hello.f58519a9-d3b0-11ec-9d11-00d86189407e.jpg', './data/collectedimgs/train/hello.f75eda86-d3b0-11ec-abf8-00d86189407e.jpg', './data/collectedimgs/train/hello.f92e8664-d3b0-11ec-9312-00d86189407e.jpg', './data/collectedimgs/train/hello.fafc0bdd-d3b0-11ec-8640-00d86189407e.jpg', './data/collectedimgs/train/hello.fccb1aa8-d3b0-11ec-809a-00d86189407e.jpg', './data/collectedimgs/train/hello.fe99a5c0-d3b0-11ec-b1cd-00d86189407e.jpg', './data/collectedimgs/train/j.3c1f7009-cccf-11ec-b8d5-287fcffe570f.jpg', './data/collectedimgs/train/j.3df4c86c-cccf-11ec-a5a6-287fcffe570f.jpg', './data/collectedimgs/train/j.3fc47b20-cccf-11ec-8ac2-287fcffe570f.jpg', './data/collectedimgs/train/j.4361bbec-cccf-11ec-a14a-287fcffe570f.jpg', './data/collectedimgs/train/j.46fe8913-cccf-11ec-99b0-287fcffe570f.jpg', './data/collectedimgs/train/j.48cfb4f1-cccf-11ec-b51b-287fcffe570f.jpg', './data/collectedimgs/train/j.4a9b3cf9-cccf-11ec-99c2-287fcffe570f.jpg', './data/collectedimgs/train/j.4c6bb763-cccf-11ec-8457-287fcffe570f.jpg', './data/collectedimgs/train/j.4e3c8df9-cccf-11ec-b9f1-287fcffe570f.jpg', './data/collectedimgs/train/j.500d3bbd-cccf-11ec-a152-287fcffe570f.jpg', './data/collectedimgs/train/j.51dd2993-cccf-11ec-9cba-287fcffe570f.jpg', './data/collectedimgs/train/j.53ae337f-cccf-11ec-b904-287fcffe570f.jpg', './data/collectedimgs/train/j.557da5de-cccf-11ec-8a0e-287fcffe570f.jpg', './data/collectedimgs/train/j.574e6836-cccf-11ec-809d-287fcffe570f.jpg', './data/collectedimgs/train/j.591db12b-cccf-11ec-92d0-287fcffe570f.jpg', './data/collectedimgs/train/j.5aec9779-cccf-11ec-9269-287fcffe570f.jpg', './data/collectedimgs/train/j.5cbe92ce-cccf-11ec-9269-287fcffe570f.jpg', './data/collectedimgs/train/j.5e8abada-cccf-11ec-beea-287fcffe570f.jpg', './data/collectedimgs/train/j.8f886b3c-d3b2-11ec-a2ac-00d86189407e.jpg', './data/collectedimgs/train/j.9157075f-d3b2-11ec-9c68-00d86189407e.jpg', './data/collectedimgs/train/j.9324f07b-d3b2-11ec-825a-00d86189407e.jpg', './data/collectedimgs/train/j.94f4f2ce-d3b2-11ec-bb9d-00d86189407e.jpg', './data/collectedimgs/train/j.96c58803-d3b2-11ec-9c57-00d86189407e.jpg', './data/collectedimgs/train/j.9895b5da-d3b2-11ec-9c76-00d86189407e.jpg', './data/collectedimgs/train/j.9a673703-d3b2-11ec-80f3-00d86189407e.jpg', './data/collectedimgs/train/j.9c34447e-d3b2-11ec-b65c-00d86189407e.jpg', './data/collectedimgs/train/j.9e048062-d3b2-11ec-929d-00d86189407e.jpg', './data/collectedimgs/train/j.9fd319e1-d3b2-11ec-a91a-00d86189407e.jpg', './data/collectedimgs/train/j.a1a12539-d3b2-11ec-8992-00d86189407e.jpg', './data/collectedimgs/train/j.a36f871f-d3b2-11ec-a6c7-00d86189407e.jpg', './data/collectedimgs/train/j.a53c8c76-d3b2-11ec-9ba6-00d86189407e.jpg', './data/collectedimgs/train/j.a70bd163-d3b2-11ec-b051-00d86189407e.jpg', './data/collectedimgs/train/j.a8db34b7-d3b2-11ec-9644-00d86189407e.jpg', './data/collectedimgs/train/j.aaaa2e9a-d3b2-11ec-8554-00d86189407e.jpg', './data/collectedimgs/train/j.ac7a14c0-d3b2-11ec-b9fd-00d86189407e.jpg', './data/collectedimgs/train/j.ae4a36f2-d3b2-11ec-8e4c-00d86189407e.jpg', './data/collectedimgs/train/my.21a7ca86-d3b1-11ec-bd93-00d86189407e.jpg', './data/collectedimgs/train/my.2377fd56-d3b1-11ec-b935-00d86189407e.jpg', './data/collectedimgs/train/my.25487480-d3b1-11ec-9b09-00d86189407e.jpg', './data/collectedimgs/train/my.27186f4d-d3b1-11ec-9932-00d86189407e.jpg', './data/collectedimgs/train/my.28e87052-d3b1-11ec-a0fc-00d86189407e.jpg', './data/collectedimgs/train/my.2ab6745c-d3b1-11ec-92b9-00d86189407e.jpg', './data/collectedimgs/train/my.2c84cf2c-d3b1-11ec-97f7-00d86189407e.jpg', './data/collectedimgs/train/my.2e53905d-d3b1-11ec-90fd-00d86189407e.jpg', './data/collectedimgs/train/my.302518ba-d3b1-11ec-bc42-00d86189407e.jpg', './data/collectedimgs/train/my.31f17fc4-d3b1-11ec-b874-00d86189407e.jpg', './data/collectedimgs/train/my.33c13d15-d3b1-11ec-afc3-00d86189407e.jpg', './data/collectedimgs/train/my.358ff041-d3b1-11ec-b7af-00d86189407e.jpg', './data/collectedimgs/train/my.37613272-d3b1-11ec-a1a3-00d86189407e.jpg', './data/collectedimgs/train/my.39336122-d3b1-11ec-b97e-00d86189407e.jpg', './data/collectedimgs/train/my.3aff1275-d3b1-11ec-8315-00d86189407e.jpg', './data/collectedimgs/train/my.3ccd1c4b-d3b1-11ec-b2f7-00d86189407e.jpg', './data/collectedimgs/train/my.3e9c7514-d3b1-11ec-9ed2-00d86189407e.jpg', './data/collectedimgs/train/my.406c154e-d3b1-11ec-b5ae-00d86189407e.jpg', './data/collectedimgs/train/my.b144668e-cccc-11ec-8504-287fcffe570f.jpg', './data/collectedimgs/train/my.b313cf47-cccc-11ec-ab54-287fcffe570f.jpg', './data/collectedimgs/train/my.b4e56273-cccc-11ec-b39e-287fcffe570f.jpg', './data/collectedimgs/train/my.b6b7558d-cccc-11ec-8c27-287fcffe570f.jpg', './data/collectedimgs/train/my.b882f251-cccc-11ec-aa6b-287fcffe570f.jpg', './data/collectedimgs/train/my.ba52aeb1-cccc-11ec-94df-287fcffe570f.jpg', './data/collectedimgs/train/my.bc234c65-cccc-11ec-b8dd-287fcffe570f.jpg', './data/collectedimgs/train/my.bdf4f00c-cccc-11ec-88a6-287fcffe570f.jpg', './data/collectedimgs/train/my.bfc3f5ac-cccc-11ec-b61d-287fcffe570f.jpg', './data/collectedimgs/train/my.c1944882-cccc-11ec-8b61-287fcffe570f.jpg', './data/collectedimgs/train/my.c36480a6-cccc-11ec-89a1-287fcffe570f.jpg', './data/collectedimgs/train/my.c5336ac8-cccc-11ec-b860-287fcffe570f.jpg', './data/collectedimgs/train/my.c704a130-cccc-11ec-a4fb-287fcffe570f.jpg', './data/collectedimgs/train/my.c8d5c297-cccc-11ec-add5-287fcffe570f.jpg', './data/collectedimgs/train/my.caa286a9-cccc-11ec-b73e-287fcffe570f.jpg', './data/collectedimgs/train/my.cc72d651-cccc-11ec-b4d9-287fcffe570f.jpg', './data/collectedimgs/train/my.ce42229f-cccc-11ec-b85b-287fcffe570f.jpg', './data/collectedimgs/train/my.d1e1ce31-cccc-11ec-a6cb-287fcffe570f.jpg', './data/collectedimgs/train/name.1390a179-cccc-11ec-b9b8-287fcffe570f.jpg', './data/collectedimgs/train/name.469797c0-d3b1-11ec-92bf-00d86189407e.jpg', './data/collectedimgs/train/name.486908c7-d3b1-11ec-b5ba-00d86189407e.jpg', './data/collectedimgs/train/name.4dd338b7-d3b1-11ec-b337-00d86189407e.jpg', './data/collectedimgs/train/name.4fa35f58-d3b1-11ec-950a-00d86189407e.jpg', './data/collectedimgs/train/name.51720118-d3b1-11ec-9dc6-00d86189407e.jpg', './data/collectedimgs/train/name.53401d67-d3b1-11ec-a4ba-00d86189407e.jpg', './data/collectedimgs/train/name.5510ade8-d3b1-11ec-bc24-00d86189407e.jpg', './data/collectedimgs/train/name.56e21ce0-d3b1-11ec-a699-00d86189407e.jpg', './data/collectedimgs/train/name.58b1a0f1-d3b1-11ec-9fee-00d86189407e.jpg', './data/collectedimgs/train/name.5a82b69f-d3b1-11ec-bf46-00d86189407e.jpg', './data/collectedimgs/train/name.5c52bcdb-d3b1-11ec-85f7-00d86189407e.jpg', './data/collectedimgs/train/name.5e23dfbe-d3b1-11ec-9d28-00d86189407e.jpg', './data/collectedimgs/train/name.5ff102b3-d3b1-11ec-ab72-00d86189407e.jpg', './data/collectedimgs/train/name.61be0981-d3b1-11ec-8a36-00d86189407e.jpg', './data/collectedimgs/train/name.638f0be6-d3b1-11ec-a7d2-00d86189407e.jpg', './data/collectedimgs/train/name.655fbd7e-d3b1-11ec-85e7-00d86189407e.jpg', './data/collectedimgs/train/name.67308b10-d3b1-11ec-b96a-00d86189407e.jpg', './data/collectedimgs/train/name.69011676-d3b1-11ec-8576-00d86189407e.jpg', './data/collectedimgs/train/name.da02c8be-cccc-11ec-b60e-287fcffe570f.jpg', './data/collectedimgs/train/name.dbcfcf97-cccc-11ec-bd0d-287fcffe570f.jpg', './data/collectedimgs/train/name.dd9f6c52-cccc-11ec-b9a1-287fcffe570f.jpg', './data/collectedimgs/train/name.df6e2774-cccc-11ec-8385-287fcffe570f.jpg', './data/collectedimgs/train/name.e13f7693-cccc-11ec-8429-287fcffe570f.jpg', './data/collectedimgs/train/name.e30f6f2d-cccc-11ec-9c63-287fcffe570f.jpg', './data/collectedimgs/train/name.e4df52c9-cccc-11ec-aeed-287fcffe570f.jpg', './data/collectedimgs/train/name.e6aff933-cccc-11ec-9005-287fcffe570f.jpg', './data/collectedimgs/train/name.e87c0518-cccc-11ec-b2e8-287fcffe570f.jpg', './data/collectedimgs/train/name.ea4b0dc3-cccc-11ec-971e-287fcffe570f.jpg', './data/collectedimgs/train/name.ec1bd492-cccc-11ec-afd3-287fcffe570f.jpg', './data/collectedimgs/train/name.edec476f-cccc-11ec-9867-287fcffe570f.jpg', './data/collectedimgs/train/name.efbe9a25-cccc-11ec-9531-287fcffe570f.jpg', './data/collectedimgs/train/name.f18bf444-cccc-11ec-8307-287fcffe570f.jpg', './data/collectedimgs/train/name.f35cb24d-cccc-11ec-9706-287fcffe570f.jpg', './data/collectedimgs/train/name.f52a6921-cccc-11ec-8a35-287fcffe570f.jpg', './data/collectedimgs/train/name.f6f9b945-cccc-11ec-bada-287fcffe570f.jpg', './data/collectedimgs/train/name.f8ca0978-cccc-11ec-8f75-287fcffe570f.jpg', './data/collectedimgs/train/project.2b3cb8b9-cccd-11ec-b638-287fcffe570f.jpg', './data/collectedimgs/train/project.2d0ca3c3-cccd-11ec-a987-287fcffe570f.jpg', './data/collectedimgs/train/project.2eddcdaa-cccd-11ec-b9a7-287fcffe570f.jpg', './data/collectedimgs/train/project.30ae8a4e-cccd-11ec-b783-287fcffe570f.jpg', './data/collectedimgs/train/project.327dea45-cccd-11ec-b126-287fcffe570f.jpg', './data/collectedimgs/train/project.344b89f7-cccd-11ec-8aea-287fcffe570f.jpg', './data/collectedimgs/train/project.361be311-cccd-11ec-b8fb-287fcffe570f.jpg', './data/collectedimgs/train/project.37eb8cb9-cccd-11ec-846f-287fcffe570f.jpg', './data/collectedimgs/train/project.39ba1997-cccd-11ec-bbc3-287fcffe570f.jpg', './data/collectedimgs/train/project.3b87ae52-cccd-11ec-b68c-287fcffe570f.jpg', './data/collectedimgs/train/project.3d587bee-cccd-11ec-80f1-287fcffe570f.jpg', './data/collectedimgs/train/project.3f258750-cccd-11ec-b87b-287fcffe570f.jpg', './data/collectedimgs/train/project.40f5ed66-cccd-11ec-8ad6-287fcffe570f.jpg', './data/collectedimgs/train/project.42c6bc81-cccd-11ec-9606-287fcffe570f.jpg', './data/collectedimgs/train/project.4493c5c7-cccd-11ec-b393-287fcffe570f.jpg', './data/collectedimgs/train/project.4a00cb65-cccd-11ec-bb41-287fcffe570f.jpg', './data/collectedimgs/train/project.4bd18416-cccd-11ec-a741-287fcffe570f.jpg', './data/collectedimgs/train/project.4da242b9-cccd-11ec-bf60-287fcffe570f.jpg', './data/collectedimgs/train/project.97aa32dd-d3b1-11ec-9c90-00d86189407e.jpg', './data/collectedimgs/train/project.997effa6-d3b1-11ec-bb1b-00d86189407e.jpg', './data/collectedimgs/train/project.9d21831c-d3b1-11ec-9cf8-00d86189407e.jpg', './data/collectedimgs/train/project.9ef28bd2-d3b1-11ec-8c0d-00d86189407e.jpg', './data/collectedimgs/train/project.a0c36000-d3b1-11ec-a6eb-00d86189407e.jpg', './data/collectedimgs/train/project.a291ec7c-d3b1-11ec-bd61-00d86189407e.jpg', './data/collectedimgs/train/project.a45e4eb1-d3b1-11ec-aab5-00d86189407e.jpg', './data/collectedimgs/train/project.a62cc436-d3b1-11ec-a5da-00d86189407e.jpg', './data/collectedimgs/train/project.a9ce5f28-d3b1-11ec-ada5-00d86189407e.jpg', './data/collectedimgs/train/project.aba169cc-d3b1-11ec-8bd1-00d86189407e.jpg', './data/collectedimgs/train/project.ad6ee1ea-d3b1-11ec-8e08-00d86189407e.jpg', './data/collectedimgs/train/project.af3f4abd-d3b1-11ec-a0dc-00d86189407e.jpg', './data/collectedimgs/train/project.b10e5e50-d3b1-11ec-b9fc-00d86189407e.jpg', './data/collectedimgs/train/project.b2dce8cf-d3b1-11ec-9e3c-00d86189407e.jpg', './data/collectedimgs/train/project.b4ae53ad-d3b1-11ec-90ec-00d86189407e.jpg', './data/collectedimgs/train/project.b67e5e52-d3b1-11ec-9772-00d86189407e.jpg', './data/collectedimgs/train/project.b84f333e-d3b1-11ec-ab13-00d86189407e.jpg', './data/collectedimgs/train/project.ba1eacf3-d3b1-11ec-92a6-00d86189407e.jpg', './data/collectedimgs/train/s.11895886-d3b2-11ec-a030-00d86189407e.jpg', './data/collectedimgs/train/s.1359672a-d3b2-11ec-8444-00d86189407e.jpg', './data/collectedimgs/train/s.1529b3b5-d3b2-11ec-98fa-00d86189407e.jpg', './data/collectedimgs/train/s.16fa3688-d3b2-11ec-8e4f-00d86189407e.jpg', './data/collectedimgs/train/s.18cbc70a-d3b2-11ec-a988-00d86189407e.jpg', './data/collectedimgs/train/s.1e3df1eb-d3b2-11ec-8936-00d86189407e.jpg', './data/collectedimgs/train/s.200b0de5-d3b2-11ec-bd80-00d86189407e.jpg', './data/collectedimgs/train/s.21da5a51-d3b2-11ec-b0e2-00d86189407e.jpg', './data/collectedimgs/train/s.23a6c962-d3b2-11ec-acc6-00d86189407e.jpg', './data/collectedimgs/train/s.25742c4d-d3b2-11ec-b418-00d86189407e.jpg', './data/collectedimgs/train/s.2744ace1-d3b2-11ec-9e6a-00d86189407e.jpg', './data/collectedimgs/train/s.291506f2-d3b2-11ec-aeeb-00d86189407e.jpg', './data/collectedimgs/train/s.2ae5399d-d3b2-11ec-aed2-00d86189407e.jpg', './data/collectedimgs/train/s.2cb48567-d3b2-11ec-9471-00d86189407e.jpg', './data/collectedimgs/train/s.2e85cc34-d3b2-11ec-b110-00d86189407e.jpg', './data/collectedimgs/train/s.30525018-d3b2-11ec-89ee-00d86189407e.jpg', './data/collectedimgs/train/s.32221799-d3b2-11ec-86ad-00d86189407e.jpg', './data/collectedimgs/train/s.33f30c80-d3b2-11ec-9c03-00d86189407e.jpg', './data/collectedimgs/train/s.aac125f6-ccd0-11ec-8d7a-287fcffe570f.jpg', './data/collectedimgs/train/s.ac928510-ccd0-11ec-ae19-287fcffe570f.jpg', './data/collectedimgs/train/s.ae60a155-ccd0-11ec-bfb8-287fcffe570f.jpg', './data/collectedimgs/train/s.b0302743-ccd0-11ec-9b88-287fcffe570f.jpg', './data/collectedimgs/train/s.b1fd3fa0-ccd0-11ec-bf71-287fcffe570f.jpg', './data/collectedimgs/train/s.b3cc951b-ccd0-11ec-a88a-287fcffe570f.jpg', './data/collectedimgs/train/s.b59aec65-ccd0-11ec-b4bd-287fcffe570f.jpg', './data/collectedimgs/train/s.b76aca40-ccd0-11ec-aa98-287fcffe570f.jpg', './data/collectedimgs/train/s.b93ac11f-ccd0-11ec-a738-287fcffe570f.jpg', './data/collectedimgs/train/s.bb08d66a-ccd0-11ec-ab3d-287fcffe570f.jpg', './data/collectedimgs/train/s.bcd7c455-ccd0-11ec-bf5c-287fcffe570f.jpg', './data/collectedimgs/train/s.bea497f9-ccd0-11ec-80a5-287fcffe570f.jpg', './data/collectedimgs/train/s.c0732d30-ccd0-11ec-99a1-287fcffe570f.jpg', './data/collectedimgs/train/s.c240e3c7-ccd0-11ec-82e7-287fcffe570f.jpg', './data/collectedimgs/train/s.c40d0df2-ccd0-11ec-a04a-287fcffe570f.jpg', './data/collectedimgs/train/s.c5dd80ce-ccd0-11ec-8f6e-287fcffe570f.jpg', './data/collectedimgs/train/s.c7aedb39-ccd0-11ec-8685-287fcffe570f.jpg', './data/collectedimgs/train/s.c97f5989-ccd0-11ec-a9b4-287fcffe570f.jpg', './data/collectedimgs/train/this.029a32fd-cccd-11ec-a08d-287fcffe570f.jpg', './data/collectedimgs/train/this.04688e3b-cccd-11ec-834f-287fcffe570f.jpg', './data/collectedimgs/train/this.06378e23-cccd-11ec-98c3-287fcffe570f.jpg', './data/collectedimgs/train/this.09d5d882-cccd-11ec-94eb-287fcffe570f.jpg', './data/collectedimgs/train/this.0ba62967-cccd-11ec-8008-287fcffe570f.jpg', './data/collectedimgs/train/this.0d756ce5-cccd-11ec-9482-287fcffe570f.jpg', './data/collectedimgs/train/this.0f443cf5-cccd-11ec-9dd7-287fcffe570f.jpg', './data/collectedimgs/train/this.1112aedf-cccd-11ec-9586-287fcffe570f.jpg', './data/collectedimgs/train/this.12df54ee-cccd-11ec-914b-287fcffe570f.jpg', './data/collectedimgs/train/this.14aeb38f-cccd-11ec-8927-287fcffe570f.jpg', './data/collectedimgs/train/this.167e8a51-cccd-11ec-91e8-287fcffe570f.jpg', './data/collectedimgs/train/this.184ff240-cccd-11ec-9e9b-287fcffe570f.jpg', './data/collectedimgs/train/this.1a1ca4ae-cccd-11ec-8224-287fcffe570f.jpg', './data/collectedimgs/train/this.1be93ad3-cccd-11ec-9325-287fcffe570f.jpg', './data/collectedimgs/train/this.1dba7efa-cccd-11ec-b053-287fcffe570f.jpg', './data/collectedimgs/train/this.1f8d1f99-cccd-11ec-bdab-287fcffe570f.jpg', './data/collectedimgs/train/this.232a1c44-cccd-11ec-8ca7-287fcffe570f.jpg', './data/collectedimgs/train/this.24f93f59-cccd-11ec-9b24-287fcffe570f.jpg', './data/collectedimgs/train/this.70f2c410-d3b1-11ec-8e9c-00d86189407e.jpg', './data/collectedimgs/train/this.72bf881c-d3b1-11ec-9ff9-00d86189407e.jpg', './data/collectedimgs/train/this.748b6e64-d3b1-11ec-b9d6-00d86189407e.jpg', './data/collectedimgs/train/this.765bbe92-d3b1-11ec-b6d1-00d86189407e.jpg', './data/collectedimgs/train/this.782cbe67-d3b1-11ec-9de4-00d86189407e.jpg', './data/collectedimgs/train/this.79fd76a4-d3b1-11ec-9e36-00d86189407e.jpg', './data/collectedimgs/train/this.7d9f5f77-d3b1-11ec-aa1a-00d86189407e.jpg', './data/collectedimgs/train/this.7f6b8b92-d3b1-11ec-803c-00d86189407e.jpg', './data/collectedimgs/train/this.813cc001-d3b1-11ec-ae9a-00d86189407e.jpg', './data/collectedimgs/train/this.830a172a-d3b1-11ec-8918-00d86189407e.jpg', './data/collectedimgs/train/this.84da3fe5-d3b1-11ec-bdf2-00d86189407e.jpg', './data/collectedimgs/train/this.86a930c6-d3b1-11ec-80cb-00d86189407e.jpg', './data/collectedimgs/train/this.8877af94-d3b1-11ec-ac74-00d86189407e.jpg', './data/collectedimgs/train/this.8a491771-d3b1-11ec-a332-00d86189407e.jpg', './data/collectedimgs/train/this.8c195db1-d3b1-11ec-bd27-00d86189407e.jpg', './data/collectedimgs/train/this.8de7e459-d3b1-11ec-9433-00d86189407e.jpg', './data/collectedimgs/train/this.8fba3a1f-d3b1-11ec-9f08-00d86189407e.jpg', './data/collectedimgs/train/this.918a2834-d3b1-11ec-a0ba-00d86189407e.jpg']\n"
          ]
        }
      ]
    },
    {
      "cell_type": "code",
      "source": [
        "classes"
      ],
      "metadata": {
        "colab": {
          "base_uri": "https://localhost:8080/"
        },
        "id": "eCp15AchQGYk",
        "outputId": "2ddd79a7-0ad5-4d37-eaa7-2097020e055b"
      },
      "id": "eCp15AchQGYk",
      "execution_count": 159,
      "outputs": [
        {
          "output_type": "execute_result",
          "data": {
            "text/plain": [
              "['thank you', 'e', 'hello', 'j', 'my', 'name', 'project', 's', 'this']"
            ]
          },
          "metadata": {},
          "execution_count": 159
        }
      ]
    },
    {
      "cell_type": "code",
      "execution_count": 160,
      "id": "987b4d85",
      "metadata": {
        "colab": {
          "base_uri": "https://localhost:8080/"
        },
        "id": "987b4d85",
        "outputId": "a767ddb6-a04d-4080-dd31-79eec9adb5d8"
      },
      "outputs": [
        {
          "output_type": "stream",
          "name": "stdout",
          "text": [
            "Train size: 292\n",
            "Valid size: 33\n",
            "Test size: 36\n",
            "Train size: 292\n",
            "Valid size: 33\n",
            "Test size: 36\n"
          ]
        }
      ],
      "source": [
        "split = train_test_split(train_image_paths_lite, train_annotation_paths_lite, test_size=0.10, random_state=42)\n",
        "(train_image_paths, valid_image_paths) = split[:2]\n",
        "(train_annotation_paths, valid_annotation_paths) = split[2:4]\n",
        "\n",
        "print(\"Train size: {}\\nValid size: {}\\nTest size: {}\".format(len(train_image_paths), len(valid_image_paths), len(test_image_paths_lite)))\n",
        "print(\"Train size: {}\\nValid size: {}\\nTest size: {}\".format(len(train_annotation_paths), len(valid_annotation_paths), len(test_annotation_paths_lite)))\n"
      ]
    },
    {
      "cell_type": "code",
      "execution_count": 161,
      "id": "97d8b2e4",
      "metadata": {
        "colab": {
          "base_uri": "https://localhost:8080/"
        },
        "id": "97d8b2e4",
        "outputId": "85d6252e-7915-434b-962c-63512aa80500"
      },
      "outputs": [
        {
          "output_type": "execute_result",
          "data": {
            "text/plain": [
              "{'e': 1,\n",
              " 'hello': 2,\n",
              " 'j': 3,\n",
              " 'my': 4,\n",
              " 'name': 5,\n",
              " 'project': 6,\n",
              " 's': 7,\n",
              " 'thank you': 0,\n",
              " 'this': 8}"
            ]
          },
          "metadata": {},
          "execution_count": 161
        }
      ],
      "source": [
        "idx_to_class = {i:j for i, j in enumerate(classes)}\n",
        "class_to_idx = {value:key for key,value in idx_to_class.items()}\n",
        "class_to_idx"
      ]
    },
    {
      "cell_type": "code",
      "execution_count": 162,
      "id": "40068a69",
      "metadata": {
        "id": "40068a69"
      },
      "outputs": [],
      "source": [
        "from torch.utils.data import Dataset\n",
        "\n",
        "train_transforms = transforms.Compose([\n",
        "    transforms.ToPILImage(),\n",
        "    transforms.ToTensor(),\n",
        "    transforms.RandomHorizontalFlip(p=0.5),\n",
        "    transforms.Normalize(mean=MEAN, std=STD)\n",
        "])\n",
        "\n",
        "test_transforms = transforms.Compose([\n",
        "    transforms.ToPILImage(),\n",
        "    transforms.ToTensor(),\n",
        "    transforms.Normalize(mean=MEAN, std=STD)\n",
        "])\n",
        "\n",
        "\n",
        "class ASLDataset(Dataset):\n",
        "    def __init__(self, image_paths, xml_paths, transform=False):\n",
        "        self.image_paths = image_paths\n",
        "        self.annotations = xml_paths\n",
        "        self.transform = transform\n",
        "        \n",
        "    def __len__(self):\n",
        "        return len(self.image_paths)\n",
        "\n",
        "    def __getitem__(self, idx):\n",
        "        annotation_path = self.annotations[idx]\n",
        "        root = ET.parse(annotation_path).getroot()\n",
        "        xmin = int(root.find(\"object\").find(\"bndbox\").find(\"xmin\").text)\n",
        "        ymin = int(root.find(\"object\").find(\"bndbox\").find(\"ymin\").text)\n",
        "        xmax = int(root.find(\"object\").find(\"bndbox\").find(\"xmax\").text)\n",
        "        ymax = int(root.find(\"object\").find(\"bndbox\").find(\"ymax\").text)\n",
        "        class_name = root.find(\"object\").find(\"name\").text.lower()\n",
        "        \n",
        "        image_filepath = self.image_paths[idx]\n",
        "        image = cv2.imread(image_filepath)\n",
        "        image = image[ymin:ymax, xmin:xmax] #crop to just hands\n",
        "        image = cv2.cvtColor(image, cv2.COLOR_BGR2RGB)\n",
        "        image = cv2.resize(image, (224, 224))\n",
        "\n",
        "        label =  class_name\n",
        "        label = class_to_idx[label]\n",
        "        if self.transform is not None:\n",
        "            image = self.transform(image)\n",
        "        \n",
        "        return image, label"
      ]
    },
    {
      "cell_type": "code",
      "execution_count": 163,
      "id": "4bd0d6df",
      "metadata": {
        "id": "4bd0d6df"
      },
      "outputs": [],
      "source": [
        "train_dataset = ASLDataset(train_image_paths,train_annotation_paths, train_transforms)\n",
        "valid_dataset = ASLDataset(valid_image_paths,valid_annotation_paths, test_transforms) #test transforms are applied\n",
        "test_dataset = ASLDataset(test_image_paths_lite,test_annotation_paths_lite, test_transforms)"
      ]
    },
    {
      "cell_type": "code",
      "execution_count": 164,
      "id": "d01bff72",
      "metadata": {
        "id": "d01bff72"
      },
      "outputs": [],
      "source": [
        "# train_dataset[0]\n",
        "trainSteps = len(train_dataset) // BATCH_SIZE\n",
        "valSteps = len(valid_dataset) // BATCH_SIZE"
      ]
    },
    {
      "cell_type": "code",
      "execution_count": 165,
      "id": "a9db4e87",
      "metadata": {
        "id": "a9db4e87"
      },
      "outputs": [],
      "source": [
        "train_loader = DataLoader(\n",
        "    train_dataset, batch_size=BATCH_SIZE, shuffle=True\n",
        ")\n",
        "\n",
        "valid_loader = DataLoader(\n",
        "    valid_dataset, batch_size=BATCH_SIZE, shuffle=True\n",
        ")\n",
        "\n",
        "\n",
        "test_loader = DataLoader(\n",
        "    test_dataset, batch_size=BATCH_SIZE, shuffle=False\n",
        ")"
      ]
    },
    {
      "cell_type": "code",
      "execution_count": 166,
      "id": "6b7fd252",
      "metadata": {
        "id": "6b7fd252"
      },
      "outputs": [],
      "source": [
        "class ObjectClassifier(Module):\n",
        "    def __init__(self, baseModel, numClasses):\n",
        "        super(ObjectClassifier, self).__init__()\n",
        "        # initialize the base model and the number of classes\n",
        "        self.baseModel = baseModel\n",
        "        self.numClasses = numClasses\n",
        "\n",
        "        # build the classifier head to predict the class labels\n",
        "        self.classifier = Sequential(\n",
        "            Linear(baseModel.fc.in_features, 512),\n",
        "            ReLU(),\n",
        "            Dropout(),\n",
        "            Linear(512, 512),\n",
        "            ReLU(),\n",
        "            Dropout(),\n",
        "            Linear(512, self.numClasses)\n",
        "            )\n",
        "        # set the classifier of our base model to produce outputs\n",
        "        # from the last convolution block\n",
        "        self.baseModel.fc = Identity()\n",
        "    def forward(self, x):\n",
        "    # pass the inputs through the base model and then obtain\n",
        "    # predictions from two different branches of the network\n",
        "        features = self.baseModel(x)\n",
        "        classLogits = self.classifier(features)\n",
        "    # return the outputs as a tuple\n",
        "        return (classLogits)"
      ]
    },
    {
      "cell_type": "code",
      "execution_count": 167,
      "id": "0608485a",
      "metadata": {
        "id": "0608485a"
      },
      "outputs": [],
      "source": [
        "# from torchvision.models import resnet34\n",
        "# resnet = resnet34(pretrained=True)\n",
        "resnet = resnet50(pretrained=True)\n",
        "# resnet = resnet101(pretrained=True)\n",
        "# resnet = resnet18(pretrained=True)\n",
        "# rcnn = torchvision.models.detection.fasterrcnn_resnet50_fpn(pretrained=True)\n",
        "# freeze all ResNet50 layers so they will *not* be updated during the\n",
        "# training process\n",
        "for param in resnet.parameters():\n",
        "    param.requires_grad = False"
      ]
    },
    {
      "cell_type": "code",
      "execution_count": 168,
      "id": "80d1226a",
      "metadata": {
        "colab": {
          "base_uri": "https://localhost:8080/"
        },
        "id": "80d1226a",
        "outputId": "1cf2aedc-3b49-4808-cbc6-7d3fc0a83e18"
      },
      "outputs": [
        {
          "output_type": "stream",
          "name": "stdout",
          "text": [
            "ObjectClassifier(\n",
            "  (baseModel): ResNet(\n",
            "    (conv1): Conv2d(3, 64, kernel_size=(7, 7), stride=(2, 2), padding=(3, 3), bias=False)\n",
            "    (bn1): BatchNorm2d(64, eps=1e-05, momentum=0.1, affine=True, track_running_stats=True)\n",
            "    (relu): ReLU(inplace=True)\n",
            "    (maxpool): MaxPool2d(kernel_size=3, stride=2, padding=1, dilation=1, ceil_mode=False)\n",
            "    (layer1): Sequential(\n",
            "      (0): Bottleneck(\n",
            "        (conv1): Conv2d(64, 64, kernel_size=(1, 1), stride=(1, 1), bias=False)\n",
            "        (bn1): BatchNorm2d(64, eps=1e-05, momentum=0.1, affine=True, track_running_stats=True)\n",
            "        (conv2): Conv2d(64, 64, kernel_size=(3, 3), stride=(1, 1), padding=(1, 1), bias=False)\n",
            "        (bn2): BatchNorm2d(64, eps=1e-05, momentum=0.1, affine=True, track_running_stats=True)\n",
            "        (conv3): Conv2d(64, 256, kernel_size=(1, 1), stride=(1, 1), bias=False)\n",
            "        (bn3): BatchNorm2d(256, eps=1e-05, momentum=0.1, affine=True, track_running_stats=True)\n",
            "        (relu): ReLU(inplace=True)\n",
            "        (downsample): Sequential(\n",
            "          (0): Conv2d(64, 256, kernel_size=(1, 1), stride=(1, 1), bias=False)\n",
            "          (1): BatchNorm2d(256, eps=1e-05, momentum=0.1, affine=True, track_running_stats=True)\n",
            "        )\n",
            "      )\n",
            "      (1): Bottleneck(\n",
            "        (conv1): Conv2d(256, 64, kernel_size=(1, 1), stride=(1, 1), bias=False)\n",
            "        (bn1): BatchNorm2d(64, eps=1e-05, momentum=0.1, affine=True, track_running_stats=True)\n",
            "        (conv2): Conv2d(64, 64, kernel_size=(3, 3), stride=(1, 1), padding=(1, 1), bias=False)\n",
            "        (bn2): BatchNorm2d(64, eps=1e-05, momentum=0.1, affine=True, track_running_stats=True)\n",
            "        (conv3): Conv2d(64, 256, kernel_size=(1, 1), stride=(1, 1), bias=False)\n",
            "        (bn3): BatchNorm2d(256, eps=1e-05, momentum=0.1, affine=True, track_running_stats=True)\n",
            "        (relu): ReLU(inplace=True)\n",
            "      )\n",
            "      (2): Bottleneck(\n",
            "        (conv1): Conv2d(256, 64, kernel_size=(1, 1), stride=(1, 1), bias=False)\n",
            "        (bn1): BatchNorm2d(64, eps=1e-05, momentum=0.1, affine=True, track_running_stats=True)\n",
            "        (conv2): Conv2d(64, 64, kernel_size=(3, 3), stride=(1, 1), padding=(1, 1), bias=False)\n",
            "        (bn2): BatchNorm2d(64, eps=1e-05, momentum=0.1, affine=True, track_running_stats=True)\n",
            "        (conv3): Conv2d(64, 256, kernel_size=(1, 1), stride=(1, 1), bias=False)\n",
            "        (bn3): BatchNorm2d(256, eps=1e-05, momentum=0.1, affine=True, track_running_stats=True)\n",
            "        (relu): ReLU(inplace=True)\n",
            "      )\n",
            "    )\n",
            "    (layer2): Sequential(\n",
            "      (0): Bottleneck(\n",
            "        (conv1): Conv2d(256, 128, kernel_size=(1, 1), stride=(1, 1), bias=False)\n",
            "        (bn1): BatchNorm2d(128, eps=1e-05, momentum=0.1, affine=True, track_running_stats=True)\n",
            "        (conv2): Conv2d(128, 128, kernel_size=(3, 3), stride=(2, 2), padding=(1, 1), bias=False)\n",
            "        (bn2): BatchNorm2d(128, eps=1e-05, momentum=0.1, affine=True, track_running_stats=True)\n",
            "        (conv3): Conv2d(128, 512, kernel_size=(1, 1), stride=(1, 1), bias=False)\n",
            "        (bn3): BatchNorm2d(512, eps=1e-05, momentum=0.1, affine=True, track_running_stats=True)\n",
            "        (relu): ReLU(inplace=True)\n",
            "        (downsample): Sequential(\n",
            "          (0): Conv2d(256, 512, kernel_size=(1, 1), stride=(2, 2), bias=False)\n",
            "          (1): BatchNorm2d(512, eps=1e-05, momentum=0.1, affine=True, track_running_stats=True)\n",
            "        )\n",
            "      )\n",
            "      (1): Bottleneck(\n",
            "        (conv1): Conv2d(512, 128, kernel_size=(1, 1), stride=(1, 1), bias=False)\n",
            "        (bn1): BatchNorm2d(128, eps=1e-05, momentum=0.1, affine=True, track_running_stats=True)\n",
            "        (conv2): Conv2d(128, 128, kernel_size=(3, 3), stride=(1, 1), padding=(1, 1), bias=False)\n",
            "        (bn2): BatchNorm2d(128, eps=1e-05, momentum=0.1, affine=True, track_running_stats=True)\n",
            "        (conv3): Conv2d(128, 512, kernel_size=(1, 1), stride=(1, 1), bias=False)\n",
            "        (bn3): BatchNorm2d(512, eps=1e-05, momentum=0.1, affine=True, track_running_stats=True)\n",
            "        (relu): ReLU(inplace=True)\n",
            "      )\n",
            "      (2): Bottleneck(\n",
            "        (conv1): Conv2d(512, 128, kernel_size=(1, 1), stride=(1, 1), bias=False)\n",
            "        (bn1): BatchNorm2d(128, eps=1e-05, momentum=0.1, affine=True, track_running_stats=True)\n",
            "        (conv2): Conv2d(128, 128, kernel_size=(3, 3), stride=(1, 1), padding=(1, 1), bias=False)\n",
            "        (bn2): BatchNorm2d(128, eps=1e-05, momentum=0.1, affine=True, track_running_stats=True)\n",
            "        (conv3): Conv2d(128, 512, kernel_size=(1, 1), stride=(1, 1), bias=False)\n",
            "        (bn3): BatchNorm2d(512, eps=1e-05, momentum=0.1, affine=True, track_running_stats=True)\n",
            "        (relu): ReLU(inplace=True)\n",
            "      )\n",
            "      (3): Bottleneck(\n",
            "        (conv1): Conv2d(512, 128, kernel_size=(1, 1), stride=(1, 1), bias=False)\n",
            "        (bn1): BatchNorm2d(128, eps=1e-05, momentum=0.1, affine=True, track_running_stats=True)\n",
            "        (conv2): Conv2d(128, 128, kernel_size=(3, 3), stride=(1, 1), padding=(1, 1), bias=False)\n",
            "        (bn2): BatchNorm2d(128, eps=1e-05, momentum=0.1, affine=True, track_running_stats=True)\n",
            "        (conv3): Conv2d(128, 512, kernel_size=(1, 1), stride=(1, 1), bias=False)\n",
            "        (bn3): BatchNorm2d(512, eps=1e-05, momentum=0.1, affine=True, track_running_stats=True)\n",
            "        (relu): ReLU(inplace=True)\n",
            "      )\n",
            "    )\n",
            "    (layer3): Sequential(\n",
            "      (0): Bottleneck(\n",
            "        (conv1): Conv2d(512, 256, kernel_size=(1, 1), stride=(1, 1), bias=False)\n",
            "        (bn1): BatchNorm2d(256, eps=1e-05, momentum=0.1, affine=True, track_running_stats=True)\n",
            "        (conv2): Conv2d(256, 256, kernel_size=(3, 3), stride=(2, 2), padding=(1, 1), bias=False)\n",
            "        (bn2): BatchNorm2d(256, eps=1e-05, momentum=0.1, affine=True, track_running_stats=True)\n",
            "        (conv3): Conv2d(256, 1024, kernel_size=(1, 1), stride=(1, 1), bias=False)\n",
            "        (bn3): BatchNorm2d(1024, eps=1e-05, momentum=0.1, affine=True, track_running_stats=True)\n",
            "        (relu): ReLU(inplace=True)\n",
            "        (downsample): Sequential(\n",
            "          (0): Conv2d(512, 1024, kernel_size=(1, 1), stride=(2, 2), bias=False)\n",
            "          (1): BatchNorm2d(1024, eps=1e-05, momentum=0.1, affine=True, track_running_stats=True)\n",
            "        )\n",
            "      )\n",
            "      (1): Bottleneck(\n",
            "        (conv1): Conv2d(1024, 256, kernel_size=(1, 1), stride=(1, 1), bias=False)\n",
            "        (bn1): BatchNorm2d(256, eps=1e-05, momentum=0.1, affine=True, track_running_stats=True)\n",
            "        (conv2): Conv2d(256, 256, kernel_size=(3, 3), stride=(1, 1), padding=(1, 1), bias=False)\n",
            "        (bn2): BatchNorm2d(256, eps=1e-05, momentum=0.1, affine=True, track_running_stats=True)\n",
            "        (conv3): Conv2d(256, 1024, kernel_size=(1, 1), stride=(1, 1), bias=False)\n",
            "        (bn3): BatchNorm2d(1024, eps=1e-05, momentum=0.1, affine=True, track_running_stats=True)\n",
            "        (relu): ReLU(inplace=True)\n",
            "      )\n",
            "      (2): Bottleneck(\n",
            "        (conv1): Conv2d(1024, 256, kernel_size=(1, 1), stride=(1, 1), bias=False)\n",
            "        (bn1): BatchNorm2d(256, eps=1e-05, momentum=0.1, affine=True, track_running_stats=True)\n",
            "        (conv2): Conv2d(256, 256, kernel_size=(3, 3), stride=(1, 1), padding=(1, 1), bias=False)\n",
            "        (bn2): BatchNorm2d(256, eps=1e-05, momentum=0.1, affine=True, track_running_stats=True)\n",
            "        (conv3): Conv2d(256, 1024, kernel_size=(1, 1), stride=(1, 1), bias=False)\n",
            "        (bn3): BatchNorm2d(1024, eps=1e-05, momentum=0.1, affine=True, track_running_stats=True)\n",
            "        (relu): ReLU(inplace=True)\n",
            "      )\n",
            "      (3): Bottleneck(\n",
            "        (conv1): Conv2d(1024, 256, kernel_size=(1, 1), stride=(1, 1), bias=False)\n",
            "        (bn1): BatchNorm2d(256, eps=1e-05, momentum=0.1, affine=True, track_running_stats=True)\n",
            "        (conv2): Conv2d(256, 256, kernel_size=(3, 3), stride=(1, 1), padding=(1, 1), bias=False)\n",
            "        (bn2): BatchNorm2d(256, eps=1e-05, momentum=0.1, affine=True, track_running_stats=True)\n",
            "        (conv3): Conv2d(256, 1024, kernel_size=(1, 1), stride=(1, 1), bias=False)\n",
            "        (bn3): BatchNorm2d(1024, eps=1e-05, momentum=0.1, affine=True, track_running_stats=True)\n",
            "        (relu): ReLU(inplace=True)\n",
            "      )\n",
            "      (4): Bottleneck(\n",
            "        (conv1): Conv2d(1024, 256, kernel_size=(1, 1), stride=(1, 1), bias=False)\n",
            "        (bn1): BatchNorm2d(256, eps=1e-05, momentum=0.1, affine=True, track_running_stats=True)\n",
            "        (conv2): Conv2d(256, 256, kernel_size=(3, 3), stride=(1, 1), padding=(1, 1), bias=False)\n",
            "        (bn2): BatchNorm2d(256, eps=1e-05, momentum=0.1, affine=True, track_running_stats=True)\n",
            "        (conv3): Conv2d(256, 1024, kernel_size=(1, 1), stride=(1, 1), bias=False)\n",
            "        (bn3): BatchNorm2d(1024, eps=1e-05, momentum=0.1, affine=True, track_running_stats=True)\n",
            "        (relu): ReLU(inplace=True)\n",
            "      )\n",
            "      (5): Bottleneck(\n",
            "        (conv1): Conv2d(1024, 256, kernel_size=(1, 1), stride=(1, 1), bias=False)\n",
            "        (bn1): BatchNorm2d(256, eps=1e-05, momentum=0.1, affine=True, track_running_stats=True)\n",
            "        (conv2): Conv2d(256, 256, kernel_size=(3, 3), stride=(1, 1), padding=(1, 1), bias=False)\n",
            "        (bn2): BatchNorm2d(256, eps=1e-05, momentum=0.1, affine=True, track_running_stats=True)\n",
            "        (conv3): Conv2d(256, 1024, kernel_size=(1, 1), stride=(1, 1), bias=False)\n",
            "        (bn3): BatchNorm2d(1024, eps=1e-05, momentum=0.1, affine=True, track_running_stats=True)\n",
            "        (relu): ReLU(inplace=True)\n",
            "      )\n",
            "    )\n",
            "    (layer4): Sequential(\n",
            "      (0): Bottleneck(\n",
            "        (conv1): Conv2d(1024, 512, kernel_size=(1, 1), stride=(1, 1), bias=False)\n",
            "        (bn1): BatchNorm2d(512, eps=1e-05, momentum=0.1, affine=True, track_running_stats=True)\n",
            "        (conv2): Conv2d(512, 512, kernel_size=(3, 3), stride=(2, 2), padding=(1, 1), bias=False)\n",
            "        (bn2): BatchNorm2d(512, eps=1e-05, momentum=0.1, affine=True, track_running_stats=True)\n",
            "        (conv3): Conv2d(512, 2048, kernel_size=(1, 1), stride=(1, 1), bias=False)\n",
            "        (bn3): BatchNorm2d(2048, eps=1e-05, momentum=0.1, affine=True, track_running_stats=True)\n",
            "        (relu): ReLU(inplace=True)\n",
            "        (downsample): Sequential(\n",
            "          (0): Conv2d(1024, 2048, kernel_size=(1, 1), stride=(2, 2), bias=False)\n",
            "          (1): BatchNorm2d(2048, eps=1e-05, momentum=0.1, affine=True, track_running_stats=True)\n",
            "        )\n",
            "      )\n",
            "      (1): Bottleneck(\n",
            "        (conv1): Conv2d(2048, 512, kernel_size=(1, 1), stride=(1, 1), bias=False)\n",
            "        (bn1): BatchNorm2d(512, eps=1e-05, momentum=0.1, affine=True, track_running_stats=True)\n",
            "        (conv2): Conv2d(512, 512, kernel_size=(3, 3), stride=(1, 1), padding=(1, 1), bias=False)\n",
            "        (bn2): BatchNorm2d(512, eps=1e-05, momentum=0.1, affine=True, track_running_stats=True)\n",
            "        (conv3): Conv2d(512, 2048, kernel_size=(1, 1), stride=(1, 1), bias=False)\n",
            "        (bn3): BatchNorm2d(2048, eps=1e-05, momentum=0.1, affine=True, track_running_stats=True)\n",
            "        (relu): ReLU(inplace=True)\n",
            "      )\n",
            "      (2): Bottleneck(\n",
            "        (conv1): Conv2d(2048, 512, kernel_size=(1, 1), stride=(1, 1), bias=False)\n",
            "        (bn1): BatchNorm2d(512, eps=1e-05, momentum=0.1, affine=True, track_running_stats=True)\n",
            "        (conv2): Conv2d(512, 512, kernel_size=(3, 3), stride=(1, 1), padding=(1, 1), bias=False)\n",
            "        (bn2): BatchNorm2d(512, eps=1e-05, momentum=0.1, affine=True, track_running_stats=True)\n",
            "        (conv3): Conv2d(512, 2048, kernel_size=(1, 1), stride=(1, 1), bias=False)\n",
            "        (bn3): BatchNorm2d(2048, eps=1e-05, momentum=0.1, affine=True, track_running_stats=True)\n",
            "        (relu): ReLU(inplace=True)\n",
            "      )\n",
            "    )\n",
            "    (avgpool): AdaptiveAvgPool2d(output_size=(1, 1))\n",
            "    (fc): Identity()\n",
            "  )\n",
            "  (classifier): Sequential(\n",
            "    (0): Linear(in_features=2048, out_features=512, bias=True)\n",
            "    (1): ReLU()\n",
            "    (2): Dropout(p=0.5, inplace=False)\n",
            "    (3): Linear(in_features=512, out_features=512, bias=True)\n",
            "    (4): ReLU()\n",
            "    (5): Dropout(p=0.5, inplace=False)\n",
            "    (6): Linear(in_features=512, out_features=9, bias=True)\n",
            "  )\n",
            ")\n"
          ]
        }
      ],
      "source": [
        "ObjectClassifier = ObjectClassifier(resnet, len(idx_to_class))\n",
        "ObjectClassifier = ObjectClassifier.to(DEVICE)\n",
        "# define our loss functions\n",
        "classLossFunc = CrossEntropyLoss()\n",
        "# bboxLossFunc = MSELoss()\n",
        "# initialize the optimizer, compile the model, and show the model\n",
        "# summary\n",
        "opt = Adam(ObjectClassifier.parameters(), lr=INIT_LR)\n",
        "# opt = torch.optim.SGD(ObjectClassifier.parameters(), lr=.1, momentum=0.9)\n",
        "print(ObjectClassifier)\n",
        "# initialize a dictionary to store training history\n",
        "H = {\"total_train_loss\": [], \"total_val_loss\": [], \"train_class_acc\": [],\"val_class_acc\": []}"
      ]
    },
    {
      "cell_type": "code",
      "source": [
        "def moveTo(obj, device):\n",
        "    \"\"\"\n",
        "    obj: the python object to move to a device, or to move its contents to a device\n",
        "    device: the compute device to move objects to\n",
        "    \"\"\"\n",
        "    if hasattr(obj, \"to\"):\n",
        "        return obj.to(device)\n",
        "    elif isinstance(obj, list):\n",
        "        return [moveTo(x, device) for x in obj]\n",
        "    elif isinstance(obj, tuple):\n",
        "        return tuple(moveTo(list(obj), device))\n",
        "    elif isinstance(obj, set):\n",
        "        return set(moveTo(list(obj), device))\n",
        "    elif isinstance(obj, dict):\n",
        "        to_ret = dict()\n",
        "        for key, value in obj.items():\n",
        "            to_ret[moveTo(key, device)] = moveTo(value, device)\n",
        "        return to_ret\n",
        "    else:\n",
        "        return obj"
      ],
      "metadata": {
        "id": "8adBQMXBRC4O"
      },
      "id": "8adBQMXBRC4O",
      "execution_count": 169,
      "outputs": []
    },
    {
      "cell_type": "code",
      "execution_count": 170,
      "id": "d473568a",
      "metadata": {
        "colab": {
          "base_uri": "https://localhost:8080/"
        },
        "id": "d473568a",
        "outputId": "9a79eabb-5875-464b-90d3-e1349424679c"
      },
      "outputs": [
        {
          "output_type": "stream",
          "name": "stdout",
          "text": [
            "[INFO] training the network...\n"
          ]
        },
        {
          "output_type": "stream",
          "name": "stderr",
          "text": [
            "\r  0%|          | 0/200 [00:00<?, ?it/s]"
          ]
        },
        {
          "output_type": "stream",
          "name": "stdout",
          "text": [
            "tensor(4.3772, device='cuda:0')\n",
            "4.3771973\n"
          ]
        },
        {
          "output_type": "stream",
          "name": "stderr",
          "text": [
            "\r  0%|          | 1/200 [00:02<09:04,  2.74s/it]"
          ]
        },
        {
          "output_type": "stream",
          "name": "stdout",
          "text": [
            "[INFO] EPOCH: 1/200\n",
            "Train loss: 2.440855, Train accuracy: 0.1336\n",
            "Val loss: 4.377197, Val accuracy: 0.1944\n",
            "tensor(4.2482, device='cuda:0')\n",
            "4.2481775\n"
          ]
        },
        {
          "output_type": "stream",
          "name": "stderr",
          "text": [
            "\r  1%|          | 2/200 [00:05<09:07,  2.77s/it]"
          ]
        },
        {
          "output_type": "stream",
          "name": "stdout",
          "text": [
            "[INFO] EPOCH: 2/200\n",
            "Train loss: 2.375488, Train accuracy: 0.2055\n",
            "Val loss: 4.248178, Val accuracy: 0.3056\n"
          ]
        },
        {
          "output_type": "stream",
          "name": "stderr",
          "text": [
            "\r  2%|▏         | 3/200 [00:07<08:35,  2.62s/it]"
          ]
        },
        {
          "output_type": "stream",
          "name": "stdout",
          "text": [
            "[INFO] EPOCH: 3/200\n",
            "Train loss: 2.371617, Train accuracy: 0.2466\n",
            "Val loss: 4.359196, Val accuracy: 0.6111\n",
            "tensor(4.0591, device='cuda:0')\n",
            "4.059127\n"
          ]
        },
        {
          "output_type": "stream",
          "name": "stderr",
          "text": [
            "\r  2%|▏         | 4/200 [00:10<08:43,  2.67s/it]"
          ]
        },
        {
          "output_type": "stream",
          "name": "stdout",
          "text": [
            "[INFO] EPOCH: 4/200\n",
            "Train loss: 2.348506, Train accuracy: 0.1884\n",
            "Val loss: 4.059127, Val accuracy: 0.6111\n"
          ]
        },
        {
          "output_type": "stream",
          "name": "stderr",
          "text": [
            "\r  2%|▎         | 5/200 [00:13<08:21,  2.57s/it]"
          ]
        },
        {
          "output_type": "stream",
          "name": "stdout",
          "text": [
            "[INFO] EPOCH: 5/200\n",
            "Train loss: 2.306860, Train accuracy: 0.2740\n",
            "Val loss: 4.103714, Val accuracy: 0.6111\n",
            "tensor(3.9523, device='cuda:0')\n",
            "3.95233\n"
          ]
        },
        {
          "output_type": "stream",
          "name": "stderr",
          "text": [
            "\r  3%|▎         | 6/200 [00:16<08:43,  2.70s/it]"
          ]
        },
        {
          "output_type": "stream",
          "name": "stdout",
          "text": [
            "[INFO] EPOCH: 6/200\n",
            "Train loss: 2.227264, Train accuracy: 0.3630\n",
            "Val loss: 3.952330, Val accuracy: 0.6111\n",
            "tensor(3.8656, device='cuda:0')\n",
            "3.865556\n"
          ]
        },
        {
          "output_type": "stream",
          "name": "stderr",
          "text": [
            "\r  4%|▎         | 7/200 [00:18<08:44,  2.72s/it]"
          ]
        },
        {
          "output_type": "stream",
          "name": "stdout",
          "text": [
            "[INFO] EPOCH: 7/200\n",
            "Train loss: 2.201576, Train accuracy: 0.3596\n",
            "Val loss: 3.865556, Val accuracy: 0.5556\n",
            "tensor(3.3508, device='cuda:0')\n",
            "3.3508065\n"
          ]
        },
        {
          "output_type": "stream",
          "name": "stderr",
          "text": [
            "\r  4%|▍         | 8/200 [00:21<08:45,  2.74s/it]"
          ]
        },
        {
          "output_type": "stream",
          "name": "stdout",
          "text": [
            "[INFO] EPOCH: 8/200\n",
            "Train loss: 2.163941, Train accuracy: 0.4007\n",
            "Val loss: 3.350806, Val accuracy: 0.5556\n"
          ]
        },
        {
          "output_type": "stream",
          "name": "stderr",
          "text": [
            "\r  4%|▍         | 9/200 [00:24<08:26,  2.65s/it]"
          ]
        },
        {
          "output_type": "stream",
          "name": "stdout",
          "text": [
            "[INFO] EPOCH: 9/200\n",
            "Train loss: 2.057499, Train accuracy: 0.4555\n",
            "Val loss: 3.942573, Val accuracy: 0.6389\n"
          ]
        },
        {
          "output_type": "stream",
          "name": "stderr",
          "text": [
            "\r  5%|▌         | 10/200 [00:26<08:11,  2.59s/it]"
          ]
        },
        {
          "output_type": "stream",
          "name": "stdout",
          "text": [
            "[INFO] EPOCH: 10/200\n",
            "Train loss: 2.010264, Train accuracy: 0.4863\n",
            "Val loss: 3.753231, Val accuracy: 0.6667\n",
            "tensor(3.2627, device='cuda:0')\n",
            "3.2627125\n"
          ]
        },
        {
          "output_type": "stream",
          "name": "stderr",
          "text": [
            "\r  6%|▌         | 11/200 [00:29<08:16,  2.63s/it]"
          ]
        },
        {
          "output_type": "stream",
          "name": "stdout",
          "text": [
            "[INFO] EPOCH: 11/200\n",
            "Train loss: 1.936300, Train accuracy: 0.4932\n",
            "Val loss: 3.262712, Val accuracy: 0.6944\n"
          ]
        },
        {
          "output_type": "stream",
          "name": "stderr",
          "text": [
            "\r  6%|▌         | 12/200 [00:31<08:03,  2.57s/it]"
          ]
        },
        {
          "output_type": "stream",
          "name": "stdout",
          "text": [
            "[INFO] EPOCH: 12/200\n",
            "Train loss: 1.917430, Train accuracy: 0.5171\n",
            "Val loss: 3.747135, Val accuracy: 0.6667\n",
            "tensor(3.0869, device='cuda:0')\n",
            "3.086947\n"
          ]
        },
        {
          "output_type": "stream",
          "name": "stderr",
          "text": [
            "\r  6%|▋         | 13/200 [00:34<08:22,  2.68s/it]"
          ]
        },
        {
          "output_type": "stream",
          "name": "stdout",
          "text": [
            "[INFO] EPOCH: 13/200\n",
            "Train loss: 1.783939, Train accuracy: 0.6336\n",
            "Val loss: 3.086947, Val accuracy: 0.7500\n",
            "tensor(2.8338, device='cuda:0')\n",
            "2.8337803\n"
          ]
        },
        {
          "output_type": "stream",
          "name": "stderr",
          "text": [
            "\r  7%|▋         | 14/200 [00:37<08:20,  2.69s/it]"
          ]
        },
        {
          "output_type": "stream",
          "name": "stdout",
          "text": [
            "[INFO] EPOCH: 14/200\n",
            "Train loss: 1.707629, Train accuracy: 0.5925\n",
            "Val loss: 2.833780, Val accuracy: 0.6667\n"
          ]
        },
        {
          "output_type": "stream",
          "name": "stderr",
          "text": [
            "\r  8%|▊         | 15/200 [00:39<08:05,  2.62s/it]"
          ]
        },
        {
          "output_type": "stream",
          "name": "stdout",
          "text": [
            "[INFO] EPOCH: 15/200\n",
            "Train loss: 1.647739, Train accuracy: 0.5685\n",
            "Val loss: 2.926632, Val accuracy: 0.7500\n"
          ]
        },
        {
          "output_type": "stream",
          "name": "stderr",
          "text": [
            "\r  8%|▊         | 16/200 [00:42<07:52,  2.57s/it]"
          ]
        },
        {
          "output_type": "stream",
          "name": "stdout",
          "text": [
            "[INFO] EPOCH: 16/200\n",
            "Train loss: 1.471660, Train accuracy: 0.6130\n",
            "Val loss: 2.952049, Val accuracy: 0.6944\n",
            "tensor(2.2049, device='cuda:0')\n",
            "2.2048554\n"
          ]
        },
        {
          "output_type": "stream",
          "name": "stderr",
          "text": [
            "\r  8%|▊         | 17/200 [00:44<07:59,  2.62s/it]"
          ]
        },
        {
          "output_type": "stream",
          "name": "stdout",
          "text": [
            "[INFO] EPOCH: 17/200\n",
            "Train loss: 1.442032, Train accuracy: 0.6952\n",
            "Val loss: 2.204855, Val accuracy: 0.6944\n"
          ]
        },
        {
          "output_type": "stream",
          "name": "stderr",
          "text": [
            "\r  9%|▉         | 18/200 [00:47<07:47,  2.57s/it]"
          ]
        },
        {
          "output_type": "stream",
          "name": "stdout",
          "text": [
            "[INFO] EPOCH: 18/200\n",
            "Train loss: 1.342626, Train accuracy: 0.6575\n",
            "Val loss: 2.721659, Val accuracy: 0.8056\n",
            "tensor(2.1846, device='cuda:0')\n",
            "2.1845963\n"
          ]
        },
        {
          "output_type": "stream",
          "name": "stderr",
          "text": [
            "\r 10%|▉         | 19/200 [00:50<07:59,  2.65s/it]"
          ]
        },
        {
          "output_type": "stream",
          "name": "stdout",
          "text": [
            "[INFO] EPOCH: 19/200\n",
            "Train loss: 1.361950, Train accuracy: 0.7055\n",
            "Val loss: 2.184596, Val accuracy: 0.8333\n",
            "tensor(1.9667, device='cuda:0')\n",
            "1.9666946\n"
          ]
        },
        {
          "output_type": "stream",
          "name": "stderr",
          "text": [
            "\r 10%|█         | 20/200 [00:52<08:01,  2.67s/it]"
          ]
        },
        {
          "output_type": "stream",
          "name": "stdout",
          "text": [
            "[INFO] EPOCH: 20/200\n",
            "Train loss: 1.290388, Train accuracy: 0.6884\n",
            "Val loss: 1.966695, Val accuracy: 0.8333\n",
            "tensor(1.5353, device='cuda:0')\n",
            "1.5353107\n"
          ]
        },
        {
          "output_type": "stream",
          "name": "stderr",
          "text": [
            "\r 10%|█         | 21/200 [00:55<08:08,  2.73s/it]"
          ]
        },
        {
          "output_type": "stream",
          "name": "stdout",
          "text": [
            "[INFO] EPOCH: 21/200\n",
            "Train loss: 1.217785, Train accuracy: 0.7432\n",
            "Val loss: 1.535311, Val accuracy: 0.7778\n",
            "tensor(1.5230, device='cuda:0')\n",
            "1.5229889\n"
          ]
        },
        {
          "output_type": "stream",
          "name": "stderr",
          "text": [
            "\r 11%|█         | 22/200 [00:58<08:05,  2.73s/it]"
          ]
        },
        {
          "output_type": "stream",
          "name": "stdout",
          "text": [
            "[INFO] EPOCH: 22/200\n",
            "Train loss: 1.134508, Train accuracy: 0.7568\n",
            "Val loss: 1.522989, Val accuracy: 0.8333\n"
          ]
        },
        {
          "output_type": "stream",
          "name": "stderr",
          "text": [
            "\r 12%|█▏        | 23/200 [01:00<07:47,  2.64s/it]"
          ]
        },
        {
          "output_type": "stream",
          "name": "stdout",
          "text": [
            "[INFO] EPOCH: 23/200\n",
            "Train loss: 1.058489, Train accuracy: 0.7740\n",
            "Val loss: 2.002123, Val accuracy: 0.8056\n",
            "tensor(1.2892, device='cuda:0')\n",
            "1.2891529\n"
          ]
        },
        {
          "output_type": "stream",
          "name": "stderr",
          "text": [
            "\r 12%|█▏        | 24/200 [01:03<07:48,  2.66s/it]"
          ]
        },
        {
          "output_type": "stream",
          "name": "stdout",
          "text": [
            "[INFO] EPOCH: 24/200\n",
            "Train loss: 0.999912, Train accuracy: 0.7877\n",
            "Val loss: 1.289153, Val accuracy: 0.7778\n"
          ]
        },
        {
          "output_type": "stream",
          "name": "stderr",
          "text": [
            "\r 12%|█▎        | 25/200 [01:06<07:33,  2.59s/it]"
          ]
        },
        {
          "output_type": "stream",
          "name": "stdout",
          "text": [
            "[INFO] EPOCH: 25/200\n",
            "Train loss: 0.935842, Train accuracy: 0.7979\n",
            "Val loss: 1.864071, Val accuracy: 0.8333\n"
          ]
        },
        {
          "output_type": "stream",
          "name": "stderr",
          "text": [
            "\r 13%|█▎        | 26/200 [01:08<07:23,  2.55s/it]"
          ]
        },
        {
          "output_type": "stream",
          "name": "stdout",
          "text": [
            "[INFO] EPOCH: 26/200\n",
            "Train loss: 0.849715, Train accuracy: 0.8288\n",
            "Val loss: 1.393799, Val accuracy: 0.8056\n"
          ]
        },
        {
          "output_type": "stream",
          "name": "stderr",
          "text": [
            "\r 14%|█▎        | 27/200 [01:11<07:14,  2.51s/it]"
          ]
        },
        {
          "output_type": "stream",
          "name": "stdout",
          "text": [
            "[INFO] EPOCH: 27/200\n",
            "Train loss: 0.805273, Train accuracy: 0.8116\n",
            "Val loss: 1.468220, Val accuracy: 0.8333\n"
          ]
        },
        {
          "output_type": "stream",
          "name": "stderr",
          "text": [
            "\r 14%|█▍        | 28/200 [01:13<07:08,  2.49s/it]"
          ]
        },
        {
          "output_type": "stream",
          "name": "stdout",
          "text": [
            "[INFO] EPOCH: 28/200\n",
            "Train loss: 0.796071, Train accuracy: 0.8253\n",
            "Val loss: 1.338770, Val accuracy: 0.8056\n"
          ]
        },
        {
          "output_type": "stream",
          "name": "stderr",
          "text": [
            "\r 14%|█▍        | 29/200 [01:15<07:03,  2.48s/it]"
          ]
        },
        {
          "output_type": "stream",
          "name": "stdout",
          "text": [
            "[INFO] EPOCH: 29/200\n",
            "Train loss: 0.764646, Train accuracy: 0.8356\n",
            "Val loss: 1.580888, Val accuracy: 0.7778\n",
            "tensor(0.8595, device='cuda:0')\n",
            "0.8595176\n"
          ]
        },
        {
          "output_type": "stream",
          "name": "stderr",
          "text": [
            "\r 15%|█▌        | 30/200 [01:18<07:14,  2.56s/it]"
          ]
        },
        {
          "output_type": "stream",
          "name": "stdout",
          "text": [
            "[INFO] EPOCH: 30/200\n",
            "Train loss: 0.711851, Train accuracy: 0.8082\n",
            "Val loss: 0.859518, Val accuracy: 0.7500\n",
            "tensor(0.6241, device='cuda:0')\n",
            "0.6241196\n"
          ]
        },
        {
          "output_type": "stream",
          "name": "stderr",
          "text": [
            "\r 16%|█▌        | 31/200 [01:21<07:22,  2.62s/it]"
          ]
        },
        {
          "output_type": "stream",
          "name": "stdout",
          "text": [
            "[INFO] EPOCH: 31/200\n",
            "Train loss: 0.660403, Train accuracy: 0.8596\n",
            "Val loss: 0.624120, Val accuracy: 0.8056\n"
          ]
        },
        {
          "output_type": "stream",
          "name": "stderr",
          "text": [
            "\r 16%|█▌        | 32/200 [01:23<07:10,  2.56s/it]"
          ]
        },
        {
          "output_type": "stream",
          "name": "stdout",
          "text": [
            "[INFO] EPOCH: 32/200\n",
            "Train loss: 0.681868, Train accuracy: 0.8322\n",
            "Val loss: 2.173194, Val accuracy: 0.8333\n"
          ]
        },
        {
          "output_type": "stream",
          "name": "stderr",
          "text": [
            "\r 16%|█▋        | 33/200 [01:26<07:02,  2.53s/it]"
          ]
        },
        {
          "output_type": "stream",
          "name": "stdout",
          "text": [
            "[INFO] EPOCH: 33/200\n",
            "Train loss: 0.614551, Train accuracy: 0.8699\n",
            "Val loss: 1.483064, Val accuracy: 0.7778\n",
            "tensor(0.5015, device='cuda:0')\n",
            "0.5014537\n"
          ]
        },
        {
          "output_type": "stream",
          "name": "stderr",
          "text": [
            "\r 17%|█▋        | 34/200 [01:28<07:09,  2.59s/it]"
          ]
        },
        {
          "output_type": "stream",
          "name": "stdout",
          "text": [
            "[INFO] EPOCH: 34/200\n",
            "Train loss: 0.613748, Train accuracy: 0.8699\n",
            "Val loss: 0.501454, Val accuracy: 0.7778\n"
          ]
        },
        {
          "output_type": "stream",
          "name": "stderr",
          "text": [
            "\r 18%|█▊        | 35/200 [01:31<06:58,  2.54s/it]"
          ]
        },
        {
          "output_type": "stream",
          "name": "stdout",
          "text": [
            "[INFO] EPOCH: 35/200\n",
            "Train loss: 0.623914, Train accuracy: 0.8767\n",
            "Val loss: 0.543500, Val accuracy: 0.8611\n"
          ]
        },
        {
          "output_type": "stream",
          "name": "stderr",
          "text": [
            "\r 18%|█▊        | 36/200 [01:33<06:49,  2.50s/it]"
          ]
        },
        {
          "output_type": "stream",
          "name": "stdout",
          "text": [
            "[INFO] EPOCH: 36/200\n",
            "Train loss: 0.590602, Train accuracy: 0.8699\n",
            "Val loss: 1.081999, Val accuracy: 0.8611\n"
          ]
        },
        {
          "output_type": "stream",
          "name": "stderr",
          "text": [
            "\r 18%|█▊        | 37/200 [01:36<06:46,  2.50s/it]"
          ]
        },
        {
          "output_type": "stream",
          "name": "stdout",
          "text": [
            "[INFO] EPOCH: 37/200\n",
            "Train loss: 0.574204, Train accuracy: 0.8767\n",
            "Val loss: 0.703550, Val accuracy: 0.8056\n"
          ]
        },
        {
          "output_type": "stream",
          "name": "stderr",
          "text": [
            "\r 19%|█▉        | 38/200 [01:38<06:46,  2.51s/it]"
          ]
        },
        {
          "output_type": "stream",
          "name": "stdout",
          "text": [
            "[INFO] EPOCH: 38/200\n",
            "Train loss: 0.582935, Train accuracy: 0.8390\n",
            "Val loss: 0.572046, Val accuracy: 0.8056\n"
          ]
        },
        {
          "output_type": "stream",
          "name": "stderr",
          "text": [
            "\r 20%|█▉        | 39/200 [01:41<06:40,  2.49s/it]"
          ]
        },
        {
          "output_type": "stream",
          "name": "stdout",
          "text": [
            "[INFO] EPOCH: 39/200\n",
            "Train loss: 0.551077, Train accuracy: 0.8767\n",
            "Val loss: 1.634235, Val accuracy: 0.7500\n"
          ]
        },
        {
          "output_type": "stream",
          "name": "stderr",
          "text": [
            "\r 20%|██        | 40/200 [01:43<06:38,  2.49s/it]"
          ]
        },
        {
          "output_type": "stream",
          "name": "stdout",
          "text": [
            "[INFO] EPOCH: 40/200\n",
            "Train loss: 0.532582, Train accuracy: 0.8459\n",
            "Val loss: 0.534194, Val accuracy: 0.8056\n",
            "tensor(0.4852, device='cuda:0')\n",
            "0.48524284\n"
          ]
        },
        {
          "output_type": "stream",
          "name": "stderr",
          "text": [
            "\r 20%|██        | 41/200 [01:46<06:48,  2.57s/it]"
          ]
        },
        {
          "output_type": "stream",
          "name": "stdout",
          "text": [
            "[INFO] EPOCH: 41/200\n",
            "Train loss: 0.576269, Train accuracy: 0.9075\n",
            "Val loss: 0.485243, Val accuracy: 0.8333\n"
          ]
        },
        {
          "output_type": "stream",
          "name": "stderr",
          "text": [
            "\r 21%|██        | 42/200 [01:48<06:40,  2.53s/it]"
          ]
        },
        {
          "output_type": "stream",
          "name": "stdout",
          "text": [
            "[INFO] EPOCH: 42/200\n",
            "Train loss: 0.502732, Train accuracy: 0.8904\n",
            "Val loss: 0.746350, Val accuracy: 0.8611\n",
            "tensor(0.4352, device='cuda:0')\n",
            "0.43516058\n"
          ]
        },
        {
          "output_type": "stream",
          "name": "stderr",
          "text": [
            "\r 22%|██▏       | 43/200 [01:51<06:48,  2.60s/it]"
          ]
        },
        {
          "output_type": "stream",
          "name": "stdout",
          "text": [
            "[INFO] EPOCH: 43/200\n",
            "Train loss: 0.634877, Train accuracy: 0.8664\n",
            "Val loss: 0.435161, Val accuracy: 0.8333\n"
          ]
        },
        {
          "output_type": "stream",
          "name": "stderr",
          "text": [
            "\r 22%|██▏       | 44/200 [01:54<06:38,  2.55s/it]"
          ]
        },
        {
          "output_type": "stream",
          "name": "stdout",
          "text": [
            "[INFO] EPOCH: 44/200\n",
            "Train loss: 0.496416, Train accuracy: 0.9178\n",
            "Val loss: 0.515487, Val accuracy: 0.8333\n"
          ]
        },
        {
          "output_type": "stream",
          "name": "stderr",
          "text": [
            "\r 22%|██▎       | 45/200 [01:56<06:31,  2.53s/it]"
          ]
        },
        {
          "output_type": "stream",
          "name": "stdout",
          "text": [
            "[INFO] EPOCH: 45/200\n",
            "Train loss: 0.621078, Train accuracy: 0.8870\n",
            "Val loss: 1.935321, Val accuracy: 0.8611\n"
          ]
        },
        {
          "output_type": "stream",
          "name": "stderr",
          "text": [
            "\r 23%|██▎       | 46/200 [01:59<06:26,  2.51s/it]"
          ]
        },
        {
          "output_type": "stream",
          "name": "stdout",
          "text": [
            "[INFO] EPOCH: 46/200\n",
            "Train loss: 0.543380, Train accuracy: 0.8973\n",
            "Val loss: 0.448507, Val accuracy: 0.8056\n"
          ]
        },
        {
          "output_type": "stream",
          "name": "stderr",
          "text": [
            "\r 24%|██▎       | 47/200 [02:01<06:20,  2.48s/it]"
          ]
        },
        {
          "output_type": "stream",
          "name": "stdout",
          "text": [
            "[INFO] EPOCH: 47/200\n",
            "Train loss: 0.485188, Train accuracy: 0.8664\n",
            "Val loss: 0.899532, Val accuracy: 0.8056\n"
          ]
        },
        {
          "output_type": "stream",
          "name": "stderr",
          "text": [
            "\r 24%|██▍       | 48/200 [02:03<06:14,  2.47s/it]"
          ]
        },
        {
          "output_type": "stream",
          "name": "stdout",
          "text": [
            "[INFO] EPOCH: 48/200\n",
            "Train loss: 0.465594, Train accuracy: 0.8938\n",
            "Val loss: 0.456471, Val accuracy: 0.8611\n"
          ]
        },
        {
          "output_type": "stream",
          "name": "stderr",
          "text": [
            "\r 24%|██▍       | 49/200 [02:06<06:09,  2.44s/it]"
          ]
        },
        {
          "output_type": "stream",
          "name": "stdout",
          "text": [
            "[INFO] EPOCH: 49/200\n",
            "Train loss: 0.412675, Train accuracy: 0.9384\n",
            "Val loss: 0.445836, Val accuracy: 0.8056\n"
          ]
        },
        {
          "output_type": "stream",
          "name": "stderr",
          "text": [
            "\r 25%|██▌       | 50/200 [02:08<06:05,  2.44s/it]"
          ]
        },
        {
          "output_type": "stream",
          "name": "stdout",
          "text": [
            "[INFO] EPOCH: 50/200\n",
            "Train loss: 0.371985, Train accuracy: 0.9041\n",
            "Val loss: 0.468973, Val accuracy: 0.7778\n"
          ]
        },
        {
          "output_type": "stream",
          "name": "stderr",
          "text": [
            "\r 26%|██▌       | 51/200 [02:11<06:00,  2.42s/it]"
          ]
        },
        {
          "output_type": "stream",
          "name": "stdout",
          "text": [
            "[INFO] EPOCH: 51/200\n",
            "Train loss: 0.354596, Train accuracy: 0.9110\n",
            "Val loss: 0.664034, Val accuracy: 0.8611\n",
            "tensor(0.4092, device='cuda:0')\n",
            "0.40919724\n"
          ]
        },
        {
          "output_type": "stream",
          "name": "stderr",
          "text": [
            "\r 26%|██▌       | 52/200 [02:13<06:10,  2.51s/it]"
          ]
        },
        {
          "output_type": "stream",
          "name": "stdout",
          "text": [
            "[INFO] EPOCH: 52/200\n",
            "Train loss: 0.385154, Train accuracy: 0.9452\n",
            "Val loss: 0.409197, Val accuracy: 0.8611\n"
          ]
        },
        {
          "output_type": "stream",
          "name": "stderr",
          "text": [
            "\r 26%|██▋       | 53/200 [02:16<06:04,  2.48s/it]"
          ]
        },
        {
          "output_type": "stream",
          "name": "stdout",
          "text": [
            "[INFO] EPOCH: 53/200\n",
            "Train loss: 0.395001, Train accuracy: 0.9041\n",
            "Val loss: 0.903365, Val accuracy: 0.7778\n"
          ]
        },
        {
          "output_type": "stream",
          "name": "stderr",
          "text": [
            "\r 27%|██▋       | 54/200 [02:18<06:01,  2.47s/it]"
          ]
        },
        {
          "output_type": "stream",
          "name": "stdout",
          "text": [
            "[INFO] EPOCH: 54/200\n",
            "Train loss: 0.324041, Train accuracy: 0.9178\n",
            "Val loss: 0.411240, Val accuracy: 0.8333\n"
          ]
        },
        {
          "output_type": "stream",
          "name": "stderr",
          "text": [
            "\r 28%|██▊       | 55/200 [02:21<05:56,  2.46s/it]"
          ]
        },
        {
          "output_type": "stream",
          "name": "stdout",
          "text": [
            "[INFO] EPOCH: 55/200\n",
            "Train loss: 0.462406, Train accuracy: 0.9110\n",
            "Val loss: 0.975511, Val accuracy: 0.8333\n",
            "tensor(0.2737, device='cuda:0')\n",
            "0.2736749\n"
          ]
        },
        {
          "output_type": "stream",
          "name": "stderr",
          "text": [
            "\r 28%|██▊       | 56/200 [02:23<06:04,  2.53s/it]"
          ]
        },
        {
          "output_type": "stream",
          "name": "stdout",
          "text": [
            "[INFO] EPOCH: 56/200\n",
            "Train loss: 0.368220, Train accuracy: 0.9247\n",
            "Val loss: 0.273675, Val accuracy: 0.8333\n"
          ]
        },
        {
          "output_type": "stream",
          "name": "stderr",
          "text": [
            "\r 28%|██▊       | 57/200 [02:26<05:56,  2.49s/it]"
          ]
        },
        {
          "output_type": "stream",
          "name": "stdout",
          "text": [
            "[INFO] EPOCH: 57/200\n",
            "Train loss: 0.302289, Train accuracy: 0.9418\n",
            "Val loss: 0.701253, Val accuracy: 0.8333\n"
          ]
        },
        {
          "output_type": "stream",
          "name": "stderr",
          "text": [
            "\r 29%|██▉       | 58/200 [02:28<05:51,  2.48s/it]"
          ]
        },
        {
          "output_type": "stream",
          "name": "stdout",
          "text": [
            "[INFO] EPOCH: 58/200\n",
            "Train loss: 0.291922, Train accuracy: 0.9349\n",
            "Val loss: 0.598386, Val accuracy: 0.8611\n"
          ]
        },
        {
          "output_type": "stream",
          "name": "stderr",
          "text": [
            "\r 30%|██▉       | 59/200 [02:31<05:46,  2.46s/it]"
          ]
        },
        {
          "output_type": "stream",
          "name": "stdout",
          "text": [
            "[INFO] EPOCH: 59/200\n",
            "Train loss: 0.302769, Train accuracy: 0.9555\n",
            "Val loss: 0.771941, Val accuracy: 0.8611\n"
          ]
        },
        {
          "output_type": "stream",
          "name": "stderr",
          "text": [
            "\r 30%|███       | 60/200 [02:33<05:43,  2.45s/it]"
          ]
        },
        {
          "output_type": "stream",
          "name": "stdout",
          "text": [
            "[INFO] EPOCH: 60/200\n",
            "Train loss: 0.287305, Train accuracy: 0.9418\n",
            "Val loss: 0.372604, Val accuracy: 0.8333\n",
            "tensor(0.2671, device='cuda:0')\n",
            "0.26710385\n"
          ]
        },
        {
          "output_type": "stream",
          "name": "stderr",
          "text": [
            "\r 30%|███       | 61/200 [02:36<05:51,  2.53s/it]"
          ]
        },
        {
          "output_type": "stream",
          "name": "stdout",
          "text": [
            "[INFO] EPOCH: 61/200\n",
            "Train loss: 0.342016, Train accuracy: 0.9486\n",
            "Val loss: 0.267104, Val accuracy: 0.8611\n"
          ]
        },
        {
          "output_type": "stream",
          "name": "stderr",
          "text": [
            "\r 31%|███       | 62/200 [02:38<05:44,  2.50s/it]"
          ]
        },
        {
          "output_type": "stream",
          "name": "stdout",
          "text": [
            "[INFO] EPOCH: 62/200\n",
            "Train loss: 0.266614, Train accuracy: 0.9384\n",
            "Val loss: 0.455757, Val accuracy: 0.8611\n"
          ]
        },
        {
          "output_type": "stream",
          "name": "stderr",
          "text": [
            "\r 32%|███▏      | 63/200 [02:41<05:39,  2.48s/it]"
          ]
        },
        {
          "output_type": "stream",
          "name": "stdout",
          "text": [
            "[INFO] EPOCH: 63/200\n",
            "Train loss: 0.253327, Train accuracy: 0.9486\n",
            "Val loss: 0.308781, Val accuracy: 0.8611\n"
          ]
        },
        {
          "output_type": "stream",
          "name": "stderr",
          "text": [
            "\r 32%|███▏      | 64/200 [02:43<05:34,  2.46s/it]"
          ]
        },
        {
          "output_type": "stream",
          "name": "stdout",
          "text": [
            "[INFO] EPOCH: 64/200\n",
            "Train loss: 0.344006, Train accuracy: 0.9384\n",
            "Val loss: 0.610342, Val accuracy: 0.8611\n"
          ]
        },
        {
          "output_type": "stream",
          "name": "stderr",
          "text": [
            "\r 32%|███▎      | 65/200 [02:45<05:31,  2.45s/it]"
          ]
        },
        {
          "output_type": "stream",
          "name": "stdout",
          "text": [
            "[INFO] EPOCH: 65/200\n",
            "Train loss: 0.294953, Train accuracy: 0.9486\n",
            "Val loss: 0.325060, Val accuracy: 0.8333\n"
          ]
        },
        {
          "output_type": "stream",
          "name": "stderr",
          "text": [
            "\r 33%|███▎      | 66/200 [02:48<05:28,  2.45s/it]"
          ]
        },
        {
          "output_type": "stream",
          "name": "stdout",
          "text": [
            "[INFO] EPOCH: 66/200\n",
            "Train loss: 0.360858, Train accuracy: 0.9281\n",
            "Val loss: 0.408956, Val accuracy: 0.8889\n"
          ]
        },
        {
          "output_type": "stream",
          "name": "stderr",
          "text": [
            "\r 34%|███▎      | 67/200 [02:50<05:26,  2.45s/it]"
          ]
        },
        {
          "output_type": "stream",
          "name": "stdout",
          "text": [
            "[INFO] EPOCH: 67/200\n",
            "Train loss: 0.421986, Train accuracy: 0.9178\n",
            "Val loss: 0.367394, Val accuracy: 0.8611\n"
          ]
        },
        {
          "output_type": "stream",
          "name": "stderr",
          "text": [
            "\r 34%|███▍      | 68/200 [02:53<05:22,  2.45s/it]"
          ]
        },
        {
          "output_type": "stream",
          "name": "stdout",
          "text": [
            "[INFO] EPOCH: 68/200\n",
            "Train loss: 0.313425, Train accuracy: 0.9315\n",
            "Val loss: 0.325131, Val accuracy: 0.8056\n"
          ]
        },
        {
          "output_type": "stream",
          "name": "stderr",
          "text": [
            "\r 34%|███▍      | 69/200 [02:55<05:19,  2.44s/it]"
          ]
        },
        {
          "output_type": "stream",
          "name": "stdout",
          "text": [
            "[INFO] EPOCH: 69/200\n",
            "Train loss: 0.285487, Train accuracy: 0.9555\n",
            "Val loss: 0.329154, Val accuracy: 0.8611\n"
          ]
        },
        {
          "output_type": "stream",
          "name": "stderr",
          "text": [
            "\r 35%|███▌      | 70/200 [02:58<05:17,  2.45s/it]"
          ]
        },
        {
          "output_type": "stream",
          "name": "stdout",
          "text": [
            "[INFO] EPOCH: 70/200\n",
            "Train loss: 0.271914, Train accuracy: 0.9418\n",
            "Val loss: 0.693116, Val accuracy: 0.8056\n"
          ]
        },
        {
          "output_type": "stream",
          "name": "stderr",
          "text": [
            "\r 36%|███▌      | 71/200 [03:00<05:13,  2.43s/it]"
          ]
        },
        {
          "output_type": "stream",
          "name": "stdout",
          "text": [
            "[INFO] EPOCH: 71/200\n",
            "Train loss: 0.260321, Train accuracy: 0.9486\n",
            "Val loss: 0.713040, Val accuracy: 0.8611\n"
          ]
        },
        {
          "output_type": "stream",
          "name": "stderr",
          "text": [
            "\r 36%|███▌      | 72/200 [03:02<05:08,  2.41s/it]"
          ]
        },
        {
          "output_type": "stream",
          "name": "stdout",
          "text": [
            "[INFO] EPOCH: 72/200\n",
            "Train loss: 0.235617, Train accuracy: 0.9418\n",
            "Val loss: 0.275980, Val accuracy: 0.8611\n"
          ]
        },
        {
          "output_type": "stream",
          "name": "stderr",
          "text": [
            "\r 36%|███▋      | 73/200 [03:05<05:05,  2.41s/it]"
          ]
        },
        {
          "output_type": "stream",
          "name": "stdout",
          "text": [
            "[INFO] EPOCH: 73/200\n",
            "Train loss: 0.216414, Train accuracy: 0.9555\n",
            "Val loss: 0.438446, Val accuracy: 0.8611\n"
          ]
        },
        {
          "output_type": "stream",
          "name": "stderr",
          "text": [
            "\r 37%|███▋      | 74/200 [03:07<05:01,  2.40s/it]"
          ]
        },
        {
          "output_type": "stream",
          "name": "stdout",
          "text": [
            "[INFO] EPOCH: 74/200\n",
            "Train loss: 0.298999, Train accuracy: 0.9486\n",
            "Val loss: 0.276724, Val accuracy: 0.8056\n"
          ]
        },
        {
          "output_type": "stream",
          "name": "stderr",
          "text": [
            "\r 38%|███▊      | 75/200 [03:10<04:59,  2.40s/it]"
          ]
        },
        {
          "output_type": "stream",
          "name": "stdout",
          "text": [
            "[INFO] EPOCH: 75/200\n",
            "Train loss: 0.194090, Train accuracy: 0.9623\n",
            "Val loss: 0.392480, Val accuracy: 0.8056\n",
            "tensor(0.2094, device='cuda:0')\n",
            "0.20942274\n"
          ]
        },
        {
          "output_type": "stream",
          "name": "stderr",
          "text": [
            "\r 38%|███▊      | 76/200 [03:12<05:07,  2.48s/it]"
          ]
        },
        {
          "output_type": "stream",
          "name": "stdout",
          "text": [
            "[INFO] EPOCH: 76/200\n",
            "Train loss: 0.228976, Train accuracy: 0.9726\n",
            "Val loss: 0.209423, Val accuracy: 0.8889\n"
          ]
        },
        {
          "output_type": "stream",
          "name": "stderr",
          "text": [
            "\r 38%|███▊      | 77/200 [03:15<05:02,  2.46s/it]"
          ]
        },
        {
          "output_type": "stream",
          "name": "stdout",
          "text": [
            "[INFO] EPOCH: 77/200\n",
            "Train loss: 0.690504, Train accuracy: 0.9452\n",
            "Val loss: 0.231927, Val accuracy: 0.8611\n"
          ]
        },
        {
          "output_type": "stream",
          "name": "stderr",
          "text": [
            "\r 39%|███▉      | 78/200 [03:17<04:57,  2.44s/it]"
          ]
        },
        {
          "output_type": "stream",
          "name": "stdout",
          "text": [
            "[INFO] EPOCH: 78/200\n",
            "Train loss: 0.426621, Train accuracy: 0.9144\n",
            "Val loss: 0.580063, Val accuracy: 0.6944\n"
          ]
        },
        {
          "output_type": "stream",
          "name": "stderr",
          "text": [
            "\r 40%|███▉      | 79/200 [03:20<04:52,  2.42s/it]"
          ]
        },
        {
          "output_type": "stream",
          "name": "stdout",
          "text": [
            "[INFO] EPOCH: 79/200\n",
            "Train loss: 0.434579, Train accuracy: 0.9144\n",
            "Val loss: 2.151749, Val accuracy: 0.8611\n"
          ]
        },
        {
          "output_type": "stream",
          "name": "stderr",
          "text": [
            "\r 40%|████      | 80/200 [03:22<04:49,  2.41s/it]"
          ]
        },
        {
          "output_type": "stream",
          "name": "stdout",
          "text": [
            "[INFO] EPOCH: 80/200\n",
            "Train loss: 0.321235, Train accuracy: 0.9110\n",
            "Val loss: 0.222576, Val accuracy: 0.9167\n"
          ]
        },
        {
          "output_type": "stream",
          "name": "stderr",
          "text": [
            "\r 40%|████      | 81/200 [03:24<04:46,  2.40s/it]"
          ]
        },
        {
          "output_type": "stream",
          "name": "stdout",
          "text": [
            "[INFO] EPOCH: 81/200\n",
            "Train loss: 0.321177, Train accuracy: 0.9418\n",
            "Val loss: 0.303959, Val accuracy: 0.7500\n"
          ]
        },
        {
          "output_type": "stream",
          "name": "stderr",
          "text": [
            "\r 41%|████      | 82/200 [03:27<04:42,  2.40s/it]"
          ]
        },
        {
          "output_type": "stream",
          "name": "stdout",
          "text": [
            "[INFO] EPOCH: 82/200\n",
            "Train loss: 0.244155, Train accuracy: 0.9486\n",
            "Val loss: 0.914750, Val accuracy: 0.8611\n"
          ]
        },
        {
          "output_type": "stream",
          "name": "stderr",
          "text": [
            "\r 42%|████▏     | 83/200 [03:29<04:40,  2.40s/it]"
          ]
        },
        {
          "output_type": "stream",
          "name": "stdout",
          "text": [
            "[INFO] EPOCH: 83/200\n",
            "Train loss: 0.273406, Train accuracy: 0.9521\n",
            "Val loss: 0.234876, Val accuracy: 0.8611\n"
          ]
        },
        {
          "output_type": "stream",
          "name": "stderr",
          "text": [
            "\r 42%|████▏     | 84/200 [03:31<04:38,  2.40s/it]"
          ]
        },
        {
          "output_type": "stream",
          "name": "stdout",
          "text": [
            "[INFO] EPOCH: 84/200\n",
            "Train loss: 0.212439, Train accuracy: 0.9486\n",
            "Val loss: 0.242698, Val accuracy: 0.8611\n",
            "tensor(0.1939, device='cuda:0')\n",
            "0.19392379\n"
          ]
        },
        {
          "output_type": "stream",
          "name": "stderr",
          "text": [
            "\r 42%|████▎     | 85/200 [03:34<04:45,  2.48s/it]"
          ]
        },
        {
          "output_type": "stream",
          "name": "stdout",
          "text": [
            "[INFO] EPOCH: 85/200\n",
            "Train loss: 0.191512, Train accuracy: 0.9589\n",
            "Val loss: 0.193924, Val accuracy: 0.8611\n"
          ]
        },
        {
          "output_type": "stream",
          "name": "stderr",
          "text": [
            "\r 43%|████▎     | 86/200 [03:37<04:39,  2.45s/it]"
          ]
        },
        {
          "output_type": "stream",
          "name": "stdout",
          "text": [
            "[INFO] EPOCH: 86/200\n",
            "Train loss: 0.213327, Train accuracy: 0.9555\n",
            "Val loss: 0.225345, Val accuracy: 0.8611\n",
            "tensor(0.1892, device='cuda:0')\n",
            "0.18919487\n"
          ]
        },
        {
          "output_type": "stream",
          "name": "stderr",
          "text": [
            "\r 44%|████▎     | 87/200 [03:39<04:44,  2.52s/it]"
          ]
        },
        {
          "output_type": "stream",
          "name": "stdout",
          "text": [
            "[INFO] EPOCH: 87/200\n",
            "Train loss: 0.153307, Train accuracy: 0.9863\n",
            "Val loss: 0.189195, Val accuracy: 0.8611\n"
          ]
        },
        {
          "output_type": "stream",
          "name": "stderr",
          "text": [
            "\r 44%|████▍     | 88/200 [03:42<04:37,  2.48s/it]"
          ]
        },
        {
          "output_type": "stream",
          "name": "stdout",
          "text": [
            "[INFO] EPOCH: 88/200\n",
            "Train loss: 0.142623, Train accuracy: 0.9726\n",
            "Val loss: 0.629781, Val accuracy: 0.8611\n",
            "tensor(0.1825, device='cuda:0')\n",
            "0.18245405\n"
          ]
        },
        {
          "output_type": "stream",
          "name": "stderr",
          "text": [
            "\r 44%|████▍     | 89/200 [03:45<04:50,  2.61s/it]"
          ]
        },
        {
          "output_type": "stream",
          "name": "stdout",
          "text": [
            "[INFO] EPOCH: 89/200\n",
            "Train loss: 0.246759, Train accuracy: 0.9658\n",
            "Val loss: 0.182454, Val accuracy: 0.8611\n",
            "tensor(0.1695, device='cuda:0')\n",
            "0.1695426\n"
          ]
        },
        {
          "output_type": "stream",
          "name": "stderr",
          "text": [
            "\r 45%|████▌     | 90/200 [03:47<04:49,  2.64s/it]"
          ]
        },
        {
          "output_type": "stream",
          "name": "stdout",
          "text": [
            "[INFO] EPOCH: 90/200\n",
            "Train loss: 0.296409, Train accuracy: 0.9658\n",
            "Val loss: 0.169543, Val accuracy: 0.8889\n"
          ]
        },
        {
          "output_type": "stream",
          "name": "stderr",
          "text": [
            "\r 46%|████▌     | 91/200 [03:50<04:40,  2.58s/it]"
          ]
        },
        {
          "output_type": "stream",
          "name": "stdout",
          "text": [
            "[INFO] EPOCH: 91/200\n",
            "Train loss: 0.272347, Train accuracy: 0.9589\n",
            "Val loss: 0.330587, Val accuracy: 0.8333\n"
          ]
        },
        {
          "output_type": "stream",
          "name": "stderr",
          "text": [
            "\r 46%|████▌     | 92/200 [03:52<04:33,  2.53s/it]"
          ]
        },
        {
          "output_type": "stream",
          "name": "stdout",
          "text": [
            "[INFO] EPOCH: 92/200\n",
            "Train loss: 0.293609, Train accuracy: 0.9178\n",
            "Val loss: 0.240389, Val accuracy: 0.8056\n",
            "tensor(0.1587, device='cuda:0')\n",
            "0.15874963\n"
          ]
        },
        {
          "output_type": "stream",
          "name": "stderr",
          "text": [
            "\r 46%|████▋     | 93/200 [03:55<04:36,  2.58s/it]"
          ]
        },
        {
          "output_type": "stream",
          "name": "stdout",
          "text": [
            "[INFO] EPOCH: 93/200\n",
            "Train loss: 0.179390, Train accuracy: 0.9692\n",
            "Val loss: 0.158750, Val accuracy: 0.8611\n"
          ]
        },
        {
          "output_type": "stream",
          "name": "stderr",
          "text": [
            "\r 47%|████▋     | 94/200 [03:57<04:28,  2.53s/it]"
          ]
        },
        {
          "output_type": "stream",
          "name": "stdout",
          "text": [
            "[INFO] EPOCH: 94/200\n",
            "Train loss: 0.166480, Train accuracy: 0.9555\n",
            "Val loss: 0.198393, Val accuracy: 0.8889\n"
          ]
        },
        {
          "output_type": "stream",
          "name": "stderr",
          "text": [
            "\r 48%|████▊     | 95/200 [04:00<04:21,  2.49s/it]"
          ]
        },
        {
          "output_type": "stream",
          "name": "stdout",
          "text": [
            "[INFO] EPOCH: 95/200\n",
            "Train loss: 0.198052, Train accuracy: 0.9692\n",
            "Val loss: 0.356854, Val accuracy: 0.8611\n"
          ]
        },
        {
          "output_type": "stream",
          "name": "stderr",
          "text": [
            "\r 48%|████▊     | 96/200 [04:02<04:16,  2.47s/it]"
          ]
        },
        {
          "output_type": "stream",
          "name": "stdout",
          "text": [
            "[INFO] EPOCH: 96/200\n",
            "Train loss: 0.250415, Train accuracy: 0.9658\n",
            "Val loss: 0.204785, Val accuracy: 0.8611\n"
          ]
        },
        {
          "output_type": "stream",
          "name": "stderr",
          "text": [
            "\r 48%|████▊     | 97/200 [04:04<04:11,  2.44s/it]"
          ]
        },
        {
          "output_type": "stream",
          "name": "stdout",
          "text": [
            "[INFO] EPOCH: 97/200\n",
            "Train loss: 0.184646, Train accuracy: 0.9692\n",
            "Val loss: 0.223634, Val accuracy: 0.8611\n"
          ]
        },
        {
          "output_type": "stream",
          "name": "stderr",
          "text": [
            "\r 49%|████▉     | 98/200 [04:07<04:07,  2.43s/it]"
          ]
        },
        {
          "output_type": "stream",
          "name": "stdout",
          "text": [
            "[INFO] EPOCH: 98/200\n",
            "Train loss: 0.190961, Train accuracy: 0.9521\n",
            "Val loss: 0.171104, Val accuracy: 0.8611\n"
          ]
        },
        {
          "output_type": "stream",
          "name": "stderr",
          "text": [
            "\r 50%|████▉     | 99/200 [04:09<04:04,  2.42s/it]"
          ]
        },
        {
          "output_type": "stream",
          "name": "stdout",
          "text": [
            "[INFO] EPOCH: 99/200\n",
            "Train loss: 0.129295, Train accuracy: 0.9726\n",
            "Val loss: 0.242897, Val accuracy: 0.8611\n"
          ]
        },
        {
          "output_type": "stream",
          "name": "stderr",
          "text": [
            "\r 50%|█████     | 100/200 [04:12<04:00,  2.41s/it]"
          ]
        },
        {
          "output_type": "stream",
          "name": "stdout",
          "text": [
            "[INFO] EPOCH: 100/200\n",
            "Train loss: 0.138348, Train accuracy: 0.9658\n",
            "Val loss: 0.181442, Val accuracy: 0.8611\n"
          ]
        },
        {
          "output_type": "stream",
          "name": "stderr",
          "text": [
            "\r 50%|█████     | 101/200 [04:14<03:57,  2.40s/it]"
          ]
        },
        {
          "output_type": "stream",
          "name": "stdout",
          "text": [
            "[INFO] EPOCH: 101/200\n",
            "Train loss: 0.132355, Train accuracy: 0.9692\n",
            "Val loss: 0.176396, Val accuracy: 0.8611\n"
          ]
        },
        {
          "output_type": "stream",
          "name": "stderr",
          "text": [
            "\r 51%|█████     | 102/200 [04:16<03:54,  2.39s/it]"
          ]
        },
        {
          "output_type": "stream",
          "name": "stdout",
          "text": [
            "[INFO] EPOCH: 102/200\n",
            "Train loss: 0.120407, Train accuracy: 0.9829\n",
            "Val loss: 0.180185, Val accuracy: 0.8611\n"
          ]
        },
        {
          "output_type": "stream",
          "name": "stderr",
          "text": [
            "\r 52%|█████▏    | 103/200 [04:19<03:51,  2.38s/it]"
          ]
        },
        {
          "output_type": "stream",
          "name": "stdout",
          "text": [
            "[INFO] EPOCH: 103/200\n",
            "Train loss: 0.136550, Train accuracy: 0.9863\n",
            "Val loss: 0.276344, Val accuracy: 0.8611\n"
          ]
        },
        {
          "output_type": "stream",
          "name": "stderr",
          "text": [
            "\r 52%|█████▏    | 104/200 [04:21<03:48,  2.38s/it]"
          ]
        },
        {
          "output_type": "stream",
          "name": "stdout",
          "text": [
            "[INFO] EPOCH: 104/200\n",
            "Train loss: 0.134155, Train accuracy: 0.9726\n",
            "Val loss: 0.522175, Val accuracy: 0.8611\n",
            "tensor(0.1464, device='cuda:0')\n",
            "0.14636914\n"
          ]
        },
        {
          "output_type": "stream",
          "name": "stderr",
          "text": [
            "\r 52%|█████▎    | 105/200 [04:24<03:54,  2.47s/it]"
          ]
        },
        {
          "output_type": "stream",
          "name": "stdout",
          "text": [
            "[INFO] EPOCH: 105/200\n",
            "Train loss: 0.127622, Train accuracy: 0.9760\n",
            "Val loss: 0.146369, Val accuracy: 0.8611\n"
          ]
        },
        {
          "output_type": "stream",
          "name": "stderr",
          "text": [
            "\r 53%|█████▎    | 106/200 [04:26<03:50,  2.45s/it]"
          ]
        },
        {
          "output_type": "stream",
          "name": "stdout",
          "text": [
            "[INFO] EPOCH: 106/200\n",
            "Train loss: 0.104101, Train accuracy: 0.9863\n",
            "Val loss: 2.534487, Val accuracy: 0.8611\n"
          ]
        },
        {
          "output_type": "stream",
          "name": "stderr",
          "text": [
            "\r 54%|█████▎    | 107/200 [04:29<03:46,  2.44s/it]"
          ]
        },
        {
          "output_type": "stream",
          "name": "stdout",
          "text": [
            "[INFO] EPOCH: 107/200\n",
            "Train loss: 0.179180, Train accuracy: 0.9692\n",
            "Val loss: 0.233901, Val accuracy: 0.8611\n"
          ]
        },
        {
          "output_type": "stream",
          "name": "stderr",
          "text": [
            "\r 54%|█████▍    | 108/200 [04:31<03:42,  2.42s/it]"
          ]
        },
        {
          "output_type": "stream",
          "name": "stdout",
          "text": [
            "[INFO] EPOCH: 108/200\n",
            "Train loss: 0.143179, Train accuracy: 0.9692\n",
            "Val loss: 0.171797, Val accuracy: 0.8611\n"
          ]
        },
        {
          "output_type": "stream",
          "name": "stderr",
          "text": [
            "\r 55%|█████▍    | 109/200 [04:33<03:39,  2.42s/it]"
          ]
        },
        {
          "output_type": "stream",
          "name": "stdout",
          "text": [
            "[INFO] EPOCH: 109/200\n",
            "Train loss: 0.194988, Train accuracy: 0.9760\n",
            "Val loss: 0.152159, Val accuracy: 0.8611\n"
          ]
        },
        {
          "output_type": "stream",
          "name": "stderr",
          "text": [
            "\r 55%|█████▌    | 110/200 [04:36<03:36,  2.41s/it]"
          ]
        },
        {
          "output_type": "stream",
          "name": "stdout",
          "text": [
            "[INFO] EPOCH: 110/200\n",
            "Train loss: 0.183538, Train accuracy: 0.9452\n",
            "Val loss: 0.199702, Val accuracy: 0.8333\n"
          ]
        },
        {
          "output_type": "stream",
          "name": "stderr",
          "text": [
            "\r 56%|█████▌    | 111/200 [04:38<03:33,  2.40s/it]"
          ]
        },
        {
          "output_type": "stream",
          "name": "stdout",
          "text": [
            "[INFO] EPOCH: 111/200\n",
            "Train loss: 0.186541, Train accuracy: 0.9623\n",
            "Val loss: 0.204986, Val accuracy: 0.8611\n"
          ]
        },
        {
          "output_type": "stream",
          "name": "stderr",
          "text": [
            "\r 56%|█████▌    | 112/200 [04:40<03:31,  2.40s/it]"
          ]
        },
        {
          "output_type": "stream",
          "name": "stdout",
          "text": [
            "[INFO] EPOCH: 112/200\n",
            "Train loss: 0.173957, Train accuracy: 0.9760\n",
            "Val loss: 0.239565, Val accuracy: 0.8611\n"
          ]
        },
        {
          "output_type": "stream",
          "name": "stderr",
          "text": [
            "\r 56%|█████▋    | 113/200 [04:43<03:28,  2.40s/it]"
          ]
        },
        {
          "output_type": "stream",
          "name": "stdout",
          "text": [
            "[INFO] EPOCH: 113/200\n",
            "Train loss: 0.170998, Train accuracy: 0.9726\n",
            "Val loss: 0.258359, Val accuracy: 0.8611\n"
          ]
        },
        {
          "output_type": "stream",
          "name": "stderr",
          "text": [
            "\r 57%|█████▋    | 114/200 [04:45<03:25,  2.39s/it]"
          ]
        },
        {
          "output_type": "stream",
          "name": "stdout",
          "text": [
            "[INFO] EPOCH: 114/200\n",
            "Train loss: 0.175597, Train accuracy: 0.9623\n",
            "Val loss: 0.241729, Val accuracy: 0.8333\n"
          ]
        },
        {
          "output_type": "stream",
          "name": "stderr",
          "text": [
            "\r 57%|█████▊    | 115/200 [04:48<03:23,  2.39s/it]"
          ]
        },
        {
          "output_type": "stream",
          "name": "stdout",
          "text": [
            "[INFO] EPOCH: 115/200\n",
            "Train loss: 0.274159, Train accuracy: 0.9623\n",
            "Val loss: 0.176149, Val accuracy: 0.8889\n"
          ]
        },
        {
          "output_type": "stream",
          "name": "stderr",
          "text": [
            "\r 58%|█████▊    | 116/200 [04:50<03:20,  2.39s/it]"
          ]
        },
        {
          "output_type": "stream",
          "name": "stdout",
          "text": [
            "[INFO] EPOCH: 116/200\n",
            "Train loss: 0.139896, Train accuracy: 0.9795\n",
            "Val loss: 0.247265, Val accuracy: 0.8611\n"
          ]
        },
        {
          "output_type": "stream",
          "name": "stderr",
          "text": [
            "\r 58%|█████▊    | 117/200 [04:52<03:18,  2.39s/it]"
          ]
        },
        {
          "output_type": "stream",
          "name": "stdout",
          "text": [
            "[INFO] EPOCH: 117/200\n",
            "Train loss: 0.175407, Train accuracy: 0.9589\n",
            "Val loss: 0.172853, Val accuracy: 0.8611\n"
          ]
        },
        {
          "output_type": "stream",
          "name": "stderr",
          "text": [
            "\r 59%|█████▉    | 118/200 [04:55<03:15,  2.39s/it]"
          ]
        },
        {
          "output_type": "stream",
          "name": "stdout",
          "text": [
            "[INFO] EPOCH: 118/200\n",
            "Train loss: 0.149530, Train accuracy: 0.9795\n",
            "Val loss: 0.178074, Val accuracy: 0.8333\n"
          ]
        },
        {
          "output_type": "stream",
          "name": "stderr",
          "text": [
            "\r 60%|█████▉    | 119/200 [04:57<03:13,  2.39s/it]"
          ]
        },
        {
          "output_type": "stream",
          "name": "stdout",
          "text": [
            "[INFO] EPOCH: 119/200\n",
            "Train loss: 0.119776, Train accuracy: 0.9795\n",
            "Val loss: 0.251110, Val accuracy: 0.8611\n"
          ]
        },
        {
          "output_type": "stream",
          "name": "stderr",
          "text": [
            "\r 60%|██████    | 120/200 [05:00<03:10,  2.39s/it]"
          ]
        },
        {
          "output_type": "stream",
          "name": "stdout",
          "text": [
            "[INFO] EPOCH: 120/200\n",
            "Train loss: 0.188339, Train accuracy: 0.9760\n",
            "Val loss: 0.394321, Val accuracy: 0.8611\n"
          ]
        },
        {
          "output_type": "stream",
          "name": "stderr",
          "text": [
            "\r 60%|██████    | 121/200 [05:02<03:08,  2.39s/it]"
          ]
        },
        {
          "output_type": "stream",
          "name": "stdout",
          "text": [
            "[INFO] EPOCH: 121/200\n",
            "Train loss: 0.229106, Train accuracy: 0.9658\n",
            "Val loss: 0.306709, Val accuracy: 0.8056\n"
          ]
        },
        {
          "output_type": "stream",
          "name": "stderr",
          "text": [
            "\r 61%|██████    | 122/200 [05:04<03:06,  2.39s/it]"
          ]
        },
        {
          "output_type": "stream",
          "name": "stdout",
          "text": [
            "[INFO] EPOCH: 122/200\n",
            "Train loss: 0.167860, Train accuracy: 0.9658\n",
            "Val loss: 0.215639, Val accuracy: 0.8611\n"
          ]
        },
        {
          "output_type": "stream",
          "name": "stderr",
          "text": [
            "\r 62%|██████▏   | 123/200 [05:07<03:03,  2.39s/it]"
          ]
        },
        {
          "output_type": "stream",
          "name": "stdout",
          "text": [
            "[INFO] EPOCH: 123/200\n",
            "Train loss: 0.115481, Train accuracy: 0.9692\n",
            "Val loss: 0.178356, Val accuracy: 0.8611\n"
          ]
        },
        {
          "output_type": "stream",
          "name": "stderr",
          "text": [
            "\r 62%|██████▏   | 124/200 [05:09<03:00,  2.38s/it]"
          ]
        },
        {
          "output_type": "stream",
          "name": "stdout",
          "text": [
            "[INFO] EPOCH: 124/200\n",
            "Train loss: 0.129894, Train accuracy: 0.9760\n",
            "Val loss: 3.303568, Val accuracy: 0.8611\n"
          ]
        },
        {
          "output_type": "stream",
          "name": "stderr",
          "text": [
            "\r 62%|██████▎   | 125/200 [05:11<02:58,  2.38s/it]"
          ]
        },
        {
          "output_type": "stream",
          "name": "stdout",
          "text": [
            "[INFO] EPOCH: 125/200\n",
            "Train loss: 0.086671, Train accuracy: 0.9932\n",
            "Val loss: 0.443352, Val accuracy: 0.8611\n"
          ]
        },
        {
          "output_type": "stream",
          "name": "stderr",
          "text": [
            "\r 63%|██████▎   | 126/200 [05:14<02:55,  2.38s/it]"
          ]
        },
        {
          "output_type": "stream",
          "name": "stdout",
          "text": [
            "[INFO] EPOCH: 126/200\n",
            "Train loss: 0.152155, Train accuracy: 0.9897\n",
            "Val loss: 0.597387, Val accuracy: 0.8611\n"
          ]
        },
        {
          "output_type": "stream",
          "name": "stderr",
          "text": [
            "\r 64%|██████▎   | 127/200 [05:16<02:53,  2.37s/it]"
          ]
        },
        {
          "output_type": "stream",
          "name": "stdout",
          "text": [
            "[INFO] EPOCH: 127/200\n",
            "Train loss: 0.113270, Train accuracy: 0.9760\n",
            "Val loss: 0.267646, Val accuracy: 0.8056\n"
          ]
        },
        {
          "output_type": "stream",
          "name": "stderr",
          "text": [
            "\r 64%|██████▍   | 128/200 [05:19<02:50,  2.37s/it]"
          ]
        },
        {
          "output_type": "stream",
          "name": "stdout",
          "text": [
            "[INFO] EPOCH: 128/200\n",
            "Train loss: 0.113173, Train accuracy: 0.9795\n",
            "Val loss: 1.933206, Val accuracy: 0.8889\n",
            "tensor(0.1217, device='cuda:0')\n",
            "0.121744394\n"
          ]
        },
        {
          "output_type": "stream",
          "name": "stderr",
          "text": [
            "\r 64%|██████▍   | 129/200 [05:21<02:53,  2.45s/it]"
          ]
        },
        {
          "output_type": "stream",
          "name": "stdout",
          "text": [
            "[INFO] EPOCH: 129/200\n",
            "Train loss: 0.112626, Train accuracy: 0.9829\n",
            "Val loss: 0.121744, Val accuracy: 0.8611\n"
          ]
        },
        {
          "output_type": "stream",
          "name": "stderr",
          "text": [
            "\r 65%|██████▌   | 130/200 [05:24<02:50,  2.43s/it]"
          ]
        },
        {
          "output_type": "stream",
          "name": "stdout",
          "text": [
            "[INFO] EPOCH: 130/200\n",
            "Train loss: 0.096584, Train accuracy: 0.9829\n",
            "Val loss: 0.794282, Val accuracy: 0.8611\n"
          ]
        },
        {
          "output_type": "stream",
          "name": "stderr",
          "text": [
            "\r 66%|██████▌   | 131/200 [05:26<02:46,  2.41s/it]"
          ]
        },
        {
          "output_type": "stream",
          "name": "stdout",
          "text": [
            "[INFO] EPOCH: 131/200\n",
            "Train loss: 0.191406, Train accuracy: 0.9760\n",
            "Val loss: 0.203020, Val accuracy: 0.8611\n"
          ]
        },
        {
          "output_type": "stream",
          "name": "stderr",
          "text": [
            "\r 66%|██████▌   | 132/200 [05:28<02:43,  2.40s/it]"
          ]
        },
        {
          "output_type": "stream",
          "name": "stdout",
          "text": [
            "[INFO] EPOCH: 132/200\n",
            "Train loss: 0.230003, Train accuracy: 0.9623\n",
            "Val loss: 0.235220, Val accuracy: 0.8611\n",
            "tensor(0.0939, device='cuda:0')\n",
            "0.093867056\n"
          ]
        },
        {
          "output_type": "stream",
          "name": "stderr",
          "text": [
            "\r 66%|██████▋   | 133/200 [05:31<02:46,  2.48s/it]"
          ]
        },
        {
          "output_type": "stream",
          "name": "stdout",
          "text": [
            "[INFO] EPOCH: 133/200\n",
            "Train loss: 0.123974, Train accuracy: 0.9795\n",
            "Val loss: 0.093867, Val accuracy: 0.9167\n"
          ]
        },
        {
          "output_type": "stream",
          "name": "stderr",
          "text": [
            "\r 67%|██████▋   | 134/200 [05:33<02:42,  2.46s/it]"
          ]
        },
        {
          "output_type": "stream",
          "name": "stdout",
          "text": [
            "[INFO] EPOCH: 134/200\n",
            "Train loss: 0.243518, Train accuracy: 0.9658\n",
            "Val loss: 0.481670, Val accuracy: 0.8333\n"
          ]
        },
        {
          "output_type": "stream",
          "name": "stderr",
          "text": [
            "\r 68%|██████▊   | 135/200 [05:36<02:38,  2.44s/it]"
          ]
        },
        {
          "output_type": "stream",
          "name": "stdout",
          "text": [
            "[INFO] EPOCH: 135/200\n",
            "Train loss: 0.123464, Train accuracy: 0.9863\n",
            "Val loss: 0.446763, Val accuracy: 0.8611\n"
          ]
        },
        {
          "output_type": "stream",
          "name": "stderr",
          "text": [
            "\r 68%|██████▊   | 136/200 [05:38<02:34,  2.41s/it]"
          ]
        },
        {
          "output_type": "stream",
          "name": "stdout",
          "text": [
            "[INFO] EPOCH: 136/200\n",
            "Train loss: 0.152802, Train accuracy: 0.9795\n",
            "Val loss: 0.121650, Val accuracy: 0.9167\n"
          ]
        },
        {
          "output_type": "stream",
          "name": "stderr",
          "text": [
            "\r 68%|██████▊   | 137/200 [05:41<02:31,  2.41s/it]"
          ]
        },
        {
          "output_type": "stream",
          "name": "stdout",
          "text": [
            "[INFO] EPOCH: 137/200\n",
            "Train loss: 0.099775, Train accuracy: 0.9760\n",
            "Val loss: 0.161552, Val accuracy: 0.8611\n"
          ]
        },
        {
          "output_type": "stream",
          "name": "stderr",
          "text": [
            "\r 69%|██████▉   | 138/200 [05:43<02:28,  2.39s/it]"
          ]
        },
        {
          "output_type": "stream",
          "name": "stdout",
          "text": [
            "[INFO] EPOCH: 138/200\n",
            "Train loss: 0.110704, Train accuracy: 0.9760\n",
            "Val loss: 0.275443, Val accuracy: 0.8611\n"
          ]
        },
        {
          "output_type": "stream",
          "name": "stderr",
          "text": [
            "\r 70%|██████▉   | 139/200 [05:45<02:25,  2.39s/it]"
          ]
        },
        {
          "output_type": "stream",
          "name": "stdout",
          "text": [
            "[INFO] EPOCH: 139/200\n",
            "Train loss: 0.148450, Train accuracy: 0.9726\n",
            "Val loss: 0.255714, Val accuracy: 0.8611\n"
          ]
        },
        {
          "output_type": "stream",
          "name": "stderr",
          "text": [
            "\r 70%|███████   | 140/200 [05:48<02:22,  2.38s/it]"
          ]
        },
        {
          "output_type": "stream",
          "name": "stdout",
          "text": [
            "[INFO] EPOCH: 140/200\n",
            "Train loss: 0.070467, Train accuracy: 1.0000\n",
            "Val loss: 0.187567, Val accuracy: 0.8333\n"
          ]
        },
        {
          "output_type": "stream",
          "name": "stderr",
          "text": [
            "\r 70%|███████   | 141/200 [05:50<02:20,  2.38s/it]"
          ]
        },
        {
          "output_type": "stream",
          "name": "stdout",
          "text": [
            "[INFO] EPOCH: 141/200\n",
            "Train loss: 0.145747, Train accuracy: 0.9692\n",
            "Val loss: 0.188224, Val accuracy: 0.8611\n"
          ]
        },
        {
          "output_type": "stream",
          "name": "stderr",
          "text": [
            "\r 71%|███████   | 142/200 [05:52<02:17,  2.38s/it]"
          ]
        },
        {
          "output_type": "stream",
          "name": "stdout",
          "text": [
            "[INFO] EPOCH: 142/200\n",
            "Train loss: 0.119554, Train accuracy: 0.9863\n",
            "Val loss: 0.146661, Val accuracy: 0.8611\n"
          ]
        },
        {
          "output_type": "stream",
          "name": "stderr",
          "text": [
            "\r 72%|███████▏  | 143/200 [05:55<02:15,  2.38s/it]"
          ]
        },
        {
          "output_type": "stream",
          "name": "stdout",
          "text": [
            "[INFO] EPOCH: 143/200\n",
            "Train loss: 0.107457, Train accuracy: 0.9726\n",
            "Val loss: 0.165731, Val accuracy: 0.8611\n"
          ]
        },
        {
          "output_type": "stream",
          "name": "stderr",
          "text": [
            "\r 72%|███████▏  | 144/200 [05:57<02:13,  2.38s/it]"
          ]
        },
        {
          "output_type": "stream",
          "name": "stdout",
          "text": [
            "[INFO] EPOCH: 144/200\n",
            "Train loss: 0.125278, Train accuracy: 0.9726\n",
            "Val loss: 0.137200, Val accuracy: 0.8333\n"
          ]
        },
        {
          "output_type": "stream",
          "name": "stderr",
          "text": [
            "\r 72%|███████▎  | 145/200 [06:00<02:10,  2.38s/it]"
          ]
        },
        {
          "output_type": "stream",
          "name": "stdout",
          "text": [
            "[INFO] EPOCH: 145/200\n",
            "Train loss: 0.083007, Train accuracy: 0.9897\n",
            "Val loss: 0.264913, Val accuracy: 0.8889\n"
          ]
        },
        {
          "output_type": "stream",
          "name": "stderr",
          "text": [
            "\r 73%|███████▎  | 146/200 [06:02<02:07,  2.37s/it]"
          ]
        },
        {
          "output_type": "stream",
          "name": "stdout",
          "text": [
            "[INFO] EPOCH: 146/200\n",
            "Train loss: 0.189161, Train accuracy: 0.9795\n",
            "Val loss: 0.133749, Val accuracy: 0.8611\n"
          ]
        },
        {
          "output_type": "stream",
          "name": "stderr",
          "text": [
            "\r 74%|███████▎  | 147/200 [06:04<02:05,  2.37s/it]"
          ]
        },
        {
          "output_type": "stream",
          "name": "stdout",
          "text": [
            "[INFO] EPOCH: 147/200\n",
            "Train loss: 0.091768, Train accuracy: 0.9829\n",
            "Val loss: 0.158910, Val accuracy: 0.8889\n"
          ]
        },
        {
          "output_type": "stream",
          "name": "stderr",
          "text": [
            "\r 74%|███████▍  | 148/200 [06:07<02:03,  2.37s/it]"
          ]
        },
        {
          "output_type": "stream",
          "name": "stdout",
          "text": [
            "[INFO] EPOCH: 148/200\n",
            "Train loss: 0.149017, Train accuracy: 0.9589\n",
            "Val loss: 0.128584, Val accuracy: 0.8889\n"
          ]
        },
        {
          "output_type": "stream",
          "name": "stderr",
          "text": [
            "\r 74%|███████▍  | 149/200 [06:09<02:01,  2.37s/it]"
          ]
        },
        {
          "output_type": "stream",
          "name": "stdout",
          "text": [
            "[INFO] EPOCH: 149/200\n",
            "Train loss: 0.086050, Train accuracy: 0.9863\n",
            "Val loss: 2.176519, Val accuracy: 0.8611\n"
          ]
        },
        {
          "output_type": "stream",
          "name": "stderr",
          "text": [
            "\r 75%|███████▌  | 150/200 [06:11<01:58,  2.37s/it]"
          ]
        },
        {
          "output_type": "stream",
          "name": "stdout",
          "text": [
            "[INFO] EPOCH: 150/200\n",
            "Train loss: 0.096240, Train accuracy: 0.9760\n",
            "Val loss: 0.219477, Val accuracy: 0.8611\n"
          ]
        },
        {
          "output_type": "stream",
          "name": "stderr",
          "text": [
            "\r 76%|███████▌  | 151/200 [06:14<01:56,  2.38s/it]"
          ]
        },
        {
          "output_type": "stream",
          "name": "stdout",
          "text": [
            "[INFO] EPOCH: 151/200\n",
            "Train loss: 0.098604, Train accuracy: 0.9795\n",
            "Val loss: 3.096196, Val accuracy: 0.8333\n",
            "tensor(0.0896, device='cuda:0')\n",
            "0.08958736\n"
          ]
        },
        {
          "output_type": "stream",
          "name": "stderr",
          "text": [
            "\r 76%|███████▌  | 152/200 [06:16<01:58,  2.46s/it]"
          ]
        },
        {
          "output_type": "stream",
          "name": "stdout",
          "text": [
            "[INFO] EPOCH: 152/200\n",
            "Train loss: 0.210583, Train accuracy: 0.9829\n",
            "Val loss: 0.089587, Val accuracy: 0.8889\n"
          ]
        },
        {
          "output_type": "stream",
          "name": "stderr",
          "text": [
            "\r 76%|███████▋  | 153/200 [06:19<01:54,  2.43s/it]"
          ]
        },
        {
          "output_type": "stream",
          "name": "stdout",
          "text": [
            "[INFO] EPOCH: 153/200\n",
            "Train loss: 0.085480, Train accuracy: 0.9863\n",
            "Val loss: 0.325551, Val accuracy: 0.8611\n"
          ]
        },
        {
          "output_type": "stream",
          "name": "stderr",
          "text": [
            "\r 77%|███████▋  | 154/200 [06:21<01:50,  2.41s/it]"
          ]
        },
        {
          "output_type": "stream",
          "name": "stdout",
          "text": [
            "[INFO] EPOCH: 154/200\n",
            "Train loss: 0.120216, Train accuracy: 0.9658\n",
            "Val loss: 0.211157, Val accuracy: 0.8611\n"
          ]
        },
        {
          "output_type": "stream",
          "name": "stderr",
          "text": [
            "\r 78%|███████▊  | 155/200 [06:24<01:47,  2.39s/it]"
          ]
        },
        {
          "output_type": "stream",
          "name": "stdout",
          "text": [
            "[INFO] EPOCH: 155/200\n",
            "Train loss: 0.074628, Train accuracy: 0.9897\n",
            "Val loss: 0.159046, Val accuracy: 0.8611\n"
          ]
        },
        {
          "output_type": "stream",
          "name": "stderr",
          "text": [
            "\r 78%|███████▊  | 156/200 [06:26<01:44,  2.38s/it]"
          ]
        },
        {
          "output_type": "stream",
          "name": "stdout",
          "text": [
            "[INFO] EPOCH: 156/200\n",
            "Train loss: 0.091049, Train accuracy: 0.9897\n",
            "Val loss: 0.134207, Val accuracy: 0.8611\n"
          ]
        },
        {
          "output_type": "stream",
          "name": "stderr",
          "text": [
            "\r 78%|███████▊  | 157/200 [06:28<01:42,  2.38s/it]"
          ]
        },
        {
          "output_type": "stream",
          "name": "stdout",
          "text": [
            "[INFO] EPOCH: 157/200\n",
            "Train loss: 0.183172, Train accuracy: 0.9589\n",
            "Val loss: 0.154105, Val accuracy: 0.8611\n"
          ]
        },
        {
          "output_type": "stream",
          "name": "stderr",
          "text": [
            "\r 79%|███████▉  | 158/200 [06:31<01:39,  2.38s/it]"
          ]
        },
        {
          "output_type": "stream",
          "name": "stdout",
          "text": [
            "[INFO] EPOCH: 158/200\n",
            "Train loss: 0.128546, Train accuracy: 0.9623\n",
            "Val loss: 0.712889, Val accuracy: 0.8611\n"
          ]
        },
        {
          "output_type": "stream",
          "name": "stderr",
          "text": [
            "\r 80%|███████▉  | 159/200 [06:33<01:36,  2.36s/it]"
          ]
        },
        {
          "output_type": "stream",
          "name": "stdout",
          "text": [
            "[INFO] EPOCH: 159/200\n",
            "Train loss: 0.115288, Train accuracy: 0.9692\n",
            "Val loss: 0.154054, Val accuracy: 0.8611\n"
          ]
        },
        {
          "output_type": "stream",
          "name": "stderr",
          "text": [
            "\r 80%|████████  | 160/200 [06:35<01:34,  2.36s/it]"
          ]
        },
        {
          "output_type": "stream",
          "name": "stdout",
          "text": [
            "[INFO] EPOCH: 160/200\n",
            "Train loss: 0.061630, Train accuracy: 0.9897\n",
            "Val loss: 0.142207, Val accuracy: 0.8333\n"
          ]
        },
        {
          "output_type": "stream",
          "name": "stderr",
          "text": [
            "\r 80%|████████  | 161/200 [06:38<01:31,  2.36s/it]"
          ]
        },
        {
          "output_type": "stream",
          "name": "stdout",
          "text": [
            "[INFO] EPOCH: 161/200\n",
            "Train loss: 0.158223, Train accuracy: 0.9897\n",
            "Val loss: 2.325281, Val accuracy: 0.8611\n"
          ]
        },
        {
          "output_type": "stream",
          "name": "stderr",
          "text": [
            "\r 81%|████████  | 162/200 [06:40<01:29,  2.35s/it]"
          ]
        },
        {
          "output_type": "stream",
          "name": "stdout",
          "text": [
            "[INFO] EPOCH: 162/200\n",
            "Train loss: 0.161697, Train accuracy: 0.9829\n",
            "Val loss: 0.167182, Val accuracy: 0.8611\n"
          ]
        },
        {
          "output_type": "stream",
          "name": "stderr",
          "text": [
            "\r 82%|████████▏ | 163/200 [06:42<01:26,  2.35s/it]"
          ]
        },
        {
          "output_type": "stream",
          "name": "stdout",
          "text": [
            "[INFO] EPOCH: 163/200\n",
            "Train loss: 0.070049, Train accuracy: 0.9897\n",
            "Val loss: 0.193423, Val accuracy: 0.8333\n"
          ]
        },
        {
          "output_type": "stream",
          "name": "stderr",
          "text": [
            "\r 82%|████████▏ | 164/200 [06:45<01:24,  2.35s/it]"
          ]
        },
        {
          "output_type": "stream",
          "name": "stdout",
          "text": [
            "[INFO] EPOCH: 164/200\n",
            "Train loss: 0.134152, Train accuracy: 0.9795\n",
            "Val loss: 0.162267, Val accuracy: 0.8333\n",
            "tensor(0.0690, device='cuda:0')\n",
            "0.06902153\n"
          ]
        },
        {
          "output_type": "stream",
          "name": "stderr",
          "text": [
            "\r 82%|████████▎ | 165/200 [06:47<01:25,  2.45s/it]"
          ]
        },
        {
          "output_type": "stream",
          "name": "stdout",
          "text": [
            "[INFO] EPOCH: 165/200\n",
            "Train loss: 0.085883, Train accuracy: 0.9863\n",
            "Val loss: 0.069022, Val accuracy: 0.9167\n"
          ]
        },
        {
          "output_type": "stream",
          "name": "stderr",
          "text": [
            "\r 83%|████████▎ | 166/200 [06:50<01:22,  2.43s/it]"
          ]
        },
        {
          "output_type": "stream",
          "name": "stdout",
          "text": [
            "[INFO] EPOCH: 166/200\n",
            "Train loss: 0.122316, Train accuracy: 0.9760\n",
            "Val loss: 0.085401, Val accuracy: 0.8889\n"
          ]
        },
        {
          "output_type": "stream",
          "name": "stderr",
          "text": [
            "\r 84%|████████▎ | 167/200 [06:52<01:19,  2.41s/it]"
          ]
        },
        {
          "output_type": "stream",
          "name": "stdout",
          "text": [
            "[INFO] EPOCH: 167/200\n",
            "Train loss: 0.232656, Train accuracy: 0.9692\n",
            "Val loss: 0.231667, Val accuracy: 0.8611\n"
          ]
        },
        {
          "output_type": "stream",
          "name": "stderr",
          "text": [
            "\r 84%|████████▍ | 168/200 [06:54<01:16,  2.40s/it]"
          ]
        },
        {
          "output_type": "stream",
          "name": "stdout",
          "text": [
            "[INFO] EPOCH: 168/200\n",
            "Train loss: 0.233979, Train accuracy: 0.9760\n",
            "Val loss: 1.087008, Val accuracy: 0.8889\n"
          ]
        },
        {
          "output_type": "stream",
          "name": "stderr",
          "text": [
            "\r 84%|████████▍ | 169/200 [06:57<01:14,  2.39s/it]"
          ]
        },
        {
          "output_type": "stream",
          "name": "stdout",
          "text": [
            "[INFO] EPOCH: 169/200\n",
            "Train loss: 0.225637, Train accuracy: 0.9829\n",
            "Val loss: 1.074300, Val accuracy: 0.8889\n"
          ]
        },
        {
          "output_type": "stream",
          "name": "stderr",
          "text": [
            "\r 85%|████████▌ | 170/200 [06:59<01:11,  2.38s/it]"
          ]
        },
        {
          "output_type": "stream",
          "name": "stdout",
          "text": [
            "[INFO] EPOCH: 170/200\n",
            "Train loss: 0.137321, Train accuracy: 0.9726\n",
            "Val loss: 0.188961, Val accuracy: 0.8611\n"
          ]
        },
        {
          "output_type": "stream",
          "name": "stderr",
          "text": [
            "\r 86%|████████▌ | 171/200 [07:02<01:09,  2.38s/it]"
          ]
        },
        {
          "output_type": "stream",
          "name": "stdout",
          "text": [
            "[INFO] EPOCH: 171/200\n",
            "Train loss: 0.097112, Train accuracy: 0.9932\n",
            "Val loss: 0.419194, Val accuracy: 0.8889\n"
          ]
        },
        {
          "output_type": "stream",
          "name": "stderr",
          "text": [
            "\r 86%|████████▌ | 172/200 [07:04<01:06,  2.37s/it]"
          ]
        },
        {
          "output_type": "stream",
          "name": "stdout",
          "text": [
            "[INFO] EPOCH: 172/200\n",
            "Train loss: 0.249380, Train accuracy: 0.9795\n",
            "Val loss: 0.359599, Val accuracy: 0.8889\n"
          ]
        },
        {
          "output_type": "stream",
          "name": "stderr",
          "text": [
            "\r 86%|████████▋ | 173/200 [07:06<01:04,  2.37s/it]"
          ]
        },
        {
          "output_type": "stream",
          "name": "stdout",
          "text": [
            "[INFO] EPOCH: 173/200\n",
            "Train loss: 0.271750, Train accuracy: 0.9384\n",
            "Val loss: 0.328448, Val accuracy: 0.7778\n"
          ]
        },
        {
          "output_type": "stream",
          "name": "stderr",
          "text": [
            "\r 87%|████████▋ | 174/200 [07:09<01:01,  2.37s/it]"
          ]
        },
        {
          "output_type": "stream",
          "name": "stdout",
          "text": [
            "[INFO] EPOCH: 174/200\n",
            "Train loss: 0.225425, Train accuracy: 0.9623\n",
            "Val loss: 0.249112, Val accuracy: 0.8333\n"
          ]
        },
        {
          "output_type": "stream",
          "name": "stderr",
          "text": [
            "\r 88%|████████▊ | 175/200 [07:11<00:59,  2.37s/it]"
          ]
        },
        {
          "output_type": "stream",
          "name": "stdout",
          "text": [
            "[INFO] EPOCH: 175/200\n",
            "Train loss: 0.126978, Train accuracy: 0.9623\n",
            "Val loss: 0.159505, Val accuracy: 0.8611\n"
          ]
        },
        {
          "output_type": "stream",
          "name": "stderr",
          "text": [
            "\r 88%|████████▊ | 176/200 [07:13<00:56,  2.37s/it]"
          ]
        },
        {
          "output_type": "stream",
          "name": "stdout",
          "text": [
            "[INFO] EPOCH: 176/200\n",
            "Train loss: 0.121596, Train accuracy: 0.9760\n",
            "Val loss: 0.304627, Val accuracy: 0.8611\n"
          ]
        },
        {
          "output_type": "stream",
          "name": "stderr",
          "text": [
            "\r 88%|████████▊ | 177/200 [07:16<00:54,  2.38s/it]"
          ]
        },
        {
          "output_type": "stream",
          "name": "stdout",
          "text": [
            "[INFO] EPOCH: 177/200\n",
            "Train loss: 0.081821, Train accuracy: 0.9897\n",
            "Val loss: 0.141322, Val accuracy: 0.8611\n"
          ]
        },
        {
          "output_type": "stream",
          "name": "stderr",
          "text": [
            "\r 89%|████████▉ | 178/200 [07:18<00:52,  2.37s/it]"
          ]
        },
        {
          "output_type": "stream",
          "name": "stdout",
          "text": [
            "[INFO] EPOCH: 178/200\n",
            "Train loss: 0.178768, Train accuracy: 0.9897\n",
            "Val loss: 0.158131, Val accuracy: 0.8611\n"
          ]
        },
        {
          "output_type": "stream",
          "name": "stderr",
          "text": [
            "\r 90%|████████▉ | 179/200 [07:20<00:49,  2.36s/it]"
          ]
        },
        {
          "output_type": "stream",
          "name": "stdout",
          "text": [
            "[INFO] EPOCH: 179/200\n",
            "Train loss: 0.173627, Train accuracy: 0.9760\n",
            "Val loss: 0.138936, Val accuracy: 0.8611\n"
          ]
        },
        {
          "output_type": "stream",
          "name": "stderr",
          "text": [
            "\r 90%|█████████ | 180/200 [07:23<00:47,  2.35s/it]"
          ]
        },
        {
          "output_type": "stream",
          "name": "stdout",
          "text": [
            "[INFO] EPOCH: 180/200\n",
            "Train loss: 0.169984, Train accuracy: 0.9795\n",
            "Val loss: 0.219720, Val accuracy: 0.8611\n"
          ]
        },
        {
          "output_type": "stream",
          "name": "stderr",
          "text": [
            "\r 90%|█████████ | 181/200 [07:25<00:44,  2.35s/it]"
          ]
        },
        {
          "output_type": "stream",
          "name": "stdout",
          "text": [
            "[INFO] EPOCH: 181/200\n",
            "Train loss: 0.097513, Train accuracy: 0.9863\n",
            "Val loss: 0.166045, Val accuracy: 0.8611\n"
          ]
        },
        {
          "output_type": "stream",
          "name": "stderr",
          "text": [
            "\r 91%|█████████ | 182/200 [07:28<00:42,  2.35s/it]"
          ]
        },
        {
          "output_type": "stream",
          "name": "stdout",
          "text": [
            "[INFO] EPOCH: 182/200\n",
            "Train loss: 0.094453, Train accuracy: 0.9829\n",
            "Val loss: 0.135804, Val accuracy: 0.8889\n"
          ]
        },
        {
          "output_type": "stream",
          "name": "stderr",
          "text": [
            "\r 92%|█████████▏| 183/200 [07:30<00:39,  2.35s/it]"
          ]
        },
        {
          "output_type": "stream",
          "name": "stdout",
          "text": [
            "[INFO] EPOCH: 183/200\n",
            "Train loss: 0.183366, Train accuracy: 0.9829\n",
            "Val loss: 0.167472, Val accuracy: 0.8611\n"
          ]
        },
        {
          "output_type": "stream",
          "name": "stderr",
          "text": [
            "\r 92%|█████████▏| 184/200 [07:32<00:37,  2.35s/it]"
          ]
        },
        {
          "output_type": "stream",
          "name": "stdout",
          "text": [
            "[INFO] EPOCH: 184/200\n",
            "Train loss: 0.082289, Train accuracy: 0.9863\n",
            "Val loss: 0.222217, Val accuracy: 0.8611\n"
          ]
        },
        {
          "output_type": "stream",
          "name": "stderr",
          "text": [
            "\r 92%|█████████▎| 185/200 [07:35<00:35,  2.36s/it]"
          ]
        },
        {
          "output_type": "stream",
          "name": "stdout",
          "text": [
            "[INFO] EPOCH: 185/200\n",
            "Train loss: 0.060235, Train accuracy: 0.9863\n",
            "Val loss: 0.157466, Val accuracy: 0.8611\n"
          ]
        },
        {
          "output_type": "stream",
          "name": "stderr",
          "text": [
            "\r 93%|█████████▎| 186/200 [07:37<00:32,  2.36s/it]"
          ]
        },
        {
          "output_type": "stream",
          "name": "stdout",
          "text": [
            "[INFO] EPOCH: 186/200\n",
            "Train loss: 0.269960, Train accuracy: 0.9863\n",
            "Val loss: 0.124608, Val accuracy: 0.8611\n"
          ]
        },
        {
          "output_type": "stream",
          "name": "stderr",
          "text": [
            "\r 94%|█████████▎| 187/200 [07:39<00:30,  2.35s/it]"
          ]
        },
        {
          "output_type": "stream",
          "name": "stdout",
          "text": [
            "[INFO] EPOCH: 187/200\n",
            "Train loss: 0.355499, Train accuracy: 0.9486\n",
            "Val loss: 0.397569, Val accuracy: 0.7500\n"
          ]
        },
        {
          "output_type": "stream",
          "name": "stderr",
          "text": [
            "\r 94%|█████████▍| 188/200 [07:42<00:28,  2.35s/it]"
          ]
        },
        {
          "output_type": "stream",
          "name": "stdout",
          "text": [
            "[INFO] EPOCH: 188/200\n",
            "Train loss: 0.267891, Train accuracy: 0.9658\n",
            "Val loss: 0.255779, Val accuracy: 0.8611\n"
          ]
        },
        {
          "output_type": "stream",
          "name": "stderr",
          "text": [
            "\r 94%|█████████▍| 189/200 [07:44<00:25,  2.34s/it]"
          ]
        },
        {
          "output_type": "stream",
          "name": "stdout",
          "text": [
            "[INFO] EPOCH: 189/200\n",
            "Train loss: 0.134845, Train accuracy: 0.9589\n",
            "Val loss: 0.154970, Val accuracy: 0.8889\n"
          ]
        },
        {
          "output_type": "stream",
          "name": "stderr",
          "text": [
            "\r 95%|█████████▌| 190/200 [07:46<00:23,  2.35s/it]"
          ]
        },
        {
          "output_type": "stream",
          "name": "stdout",
          "text": [
            "[INFO] EPOCH: 190/200\n",
            "Train loss: 0.157345, Train accuracy: 0.9863\n",
            "Val loss: 0.140371, Val accuracy: 0.8611\n"
          ]
        },
        {
          "output_type": "stream",
          "name": "stderr",
          "text": [
            "\r 96%|█████████▌| 191/200 [07:49<00:21,  2.35s/it]"
          ]
        },
        {
          "output_type": "stream",
          "name": "stdout",
          "text": [
            "[INFO] EPOCH: 191/200\n",
            "Train loss: 0.246349, Train accuracy: 0.9829\n",
            "Val loss: 0.266278, Val accuracy: 0.8333\n"
          ]
        },
        {
          "output_type": "stream",
          "name": "stderr",
          "text": [
            "\r 96%|█████████▌| 192/200 [07:51<00:18,  2.35s/it]"
          ]
        },
        {
          "output_type": "stream",
          "name": "stdout",
          "text": [
            "[INFO] EPOCH: 192/200\n",
            "Train loss: 0.101478, Train accuracy: 0.9795\n",
            "Val loss: 0.111493, Val accuracy: 0.8889\n"
          ]
        },
        {
          "output_type": "stream",
          "name": "stderr",
          "text": [
            "\r 96%|█████████▋| 193/200 [07:53<00:16,  2.35s/it]"
          ]
        },
        {
          "output_type": "stream",
          "name": "stdout",
          "text": [
            "[INFO] EPOCH: 193/200\n",
            "Train loss: 0.148228, Train accuracy: 0.9623\n",
            "Val loss: 0.186775, Val accuracy: 0.8889\n"
          ]
        },
        {
          "output_type": "stream",
          "name": "stderr",
          "text": [
            "\r 97%|█████████▋| 194/200 [07:56<00:14,  2.35s/it]"
          ]
        },
        {
          "output_type": "stream",
          "name": "stdout",
          "text": [
            "[INFO] EPOCH: 194/200\n",
            "Train loss: 0.144119, Train accuracy: 0.9829\n",
            "Val loss: 0.179491, Val accuracy: 0.8333\n"
          ]
        },
        {
          "output_type": "stream",
          "name": "stderr",
          "text": [
            "\r 98%|█████████▊| 195/200 [07:58<00:11,  2.34s/it]"
          ]
        },
        {
          "output_type": "stream",
          "name": "stdout",
          "text": [
            "[INFO] EPOCH: 195/200\n",
            "Train loss: 0.085436, Train accuracy: 0.9795\n",
            "Val loss: 0.273447, Val accuracy: 0.8611\n"
          ]
        },
        {
          "output_type": "stream",
          "name": "stderr",
          "text": [
            "\r 98%|█████████▊| 196/200 [08:00<00:09,  2.34s/it]"
          ]
        },
        {
          "output_type": "stream",
          "name": "stdout",
          "text": [
            "[INFO] EPOCH: 196/200\n",
            "Train loss: 0.081506, Train accuracy: 0.9863\n",
            "Val loss: 0.213543, Val accuracy: 0.8611\n"
          ]
        },
        {
          "output_type": "stream",
          "name": "stderr",
          "text": [
            "\r 98%|█████████▊| 197/200 [08:03<00:07,  2.34s/it]"
          ]
        },
        {
          "output_type": "stream",
          "name": "stdout",
          "text": [
            "[INFO] EPOCH: 197/200\n",
            "Train loss: 0.072101, Train accuracy: 0.9863\n",
            "Val loss: 0.212228, Val accuracy: 0.8611\n"
          ]
        },
        {
          "output_type": "stream",
          "name": "stderr",
          "text": [
            "\r 99%|█████████▉| 198/200 [08:05<00:04,  2.35s/it]"
          ]
        },
        {
          "output_type": "stream",
          "name": "stdout",
          "text": [
            "[INFO] EPOCH: 198/200\n",
            "Train loss: 0.056805, Train accuracy: 0.9932\n",
            "Val loss: 0.132647, Val accuracy: 0.8889\n"
          ]
        },
        {
          "output_type": "stream",
          "name": "stderr",
          "text": [
            "\r100%|█████████▉| 199/200 [08:07<00:02,  2.35s/it]"
          ]
        },
        {
          "output_type": "stream",
          "name": "stdout",
          "text": [
            "[INFO] EPOCH: 199/200\n",
            "Train loss: 0.054404, Train accuracy: 0.9932\n",
            "Val loss: 0.109157, Val accuracy: 0.8889\n"
          ]
        },
        {
          "output_type": "stream",
          "name": "stderr",
          "text": [
            "100%|██████████| 200/200 [08:10<00:00,  2.45s/it]"
          ]
        },
        {
          "output_type": "stream",
          "name": "stdout",
          "text": [
            "[INFO] EPOCH: 200/200\n",
            "Train loss: 0.188333, Train accuracy: 0.9897\n",
            "Val loss: 0.107064, Val accuracy: 0.8889\n",
            "[INFO] total time taken to train the model: 490.30s\n"
          ]
        },
        {
          "output_type": "stream",
          "name": "stderr",
          "text": [
            "\n"
          ]
        }
      ],
      "source": [
        "print(\"[INFO] training the network...\")\n",
        "startTime = time.time()\n",
        "for e in tqdm(range(NUM_EPOCHS)):\n",
        "    # set the model in training mode\n",
        "    ObjectClassifier.train()\n",
        "    # initialize the total training and validation loss\n",
        "    totalTrainLoss = 0\n",
        "    totalValLoss = 0\n",
        "    # initialize the number of correct predictions in the training\n",
        "    # and validation step\n",
        "    trainCorrect = 0\n",
        "    valCorrect = 0\n",
        "    # loop over the training set\n",
        "    for (images, labels) in train_loader:\n",
        "        # send the input to the device\n",
        "        # print(labels)\n",
        "        images = moveTo(images, DEVICE)\n",
        "        labels = moveTo(labels, DEVICE)\n",
        "        # perform a forward pass and calculate the training loss\n",
        "        predictions = ObjectClassifier(images)\n",
        "        classLoss = classLossFunc(predictions, labels)\n",
        "        totalLoss = (LABELS * classLoss)\n",
        "        # zero out the gradients, perform the backpropagation step,\n",
        "        # and update the weights\n",
        "        opt.zero_grad()\n",
        "        totalLoss.backward()\n",
        "        opt.step()\n",
        "        # add the loss to the total training loss so far and\n",
        "        # calculate the number of correct predictions\n",
        "        totalTrainLoss += totalLoss\n",
        "        trainCorrect += (predictions.argmax(1) == labels).type(\n",
        "            torch.float).sum().item()\n",
        "    # switch off autograd\n",
        "    with torch.no_grad():\n",
        "        # set the model in evaluation mode\n",
        "        ObjectClassifier.eval()\n",
        "        # loop over the validation set\n",
        "        for (images, labels) in valid_loader:\n",
        "            # send the input to the device\n",
        "            images = moveTo(images, DEVICE)\n",
        "            labels = moveTo(labels, DEVICE)\n",
        "            # make the predictions and calculate the validation loss\n",
        "            predictions = ObjectClassifier(images)\n",
        "            classLoss = classLossFunc(predictions, labels)\n",
        "            totalLoss = (LABELS * classLoss)\n",
        "            totalValLoss += totalLoss\n",
        "            # calculate the number of correct predictions\n",
        "            valCorrect += (predictions.argmax(1) == labels).type(\n",
        "                torch.float).sum().item()\n",
        "    # calculate the average training and validation loss\n",
        "    avgTrainLoss = totalTrainLoss / trainSteps\n",
        "    avgValLoss = totalValLoss / valSteps\n",
        "    # calculate the training and validation accuracy\n",
        "    trainCorrect = trainCorrect / len(train_dataset)\n",
        "    valCorrect = valCorrect / len(test_dataset)\n",
        "    # update our training history\n",
        "    H[\"total_train_loss\"].append(avgTrainLoss.cpu().detach().numpy())\n",
        "    H[\"train_class_acc\"].append(trainCorrect)\n",
        "    H[\"total_val_loss\"].append(avgValLoss.cpu().detach().numpy())\n",
        "    H[\"val_class_acc\"].append(valCorrect)\n",
        "    # print(avgValLoss.item())\n",
        "    # print(min(H[\"total_val_loss\"]))\n",
        "    # print(avgValLoss.item() < min(H[\"total_val_loss\"]))\n",
        "    if avgValLoss.item() == min(H[\"total_val_loss\"]):#save best path\n",
        "        print(avgValLoss)\n",
        "        print(min(H[\"total_val_loss\"]))\n",
        "        torch.save({\n",
        "            'epoch': e,\n",
        "            'model_state_dict': ObjectClassifier.state_dict(),\n",
        "            'optimizer_state_dict': opt.state_dict(),\n",
        "            'results' : H\n",
        "            }, Checkpoint)\n",
        "    # print the model training and validation information\n",
        "    print(\"[INFO] EPOCH: {}/{}\".format(e + 1, NUM_EPOCHS))\n",
        "    print(\"Train loss: {:.6f}, Train accuracy: {:.4f}\".format(\n",
        "        avgTrainLoss, trainCorrect))\n",
        "    print(\"Val loss: {:.6f}, Val accuracy: {:.4f}\".format(\n",
        "        avgValLoss, valCorrect))\n",
        "endTime = time.time()\n",
        "print(\"[INFO] total time taken to train the model: {:.2f}s\".format(endTime - startTime))\n"
      ]
    },
    {
      "cell_type": "code",
      "source": [
        "from google.colab import files\n",
        "files.download('/content/output/classification_200epochs_croppedTI_checkpoint.pth')"
      ],
      "metadata": {
        "colab": {
          "base_uri": "https://localhost:8080/",
          "height": 17
        },
        "id": "BGUZAEuWnoaN",
        "outputId": "a6cd10aa-00e2-43ba-f0b1-7faf6c8771bf"
      },
      "id": "BGUZAEuWnoaN",
      "execution_count": 172,
      "outputs": [
        {
          "output_type": "display_data",
          "data": {
            "text/plain": [
              "<IPython.core.display.Javascript object>"
            ],
            "application/javascript": [
              "\n",
              "    async function download(id, filename, size) {\n",
              "      if (!google.colab.kernel.accessAllowed) {\n",
              "        return;\n",
              "      }\n",
              "      const div = document.createElement('div');\n",
              "      const label = document.createElement('label');\n",
              "      label.textContent = `Downloading \"${filename}\": `;\n",
              "      div.appendChild(label);\n",
              "      const progress = document.createElement('progress');\n",
              "      progress.max = size;\n",
              "      div.appendChild(progress);\n",
              "      document.body.appendChild(div);\n",
              "\n",
              "      const buffers = [];\n",
              "      let downloaded = 0;\n",
              "\n",
              "      const channel = await google.colab.kernel.comms.open(id);\n",
              "      // Send a message to notify the kernel that we're ready.\n",
              "      channel.send({})\n",
              "\n",
              "      for await (const message of channel.messages) {\n",
              "        // Send a message to notify the kernel that we're ready.\n",
              "        channel.send({})\n",
              "        if (message.buffers) {\n",
              "          for (const buffer of message.buffers) {\n",
              "            buffers.push(buffer);\n",
              "            downloaded += buffer.byteLength;\n",
              "            progress.value = downloaded;\n",
              "          }\n",
              "        }\n",
              "      }\n",
              "      const blob = new Blob(buffers, {type: 'application/binary'});\n",
              "      const a = document.createElement('a');\n",
              "      a.href = window.URL.createObjectURL(blob);\n",
              "      a.download = filename;\n",
              "      div.appendChild(a);\n",
              "      a.click();\n",
              "      div.remove();\n",
              "    }\n",
              "  "
            ]
          },
          "metadata": {}
        },
        {
          "output_type": "display_data",
          "data": {
            "text/plain": [
              "<IPython.core.display.Javascript object>"
            ],
            "application/javascript": [
              "download(\"download_9dc96c10-4a6f-487b-a515-a532647aa282\", \"classification_200epochs_croppedTI_checkpoint.pth\", 110188449)"
            ]
          },
          "metadata": {}
        }
      ]
    },
    {
      "cell_type": "code",
      "source": [
        "testSteps = len(test_dataset) // BATCH_SIZE\n",
        "totaltestLoss = 0\n",
        "testCorrect = 0\n",
        "with torch.no_grad():\n",
        "        # set the model in evaluation mode\n",
        "        ObjectClassifier.eval()\n",
        "        # loop over the validation set\n",
        "        for (images, labels) in test_loader:\n",
        "            # send the input to the device\n",
        "            images = moveTo(images, DEVICE)\n",
        "            labels = moveTo(labels, DEVICE)\n",
        "            # make the predictions and calculate the validation loss\n",
        "            predictions = ObjectClassifier(images)\n",
        "            classLoss = classLossFunc(predictions, labels)\n",
        "            totalLoss = (LABELS * classLoss)\n",
        "            totaltestLoss += totalLoss\n",
        "            # calculate the number of correct predictions\n",
        "            testCorrect += (predictions.argmax(1) == labels).type(\n",
        "                torch.float).sum().item()\n",
        "\n",
        "avgtestloss = totaltestLoss / testSteps\n",
        "# calculate the training and validation accuracy\n",
        "testCorrect = testCorrect / len(test_dataset)\n",
        "print(\"Test loss: {:.6f}, Test accuracy: {:.4f}\".format(\n",
        "        avgtestloss, testCorrect))"
      ],
      "metadata": {
        "colab": {
          "base_uri": "https://localhost:8080/"
        },
        "id": "DNxxYLW6f0oo",
        "outputId": "45fdbefa-500d-4e35-b1ad-4a8ef703d09c"
      },
      "id": "DNxxYLW6f0oo",
      "execution_count": 171,
      "outputs": [
        {
          "output_type": "stream",
          "name": "stdout",
          "text": [
            "Test loss: 0.032765, Test accuracy: 1.0000\n"
          ]
        }
      ]
    },
    {
      "cell_type": "code",
      "source": [
        "#resnet50\n",
        "#Test loss: 0.064608, Test accuracy: 0.9722\n",
        "#resnet101\n",
        "# Test loss: 2.753026, Test accuracy: 0.8611\n",
        "#resnet34\n",
        "# Test loss: 0.072158, Test accuracy: 0.9722\n",
        "#resnet50, batch = 32\n",
        "#Test loss: 0.055216, Test accuracy: 1.0000\n",
        "#resnet50, optimizer = SDG"
      ],
      "metadata": {
        "id": "Behh8Qs3O3mk"
      },
      "id": "Behh8Qs3O3mk",
      "execution_count": null,
      "outputs": []
    }
  ],
  "metadata": {
    "kernelspec": {
      "display_name": "Python 3 (ipykernel)",
      "language": "python",
      "name": "python3"
    },
    "language_info": {
      "codemirror_mode": {
        "name": "ipython",
        "version": 3
      },
      "file_extension": ".py",
      "mimetype": "text/x-python",
      "name": "python",
      "nbconvert_exporter": "python",
      "pygments_lexer": "ipython3",
      "version": "3.9.7"
    },
    "colab": {
      "name": "Classification Model.ipynb",
      "provenance": [],
      "machine_shape": "hm"
    },
    "accelerator": "GPU"
  },
  "nbformat": 4,
  "nbformat_minor": 5
}