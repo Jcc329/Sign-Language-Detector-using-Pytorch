{
  "cells": [
    {
      "cell_type": "markdown",
      "source": [
        "Sources:\n",
        "\n",
        "https://pytorch.org/vision/0.12/_modules/torchvision/models/detection/faster_rcnn.html\n",
        "\n",
        "https://github.com/EdwardRaff/Inside-Deep-Learning\n",
        "\n",
        "Raff, E. (2022). Inside Deep Learning: Math, Algorithms, Models (Annotated ed.). Manning.\n",
        "\n",
        "https://discuss.pytorch.org/t/collate-issue-with-fast-rcnn-tries-to-transform-dictionary-in-generalizedrcnn/62249\n",
        "\n",
        "https://pytorch.org/vision/0.12/_modules/torchvision/models/detection/faster_rcnn.html\n",
        "\n",
        "https://stackoverflow.com/questions/49466033/resizing-image-and-its-bounding-box"
      ],
      "metadata": {
        "id": "jCTF1Ii073Wn"
      },
      "id": "jCTF1Ii073Wn"
    },
    {
      "cell_type": "code",
      "execution_count": null,
      "id": "14d34b77",
      "metadata": {
        "colab": {
          "base_uri": "https://localhost:8080/"
        },
        "id": "14d34b77",
        "outputId": "d3ab3942-e713-48ad-e815-074a7ebe8135"
      },
      "outputs": [
        {
          "output_type": "stream",
          "name": "stdout",
          "text": [
            "Archive:  Images.zip\n",
            "replace ./Images/Images/a.cdb477ec-cccd-11ec-bafb-287fcffe570f.jpg? [y]es, [n]o, [A]ll, [N]one, [r]ename: N\n"
          ]
        }
      ],
      "source": [
        "# import the necessary packages\n",
        "import torch\n",
        "import cv2\n",
        "import os\n",
        "import glob\n",
        "import xml.etree.ElementTree as ET\n",
        "import torchvision\n",
        "\n",
        "from torch.utils.data import Dataset\n",
        "from torchvision.models.detection.rpn import AnchorGenerator\n",
        "from torchvision.models.detection import FasterRCNN\n",
        "\n",
        "from torch.nn import Dropout\n",
        "from torch.nn import Identity\n",
        "from torch.nn import Linear\n",
        "from torch.nn import Module\n",
        "from torch.nn import ReLU\n",
        "from torch.nn import Sequential\n",
        "from torch.nn import Sigmoid\n",
        "from torch.nn import Flatten\n",
        "import torch.nn as nn\n",
        "\n",
        "os.getcwd()\n",
        "# os.chdir('..')\n",
        "!unzip \"Images.zip\" -d \"./Images\""
      ]
    },
    {
      "cell_type": "code",
      "execution_count": null,
      "id": "d1c3d680",
      "metadata": {
        "id": "d1c3d680"
      },
      "outputs": [],
      "source": [
        "# define the base path to the input dataset and then use it to derive\n",
        "# the path to the input images and annotation CSV files\n",
        "BASE_PATH = \"\"\n",
        "IMAGES_PATH = os.path.sep.join([BASE_PATH, \"Images/Images\"])\n",
        "ANNOTS_PATH = os.path.sep.join([BASE_PATH, \"annotations\"])\n",
        "# define the path to the base output directory\n",
        "# os.mkdir('annotations')\n",
        "# os.mkdir(\"output\")\n",
        "# os.chdir('output')\n",
        "# os.mkdir(\"plots\")\n",
        "# os.chdir('..')\n",
        "BASE_OUTPUT = \"output\"\n",
        "# define the path to the output model, label encoder, plots output\n",
        "# directory, and testing image paths\n",
        "MODEL_PATH = os.path.sep.join([BASE_OUTPUT, \"detector_FasterRCNN_200epochs2.pth\"])\n",
        "LE_PATH = os.path.sep.join([BASE_OUTPUT, \"le.pickle\"])\n",
        "PLOTS_PATH = os.path.sep.join([BASE_OUTPUT, \"plots\"])\n",
        "TEST_PATHS = os.path.sep.join([BASE_OUTPUT, \"test_paths.txt\"])"
      ]
    },
    {
      "cell_type": "code",
      "execution_count": null,
      "id": "ec7412b8",
      "metadata": {
        "id": "ec7412b8"
      },
      "outputs": [],
      "source": [
        "# determine the current device and based on that set the pin memory\n",
        "# flag\n",
        "DEVICE = \"cuda\" if torch.cuda.is_available() else \"cpu\"\n",
        "PIN_MEMORY = True if DEVICE == \"cuda\" else False\n",
        "# specify ImageNet mean and standard deviation\n",
        "MEAN = [0.485, 0.456, 0.406]\n",
        "STD = [0.229, 0.224, 0.225]\n",
        "# initialize our initial learning rate, number of epochs to train\n",
        "# for, and the batch size\n",
        "INIT_LR = 1e-4\n",
        "NUM_EPOCHS = 200\n",
        "BATCH_SIZE = 16\n",
        "# specify the loss weights\n",
        "LABELS = 1.0\n",
        "BBOX = 1.0"
      ]
    },
    {
      "cell_type": "code",
      "execution_count": null,
      "id": "7c82c256",
      "metadata": {
        "colab": {
          "base_uri": "https://localhost:8080/",
          "height": 36
        },
        "id": "7c82c256",
        "outputId": "29a00b30-bfc4-4f3d-a2e2-547ed7432371"
      },
      "outputs": [
        {
          "output_type": "execute_result",
          "data": {
            "text/plain": [
              "'cuda'"
            ],
            "application/vnd.google.colaboratory.intrinsic+json": {
              "type": "string"
            }
          },
          "metadata": {},
          "execution_count": 120
        }
      ],
      "source": [
        "DEVICE"
      ]
    },
    {
      "cell_type": "code",
      "execution_count": null,
      "id": "167f541e",
      "metadata": {
        "id": "167f541e"
      },
      "outputs": [],
      "source": [
        "\n",
        "\n",
        "class ObjectDetector(Module):\n",
        "    def __init__(self, baseModel, numClasses):\n",
        "        super(ObjectDetector, self).__init__()\n",
        "        # initialize the base model and the number of classes\n",
        "        self.baseModel = baseModel\n",
        "        self.numClasses = numClasses\n",
        "        # build the regressor head for outputting the bounding box\n",
        "        # coordinates\n",
        "        self.regressor = Sequential(\n",
        "            Flatten(),\n",
        "            Linear(2048, 128),\n",
        "            ReLU(),\n",
        "            Linear(128, 64),\n",
        "            ReLU(),\n",
        "            Linear(64, 32),\n",
        "            ReLU(),\n",
        "            Linear(32, 4),\n",
        "            Sigmoid()\n",
        "            )\n",
        "        # build the classifier head to predict the class labels\n",
        "        self.classifier = Sequential(\n",
        "            Linear(2048, 512),\n",
        "            ReLU(),\n",
        "            Dropout(),\n",
        "            Linear(512, 512),\n",
        "            ReLU(),\n",
        "            Dropout(),\n",
        "            Linear(512, self.numClasses)\n",
        "            )\n",
        "        # set the classifier of our base model to produce outputs\n",
        "        # from the last convolution block\n",
        "        self.baseModel.fc = Identity()\n",
        "    def forward(self, x):\n",
        "    # pass the inputs through the base model and then obtain\n",
        "    # predictions from two different branches of the network\n",
        "        features = self.baseModel(x)\n",
        "        bboxes = self.regressor(features)\n",
        "        classLogits = self.classifier(features)\n",
        "    # return the outputs as a tuple\n",
        "        return (bboxes, classLogits)"
      ]
    },
    {
      "cell_type": "code",
      "execution_count": null,
      "id": "0b359c36",
      "metadata": {
        "colab": {
          "base_uri": "https://localhost:8080/"
        },
        "id": "0b359c36",
        "outputId": "64e8e59b-aba4-4202-9707-8bc76727eea9"
      },
      "outputs": [
        {
          "output_type": "stream",
          "name": "stdout",
          "text": [
            "Requirement already satisfied: imutils in /usr/local/lib/python3.7/dist-packages (0.5.4)\n"
          ]
        }
      ],
      "source": [
        "!pip install imutils"
      ]
    },
    {
      "cell_type": "code",
      "execution_count": null,
      "id": "f02af43a",
      "metadata": {
        "colab": {
          "base_uri": "https://localhost:8080/",
          "height": 36
        },
        "id": "f02af43a",
        "outputId": "aeaa373d-3115-4c36-d7b8-15391329eea1"
      },
      "outputs": [
        {
          "output_type": "execute_result",
          "data": {
            "text/plain": [
              "'/content'"
            ],
            "application/vnd.google.colaboratory.intrinsic+json": {
              "type": "string"
            }
          },
          "metadata": {},
          "execution_count": 123
        }
      ],
      "source": [
        "# import the necessary packages\n",
        "from sklearn.preprocessing import LabelEncoder\n",
        "from torch.utils.data import DataLoader\n",
        "from torchvision import transforms\n",
        "from torch.nn import CrossEntropyLoss\n",
        "from torch.nn import MSELoss\n",
        "from torch.optim import Adam\n",
        "from torchvision.models import resnet50\n",
        "from sklearn.model_selection import train_test_split\n",
        "from imutils import paths\n",
        "from tqdm import tqdm\n",
        "import matplotlib.pyplot as plt\n",
        "import numpy as np\n",
        "import pickle\n",
        "import torch\n",
        "import time\n",
        "import cv2\n",
        "import os\n",
        "# initialize the list of data (images), class labels, target bounding\n",
        "# box coordinates, and image paths\n",
        "os.getcwd()"
      ]
    },
    {
      "cell_type": "code",
      "execution_count": null,
      "id": "3bfd067b",
      "metadata": {
        "colab": {
          "base_uri": "https://localhost:8080/"
        },
        "id": "3bfd067b",
        "outputId": "496ad4ee-98f7-40ad-948d-8c87698e2ce7"
      },
      "outputs": [
        {
          "output_type": "stream",
          "name": "stdout",
          "text": [
            "./Images/Images/ThankYou.4bd68bea-ccd8-11ec-b32d-287fcffe570f.xml\n",
            "./Images/Images/ThankYou.4bd68bea-ccd8-11ec-b32d-287fcffe570f.jpg\n",
            "./Images/Images/ThankYou.4da5dcd5-ccd8-11ec-bcf7-287fcffe570f.xml\n",
            "./Images/Images/ThankYou.4da5dcd5-ccd8-11ec-bcf7-287fcffe570f.jpg\n",
            "./Images/Images/ThankYou.4f748e67-ccd8-11ec-bafb-287fcffe570f.xml\n",
            "./Images/Images/ThankYou.4f748e67-ccd8-11ec-bafb-287fcffe570f.jpg\n",
            "./Images/Images/ThankYou.5145400d-ccd8-11ec-a319-287fcffe570f.xml\n",
            "./Images/Images/ThankYou.5145400d-ccd8-11ec-a319-287fcffe570f.jpg\n",
            "./Images/Images/ThankYou.5315c7a4-ccd8-11ec-ae63-287fcffe570f.xml\n",
            "./Images/Images/ThankYou.5315c7a4-ccd8-11ec-ae63-287fcffe570f.jpg\n",
            "./Images/Images/ThankYou.54e65b5d-ccd8-11ec-b94a-287fcffe570f.xml\n",
            "./Images/Images/ThankYou.54e65b5d-ccd8-11ec-b94a-287fcffe570f.jpg\n",
            "./Images/Images/ThankYou.56b93aaa-ccd8-11ec-ae0a-287fcffe570f.xml\n",
            "./Images/Images/ThankYou.56b93aaa-ccd8-11ec-ae0a-287fcffe570f.jpg\n",
            "./Images/Images/ThankYou.58859e9b-ccd8-11ec-a668-287fcffe570f.xml\n",
            "./Images/Images/ThankYou.58859e9b-ccd8-11ec-a668-287fcffe570f.jpg\n",
            "./Images/Images/ThankYou.5a55f747-ccd8-11ec-8893-287fcffe570f.xml\n",
            "./Images/Images/ThankYou.5a55f747-ccd8-11ec-8893-287fcffe570f.jpg\n",
            "./Images/Images/ThankYou.5c2735bd-ccd8-11ec-a2f7-287fcffe570f.xml\n",
            "./Images/Images/ThankYou.5c2735bd-ccd8-11ec-a2f7-287fcffe570f.jpg\n",
            "./Images/Images/ThankYou.5df665d4-ccd8-11ec-97c6-287fcffe570f.xml\n",
            "./Images/Images/ThankYou.5df665d4-ccd8-11ec-97c6-287fcffe570f.jpg\n",
            "./Images/Images/ThankYou.5fc525ba-ccd8-11ec-9f83-287fcffe570f.xml\n",
            "./Images/Images/ThankYou.5fc525ba-ccd8-11ec-9f83-287fcffe570f.jpg\n",
            "./Images/Images/ThankYou.619287c2-ccd8-11ec-902f-287fcffe570f.xml\n",
            "./Images/Images/ThankYou.619287c2-ccd8-11ec-902f-287fcffe570f.jpg\n",
            "./Images/Images/ThankYou.63624338-ccd8-11ec-a85d-287fcffe570f.xml\n",
            "./Images/Images/ThankYou.63624338-ccd8-11ec-a85d-287fcffe570f.jpg\n",
            "./Images/Images/ThankYou.6530bcc4-ccd8-11ec-927a-287fcffe570f.xml\n",
            "./Images/Images/ThankYou.6530bcc4-ccd8-11ec-927a-287fcffe570f.jpg\n",
            "./Images/Images/ThankYou.6700f6b2-ccd8-11ec-bedb-287fcffe570f.xml\n",
            "./Images/Images/ThankYou.6700f6b2-ccd8-11ec-bedb-287fcffe570f.jpg\n",
            "./Images/Images/ThankYou.68d17ef5-ccd8-11ec-97af-287fcffe570f.xml\n",
            "./Images/Images/ThankYou.68d17ef5-ccd8-11ec-97af-287fcffe570f.jpg\n",
            "./Images/Images/ThankYou.6a9ef2fa-ccd8-11ec-a626-287fcffe570f.xml\n",
            "./Images/Images/ThankYou.6a9ef2fa-ccd8-11ec-a626-287fcffe570f.jpg\n",
            "./Images/Images/ThankYou.6c6d3d0a-ccd8-11ec-8e5f-287fcffe570f.xml\n",
            "./Images/Images/ThankYou.6c6d3d0a-ccd8-11ec-8e5f-287fcffe570f.jpg\n",
            "./Images/Images/ThankYou.6e3da6f4-ccd8-11ec-adf4-287fcffe570f.xml\n",
            "./Images/Images/ThankYou.6e3da6f4-ccd8-11ec-adf4-287fcffe570f.jpg\n",
            "./Images/Images/a.cdb477ec-cccd-11ec-bafb-287fcffe570f.xml\n",
            "./Images/Images/a.cdb477ec-cccd-11ec-bafb-287fcffe570f.jpg\n",
            "./Images/Images/a.cf85dbae-cccd-11ec-ae1e-287fcffe570f.xml\n",
            "./Images/Images/a.cf85dbae-cccd-11ec-ae1e-287fcffe570f.jpg\n",
            "./Images/Images/a.d155cd78-cccd-11ec-b573-287fcffe570f.xml\n",
            "./Images/Images/a.d155cd78-cccd-11ec-b573-287fcffe570f.jpg\n",
            "./Images/Images/a.d3260d01-cccd-11ec-ba9b-287fcffe570f.xml\n",
            "./Images/Images/a.d3260d01-cccd-11ec-ba9b-287fcffe570f.jpg\n",
            "./Images/Images/a.d4f670b9-cccd-11ec-bbf9-287fcffe570f.xml\n",
            "./Images/Images/a.d4f670b9-cccd-11ec-bbf9-287fcffe570f.jpg\n",
            "./Images/Images/a.d6c37450-cccd-11ec-8ddf-287fcffe570f.xml\n",
            "./Images/Images/a.d6c37450-cccd-11ec-8ddf-287fcffe570f.jpg\n",
            "./Images/Images/a.d893ef3b-cccd-11ec-9db9-287fcffe570f.xml\n",
            "./Images/Images/a.d893ef3b-cccd-11ec-9db9-287fcffe570f.jpg\n",
            "./Images/Images/a.da64b4f5-cccd-11ec-b7f4-287fcffe570f.xml\n",
            "./Images/Images/a.da64b4f5-cccd-11ec-b7f4-287fcffe570f.jpg\n",
            "./Images/Images/a.dc3465e9-cccd-11ec-be88-287fcffe570f.xml\n",
            "./Images/Images/a.dc3465e9-cccd-11ec-be88-287fcffe570f.jpg\n",
            "./Images/Images/a.de03dbd2-cccd-11ec-9865-287fcffe570f.xml\n",
            "./Images/Images/a.de03dbd2-cccd-11ec-9865-287fcffe570f.jpg\n",
            "./Images/Images/a.dfd16dcb-cccd-11ec-95de-287fcffe570f.xml\n",
            "./Images/Images/a.dfd16dcb-cccd-11ec-95de-287fcffe570f.jpg\n",
            "./Images/Images/a.e1a257bb-cccd-11ec-8243-287fcffe570f.xml\n",
            "./Images/Images/a.e1a257bb-cccd-11ec-8243-287fcffe570f.jpg\n",
            "./Images/Images/a.e372811b-cccd-11ec-91be-287fcffe570f.xml\n",
            "./Images/Images/a.e372811b-cccd-11ec-91be-287fcffe570f.jpg\n",
            "./Images/Images/a.e5429b8c-cccd-11ec-98df-287fcffe570f.xml\n",
            "./Images/Images/a.e5429b8c-cccd-11ec-98df-287fcffe570f.jpg\n",
            "./Images/Images/a.e7135662-cccd-11ec-a4b6-287fcffe570f.xml\n",
            "./Images/Images/a.e7135662-cccd-11ec-a4b6-287fcffe570f.jpg\n",
            "./Images/Images/a.e8e3a63d-cccd-11ec-8280-287fcffe570f.xml\n",
            "./Images/Images/a.e8e3a63d-cccd-11ec-8280-287fcffe570f.jpg\n",
            "./Images/Images/a.eab2a375-cccd-11ec-8de5-287fcffe570f.xml\n",
            "./Images/Images/a.eab2a375-cccd-11ec-8de5-287fcffe570f.jpg\n",
            "./Images/Images/a.ec80b644-cccd-11ec-a472-287fcffe570f.xml\n",
            "./Images/Images/a.ec80b644-cccd-11ec-a472-287fcffe570f.jpg\n",
            "./Images/Images/a.ee50b36b-cccd-11ec-ab81-287fcffe570f.xml\n",
            "./Images/Images/a.ee50b36b-cccd-11ec-ab81-287fcffe570f.jpg\n",
            "./Images/Images/a.f0227999-cccd-11ec-a4d5-287fcffe570f.xml\n",
            "./Images/Images/a.f0227999-cccd-11ec-a4d5-287fcffe570f.jpg\n",
            "./Images/Images/b.0138710b-ccce-11ec-8abb-287fcffe570f.xml\n",
            "./Images/Images/b.0138710b-ccce-11ec-8abb-287fcffe570f.jpg\n",
            "./Images/Images/b.0308361a-ccce-11ec-af96-287fcffe570f.xml\n",
            "./Images/Images/b.0308361a-ccce-11ec-af96-287fcffe570f.jpg\n",
            "./Images/Images/b.04d762e5-ccce-11ec-a82e-287fcffe570f.xml\n",
            "./Images/Images/b.04d762e5-ccce-11ec-a82e-287fcffe570f.jpg\n",
            "./Images/Images/b.06a367e2-ccce-11ec-ac65-287fcffe570f.xml\n",
            "./Images/Images/b.06a367e2-ccce-11ec-ac65-287fcffe570f.jpg\n",
            "./Images/Images/b.0874e19e-ccce-11ec-8b9f-287fcffe570f.xml\n",
            "./Images/Images/b.0874e19e-ccce-11ec-8b9f-287fcffe570f.jpg\n",
            "./Images/Images/b.0a42a809-ccce-11ec-b367-287fcffe570f.xml\n",
            "./Images/Images/b.0a42a809-ccce-11ec-b367-287fcffe570f.jpg\n",
            "./Images/Images/b.0c0fc565-ccce-11ec-a093-287fcffe570f.xml\n",
            "./Images/Images/b.0c0fc565-ccce-11ec-a093-287fcffe570f.jpg\n",
            "./Images/Images/b.0de29776-ccce-11ec-9698-287fcffe570f.xml\n",
            "./Images/Images/b.0de29776-ccce-11ec-9698-287fcffe570f.jpg\n",
            "./Images/Images/b.0faf9ccf-ccce-11ec-ac00-287fcffe570f.xml\n",
            "./Images/Images/b.0faf9ccf-ccce-11ec-ac00-287fcffe570f.jpg\n",
            "./Images/Images/b.11808689-ccce-11ec-b208-287fcffe570f.xml\n",
            "./Images/Images/b.11808689-ccce-11ec-b208-287fcffe570f.jpg\n",
            "./Images/Images/b.135373cd-ccce-11ec-9f02-287fcffe570f.xml\n",
            "./Images/Images/b.135373cd-ccce-11ec-9f02-287fcffe570f.jpg\n",
            "./Images/Images/b.151fe204-ccce-11ec-a0cf-287fcffe570f.xml\n",
            "./Images/Images/b.151fe204-ccce-11ec-a0cf-287fcffe570f.jpg\n",
            "./Images/Images/b.16ee2822-ccce-11ec-aded-287fcffe570f.xml\n",
            "./Images/Images/b.16ee2822-ccce-11ec-aded-287fcffe570f.jpg\n",
            "./Images/Images/b.18bdbe87-ccce-11ec-92d6-287fcffe570f.xml\n",
            "./Images/Images/b.18bdbe87-ccce-11ec-92d6-287fcffe570f.jpg\n",
            "./Images/Images/b.f66280f7-cccd-11ec-b802-287fcffe570f.xml\n",
            "./Images/Images/b.f66280f7-cccd-11ec-b802-287fcffe570f.jpg\n",
            "./Images/Images/b.f82fc621-cccd-11ec-9ec3-287fcffe570f.xml\n",
            "./Images/Images/b.f82fc621-cccd-11ec-9ec3-287fcffe570f.jpg\n",
            "./Images/Images/b.f9fcf4d0-cccd-11ec-ae83-287fcffe570f.xml\n",
            "./Images/Images/b.f9fcf4d0-cccd-11ec-ae83-287fcffe570f.jpg\n",
            "./Images/Images/b.fbccf082-cccd-11ec-a574-287fcffe570f.xml\n",
            "./Images/Images/b.fbccf082-cccd-11ec-a574-287fcffe570f.jpg\n",
            "./Images/Images/b.fd9b0a1d-cccd-11ec-ba43-287fcffe570f.xml\n",
            "./Images/Images/b.fd9b0a1d-cccd-11ec-ba43-287fcffe570f.jpg\n",
            "./Images/Images/b.ff69fae0-cccd-11ec-9747-287fcffe570f.xml\n",
            "./Images/Images/b.ff69fae0-cccd-11ec-9747-287fcffe570f.jpg\n",
            "./Images/Images/c.1f1031db-ccce-11ec-989c-287fcffe570f.xml\n",
            "./Images/Images/c.1f1031db-ccce-11ec-989c-287fcffe570f.jpg\n",
            "./Images/Images/c.20dfd121-ccce-11ec-be6c-287fcffe570f.xml\n",
            "./Images/Images/c.20dfd121-ccce-11ec-be6c-287fcffe570f.jpg\n",
            "./Images/Images/c.22af0f23-ccce-11ec-99d8-287fcffe570f.xml\n",
            "./Images/Images/c.22af0f23-ccce-11ec-99d8-287fcffe570f.jpg\n",
            "./Images/Images/c.2480de20-ccce-11ec-9050-287fcffe570f.xml\n",
            "./Images/Images/c.2480de20-ccce-11ec-9050-287fcffe570f.jpg\n",
            "./Images/Images/c.264f545b-ccce-11ec-8515-287fcffe570f.xml\n",
            "./Images/Images/c.264f545b-ccce-11ec-8515-287fcffe570f.jpg\n",
            "./Images/Images/c.281ff93d-ccce-11ec-b2c4-287fcffe570f.xml\n",
            "./Images/Images/c.281ff93d-ccce-11ec-b2c4-287fcffe570f.jpg\n",
            "./Images/Images/c.29f0dc0d-ccce-11ec-9344-287fcffe570f.xml\n",
            "./Images/Images/c.29f0dc0d-ccce-11ec-9344-287fcffe570f.jpg\n",
            "./Images/Images/c.2bc1fbe4-ccce-11ec-86d3-287fcffe570f.xml\n",
            "./Images/Images/c.2bc1fbe4-ccce-11ec-86d3-287fcffe570f.jpg\n",
            "./Images/Images/c.2d911632-ccce-11ec-9a1d-287fcffe570f.xml\n",
            "./Images/Images/c.2d911632-ccce-11ec-9a1d-287fcffe570f.jpg\n",
            "./Images/Images/c.2f634c05-ccce-11ec-aa7e-287fcffe570f.xml\n",
            "./Images/Images/c.2f634c05-ccce-11ec-aa7e-287fcffe570f.jpg\n",
            "./Images/Images/c.313146e5-ccce-11ec-a89f-287fcffe570f.xml\n",
            "./Images/Images/c.313146e5-ccce-11ec-a89f-287fcffe570f.jpg\n",
            "./Images/Images/c.32ff5db6-ccce-11ec-bb28-287fcffe570f.xml\n",
            "./Images/Images/c.32ff5db6-ccce-11ec-bb28-287fcffe570f.jpg\n",
            "./Images/Images/c.34ce2cd8-ccce-11ec-b60c-287fcffe570f.xml\n",
            "./Images/Images/c.34ce2cd8-ccce-11ec-b60c-287fcffe570f.jpg\n",
            "./Images/Images/c.369d5dae-ccce-11ec-95c8-287fcffe570f.xml\n",
            "./Images/Images/c.369d5dae-ccce-11ec-95c8-287fcffe570f.jpg\n",
            "./Images/Images/c.386ea397-ccce-11ec-b576-287fcffe570f.xml\n",
            "./Images/Images/c.386ea397-ccce-11ec-b576-287fcffe570f.jpg\n",
            "./Images/Images/c.3a3f4849-ccce-11ec-8e6b-287fcffe570f.xml\n",
            "./Images/Images/c.3a3f4849-ccce-11ec-8e6b-287fcffe570f.jpg\n",
            "./Images/Images/c.3c0f71d5-ccce-11ec-8cb0-287fcffe570f.xml\n",
            "./Images/Images/c.3c0f71d5-ccce-11ec-8cb0-287fcffe570f.jpg\n",
            "./Images/Images/c.3de0c197-ccce-11ec-b2db-287fcffe570f.xml\n",
            "./Images/Images/c.3de0c197-ccce-11ec-b2db-287fcffe570f.jpg\n",
            "./Images/Images/c.3facc96d-ccce-11ec-835c-287fcffe570f.xml\n",
            "./Images/Images/c.3facc96d-ccce-11ec-835c-287fcffe570f.jpg\n",
            "./Images/Images/c.417a43b2-ccce-11ec-b96e-287fcffe570f.xml\n",
            "./Images/Images/c.417a43b2-ccce-11ec-b96e-287fcffe570f.jpg\n",
            "./Images/Images/d.47c0caec-ccce-11ec-8df4-287fcffe570f.xml\n",
            "./Images/Images/d.47c0caec-ccce-11ec-8df4-287fcffe570f.jpg\n",
            "./Images/Images/d.498f5fec-ccce-11ec-900f-287fcffe570f.xml\n",
            "./Images/Images/d.498f5fec-ccce-11ec-900f-287fcffe570f.jpg\n",
            "./Images/Images/d.4b600960-ccce-11ec-a4c0-287fcffe570f.xml\n",
            "./Images/Images/d.4b600960-ccce-11ec-a4c0-287fcffe570f.jpg\n",
            "./Images/Images/d.4d2eecfa-ccce-11ec-a8bf-287fcffe570f.xml\n",
            "./Images/Images/d.4d2eecfa-ccce-11ec-a8bf-287fcffe570f.jpg\n",
            "./Images/Images/d.4efbbcc7-ccce-11ec-8f33-287fcffe570f.xml\n",
            "./Images/Images/d.4efbbcc7-ccce-11ec-8f33-287fcffe570f.jpg\n",
            "./Images/Images/d.50c7353c-ccce-11ec-970b-287fcffe570f.xml\n",
            "./Images/Images/d.50c7353c-ccce-11ec-970b-287fcffe570f.jpg\n",
            "./Images/Images/d.5292c80d-ccce-11ec-905f-287fcffe570f.xml\n",
            "./Images/Images/d.5292c80d-ccce-11ec-905f-287fcffe570f.jpg\n",
            "./Images/Images/d.5465cd40-ccce-11ec-ae4c-287fcffe570f.xml\n",
            "./Images/Images/d.5465cd40-ccce-11ec-ae4c-287fcffe570f.jpg\n",
            "./Images/Images/d.56340ccd-ccce-11ec-b47c-287fcffe570f.xml\n",
            "./Images/Images/d.56340ccd-ccce-11ec-b47c-287fcffe570f.jpg\n",
            "./Images/Images/d.5804d31f-ccce-11ec-94c9-287fcffe570f.xml\n",
            "./Images/Images/d.5804d31f-ccce-11ec-94c9-287fcffe570f.jpg\n",
            "./Images/Images/d.59d21653-ccce-11ec-b981-287fcffe570f.xml\n",
            "./Images/Images/d.59d21653-ccce-11ec-b981-287fcffe570f.jpg\n",
            "./Images/Images/d.5ba0eae7-ccce-11ec-a49a-287fcffe570f.xml\n",
            "./Images/Images/d.5ba0eae7-ccce-11ec-a49a-287fcffe570f.jpg\n",
            "./Images/Images/d.5d703376-ccce-11ec-93dc-287fcffe570f.xml\n",
            "./Images/Images/d.5d703376-ccce-11ec-93dc-287fcffe570f.jpg\n",
            "./Images/Images/d.5f3f77d6-ccce-11ec-9068-287fcffe570f.xml\n",
            "./Images/Images/d.5f3f77d6-ccce-11ec-9068-287fcffe570f.jpg\n",
            "./Images/Images/d.610b0ba6-ccce-11ec-8ad9-287fcffe570f.xml\n",
            "./Images/Images/d.610b0ba6-ccce-11ec-8ad9-287fcffe570f.jpg\n",
            "./Images/Images/d.62da088f-ccce-11ec-a49b-287fcffe570f.xml\n",
            "./Images/Images/d.62da088f-ccce-11ec-a49b-287fcffe570f.jpg\n",
            "./Images/Images/d.64a8f7fa-ccce-11ec-97ab-287fcffe570f.xml\n",
            "./Images/Images/d.64a8f7fa-ccce-11ec-97ab-287fcffe570f.jpg\n",
            "./Images/Images/d.667880dd-ccce-11ec-a34c-287fcffe570f.xml\n",
            "./Images/Images/d.667880dd-ccce-11ec-a34c-287fcffe570f.jpg\n",
            "./Images/Images/d.684a54d1-ccce-11ec-8352-287fcffe570f.xml\n",
            "./Images/Images/d.684a54d1-ccce-11ec-8352-287fcffe570f.jpg\n",
            "./Images/Images/d.6a1a7e3a-ccce-11ec-bb0d-287fcffe570f.xml\n",
            "./Images/Images/d.6a1a7e3a-ccce-11ec-bb0d-287fcffe570f.jpg\n",
            "./Images/Images/e.706b7933-ccce-11ec-bb7a-287fcffe570f.xml\n",
            "./Images/Images/e.706b7933-ccce-11ec-bb7a-287fcffe570f.jpg\n",
            "./Images/Images/e.723e666e-ccce-11ec-857c-287fcffe570f.xml\n",
            "./Images/Images/e.723e666e-ccce-11ec-857c-287fcffe570f.jpg\n",
            "./Images/Images/e.740cd5cd-ccce-11ec-8119-287fcffe570f.xml\n",
            "./Images/Images/e.740cd5cd-ccce-11ec-8119-287fcffe570f.jpg\n",
            "./Images/Images/e.75dc3680-ccce-11ec-bc1d-287fcffe570f.xml\n",
            "./Images/Images/e.75dc3680-ccce-11ec-bc1d-287fcffe570f.jpg\n",
            "./Images/Images/e.77ab6e27-ccce-11ec-9b04-287fcffe570f.xml\n",
            "./Images/Images/e.77ab6e27-ccce-11ec-9b04-287fcffe570f.jpg\n",
            "./Images/Images/e.7978c5a9-ccce-11ec-92c2-287fcffe570f.xml\n",
            "./Images/Images/e.7978c5a9-ccce-11ec-92c2-287fcffe570f.jpg\n",
            "./Images/Images/e.7b45b596-ccce-11ec-9b3d-287fcffe570f.xml\n",
            "./Images/Images/e.7b45b596-ccce-11ec-9b3d-287fcffe570f.jpg\n",
            "./Images/Images/e.7d12a277-ccce-11ec-a69c-287fcffe570f.xml\n",
            "./Images/Images/e.7d12a277-ccce-11ec-a69c-287fcffe570f.jpg\n",
            "./Images/Images/e.7ee372ef-ccce-11ec-af73-287fcffe570f.xml\n",
            "./Images/Images/e.7ee372ef-ccce-11ec-af73-287fcffe570f.jpg\n",
            "./Images/Images/e.80b40641-ccce-11ec-843d-287fcffe570f.xml\n",
            "./Images/Images/e.80b40641-ccce-11ec-843d-287fcffe570f.jpg\n",
            "./Images/Images/e.828013ea-ccce-11ec-ba09-287fcffe570f.xml\n",
            "./Images/Images/e.828013ea-ccce-11ec-ba09-287fcffe570f.jpg\n",
            "./Images/Images/e.844ea44a-ccce-11ec-8fbc-287fcffe570f.xml\n",
            "./Images/Images/e.844ea44a-ccce-11ec-8fbc-287fcffe570f.jpg\n",
            "./Images/Images/e.861eb076-ccce-11ec-a161-287fcffe570f.xml\n",
            "./Images/Images/e.861eb076-ccce-11ec-a161-287fcffe570f.jpg\n",
            "./Images/Images/e.87ed15c1-ccce-11ec-b964-287fcffe570f.xml\n",
            "./Images/Images/e.87ed15c1-ccce-11ec-b964-287fcffe570f.jpg\n",
            "./Images/Images/e.89bc99e2-ccce-11ec-8568-287fcffe570f.xml\n",
            "./Images/Images/e.89bc99e2-ccce-11ec-8568-287fcffe570f.jpg\n",
            "./Images/Images/e.8b8aa6b2-ccce-11ec-8840-287fcffe570f.xml\n",
            "./Images/Images/e.8b8aa6b2-ccce-11ec-8840-287fcffe570f.jpg\n",
            "./Images/Images/e.8d5af5fb-ccce-11ec-9e9a-287fcffe570f.xml\n",
            "./Images/Images/e.8d5af5fb-ccce-11ec-9e9a-287fcffe570f.jpg\n",
            "./Images/Images/e.8f2a2723-ccce-11ec-bb29-287fcffe570f.xml\n",
            "./Images/Images/e.8f2a2723-ccce-11ec-bb29-287fcffe570f.jpg\n",
            "./Images/Images/e.90f893ce-ccce-11ec-ad87-287fcffe570f.xml\n",
            "./Images/Images/e.90f893ce-ccce-11ec-ad87-287fcffe570f.jpg\n",
            "./Images/Images/e.92c9d182-ccce-11ec-8a52-287fcffe570f.xml\n",
            "./Images/Images/e.92c9d182-ccce-11ec-8a52-287fcffe570f.jpg\n",
            "./Images/Images/f.9927e3b7-ccce-11ec-806c-287fcffe570f.xml\n",
            "./Images/Images/f.9927e3b7-ccce-11ec-806c-287fcffe570f.jpg\n",
            "./Images/Images/f.9af93d6d-ccce-11ec-a758-287fcffe570f.xml\n",
            "./Images/Images/f.9af93d6d-ccce-11ec-a758-287fcffe570f.jpg\n",
            "./Images/Images/f.9cc6d6a7-ccce-11ec-98d9-287fcffe570f.xml\n",
            "./Images/Images/f.9cc6d6a7-ccce-11ec-98d9-287fcffe570f.jpg\n",
            "./Images/Images/f.9e964ccb-ccce-11ec-b078-287fcffe570f.xml\n",
            "./Images/Images/f.9e964ccb-ccce-11ec-b078-287fcffe570f.jpg\n",
            "./Images/Images/f.a065baba-ccce-11ec-a23f-287fcffe570f.xml\n",
            "./Images/Images/f.a065baba-ccce-11ec-a23f-287fcffe570f.jpg\n",
            "./Images/Images/f.a23526e5-ccce-11ec-8b6a-287fcffe570f.xml\n",
            "./Images/Images/f.a23526e5-ccce-11ec-8b6a-287fcffe570f.jpg\n",
            "./Images/Images/f.a404720c-ccce-11ec-98a4-287fcffe570f.xml\n",
            "./Images/Images/f.a404720c-ccce-11ec-98a4-287fcffe570f.jpg\n",
            "./Images/Images/f.a5d55eac-ccce-11ec-8db4-287fcffe570f.xml\n",
            "./Images/Images/f.a5d55eac-ccce-11ec-8db4-287fcffe570f.jpg\n",
            "./Images/Images/f.a7a58972-ccce-11ec-b7e9-287fcffe570f.xml\n",
            "./Images/Images/f.a7a58972-ccce-11ec-b7e9-287fcffe570f.jpg\n",
            "./Images/Images/f.a976ef97-ccce-11ec-bf41-287fcffe570f.xml\n",
            "./Images/Images/f.a976ef97-ccce-11ec-bf41-287fcffe570f.jpg\n",
            "./Images/Images/f.ab453203-ccce-11ec-91e9-287fcffe570f.xml\n",
            "./Images/Images/f.ab453203-ccce-11ec-91e9-287fcffe570f.jpg\n",
            "./Images/Images/f.ad1510dd-ccce-11ec-90e9-287fcffe570f.xml\n",
            "./Images/Images/f.ad1510dd-ccce-11ec-90e9-287fcffe570f.jpg\n",
            "./Images/Images/f.aee2c9e6-ccce-11ec-b273-287fcffe570f.xml\n",
            "./Images/Images/f.aee2c9e6-ccce-11ec-b273-287fcffe570f.jpg\n",
            "./Images/Images/f.b0b284bc-ccce-11ec-ab64-287fcffe570f.xml\n",
            "./Images/Images/f.b0b284bc-ccce-11ec-ab64-287fcffe570f.jpg\n",
            "./Images/Images/f.b2808b45-ccce-11ec-933b-287fcffe570f.xml\n",
            "./Images/Images/f.b2808b45-ccce-11ec-933b-287fcffe570f.jpg\n",
            "./Images/Images/f.b45073e1-ccce-11ec-bdb9-287fcffe570f.xml\n",
            "./Images/Images/f.b45073e1-ccce-11ec-bdb9-287fcffe570f.jpg\n",
            "./Images/Images/f.b62135a9-ccce-11ec-b57b-287fcffe570f.xml\n",
            "./Images/Images/f.b62135a9-ccce-11ec-b57b-287fcffe570f.jpg\n",
            "./Images/Images/f.b7f336af-ccce-11ec-8da9-287fcffe570f.xml\n",
            "./Images/Images/f.b7f336af-ccce-11ec-8da9-287fcffe570f.jpg\n",
            "./Images/Images/f.b9c41230-ccce-11ec-bfc7-287fcffe570f.xml\n",
            "./Images/Images/f.b9c41230-ccce-11ec-bfc7-287fcffe570f.jpg\n",
            "./Images/Images/f.bb8f72bd-ccce-11ec-b98e-287fcffe570f.xml\n",
            "./Images/Images/f.bb8f72bd-ccce-11ec-b98e-287fcffe570f.jpg\n",
            "./Images/Images/g.c1d659c9-ccce-11ec-9be9-287fcffe570f.xml\n",
            "./Images/Images/g.c1d659c9-ccce-11ec-9be9-287fcffe570f.jpg\n",
            "./Images/Images/g.c3a69808-ccce-11ec-a4c0-287fcffe570f.xml\n",
            "./Images/Images/g.c3a69808-ccce-11ec-a4c0-287fcffe570f.jpg\n",
            "./Images/Images/g.c573566b-ccce-11ec-a1c9-287fcffe570f.xml\n",
            "./Images/Images/g.c573566b-ccce-11ec-a1c9-287fcffe570f.jpg\n",
            "./Images/Images/g.c741ae7b-ccce-11ec-ba4e-287fcffe570f.xml\n",
            "./Images/Images/g.c741ae7b-ccce-11ec-ba4e-287fcffe570f.jpg\n",
            "./Images/Images/g.c90fac0c-ccce-11ec-908c-287fcffe570f.xml\n",
            "./Images/Images/g.c90fac0c-ccce-11ec-908c-287fcffe570f.jpg\n",
            "./Images/Images/g.cadf745c-ccce-11ec-8dd4-287fcffe570f.xml\n",
            "./Images/Images/g.cadf745c-ccce-11ec-8dd4-287fcffe570f.jpg\n",
            "./Images/Images/g.ccaf11a2-ccce-11ec-8782-287fcffe570f.xml\n",
            "./Images/Images/g.ccaf11a2-ccce-11ec-8782-287fcffe570f.jpg\n",
            "./Images/Images/g.ce7ce3dd-ccce-11ec-81dd-287fcffe570f.xml\n",
            "./Images/Images/g.ce7ce3dd-ccce-11ec-81dd-287fcffe570f.jpg\n",
            "./Images/Images/g.d04e8c89-ccce-11ec-a793-287fcffe570f.xml\n",
            "./Images/Images/g.d04e8c89-ccce-11ec-a793-287fcffe570f.jpg\n",
            "./Images/Images/g.d21c57f9-ccce-11ec-b658-287fcffe570f.xml\n",
            "./Images/Images/g.d21c57f9-ccce-11ec-b658-287fcffe570f.jpg\n",
            "./Images/Images/g.d3ec2b89-ccce-11ec-8e28-287fcffe570f.xml\n",
            "./Images/Images/g.d3ec2b89-ccce-11ec-8e28-287fcffe570f.jpg\n",
            "./Images/Images/g.d5bcc040-ccce-11ec-a228-287fcffe570f.xml\n",
            "./Images/Images/g.d5bcc040-ccce-11ec-a228-287fcffe570f.jpg\n",
            "./Images/Images/g.d78f2fa5-ccce-11ec-880e-287fcffe570f.xml\n",
            "./Images/Images/g.d78f2fa5-ccce-11ec-880e-287fcffe570f.jpg\n",
            "./Images/Images/g.d95bf4ea-ccce-11ec-a08b-287fcffe570f.xml\n",
            "./Images/Images/g.d95bf4ea-ccce-11ec-a08b-287fcffe570f.jpg\n",
            "./Images/Images/g.db2a73d3-ccce-11ec-af87-287fcffe570f.xml\n",
            "./Images/Images/g.db2a73d3-ccce-11ec-af87-287fcffe570f.jpg\n",
            "./Images/Images/g.dcfa9bf9-ccce-11ec-9860-287fcffe570f.xml\n",
            "./Images/Images/g.dcfa9bf9-ccce-11ec-9860-287fcffe570f.jpg\n",
            "./Images/Images/g.decb1629-ccce-11ec-a852-287fcffe570f.xml\n",
            "./Images/Images/g.decb1629-ccce-11ec-a852-287fcffe570f.jpg\n",
            "./Images/Images/g.e09c0467-ccce-11ec-97e1-287fcffe570f.xml\n",
            "./Images/Images/g.e09c0467-ccce-11ec-97e1-287fcffe570f.jpg\n",
            "./Images/Images/g.e269e936-ccce-11ec-bb1d-287fcffe570f.xml\n",
            "./Images/Images/g.e269e936-ccce-11ec-bb1d-287fcffe570f.jpg\n",
            "./Images/Images/g.e43acac9-ccce-11ec-9836-287fcffe570f.xml\n",
            "./Images/Images/g.e43acac9-ccce-11ec-9836-287fcffe570f.jpg\n",
            "./Images/Images/h.00475ca6-cccf-11ec-a18c-287fcffe570f.xml\n",
            "./Images/Images/h.00475ca6-cccf-11ec-a18c-287fcffe570f.jpg\n",
            "./Images/Images/h.0219cb09-cccf-11ec-a2fc-287fcffe570f.xml\n",
            "./Images/Images/h.0219cb09-cccf-11ec-a2fc-287fcffe570f.jpg\n",
            "./Images/Images/h.03e7bc06-cccf-11ec-84a6-287fcffe570f.xml\n",
            "./Images/Images/h.03e7bc06-cccf-11ec-84a6-287fcffe570f.jpg\n",
            "./Images/Images/h.05b6af4b-cccf-11ec-8da7-287fcffe570f.xml\n",
            "./Images/Images/h.05b6af4b-cccf-11ec-8da7-287fcffe570f.jpg\n",
            "./Images/Images/h.0786671a-cccf-11ec-bf47-287fcffe570f.xml\n",
            "./Images/Images/h.0786671a-cccf-11ec-bf47-287fcffe570f.jpg\n",
            "./Images/Images/h.0957ba7f-cccf-11ec-a381-287fcffe570f.xml\n",
            "./Images/Images/h.0957ba7f-cccf-11ec-a381-287fcffe570f.jpg\n",
            "./Images/Images/h.0b275b27-cccf-11ec-bfa6-287fcffe570f.xml\n",
            "./Images/Images/h.0b275b27-cccf-11ec-bfa6-287fcffe570f.jpg\n",
            "./Images/Images/h.0cf5664b-cccf-11ec-a3e1-287fcffe570f.xml\n",
            "./Images/Images/h.0cf5664b-cccf-11ec-a3e1-287fcffe570f.jpg\n",
            "./Images/Images/h.ea878c9f-ccce-11ec-9a4f-287fcffe570f.xml\n",
            "./Images/Images/h.ea878c9f-ccce-11ec-9a4f-287fcffe570f.jpg\n",
            "./Images/Images/h.ec5c3ffd-ccce-11ec-958d-287fcffe570f.xml\n",
            "./Images/Images/h.ec5c3ffd-ccce-11ec-958d-287fcffe570f.jpg\n",
            "./Images/Images/h.ee2aee07-ccce-11ec-b718-287fcffe570f.xml\n",
            "./Images/Images/h.ee2aee07-ccce-11ec-b718-287fcffe570f.jpg\n",
            "./Images/Images/h.effa424a-ccce-11ec-9402-287fcffe570f.xml\n",
            "./Images/Images/h.effa424a-ccce-11ec-9402-287fcffe570f.jpg\n",
            "./Images/Images/h.f1cb6d18-ccce-11ec-bd46-287fcffe570f.xml\n",
            "./Images/Images/h.f1cb6d18-ccce-11ec-bd46-287fcffe570f.jpg\n",
            "./Images/Images/h.f39b0867-ccce-11ec-a137-287fcffe570f.xml\n",
            "./Images/Images/h.f39b0867-ccce-11ec-a137-287fcffe570f.jpg\n",
            "./Images/Images/h.f56cf9d3-ccce-11ec-9a3a-287fcffe570f.xml\n",
            "./Images/Images/h.f56cf9d3-ccce-11ec-9a3a-287fcffe570f.jpg\n",
            "./Images/Images/h.f73d9b6f-ccce-11ec-9b6a-287fcffe570f.xml\n",
            "./Images/Images/h.f73d9b6f-ccce-11ec-9b6a-287fcffe570f.jpg\n",
            "./Images/Images/h.f90c0510-ccce-11ec-8c2e-287fcffe570f.xml\n",
            "./Images/Images/h.f90c0510-ccce-11ec-8c2e-287fcffe570f.jpg\n",
            "./Images/Images/h.fadb99bb-ccce-11ec-8be8-287fcffe570f.xml\n",
            "./Images/Images/h.fadb99bb-ccce-11ec-8be8-287fcffe570f.jpg\n",
            "./Images/Images/h.fcad52e7-ccce-11ec-9a66-287fcffe570f.xml\n",
            "./Images/Images/h.fcad52e7-ccce-11ec-9a66-287fcffe570f.jpg\n",
            "./Images/Images/h.fe796210-ccce-11ec-88de-287fcffe570f.xml\n",
            "./Images/Images/h.fe796210-ccce-11ec-88de-287fcffe570f.jpg\n",
            "./Images/Images/hello.071c8e01-cccc-11ec-93b6-287fcffe570f.xml\n",
            "./Images/Images/hello.071c8e01-cccc-11ec-93b6-287fcffe570f.jpg\n",
            "./Images/Images/hello.8a5f13e3-cccc-11ec-bf13-287fcffe570f.xml\n",
            "./Images/Images/hello.8a5f13e3-cccc-11ec-bf13-287fcffe570f.jpg\n",
            "./Images/Images/hello.8c2e6c44-cccc-11ec-b8e0-287fcffe570f.xml\n",
            "./Images/Images/hello.8c2e6c44-cccc-11ec-b8e0-287fcffe570f.jpg\n",
            "./Images/Images/hello.8e007380-cccc-11ec-814a-287fcffe570f.xml\n",
            "./Images/Images/hello.8e007380-cccc-11ec-814a-287fcffe570f.jpg\n",
            "./Images/Images/hello.8fd2ce39-cccc-11ec-9788-287fcffe570f.xml\n",
            "./Images/Images/hello.8fd2ce39-cccc-11ec-9788-287fcffe570f.jpg\n",
            "./Images/Images/hello.91a0b0d6-cccc-11ec-b251-287fcffe570f.xml\n",
            "./Images/Images/hello.91a0b0d6-cccc-11ec-b251-287fcffe570f.jpg\n",
            "./Images/Images/hello.937049fa-cccc-11ec-8eaf-287fcffe570f.xml\n",
            "./Images/Images/hello.937049fa-cccc-11ec-8eaf-287fcffe570f.jpg\n",
            "./Images/Images/hello.953e77b2-cccc-11ec-9f13-287fcffe570f.xml\n",
            "./Images/Images/hello.953e77b2-cccc-11ec-9f13-287fcffe570f.jpg\n",
            "./Images/Images/hello.970aee56-cccc-11ec-835c-287fcffe570f.xml\n",
            "./Images/Images/hello.970aee56-cccc-11ec-835c-287fcffe570f.jpg\n",
            "./Images/Images/hello.98dc9b37-cccc-11ec-b8fa-287fcffe570f.xml\n",
            "./Images/Images/hello.98dc9b37-cccc-11ec-b8fa-287fcffe570f.jpg\n",
            "./Images/Images/hello.9aac97e6-cccc-11ec-bda2-287fcffe570f.xml\n",
            "./Images/Images/hello.9aac97e6-cccc-11ec-bda2-287fcffe570f.jpg\n",
            "./Images/Images/hello.9c7d6b51-cccc-11ec-9a7e-287fcffe570f.xml\n",
            "./Images/Images/hello.9c7d6b51-cccc-11ec-9a7e-287fcffe570f.jpg\n",
            "./Images/Images/hello.9e4cddac-cccc-11ec-a62d-287fcffe570f.xml\n",
            "./Images/Images/hello.9e4cddac-cccc-11ec-a62d-287fcffe570f.jpg\n",
            "./Images/Images/hello.a01d3ab5-cccc-11ec-bc9c-287fcffe570f.xml\n",
            "./Images/Images/hello.a01d3ab5-cccc-11ec-bc9c-287fcffe570f.jpg\n",
            "./Images/Images/hello.a1ec342b-cccc-11ec-a1e4-287fcffe570f.xml\n",
            "./Images/Images/hello.a1ec342b-cccc-11ec-a1e4-287fcffe570f.jpg\n",
            "./Images/Images/hello.a3bda944-cccc-11ec-9bfd-287fcffe570f.xml\n",
            "./Images/Images/hello.a3bda944-cccc-11ec-9bfd-287fcffe570f.jpg\n",
            "./Images/Images/hello.a589d44d-cccc-11ec-8235-287fcffe570f.xml\n",
            "./Images/Images/hello.a589d44d-cccc-11ec-8235-287fcffe570f.jpg\n",
            "./Images/Images/hello.a75ae2b2-cccc-11ec-8731-287fcffe570f.xml\n",
            "./Images/Images/hello.a75ae2b2-cccc-11ec-8731-287fcffe570f.jpg\n",
            "./Images/Images/hello.a92b7251-cccc-11ec-bfd6-287fcffe570f.xml\n",
            "./Images/Images/hello.a92b7251-cccc-11ec-bfd6-287fcffe570f.jpg\n",
            "./Images/Images/hello.aafa9719-cccc-11ec-8ff0-287fcffe570f.xml\n",
            "./Images/Images/hello.aafa9719-cccc-11ec-8ff0-287fcffe570f.jpg\n",
            "./Images/Images/i.1354867c-cccf-11ec-a88d-287fcffe570f.xml\n",
            "./Images/Images/i.1354867c-cccf-11ec-a88d-287fcffe570f.jpg\n",
            "./Images/Images/i.1527fb72-cccf-11ec-8b6a-287fcffe570f.xml\n",
            "./Images/Images/i.1527fb72-cccf-11ec-8b6a-287fcffe570f.jpg\n",
            "./Images/Images/i.16f75ec6-cccf-11ec-9044-287fcffe570f.xml\n",
            "./Images/Images/i.16f75ec6-cccf-11ec-9044-287fcffe570f.jpg\n",
            "./Images/Images/i.18c6b3ae-cccf-11ec-a461-287fcffe570f.xml\n",
            "./Images/Images/i.18c6b3ae-cccf-11ec-a461-287fcffe570f.jpg\n",
            "./Images/Images/i.1a972977-cccf-11ec-8c4a-287fcffe570f.xml\n",
            "./Images/Images/i.1a972977-cccf-11ec-8c4a-287fcffe570f.jpg\n",
            "./Images/Images/i.1c66fa28-cccf-11ec-85c9-287fcffe570f.xml\n",
            "./Images/Images/i.1c66fa28-cccf-11ec-85c9-287fcffe570f.jpg\n",
            "./Images/Images/i.1e35a000-cccf-11ec-948d-287fcffe570f.xml\n",
            "./Images/Images/i.1e35a000-cccf-11ec-948d-287fcffe570f.jpg\n",
            "./Images/Images/i.2004cf1d-cccf-11ec-81c7-287fcffe570f.xml\n",
            "./Images/Images/i.2004cf1d-cccf-11ec-81c7-287fcffe570f.jpg\n",
            "./Images/Images/i.21d31388-cccf-11ec-a7f6-287fcffe570f.xml\n",
            "./Images/Images/i.21d31388-cccf-11ec-a7f6-287fcffe570f.jpg\n",
            "./Images/Images/i.23a0bff4-cccf-11ec-8981-287fcffe570f.xml\n",
            "./Images/Images/i.23a0bff4-cccf-11ec-8981-287fcffe570f.jpg\n",
            "./Images/Images/i.256f5de8-cccf-11ec-a898-287fcffe570f.xml\n",
            "./Images/Images/i.256f5de8-cccf-11ec-a898-287fcffe570f.jpg\n",
            "./Images/Images/i.273edb08-cccf-11ec-83a5-287fcffe570f.xml\n",
            "./Images/Images/i.273edb08-cccf-11ec-83a5-287fcffe570f.jpg\n",
            "./Images/Images/i.290fcf76-cccf-11ec-a8dd-287fcffe570f.xml\n",
            "./Images/Images/i.290fcf76-cccf-11ec-a8dd-287fcffe570f.jpg\n",
            "./Images/Images/i.2adeeb6f-cccf-11ec-a916-287fcffe570f.xml\n",
            "./Images/Images/i.2adeeb6f-cccf-11ec-a916-287fcffe570f.jpg\n",
            "./Images/Images/i.2cae2ef5-cccf-11ec-b0ef-287fcffe570f.xml\n",
            "./Images/Images/i.2cae2ef5-cccf-11ec-b0ef-287fcffe570f.jpg\n",
            "./Images/Images/i.2e80fc96-cccf-11ec-8752-287fcffe570f.xml\n",
            "./Images/Images/i.2e80fc96-cccf-11ec-8752-287fcffe570f.jpg\n",
            "./Images/Images/i.304ebe14-cccf-11ec-a743-287fcffe570f.xml\n",
            "./Images/Images/i.304ebe14-cccf-11ec-a743-287fcffe570f.jpg\n",
            "./Images/Images/i.321c93e3-cccf-11ec-86ab-287fcffe570f.xml\n",
            "./Images/Images/i.321c93e3-cccf-11ec-86ab-287fcffe570f.jpg\n",
            "./Images/Images/i.33ea3165-cccf-11ec-a524-287fcffe570f.xml\n",
            "./Images/Images/i.33ea3165-cccf-11ec-a524-287fcffe570f.jpg\n",
            "./Images/Images/i.35bd0182-cccf-11ec-9e4c-287fcffe570f.xml\n",
            "./Images/Images/i.35bd0182-cccf-11ec-9e4c-287fcffe570f.jpg\n",
            "./Images/Images/j.3c1f7009-cccf-11ec-b8d5-287fcffe570f.xml\n",
            "./Images/Images/j.3c1f7009-cccf-11ec-b8d5-287fcffe570f.jpg\n",
            "./Images/Images/j.3df4c86c-cccf-11ec-a5a6-287fcffe570f.xml\n",
            "./Images/Images/j.3df4c86c-cccf-11ec-a5a6-287fcffe570f.jpg\n",
            "./Images/Images/j.3fc47b20-cccf-11ec-8ac2-287fcffe570f.xml\n",
            "./Images/Images/j.3fc47b20-cccf-11ec-8ac2-287fcffe570f.jpg\n",
            "./Images/Images/j.41926781-cccf-11ec-8e39-287fcffe570f.xml\n",
            "./Images/Images/j.41926781-cccf-11ec-8e39-287fcffe570f.jpg\n",
            "./Images/Images/j.4361bbec-cccf-11ec-a14a-287fcffe570f.xml\n",
            "./Images/Images/j.4361bbec-cccf-11ec-a14a-287fcffe570f.jpg\n",
            "./Images/Images/j.4530109b-cccf-11ec-9c16-287fcffe570f.xml\n",
            "./Images/Images/j.4530109b-cccf-11ec-9c16-287fcffe570f.jpg\n",
            "./Images/Images/j.46fe8913-cccf-11ec-99b0-287fcffe570f.xml\n",
            "./Images/Images/j.46fe8913-cccf-11ec-99b0-287fcffe570f.jpg\n",
            "./Images/Images/j.48cfb4f1-cccf-11ec-b51b-287fcffe570f.xml\n",
            "./Images/Images/j.48cfb4f1-cccf-11ec-b51b-287fcffe570f.jpg\n",
            "./Images/Images/j.4a9b3cf9-cccf-11ec-99c2-287fcffe570f.xml\n",
            "./Images/Images/j.4a9b3cf9-cccf-11ec-99c2-287fcffe570f.jpg\n",
            "./Images/Images/j.4c6bb763-cccf-11ec-8457-287fcffe570f.xml\n",
            "./Images/Images/j.4c6bb763-cccf-11ec-8457-287fcffe570f.jpg\n",
            "./Images/Images/j.4e3c8df9-cccf-11ec-b9f1-287fcffe570f.xml\n",
            "./Images/Images/j.4e3c8df9-cccf-11ec-b9f1-287fcffe570f.jpg\n",
            "./Images/Images/j.500d3bbd-cccf-11ec-a152-287fcffe570f.xml\n",
            "./Images/Images/j.500d3bbd-cccf-11ec-a152-287fcffe570f.jpg\n",
            "./Images/Images/j.51dd2993-cccf-11ec-9cba-287fcffe570f.xml\n",
            "./Images/Images/j.51dd2993-cccf-11ec-9cba-287fcffe570f.jpg\n",
            "./Images/Images/j.53ae337f-cccf-11ec-b904-287fcffe570f.xml\n",
            "./Images/Images/j.53ae337f-cccf-11ec-b904-287fcffe570f.jpg\n",
            "./Images/Images/j.557da5de-cccf-11ec-8a0e-287fcffe570f.xml\n",
            "./Images/Images/j.557da5de-cccf-11ec-8a0e-287fcffe570f.jpg\n",
            "./Images/Images/j.574e6836-cccf-11ec-809d-287fcffe570f.xml\n",
            "./Images/Images/j.574e6836-cccf-11ec-809d-287fcffe570f.jpg\n",
            "./Images/Images/j.591db12b-cccf-11ec-92d0-287fcffe570f.xml\n",
            "./Images/Images/j.591db12b-cccf-11ec-92d0-287fcffe570f.jpg\n",
            "./Images/Images/j.5aec9779-cccf-11ec-9269-287fcffe570f.xml\n",
            "./Images/Images/j.5aec9779-cccf-11ec-9269-287fcffe570f.jpg\n",
            "./Images/Images/j.5cbe92ce-cccf-11ec-9269-287fcffe570f.xml\n",
            "./Images/Images/j.5cbe92ce-cccf-11ec-9269-287fcffe570f.jpg\n",
            "./Images/Images/j.5e8abada-cccf-11ec-beea-287fcffe570f.xml\n",
            "./Images/Images/j.5e8abada-cccf-11ec-beea-287fcffe570f.jpg\n",
            "./Images/Images/k.64eb4436-cccf-11ec-a4e4-287fcffe570f.xml\n",
            "./Images/Images/k.64eb4436-cccf-11ec-a4e4-287fcffe570f.jpg\n",
            "./Images/Images/k.66bfb5b8-cccf-11ec-a47b-287fcffe570f.xml\n",
            "./Images/Images/k.66bfb5b8-cccf-11ec-a47b-287fcffe570f.jpg\n",
            "./Images/Images/k.688f7111-cccf-11ec-ab86-287fcffe570f.xml\n",
            "./Images/Images/k.688f7111-cccf-11ec-ab86-287fcffe570f.jpg\n",
            "./Images/Images/k.6a5d44cb-cccf-11ec-aa28-287fcffe570f.xml\n",
            "./Images/Images/k.6a5d44cb-cccf-11ec-aa28-287fcffe570f.jpg\n",
            "./Images/Images/k.6c2cc2d6-cccf-11ec-bb1e-287fcffe570f.xml\n",
            "./Images/Images/k.6c2cc2d6-cccf-11ec-bb1e-287fcffe570f.jpg\n",
            "./Images/Images/k.6dfddb80-cccf-11ec-b2aa-287fcffe570f.xml\n",
            "./Images/Images/k.6dfddb80-cccf-11ec-b2aa-287fcffe570f.jpg\n",
            "./Images/Images/k.6fcb3123-cccf-11ec-abe1-287fcffe570f.xml\n",
            "./Images/Images/k.6fcb3123-cccf-11ec-abe1-287fcffe570f.jpg\n",
            "./Images/Images/k.71996282-cccf-11ec-bf3b-287fcffe570f.xml\n",
            "./Images/Images/k.71996282-cccf-11ec-bf3b-287fcffe570f.jpg\n",
            "./Images/Images/k.7369ac80-cccf-11ec-a519-287fcffe570f.xml\n",
            "./Images/Images/k.7369ac80-cccf-11ec-a519-287fcffe570f.jpg\n",
            "./Images/Images/k.7539529e-cccf-11ec-802f-287fcffe570f.xml\n",
            "./Images/Images/k.7539529e-cccf-11ec-802f-287fcffe570f.jpg\n",
            "./Images/Images/k.7709a41e-cccf-11ec-b8eb-287fcffe570f.xml\n",
            "./Images/Images/k.7709a41e-cccf-11ec-b8eb-287fcffe570f.jpg\n",
            "./Images/Images/k.78d775ea-cccf-11ec-876f-287fcffe570f.xml\n",
            "./Images/Images/k.78d775ea-cccf-11ec-876f-287fcffe570f.jpg\n",
            "./Images/Images/k.7aa51e04-cccf-11ec-99b5-287fcffe570f.xml\n",
            "./Images/Images/k.7aa51e04-cccf-11ec-99b5-287fcffe570f.jpg\n",
            "./Images/Images/k.7c733a5e-cccf-11ec-a03d-287fcffe570f.xml\n",
            "./Images/Images/k.7c733a5e-cccf-11ec-a03d-287fcffe570f.jpg\n",
            "./Images/Images/k.7e40ca19-cccf-11ec-bfa2-287fcffe570f.xml\n",
            "./Images/Images/k.7e40ca19-cccf-11ec-bfa2-287fcffe570f.jpg\n",
            "./Images/Images/k.8010f3b7-cccf-11ec-8431-287fcffe570f.xml\n",
            "./Images/Images/k.8010f3b7-cccf-11ec-8431-287fcffe570f.jpg\n",
            "./Images/Images/k.81e129aa-cccf-11ec-b445-287fcffe570f.xml\n",
            "./Images/Images/k.81e129aa-cccf-11ec-b445-287fcffe570f.jpg\n",
            "./Images/Images/k.83acbc24-cccf-11ec-a3ef-287fcffe570f.xml\n",
            "./Images/Images/k.83acbc24-cccf-11ec-a3ef-287fcffe570f.jpg\n",
            "./Images/Images/k.857b1203-cccf-11ec-8f83-287fcffe570f.xml\n",
            "./Images/Images/k.857b1203-cccf-11ec-8f83-287fcffe570f.jpg\n",
            "./Images/Images/k.874849ca-cccf-11ec-92a7-287fcffe570f.xml\n",
            "./Images/Images/k.874849ca-cccf-11ec-92a7-287fcffe570f.jpg\n",
            "./Images/Images/l.8d9a3e7d-cccf-11ec-9d47-287fcffe570f.xml\n",
            "./Images/Images/l.8d9a3e7d-cccf-11ec-9d47-287fcffe570f.jpg\n",
            "./Images/Images/l.8f701ae6-cccf-11ec-b0a2-287fcffe570f.xml\n",
            "./Images/Images/l.8f701ae6-cccf-11ec-b0a2-287fcffe570f.jpg\n",
            "./Images/Images/l.913f08d6-cccf-11ec-a16a-287fcffe570f.xml\n",
            "./Images/Images/l.913f08d6-cccf-11ec-a16a-287fcffe570f.jpg\n",
            "./Images/Images/l.930d3689-cccf-11ec-aa2e-287fcffe570f.xml\n",
            "./Images/Images/l.930d3689-cccf-11ec-aa2e-287fcffe570f.jpg\n",
            "./Images/Images/l.94dcf955-cccf-11ec-bb44-287fcffe570f.xml\n",
            "./Images/Images/l.94dcf955-cccf-11ec-bb44-287fcffe570f.jpg\n",
            "./Images/Images/l.96ab3da9-cccf-11ec-b98b-287fcffe570f.xml\n",
            "./Images/Images/l.96ab3da9-cccf-11ec-b98b-287fcffe570f.jpg\n",
            "./Images/Images/l.987ba96b-cccf-11ec-af82-287fcffe570f.xml\n",
            "./Images/Images/l.987ba96b-cccf-11ec-af82-287fcffe570f.jpg\n",
            "./Images/Images/l.9a4a69e7-cccf-11ec-8e7b-287fcffe570f.xml\n",
            "./Images/Images/l.9a4a69e7-cccf-11ec-8e7b-287fcffe570f.jpg\n",
            "./Images/Images/l.9c1a4eb5-cccf-11ec-8e2d-287fcffe570f.xml\n",
            "./Images/Images/l.9c1a4eb5-cccf-11ec-8e2d-287fcffe570f.jpg\n",
            "./Images/Images/l.9de97652-cccf-11ec-9cc8-287fcffe570f.xml\n",
            "./Images/Images/l.9de97652-cccf-11ec-9cc8-287fcffe570f.jpg\n",
            "./Images/Images/l.9fbb33f4-cccf-11ec-ba1a-287fcffe570f.xml\n",
            "./Images/Images/l.9fbb33f4-cccf-11ec-ba1a-287fcffe570f.jpg\n",
            "./Images/Images/l.a18c969b-cccf-11ec-8eac-287fcffe570f.xml\n",
            "./Images/Images/l.a18c969b-cccf-11ec-8eac-287fcffe570f.jpg\n",
            "./Images/Images/l.a35d2326-cccf-11ec-a55a-287fcffe570f.xml\n",
            "./Images/Images/l.a35d2326-cccf-11ec-a55a-287fcffe570f.jpg\n",
            "./Images/Images/l.a52c507d-cccf-11ec-a99a-287fcffe570f.xml\n",
            "./Images/Images/l.a52c507d-cccf-11ec-a99a-287fcffe570f.jpg\n",
            "./Images/Images/l.a6fdc924-cccf-11ec-933f-287fcffe570f.xml\n",
            "./Images/Images/l.a6fdc924-cccf-11ec-933f-287fcffe570f.jpg\n",
            "./Images/Images/l.a8cbe9ee-cccf-11ec-b19c-287fcffe570f.xml\n",
            "./Images/Images/l.a8cbe9ee-cccf-11ec-b19c-287fcffe570f.jpg\n",
            "./Images/Images/l.aa9ad464-cccf-11ec-9246-287fcffe570f.xml\n",
            "./Images/Images/l.aa9ad464-cccf-11ec-9246-287fcffe570f.jpg\n",
            "./Images/Images/l.ac6c340f-cccf-11ec-a802-287fcffe570f.xml\n",
            "./Images/Images/l.ac6c340f-cccf-11ec-a802-287fcffe570f.jpg\n",
            "./Images/Images/l.ae3aa884-cccf-11ec-8d6b-287fcffe570f.xml\n",
            "./Images/Images/l.ae3aa884-cccf-11ec-8d6b-287fcffe570f.jpg\n",
            "./Images/Images/l.b00aa532-cccf-11ec-ba97-287fcffe570f.xml\n",
            "./Images/Images/l.b00aa532-cccf-11ec-ba97-287fcffe570f.jpg\n",
            "./Images/Images/m.b6581c7a-cccf-11ec-997a-287fcffe570f.xml\n",
            "./Images/Images/m.b6581c7a-cccf-11ec-997a-287fcffe570f.jpg\n",
            "./Images/Images/m.b82b49d6-cccf-11ec-b77d-287fcffe570f.xml\n",
            "./Images/Images/m.b82b49d6-cccf-11ec-b77d-287fcffe570f.jpg\n",
            "./Images/Images/m.b9fa1a55-cccf-11ec-acd8-287fcffe570f.xml\n",
            "./Images/Images/m.b9fa1a55-cccf-11ec-acd8-287fcffe570f.jpg\n",
            "./Images/Images/m.bbc86b56-cccf-11ec-b15f-287fcffe570f.xml\n",
            "./Images/Images/m.bbc86b56-cccf-11ec-b15f-287fcffe570f.jpg\n",
            "./Images/Images/m.bd989137-cccf-11ec-84f4-287fcffe570f.xml\n",
            "./Images/Images/m.bd989137-cccf-11ec-84f4-287fcffe570f.jpg\n",
            "./Images/Images/m.bf670b45-cccf-11ec-b66a-287fcffe570f.xml\n",
            "./Images/Images/m.bf670b45-cccf-11ec-b66a-287fcffe570f.jpg\n",
            "./Images/Images/m.c136ecf7-cccf-11ec-a4da-287fcffe570f.xml\n",
            "./Images/Images/m.c136ecf7-cccf-11ec-a4da-287fcffe570f.jpg\n",
            "./Images/Images/m.c307138b-cccf-11ec-b48b-287fcffe570f.xml\n",
            "./Images/Images/m.c307138b-cccf-11ec-b48b-287fcffe570f.jpg\n",
            "./Images/Images/m.c4d6975f-cccf-11ec-8be2-287fcffe570f.xml\n",
            "./Images/Images/m.c4d6975f-cccf-11ec-8be2-287fcffe570f.jpg\n",
            "./Images/Images/m.c6a2659e-cccf-11ec-b947-287fcffe570f.xml\n",
            "./Images/Images/m.c6a2659e-cccf-11ec-b947-287fcffe570f.jpg\n",
            "./Images/Images/m.c8707701-cccf-11ec-9661-287fcffe570f.xml\n",
            "./Images/Images/m.c8707701-cccf-11ec-9661-287fcffe570f.jpg\n",
            "./Images/Images/m.ca403c63-cccf-11ec-b7dc-287fcffe570f.xml\n",
            "./Images/Images/m.ca403c63-cccf-11ec-b7dc-287fcffe570f.jpg\n",
            "./Images/Images/m.cc0f9b8b-cccf-11ec-a2fd-287fcffe570f.xml\n",
            "./Images/Images/m.cc0f9b8b-cccf-11ec-a2fd-287fcffe570f.jpg\n",
            "./Images/Images/m.cddfc209-cccf-11ec-8345-287fcffe570f.xml\n",
            "./Images/Images/m.cddfc209-cccf-11ec-8345-287fcffe570f.jpg\n",
            "./Images/Images/m.cfaf8fec-cccf-11ec-8275-287fcffe570f.xml\n",
            "./Images/Images/m.cfaf8fec-cccf-11ec-8275-287fcffe570f.jpg\n",
            "./Images/Images/m.d17e5d51-cccf-11ec-a3fd-287fcffe570f.xml\n",
            "./Images/Images/m.d17e5d51-cccf-11ec-a3fd-287fcffe570f.jpg\n",
            "./Images/Images/m.d34f1753-cccf-11ec-bb2f-287fcffe570f.xml\n",
            "./Images/Images/m.d34f1753-cccf-11ec-bb2f-287fcffe570f.jpg\n",
            "./Images/Images/m.d51ebcf6-cccf-11ec-b100-287fcffe570f.xml\n",
            "./Images/Images/m.d51ebcf6-cccf-11ec-b100-287fcffe570f.jpg\n",
            "./Images/Images/m.d6ecc04b-cccf-11ec-bb51-287fcffe570f.xml\n",
            "./Images/Images/m.d6ecc04b-cccf-11ec-bb51-287fcffe570f.jpg\n",
            "./Images/Images/m.d8bcc8c4-cccf-11ec-9604-287fcffe570f.xml\n",
            "./Images/Images/m.d8bcc8c4-cccf-11ec-9604-287fcffe570f.jpg\n",
            "./Images/Images/my.b144668e-cccc-11ec-8504-287fcffe570f.xml\n",
            "./Images/Images/my.b144668e-cccc-11ec-8504-287fcffe570f.jpg\n",
            "./Images/Images/my.b313cf47-cccc-11ec-ab54-287fcffe570f.xml\n",
            "./Images/Images/my.b313cf47-cccc-11ec-ab54-287fcffe570f.jpg\n",
            "./Images/Images/my.b4e56273-cccc-11ec-b39e-287fcffe570f.xml\n",
            "./Images/Images/my.b4e56273-cccc-11ec-b39e-287fcffe570f.jpg\n",
            "./Images/Images/my.b6b7558d-cccc-11ec-8c27-287fcffe570f.xml\n",
            "./Images/Images/my.b6b7558d-cccc-11ec-8c27-287fcffe570f.jpg\n",
            "./Images/Images/my.b882f251-cccc-11ec-aa6b-287fcffe570f.xml\n",
            "./Images/Images/my.b882f251-cccc-11ec-aa6b-287fcffe570f.jpg\n",
            "./Images/Images/my.ba52aeb1-cccc-11ec-94df-287fcffe570f.xml\n",
            "./Images/Images/my.ba52aeb1-cccc-11ec-94df-287fcffe570f.jpg\n",
            "./Images/Images/my.bc234c65-cccc-11ec-b8dd-287fcffe570f.xml\n",
            "./Images/Images/my.bc234c65-cccc-11ec-b8dd-287fcffe570f.jpg\n",
            "./Images/Images/my.bdf4f00c-cccc-11ec-88a6-287fcffe570f.xml\n",
            "./Images/Images/my.bdf4f00c-cccc-11ec-88a6-287fcffe570f.jpg\n",
            "./Images/Images/my.bfc3f5ac-cccc-11ec-b61d-287fcffe570f.xml\n",
            "./Images/Images/my.bfc3f5ac-cccc-11ec-b61d-287fcffe570f.jpg\n",
            "./Images/Images/my.c1944882-cccc-11ec-8b61-287fcffe570f.xml\n",
            "./Images/Images/my.c1944882-cccc-11ec-8b61-287fcffe570f.jpg\n",
            "./Images/Images/my.c36480a6-cccc-11ec-89a1-287fcffe570f.xml\n",
            "./Images/Images/my.c36480a6-cccc-11ec-89a1-287fcffe570f.jpg\n",
            "./Images/Images/my.c5336ac8-cccc-11ec-b860-287fcffe570f.xml\n",
            "./Images/Images/my.c5336ac8-cccc-11ec-b860-287fcffe570f.jpg\n",
            "./Images/Images/my.c704a130-cccc-11ec-a4fb-287fcffe570f.xml\n",
            "./Images/Images/my.c704a130-cccc-11ec-a4fb-287fcffe570f.jpg\n",
            "./Images/Images/my.c8d5c297-cccc-11ec-add5-287fcffe570f.xml\n",
            "./Images/Images/my.c8d5c297-cccc-11ec-add5-287fcffe570f.jpg\n",
            "./Images/Images/my.caa286a9-cccc-11ec-b73e-287fcffe570f.xml\n",
            "./Images/Images/my.caa286a9-cccc-11ec-b73e-287fcffe570f.jpg\n",
            "./Images/Images/my.cc72d651-cccc-11ec-b4d9-287fcffe570f.xml\n",
            "./Images/Images/my.cc72d651-cccc-11ec-b4d9-287fcffe570f.jpg\n",
            "./Images/Images/my.ce42229f-cccc-11ec-b85b-287fcffe570f.xml\n",
            "./Images/Images/my.ce42229f-cccc-11ec-b85b-287fcffe570f.jpg\n",
            "./Images/Images/my.d010e673-cccc-11ec-a347-287fcffe570f.xml\n",
            "./Images/Images/my.d010e673-cccc-11ec-a347-287fcffe570f.jpg\n",
            "./Images/Images/my.d1e1ce31-cccc-11ec-a6cb-287fcffe570f.xml\n",
            "./Images/Images/my.d1e1ce31-cccc-11ec-a6cb-287fcffe570f.jpg\n",
            "./Images/Images/my.d3b22671-cccc-11ec-b668-287fcffe570f.xml\n",
            "./Images/Images/my.d3b22671-cccc-11ec-b668-287fcffe570f.jpg\n",
            "./Images/Images/n.017d140f-ccd0-11ec-9020-287fcffe570f.xml\n",
            "./Images/Images/n.017d140f-ccd0-11ec-9020-287fcffe570f.jpg\n",
            "./Images/Images/n.df1821c1-cccf-11ec-9eda-287fcffe570f.xml\n",
            "./Images/Images/n.df1821c1-cccf-11ec-9eda-287fcffe570f.jpg\n",
            "./Images/Images/n.e0e88a5f-cccf-11ec-a447-287fcffe570f.xml\n",
            "./Images/Images/n.e0e88a5f-cccf-11ec-a447-287fcffe570f.jpg\n",
            "./Images/Images/n.e2b72ee8-cccf-11ec-bb7f-287fcffe570f.xml\n",
            "./Images/Images/n.e2b72ee8-cccf-11ec-bb7f-287fcffe570f.jpg\n",
            "./Images/Images/n.e4874a2e-cccf-11ec-9ab3-287fcffe570f.xml\n",
            "./Images/Images/n.e4874a2e-cccf-11ec-9ab3-287fcffe570f.jpg\n",
            "./Images/Images/n.e655c5cc-cccf-11ec-b138-287fcffe570f.xml\n",
            "./Images/Images/n.e655c5cc-cccf-11ec-b138-287fcffe570f.jpg\n",
            "./Images/Images/n.e8239842-cccf-11ec-90e5-287fcffe570f.xml\n",
            "./Images/Images/n.e8239842-cccf-11ec-90e5-287fcffe570f.jpg\n",
            "./Images/Images/n.e9f3d999-cccf-11ec-b454-287fcffe570f.xml\n",
            "./Images/Images/n.e9f3d999-cccf-11ec-b454-287fcffe570f.jpg\n",
            "./Images/Images/n.ebc1af9c-cccf-11ec-898f-287fcffe570f.xml\n",
            "./Images/Images/n.ebc1af9c-cccf-11ec-898f-287fcffe570f.jpg\n",
            "./Images/Images/n.ed9143f7-cccf-11ec-b260-287fcffe570f.xml\n",
            "./Images/Images/n.ed9143f7-cccf-11ec-b260-287fcffe570f.jpg\n",
            "./Images/Images/n.ef621001-cccf-11ec-b13c-287fcffe570f.xml\n",
            "./Images/Images/n.ef621001-cccf-11ec-b13c-287fcffe570f.jpg\n",
            "./Images/Images/n.f1319ca1-cccf-11ec-b787-287fcffe570f.xml\n",
            "./Images/Images/n.f1319ca1-cccf-11ec-b787-287fcffe570f.jpg\n",
            "./Images/Images/n.f30272de-cccf-11ec-8d4f-287fcffe570f.xml\n",
            "./Images/Images/n.f30272de-cccf-11ec-8d4f-287fcffe570f.jpg\n",
            "./Images/Images/n.f4d18f96-cccf-11ec-8db9-287fcffe570f.xml\n",
            "./Images/Images/n.f4d18f96-cccf-11ec-8db9-287fcffe570f.jpg\n",
            "./Images/Images/n.f69d232a-cccf-11ec-8563-287fcffe570f.xml\n",
            "./Images/Images/n.f69d232a-cccf-11ec-8563-287fcffe570f.jpg\n",
            "./Images/Images/n.f86d4189-cccf-11ec-b4d1-287fcffe570f.xml\n",
            "./Images/Images/n.f86d4189-cccf-11ec-b4d1-287fcffe570f.jpg\n",
            "./Images/Images/n.fa3eb7f8-cccf-11ec-9561-287fcffe570f.xml\n",
            "./Images/Images/n.fa3eb7f8-cccf-11ec-9561-287fcffe570f.jpg\n",
            "./Images/Images/n.fc0e9f01-cccf-11ec-987f-287fcffe570f.xml\n",
            "./Images/Images/n.fc0e9f01-cccf-11ec-987f-287fcffe570f.jpg\n",
            "./Images/Images/n.fde04a4c-cccf-11ec-a450-287fcffe570f.xml\n",
            "./Images/Images/n.fde04a4c-cccf-11ec-a450-287fcffe570f.jpg\n",
            "./Images/Images/n.ffac40d8-cccf-11ec-8a5a-287fcffe570f.xml\n",
            "./Images/Images/n.ffac40d8-cccf-11ec-8a5a-287fcffe570f.jpg\n",
            "./Images/Images/name.1390a179-cccc-11ec-b9b8-287fcffe570f.xml\n",
            "./Images/Images/name.1390a179-cccc-11ec-b9b8-287fcffe570f.jpg\n",
            "./Images/Images/name.da02c8be-cccc-11ec-b60e-287fcffe570f.xml\n",
            "./Images/Images/name.da02c8be-cccc-11ec-b60e-287fcffe570f.jpg\n",
            "./Images/Images/name.dbcfcf97-cccc-11ec-bd0d-287fcffe570f.xml\n",
            "./Images/Images/name.dbcfcf97-cccc-11ec-bd0d-287fcffe570f.jpg\n",
            "./Images/Images/name.dd9f6c52-cccc-11ec-b9a1-287fcffe570f.xml\n",
            "./Images/Images/name.dd9f6c52-cccc-11ec-b9a1-287fcffe570f.jpg\n",
            "./Images/Images/name.df6e2774-cccc-11ec-8385-287fcffe570f.xml\n",
            "./Images/Images/name.df6e2774-cccc-11ec-8385-287fcffe570f.jpg\n",
            "./Images/Images/name.e13f7693-cccc-11ec-8429-287fcffe570f.xml\n",
            "./Images/Images/name.e13f7693-cccc-11ec-8429-287fcffe570f.jpg\n",
            "./Images/Images/name.e30f6f2d-cccc-11ec-9c63-287fcffe570f.xml\n",
            "./Images/Images/name.e30f6f2d-cccc-11ec-9c63-287fcffe570f.jpg\n",
            "./Images/Images/name.e4df52c9-cccc-11ec-aeed-287fcffe570f.xml\n",
            "./Images/Images/name.e4df52c9-cccc-11ec-aeed-287fcffe570f.jpg\n",
            "./Images/Images/name.e6aff933-cccc-11ec-9005-287fcffe570f.xml\n",
            "./Images/Images/name.e6aff933-cccc-11ec-9005-287fcffe570f.jpg\n",
            "./Images/Images/name.e87c0518-cccc-11ec-b2e8-287fcffe570f.xml\n",
            "./Images/Images/name.e87c0518-cccc-11ec-b2e8-287fcffe570f.jpg\n",
            "./Images/Images/name.ea4b0dc3-cccc-11ec-971e-287fcffe570f.xml\n",
            "./Images/Images/name.ea4b0dc3-cccc-11ec-971e-287fcffe570f.jpg\n",
            "./Images/Images/name.ec1bd492-cccc-11ec-afd3-287fcffe570f.xml\n",
            "./Images/Images/name.ec1bd492-cccc-11ec-afd3-287fcffe570f.jpg\n",
            "./Images/Images/name.edec476f-cccc-11ec-9867-287fcffe570f.xml\n",
            "./Images/Images/name.edec476f-cccc-11ec-9867-287fcffe570f.jpg\n",
            "./Images/Images/name.efbe9a25-cccc-11ec-9531-287fcffe570f.xml\n",
            "./Images/Images/name.efbe9a25-cccc-11ec-9531-287fcffe570f.jpg\n",
            "./Images/Images/name.f18bf444-cccc-11ec-8307-287fcffe570f.xml\n",
            "./Images/Images/name.f18bf444-cccc-11ec-8307-287fcffe570f.jpg\n",
            "./Images/Images/name.f35cb24d-cccc-11ec-9706-287fcffe570f.xml\n",
            "./Images/Images/name.f35cb24d-cccc-11ec-9706-287fcffe570f.jpg\n",
            "./Images/Images/name.f52a6921-cccc-11ec-8a35-287fcffe570f.xml\n",
            "./Images/Images/name.f52a6921-cccc-11ec-8a35-287fcffe570f.jpg\n",
            "./Images/Images/name.f6f9b945-cccc-11ec-bada-287fcffe570f.xml\n",
            "./Images/Images/name.f6f9b945-cccc-11ec-bada-287fcffe570f.jpg\n",
            "./Images/Images/name.f8ca0978-cccc-11ec-8f75-287fcffe570f.xml\n",
            "./Images/Images/name.f8ca0978-cccc-11ec-8f75-287fcffe570f.jpg\n",
            "./Images/Images/name.fa9a6f4d-cccc-11ec-85fc-287fcffe570f.xml\n",
            "./Images/Images/name.fa9a6f4d-cccc-11ec-85fc-287fcffe570f.jpg\n",
            "./Images/Images/name.fc6c7259-cccc-11ec-94d5-287fcffe570f.xml\n",
            "./Images/Images/name.fc6c7259-cccc-11ec-94d5-287fcffe570f.jpg\n",
            "./Images/Images/no.a4ec4754-cccd-11ec-9f5a-287fcffe570f.xml\n",
            "./Images/Images/no.a4ec4754-cccd-11ec-9f5a-287fcffe570f.jpg\n",
            "./Images/Images/no.a6b807ea-cccd-11ec-af6e-287fcffe570f.xml\n",
            "./Images/Images/no.a6b807ea-cccd-11ec-af6e-287fcffe570f.jpg\n",
            "./Images/Images/no.a887105d-cccd-11ec-b303-287fcffe570f.xml\n",
            "./Images/Images/no.a887105d-cccd-11ec-b303-287fcffe570f.jpg\n",
            "./Images/Images/no.aa57666b-cccd-11ec-9757-287fcffe570f.xml\n",
            "./Images/Images/no.aa57666b-cccd-11ec-9757-287fcffe570f.jpg\n",
            "./Images/Images/no.ac278c99-cccd-11ec-806f-287fcffe570f.xml\n",
            "./Images/Images/no.ac278c99-cccd-11ec-806f-287fcffe570f.jpg\n",
            "./Images/Images/no.adf95a9a-cccd-11ec-b023-287fcffe570f.xml\n",
            "./Images/Images/no.adf95a9a-cccd-11ec-b023-287fcffe570f.jpg\n",
            "./Images/Images/no.afc6f1fe-cccd-11ec-a074-287fcffe570f.xml\n",
            "./Images/Images/no.afc6f1fe-cccd-11ec-a074-287fcffe570f.jpg\n",
            "./Images/Images/no.b1971787-cccd-11ec-b568-287fcffe570f.xml\n",
            "./Images/Images/no.b1971787-cccd-11ec-b568-287fcffe570f.jpg\n",
            "./Images/Images/no.b3667d53-cccd-11ec-832b-287fcffe570f.xml\n",
            "./Images/Images/no.b3667d53-cccd-11ec-832b-287fcffe570f.jpg\n",
            "./Images/Images/no.b5344a3f-cccd-11ec-8df7-287fcffe570f.xml\n",
            "./Images/Images/no.b5344a3f-cccd-11ec-8df7-287fcffe570f.jpg\n",
            "./Images/Images/no.b703d76b-cccd-11ec-8af0-287fcffe570f.xml\n",
            "./Images/Images/no.b703d76b-cccd-11ec-8af0-287fcffe570f.jpg\n",
            "./Images/Images/no.b8d54c09-cccd-11ec-9d73-287fcffe570f.xml\n",
            "./Images/Images/no.b8d54c09-cccd-11ec-9d73-287fcffe570f.jpg\n",
            "./Images/Images/no.baa6084b-cccd-11ec-af7c-287fcffe570f.xml\n",
            "./Images/Images/no.baa6084b-cccd-11ec-af7c-287fcffe570f.jpg\n",
            "./Images/Images/no.bc75c88d-cccd-11ec-b2be-287fcffe570f.xml\n",
            "./Images/Images/no.bc75c88d-cccd-11ec-b2be-287fcffe570f.jpg\n",
            "./Images/Images/no.be46055a-cccd-11ec-806c-287fcffe570f.xml\n",
            "./Images/Images/no.be46055a-cccd-11ec-806c-287fcffe570f.jpg\n",
            "./Images/Images/no.c016fb9f-cccd-11ec-9a9d-287fcffe570f.xml\n",
            "./Images/Images/no.c016fb9f-cccd-11ec-9a9d-287fcffe570f.jpg\n",
            "./Images/Images/no.c1e79104-cccd-11ec-a6a0-287fcffe570f.xml\n",
            "./Images/Images/no.c1e79104-cccd-11ec-a6a0-287fcffe570f.jpg\n",
            "./Images/Images/no.c3b3086c-cccd-11ec-95dc-287fcffe570f.xml\n",
            "./Images/Images/no.c3b3086c-cccd-11ec-95dc-287fcffe570f.jpg\n",
            "./Images/Images/no.c583a798-cccd-11ec-bd3a-287fcffe570f.xml\n",
            "./Images/Images/no.c583a798-cccd-11ec-bd3a-287fcffe570f.jpg\n",
            "./Images/Images/no.c754a528-cccd-11ec-8c60-287fcffe570f.xml\n",
            "./Images/Images/no.c754a528-cccd-11ec-8c60-287fcffe570f.jpg\n",
            "./Images/Images/o.07e074a4-ccd0-11ec-b4fa-287fcffe570f.xml\n",
            "./Images/Images/o.07e074a4-ccd0-11ec-b4fa-287fcffe570f.jpg\n",
            "./Images/Images/o.09b38e73-ccd0-11ec-941d-287fcffe570f.xml\n",
            "./Images/Images/o.09b38e73-ccd0-11ec-941d-287fcffe570f.jpg\n",
            "./Images/Images/o.0b839d1e-ccd0-11ec-9199-287fcffe570f.xml\n",
            "./Images/Images/o.0b839d1e-ccd0-11ec-9199-287fcffe570f.jpg\n",
            "./Images/Images/o.0d53d68d-ccd0-11ec-91ca-287fcffe570f.xml\n",
            "./Images/Images/o.0d53d68d-ccd0-11ec-91ca-287fcffe570f.jpg\n",
            "./Images/Images/o.0f22a4b6-ccd0-11ec-8116-287fcffe570f.xml\n",
            "./Images/Images/o.0f22a4b6-ccd0-11ec-8116-287fcffe570f.jpg\n",
            "./Images/Images/o.10f07bac-ccd0-11ec-9297-287fcffe570f.xml\n",
            "./Images/Images/o.10f07bac-ccd0-11ec-9297-287fcffe570f.jpg\n",
            "./Images/Images/o.12bdf6e5-ccd0-11ec-ae9b-287fcffe570f.xml\n",
            "./Images/Images/o.12bdf6e5-ccd0-11ec-ae9b-287fcffe570f.jpg\n",
            "./Images/Images/o.148de5bd-ccd0-11ec-b848-287fcffe570f.xml\n",
            "./Images/Images/o.148de5bd-ccd0-11ec-b848-287fcffe570f.jpg\n",
            "./Images/Images/o.165b48d9-ccd0-11ec-8d9f-287fcffe570f.xml\n",
            "./Images/Images/o.165b48d9-ccd0-11ec-8d9f-287fcffe570f.jpg\n",
            "./Images/Images/o.182afd1f-ccd0-11ec-8fb2-287fcffe570f.xml\n",
            "./Images/Images/o.182afd1f-ccd0-11ec-8fb2-287fcffe570f.jpg\n",
            "./Images/Images/o.19fb4413-ccd0-11ec-a3cc-287fcffe570f.xml\n",
            "./Images/Images/o.19fb4413-ccd0-11ec-a3cc-287fcffe570f.jpg\n",
            "./Images/Images/o.1bca074f-ccd0-11ec-95d5-287fcffe570f.xml\n",
            "./Images/Images/o.1bca074f-ccd0-11ec-95d5-287fcffe570f.jpg\n",
            "./Images/Images/o.1d986efe-ccd0-11ec-ab8e-287fcffe570f.xml\n",
            "./Images/Images/o.1d986efe-ccd0-11ec-ab8e-287fcffe570f.jpg\n",
            "./Images/Images/o.1f685959-ccd0-11ec-a75b-287fcffe570f.xml\n",
            "./Images/Images/o.1f685959-ccd0-11ec-a75b-287fcffe570f.jpg\n",
            "./Images/Images/o.2138fb30-ccd0-11ec-8383-287fcffe570f.xml\n",
            "./Images/Images/o.2138fb30-ccd0-11ec-8383-287fcffe570f.jpg\n",
            "./Images/Images/o.2306cffb-ccd0-11ec-a800-287fcffe570f.xml\n",
            "./Images/Images/o.2306cffb-ccd0-11ec-a800-287fcffe570f.jpg\n",
            "./Images/Images/o.24d3e0d9-ccd0-11ec-8a4d-287fcffe570f.xml\n",
            "./Images/Images/o.24d3e0d9-ccd0-11ec-8a4d-287fcffe570f.jpg\n",
            "./Images/Images/o.26a44061-ccd0-11ec-b8f1-287fcffe570f.xml\n",
            "./Images/Images/o.26a44061-ccd0-11ec-b8f1-287fcffe570f.jpg\n",
            "./Images/Images/o.2875288b-ccd0-11ec-832d-287fcffe570f.xml\n",
            "./Images/Images/o.2875288b-ccd0-11ec-832d-287fcffe570f.jpg\n",
            "./Images/Images/o.2a45e34f-ccd0-11ec-8e4a-287fcffe570f.xml\n",
            "./Images/Images/o.2a45e34f-ccd0-11ec-8e4a-287fcffe570f.jpg\n",
            "./Images/Images/p.30909edb-ccd0-11ec-a515-287fcffe570f.xml\n",
            "./Images/Images/p.30909edb-ccd0-11ec-a515-287fcffe570f.jpg\n",
            "./Images/Images/p.3264f973-ccd0-11ec-8c01-287fcffe570f.xml\n",
            "./Images/Images/p.3264f973-ccd0-11ec-8c01-287fcffe570f.jpg\n",
            "./Images/Images/p.3433a079-ccd0-11ec-9de5-287fcffe570f.xml\n",
            "./Images/Images/p.3433a079-ccd0-11ec-9de5-287fcffe570f.jpg\n",
            "./Images/Images/p.3602bbca-ccd0-11ec-a963-287fcffe570f.xml\n",
            "./Images/Images/p.3602bbca-ccd0-11ec-a963-287fcffe570f.jpg\n",
            "./Images/Images/p.37d26823-ccd0-11ec-bbf3-287fcffe570f.xml\n",
            "./Images/Images/p.37d26823-ccd0-11ec-bbf3-287fcffe570f.jpg\n",
            "./Images/Images/p.399ee8b6-ccd0-11ec-bee6-287fcffe570f.xml\n",
            "./Images/Images/p.399ee8b6-ccd0-11ec-bee6-287fcffe570f.jpg\n",
            "./Images/Images/p.3b6d87f5-ccd0-11ec-8195-287fcffe570f.xml\n",
            "./Images/Images/p.3b6d87f5-ccd0-11ec-8195-287fcffe570f.jpg\n",
            "./Images/Images/p.3d3bf4cd-ccd0-11ec-be38-287fcffe570f.xml\n",
            "./Images/Images/p.3d3bf4cd-ccd0-11ec-be38-287fcffe570f.jpg\n",
            "./Images/Images/p.3f0d0c43-ccd0-11ec-943e-287fcffe570f.xml\n",
            "./Images/Images/p.3f0d0c43-ccd0-11ec-943e-287fcffe570f.jpg\n",
            "./Images/Images/p.40de4e47-ccd0-11ec-a69e-287fcffe570f.xml\n",
            "./Images/Images/p.40de4e47-ccd0-11ec-a69e-287fcffe570f.jpg\n",
            "./Images/Images/p.42ac0a53-ccd0-11ec-b9d8-287fcffe570f.xml\n",
            "./Images/Images/p.42ac0a53-ccd0-11ec-b9d8-287fcffe570f.jpg\n",
            "./Images/Images/p.447993a0-ccd0-11ec-89ae-287fcffe570f.xml\n",
            "./Images/Images/p.447993a0-ccd0-11ec-89ae-287fcffe570f.jpg\n",
            "./Images/Images/p.464ac9bf-ccd0-11ec-b277-287fcffe570f.xml\n",
            "./Images/Images/p.464ac9bf-ccd0-11ec-b277-287fcffe570f.jpg\n",
            "./Images/Images/p.481b1cc3-ccd0-11ec-830c-287fcffe570f.xml\n",
            "./Images/Images/p.481b1cc3-ccd0-11ec-830c-287fcffe570f.jpg\n",
            "./Images/Images/p.49e91924-ccd0-11ec-a930-287fcffe570f.xml\n",
            "./Images/Images/p.49e91924-ccd0-11ec-a930-287fcffe570f.jpg\n",
            "./Images/Images/p.4bb97092-ccd0-11ec-a483-287fcffe570f.xml\n",
            "./Images/Images/p.4bb97092-ccd0-11ec-a483-287fcffe570f.jpg\n",
            "./Images/Images/p.4d86f1c2-ccd0-11ec-ba4c-287fcffe570f.xml\n",
            "./Images/Images/p.4d86f1c2-ccd0-11ec-ba4c-287fcffe570f.jpg\n",
            "./Images/Images/p.4f5727ee-ccd0-11ec-b896-287fcffe570f.xml\n",
            "./Images/Images/p.4f5727ee-ccd0-11ec-b896-287fcffe570f.jpg\n",
            "./Images/Images/p.51230dc9-ccd0-11ec-95c8-287fcffe570f.xml\n",
            "./Images/Images/p.51230dc9-ccd0-11ec-95c8-287fcffe570f.jpg\n",
            "./Images/Images/p.52eff6b2-ccd0-11ec-b8b9-287fcffe570f.xml\n",
            "./Images/Images/p.52eff6b2-ccd0-11ec-b8b9-287fcffe570f.jpg\n",
            "./Images/Images/project.2b3cb8b9-cccd-11ec-b638-287fcffe570f.xml\n",
            "./Images/Images/project.2b3cb8b9-cccd-11ec-b638-287fcffe570f.jpg\n",
            "./Images/Images/project.2d0ca3c3-cccd-11ec-a987-287fcffe570f.xml\n",
            "./Images/Images/project.2d0ca3c3-cccd-11ec-a987-287fcffe570f.jpg\n",
            "./Images/Images/project.2eddcdaa-cccd-11ec-b9a7-287fcffe570f.xml\n",
            "./Images/Images/project.2eddcdaa-cccd-11ec-b9a7-287fcffe570f.jpg\n",
            "./Images/Images/project.30ae8a4e-cccd-11ec-b783-287fcffe570f.xml\n",
            "./Images/Images/project.30ae8a4e-cccd-11ec-b783-287fcffe570f.jpg\n",
            "./Images/Images/project.327dea45-cccd-11ec-b126-287fcffe570f.xml\n",
            "./Images/Images/project.327dea45-cccd-11ec-b126-287fcffe570f.jpg\n",
            "./Images/Images/project.344b89f7-cccd-11ec-8aea-287fcffe570f.xml\n",
            "./Images/Images/project.344b89f7-cccd-11ec-8aea-287fcffe570f.jpg\n",
            "./Images/Images/project.361be311-cccd-11ec-b8fb-287fcffe570f.xml\n",
            "./Images/Images/project.361be311-cccd-11ec-b8fb-287fcffe570f.jpg\n",
            "./Images/Images/project.37eb8cb9-cccd-11ec-846f-287fcffe570f.xml\n",
            "./Images/Images/project.37eb8cb9-cccd-11ec-846f-287fcffe570f.jpg\n",
            "./Images/Images/project.39ba1997-cccd-11ec-bbc3-287fcffe570f.xml\n",
            "./Images/Images/project.39ba1997-cccd-11ec-bbc3-287fcffe570f.jpg\n",
            "./Images/Images/project.3b87ae52-cccd-11ec-b68c-287fcffe570f.xml\n",
            "./Images/Images/project.3b87ae52-cccd-11ec-b68c-287fcffe570f.jpg\n",
            "./Images/Images/project.3d587bee-cccd-11ec-80f1-287fcffe570f.xml\n",
            "./Images/Images/project.3d587bee-cccd-11ec-80f1-287fcffe570f.jpg\n",
            "./Images/Images/project.3f258750-cccd-11ec-b87b-287fcffe570f.xml\n",
            "./Images/Images/project.3f258750-cccd-11ec-b87b-287fcffe570f.jpg\n",
            "./Images/Images/project.40f5ed66-cccd-11ec-8ad6-287fcffe570f.xml\n",
            "./Images/Images/project.40f5ed66-cccd-11ec-8ad6-287fcffe570f.jpg\n",
            "./Images/Images/project.42c6bc81-cccd-11ec-9606-287fcffe570f.xml\n",
            "./Images/Images/project.42c6bc81-cccd-11ec-9606-287fcffe570f.jpg\n",
            "./Images/Images/project.4493c5c7-cccd-11ec-b393-287fcffe570f.xml\n",
            "./Images/Images/project.4493c5c7-cccd-11ec-b393-287fcffe570f.jpg\n",
            "./Images/Images/project.46626eb8-cccd-11ec-a805-287fcffe570f.xml\n",
            "./Images/Images/project.46626eb8-cccd-11ec-a805-287fcffe570f.jpg\n",
            "./Images/Images/project.4831fd79-cccd-11ec-a49a-287fcffe570f.xml\n",
            "./Images/Images/project.4831fd79-cccd-11ec-a49a-287fcffe570f.jpg\n",
            "./Images/Images/project.4a00cb65-cccd-11ec-bb41-287fcffe570f.xml\n",
            "./Images/Images/project.4a00cb65-cccd-11ec-bb41-287fcffe570f.jpg\n",
            "./Images/Images/project.4bd18416-cccd-11ec-a741-287fcffe570f.xml\n",
            "./Images/Images/project.4bd18416-cccd-11ec-a741-287fcffe570f.jpg\n",
            "./Images/Images/project.4da242b9-cccd-11ec-bf60-287fcffe570f.xml\n",
            "./Images/Images/project.4da242b9-cccd-11ec-bf60-287fcffe570f.jpg\n",
            "./Images/Images/q.594af381-ccd0-11ec-b22f-287fcffe570f.xml\n",
            "./Images/Images/q.594af381-ccd0-11ec-b22f-287fcffe570f.jpg\n",
            "./Images/Images/q.5b1c4310-ccd0-11ec-97cd-287fcffe570f.xml\n",
            "./Images/Images/q.5b1c4310-ccd0-11ec-97cd-287fcffe570f.jpg\n",
            "./Images/Images/q.5ce9c351-ccd0-11ec-81f7-287fcffe570f.xml\n",
            "./Images/Images/q.5ce9c351-ccd0-11ec-81f7-287fcffe570f.jpg\n",
            "./Images/Images/q.5eb91e9e-ccd0-11ec-8ae2-287fcffe570f.xml\n",
            "./Images/Images/q.5eb91e9e-ccd0-11ec-8ae2-287fcffe570f.jpg\n",
            "./Images/Images/q.60877bb9-ccd0-11ec-9063-287fcffe570f.xml\n",
            "./Images/Images/q.60877bb9-ccd0-11ec-9063-287fcffe570f.jpg\n",
            "./Images/Images/q.6256f001-ccd0-11ec-a831-287fcffe570f.xml\n",
            "./Images/Images/q.6256f001-ccd0-11ec-a831-287fcffe570f.jpg\n",
            "./Images/Images/q.6427d46a-ccd0-11ec-b98e-287fcffe570f.xml\n",
            "./Images/Images/q.6427d46a-ccd0-11ec-b98e-287fcffe570f.jpg\n",
            "./Images/Images/q.65f7bde9-ccd0-11ec-b0ef-287fcffe570f.xml\n",
            "./Images/Images/q.65f7bde9-ccd0-11ec-b0ef-287fcffe570f.jpg\n",
            "./Images/Images/q.67c589a3-ccd0-11ec-b8cd-287fcffe570f.xml\n",
            "./Images/Images/q.67c589a3-ccd0-11ec-b8cd-287fcffe570f.jpg\n",
            "./Images/Images/q.69949653-ccd0-11ec-ac7a-287fcffe570f.xml\n",
            "./Images/Images/q.69949653-ccd0-11ec-ac7a-287fcffe570f.jpg\n",
            "./Images/Images/q.6b62bb09-ccd0-11ec-85c4-287fcffe570f.xml\n",
            "./Images/Images/q.6b62bb09-ccd0-11ec-85c4-287fcffe570f.jpg\n",
            "./Images/Images/q.6d32f5a6-ccd0-11ec-a3ff-287fcffe570f.xml\n",
            "./Images/Images/q.6d32f5a6-ccd0-11ec-a3ff-287fcffe570f.jpg\n",
            "./Images/Images/q.6f0062b4-ccd0-11ec-97d5-287fcffe570f.xml\n",
            "./Images/Images/q.6f0062b4-ccd0-11ec-97d5-287fcffe570f.jpg\n",
            "./Images/Images/q.70cdc4f8-ccd0-11ec-a275-287fcffe570f.xml\n",
            "./Images/Images/q.70cdc4f8-ccd0-11ec-a275-287fcffe570f.jpg\n",
            "./Images/Images/q.7299c9f1-ccd0-11ec-bcbe-287fcffe570f.xml\n",
            "./Images/Images/q.7299c9f1-ccd0-11ec-bcbe-287fcffe570f.jpg\n",
            "./Images/Images/q.746a0614-ccd0-11ec-add9-287fcffe570f.xml\n",
            "./Images/Images/q.746a0614-ccd0-11ec-add9-287fcffe570f.jpg\n",
            "./Images/Images/q.76397b8d-ccd0-11ec-bc87-287fcffe570f.xml\n",
            "./Images/Images/q.76397b8d-ccd0-11ec-bc87-287fcffe570f.jpg\n",
            "./Images/Images/q.780a382b-ccd0-11ec-a5cf-287fcffe570f.xml\n",
            "./Images/Images/q.780a382b-ccd0-11ec-a5cf-287fcffe570f.jpg\n",
            "./Images/Images/q.79d9da82-ccd0-11ec-99ef-287fcffe570f.xml\n",
            "./Images/Images/q.79d9da82-ccd0-11ec-99ef-287fcffe570f.jpg\n",
            "./Images/Images/q.7ba7909b-ccd0-11ec-b6f9-287fcffe570f.xml\n",
            "./Images/Images/q.7ba7909b-ccd0-11ec-b6f9-287fcffe570f.jpg\n",
            "./Images/Images/r.81f9a120-ccd0-11ec-840b-287fcffe570f.xml\n",
            "./Images/Images/r.81f9a120-ccd0-11ec-840b-287fcffe570f.jpg\n",
            "./Images/Images/r.83ca947f-ccd0-11ec-8f9a-287fcffe570f.xml\n",
            "./Images/Images/r.83ca947f-ccd0-11ec-8f9a-287fcffe570f.jpg\n",
            "./Images/Images/r.85969297-ccd0-11ec-bc2e-287fcffe570f.xml\n",
            "./Images/Images/r.85969297-ccd0-11ec-bc2e-287fcffe570f.jpg\n",
            "./Images/Images/r.87654870-ccd0-11ec-bbea-287fcffe570f.xml\n",
            "./Images/Images/r.87654870-ccd0-11ec-bbea-287fcffe570f.jpg\n",
            "./Images/Images/r.893379fe-ccd0-11ec-8d79-287fcffe570f.xml\n",
            "./Images/Images/r.893379fe-ccd0-11ec-8d79-287fcffe570f.jpg\n",
            "./Images/Images/r.8b03f0c9-ccd0-11ec-a77e-287fcffe570f.xml\n",
            "./Images/Images/r.8b03f0c9-ccd0-11ec-a77e-287fcffe570f.jpg\n",
            "./Images/Images/r.8cd30eb8-ccd0-11ec-89d5-287fcffe570f.xml\n",
            "./Images/Images/r.8cd30eb8-ccd0-11ec-89d5-287fcffe570f.jpg\n",
            "./Images/Images/r.8ea1f776-ccd0-11ec-8628-287fcffe570f.xml\n",
            "./Images/Images/r.8ea1f776-ccd0-11ec-8628-287fcffe570f.jpg\n",
            "./Images/Images/r.9072a48d-ccd0-11ec-adbb-287fcffe570f.xml\n",
            "./Images/Images/r.9072a48d-ccd0-11ec-adbb-287fcffe570f.jpg\n",
            "./Images/Images/r.9243024c-ccd0-11ec-a36f-287fcffe570f.xml\n",
            "./Images/Images/r.9243024c-ccd0-11ec-a36f-287fcffe570f.jpg\n",
            "./Images/Images/r.94121928-ccd0-11ec-9693-287fcffe570f.xml\n",
            "./Images/Images/r.94121928-ccd0-11ec-9693-287fcffe570f.jpg\n",
            "./Images/Images/r.95e2bdd4-ccd0-11ec-9894-287fcffe570f.xml\n",
            "./Images/Images/r.95e2bdd4-ccd0-11ec-9894-287fcffe570f.jpg\n",
            "./Images/Images/r.97b08e82-ccd0-11ec-aa95-287fcffe570f.xml\n",
            "./Images/Images/r.97b08e82-ccd0-11ec-aa95-287fcffe570f.jpg\n",
            "./Images/Images/r.997fb093-ccd0-11ec-9bd6-287fcffe570f.xml\n",
            "./Images/Images/r.997fb093-ccd0-11ec-9bd6-287fcffe570f.jpg\n",
            "./Images/Images/r.9b4fd3fa-ccd0-11ec-b3c7-287fcffe570f.xml\n",
            "./Images/Images/r.9b4fd3fa-ccd0-11ec-b3c7-287fcffe570f.jpg\n",
            "./Images/Images/r.9d1db31b-ccd0-11ec-9056-287fcffe570f.xml\n",
            "./Images/Images/r.9d1db31b-ccd0-11ec-9056-287fcffe570f.jpg\n",
            "./Images/Images/r.9eec1d8a-ccd0-11ec-97ee-287fcffe570f.xml\n",
            "./Images/Images/r.9eec1d8a-ccd0-11ec-97ee-287fcffe570f.jpg\n",
            "./Images/Images/r.a0b9c422-ccd0-11ec-b5a3-287fcffe570f.xml\n",
            "./Images/Images/r.a0b9c422-ccd0-11ec-b5a3-287fcffe570f.jpg\n",
            "./Images/Images/r.a28898ab-ccd0-11ec-938c-287fcffe570f.xml\n",
            "./Images/Images/r.a28898ab-ccd0-11ec-938c-287fcffe570f.jpg\n",
            "./Images/Images/r.a459a9c0-ccd0-11ec-b87c-287fcffe570f.xml\n",
            "./Images/Images/r.a459a9c0-ccd0-11ec-b87c-287fcffe570f.jpg\n",
            "./Images/Images/s.aac125f6-ccd0-11ec-8d7a-287fcffe570f.xml\n",
            "./Images/Images/s.aac125f6-ccd0-11ec-8d7a-287fcffe570f.jpg\n",
            "./Images/Images/s.ac928510-ccd0-11ec-ae19-287fcffe570f.xml\n",
            "./Images/Images/s.ac928510-ccd0-11ec-ae19-287fcffe570f.jpg\n",
            "./Images/Images/s.ae60a155-ccd0-11ec-bfb8-287fcffe570f.xml\n",
            "./Images/Images/s.ae60a155-ccd0-11ec-bfb8-287fcffe570f.jpg\n",
            "./Images/Images/s.b0302743-ccd0-11ec-9b88-287fcffe570f.xml\n",
            "./Images/Images/s.b0302743-ccd0-11ec-9b88-287fcffe570f.jpg\n",
            "./Images/Images/s.b1fd3fa0-ccd0-11ec-bf71-287fcffe570f.xml\n",
            "./Images/Images/s.b1fd3fa0-ccd0-11ec-bf71-287fcffe570f.jpg\n",
            "./Images/Images/s.b3cc951b-ccd0-11ec-a88a-287fcffe570f.xml\n",
            "./Images/Images/s.b3cc951b-ccd0-11ec-a88a-287fcffe570f.jpg\n",
            "./Images/Images/s.b59aec65-ccd0-11ec-b4bd-287fcffe570f.xml\n",
            "./Images/Images/s.b59aec65-ccd0-11ec-b4bd-287fcffe570f.jpg\n",
            "./Images/Images/s.b76aca40-ccd0-11ec-aa98-287fcffe570f.xml\n",
            "./Images/Images/s.b76aca40-ccd0-11ec-aa98-287fcffe570f.jpg\n",
            "./Images/Images/s.b93ac11f-ccd0-11ec-a738-287fcffe570f.xml\n",
            "./Images/Images/s.b93ac11f-ccd0-11ec-a738-287fcffe570f.jpg\n",
            "./Images/Images/s.bb08d66a-ccd0-11ec-ab3d-287fcffe570f.xml\n",
            "./Images/Images/s.bb08d66a-ccd0-11ec-ab3d-287fcffe570f.jpg\n",
            "./Images/Images/s.bcd7c455-ccd0-11ec-bf5c-287fcffe570f.xml\n",
            "./Images/Images/s.bcd7c455-ccd0-11ec-bf5c-287fcffe570f.jpg\n",
            "./Images/Images/s.bea497f9-ccd0-11ec-80a5-287fcffe570f.xml\n",
            "./Images/Images/s.bea497f9-ccd0-11ec-80a5-287fcffe570f.jpg\n",
            "./Images/Images/s.c0732d30-ccd0-11ec-99a1-287fcffe570f.xml\n",
            "./Images/Images/s.c0732d30-ccd0-11ec-99a1-287fcffe570f.jpg\n",
            "./Images/Images/s.c240e3c7-ccd0-11ec-82e7-287fcffe570f.xml\n",
            "./Images/Images/s.c240e3c7-ccd0-11ec-82e7-287fcffe570f.jpg\n",
            "./Images/Images/s.c40d0df2-ccd0-11ec-a04a-287fcffe570f.xml\n",
            "./Images/Images/s.c40d0df2-ccd0-11ec-a04a-287fcffe570f.jpg\n",
            "./Images/Images/s.c5dd80ce-ccd0-11ec-8f6e-287fcffe570f.xml\n",
            "./Images/Images/s.c5dd80ce-ccd0-11ec-8f6e-287fcffe570f.jpg\n",
            "./Images/Images/s.c7aedb39-ccd0-11ec-8685-287fcffe570f.xml\n",
            "./Images/Images/s.c7aedb39-ccd0-11ec-8685-287fcffe570f.jpg\n",
            "./Images/Images/s.c97f5989-ccd0-11ec-a9b4-287fcffe570f.xml\n",
            "./Images/Images/s.c97f5989-ccd0-11ec-a9b4-287fcffe570f.jpg\n",
            "./Images/Images/s.cb4f395a-ccd0-11ec-9314-287fcffe570f.xml\n",
            "./Images/Images/s.cb4f395a-ccd0-11ec-9314-287fcffe570f.jpg\n",
            "./Images/Images/s.cd1ce902-ccd0-11ec-9eb7-287fcffe570f.xml\n",
            "./Images/Images/s.cd1ce902-ccd0-11ec-9eb7-287fcffe570f.jpg\n",
            "./Images/Images/t.d3888042-ccd0-11ec-b20c-287fcffe570f.xml\n",
            "./Images/Images/t.d3888042-ccd0-11ec-b20c-287fcffe570f.jpg\n",
            "./Images/Images/t.d5589efb-ccd0-11ec-ab66-287fcffe570f.xml\n",
            "./Images/Images/t.d5589efb-ccd0-11ec-ab66-287fcffe570f.jpg\n",
            "./Images/Images/t.d7281b50-ccd0-11ec-8f28-287fcffe570f.xml\n",
            "./Images/Images/t.d7281b50-ccd0-11ec-8f28-287fcffe570f.jpg\n",
            "./Images/Images/t.d8f942e1-ccd0-11ec-9e5f-287fcffe570f.xml\n",
            "./Images/Images/t.d8f942e1-ccd0-11ec-9e5f-287fcffe570f.jpg\n",
            "./Images/Images/t.dac8e506-ccd0-11ec-b9f1-287fcffe570f.xml\n",
            "./Images/Images/t.dac8e506-ccd0-11ec-b9f1-287fcffe570f.jpg\n",
            "./Images/Images/t.dc988784-ccd0-11ec-9802-287fcffe570f.xml\n",
            "./Images/Images/t.dc988784-ccd0-11ec-9802-287fcffe570f.jpg\n",
            "./Images/Images/t.de691e77-ccd0-11ec-b9f6-287fcffe570f.xml\n",
            "./Images/Images/t.de691e77-ccd0-11ec-b9f6-287fcffe570f.jpg\n",
            "./Images/Images/t.e039923d-ccd0-11ec-a626-287fcffe570f.xml\n",
            "./Images/Images/t.e039923d-ccd0-11ec-a626-287fcffe570f.jpg\n",
            "./Images/Images/t.e20a1391-ccd0-11ec-9a82-287fcffe570f.xml\n",
            "./Images/Images/t.e20a1391-ccd0-11ec-9a82-287fcffe570f.jpg\n",
            "./Images/Images/t.e3d9cf35-ccd0-11ec-b584-287fcffe570f.xml\n",
            "./Images/Images/t.e3d9cf35-ccd0-11ec-b584-287fcffe570f.jpg\n",
            "./Images/Images/t.e5aa8b95-ccd0-11ec-9fdc-287fcffe570f.xml\n",
            "./Images/Images/t.e5aa8b95-ccd0-11ec-9fdc-287fcffe570f.jpg\n",
            "./Images/Images/t.e77acfad-ccd0-11ec-8fc9-287fcffe570f.xml\n",
            "./Images/Images/t.e77acfad-ccd0-11ec-8fc9-287fcffe570f.jpg\n",
            "./Images/Images/t.e94b7996-ccd0-11ec-bdaa-287fcffe570f.xml\n",
            "./Images/Images/t.e94b7996-ccd0-11ec-bdaa-287fcffe570f.jpg\n",
            "./Images/Images/t.eb1b974b-ccd0-11ec-bf4a-287fcffe570f.xml\n",
            "./Images/Images/t.eb1b974b-ccd0-11ec-bf4a-287fcffe570f.jpg\n",
            "./Images/Images/t.ecebd9d5-ccd0-11ec-ac75-287fcffe570f.xml\n",
            "./Images/Images/t.ecebd9d5-ccd0-11ec-ac75-287fcffe570f.jpg\n",
            "./Images/Images/t.eeb7e0db-ccd0-11ec-b4a1-287fcffe570f.xml\n",
            "./Images/Images/t.eeb7e0db-ccd0-11ec-b4a1-287fcffe570f.jpg\n",
            "./Images/Images/t.f0883ab5-ccd0-11ec-ac08-287fcffe570f.xml\n",
            "./Images/Images/t.f0883ab5-ccd0-11ec-ac08-287fcffe570f.jpg\n",
            "./Images/Images/t.f25936f2-ccd0-11ec-a032-287fcffe570f.xml\n",
            "./Images/Images/t.f25936f2-ccd0-11ec-a032-287fcffe570f.jpg\n",
            "./Images/Images/t.f42763c3-ccd0-11ec-ab93-287fcffe570f.xml\n",
            "./Images/Images/t.f42763c3-ccd0-11ec-ab93-287fcffe570f.jpg\n",
            "./Images/Images/t.f5f970e8-ccd0-11ec-a853-287fcffe570f.xml\n",
            "./Images/Images/t.f5f970e8-ccd0-11ec-a853-287fcffe570f.jpg\n",
            "./Images/Images/this.029a32fd-cccd-11ec-a08d-287fcffe570f.xml\n",
            "./Images/Images/this.029a32fd-cccd-11ec-a08d-287fcffe570f.jpg\n",
            "./Images/Images/this.04688e3b-cccd-11ec-834f-287fcffe570f.xml\n",
            "./Images/Images/this.04688e3b-cccd-11ec-834f-287fcffe570f.jpg\n",
            "./Images/Images/this.06378e23-cccd-11ec-98c3-287fcffe570f.xml\n",
            "./Images/Images/this.06378e23-cccd-11ec-98c3-287fcffe570f.jpg\n",
            "./Images/Images/this.080631c8-cccd-11ec-b9ba-287fcffe570f.xml\n",
            "./Images/Images/this.080631c8-cccd-11ec-b9ba-287fcffe570f.jpg\n",
            "./Images/Images/this.09d5d882-cccd-11ec-94eb-287fcffe570f.xml\n",
            "./Images/Images/this.09d5d882-cccd-11ec-94eb-287fcffe570f.jpg\n",
            "./Images/Images/this.0ba62967-cccd-11ec-8008-287fcffe570f.xml\n",
            "./Images/Images/this.0ba62967-cccd-11ec-8008-287fcffe570f.jpg\n",
            "./Images/Images/this.0d756ce5-cccd-11ec-9482-287fcffe570f.xml\n",
            "./Images/Images/this.0d756ce5-cccd-11ec-9482-287fcffe570f.jpg\n",
            "./Images/Images/this.0f443cf5-cccd-11ec-9dd7-287fcffe570f.xml\n",
            "./Images/Images/this.0f443cf5-cccd-11ec-9dd7-287fcffe570f.jpg\n",
            "./Images/Images/this.1112aedf-cccd-11ec-9586-287fcffe570f.xml\n",
            "./Images/Images/this.1112aedf-cccd-11ec-9586-287fcffe570f.jpg\n",
            "./Images/Images/this.12df54ee-cccd-11ec-914b-287fcffe570f.xml\n",
            "./Images/Images/this.12df54ee-cccd-11ec-914b-287fcffe570f.jpg\n",
            "./Images/Images/this.14aeb38f-cccd-11ec-8927-287fcffe570f.xml\n",
            "./Images/Images/this.14aeb38f-cccd-11ec-8927-287fcffe570f.jpg\n",
            "./Images/Images/this.167e8a51-cccd-11ec-91e8-287fcffe570f.xml\n",
            "./Images/Images/this.167e8a51-cccd-11ec-91e8-287fcffe570f.jpg\n",
            "./Images/Images/this.184ff240-cccd-11ec-9e9b-287fcffe570f.xml\n",
            "./Images/Images/this.184ff240-cccd-11ec-9e9b-287fcffe570f.jpg\n",
            "./Images/Images/this.1a1ca4ae-cccd-11ec-8224-287fcffe570f.xml\n",
            "./Images/Images/this.1a1ca4ae-cccd-11ec-8224-287fcffe570f.jpg\n",
            "./Images/Images/this.1be93ad3-cccd-11ec-9325-287fcffe570f.xml\n",
            "./Images/Images/this.1be93ad3-cccd-11ec-9325-287fcffe570f.jpg\n",
            "./Images/Images/this.1dba7efa-cccd-11ec-b053-287fcffe570f.xml\n",
            "./Images/Images/this.1dba7efa-cccd-11ec-b053-287fcffe570f.jpg\n",
            "./Images/Images/this.1f8d1f99-cccd-11ec-bdab-287fcffe570f.xml\n",
            "./Images/Images/this.1f8d1f99-cccd-11ec-bdab-287fcffe570f.jpg\n",
            "./Images/Images/this.21591d25-cccd-11ec-b134-287fcffe570f.xml\n",
            "./Images/Images/this.21591d25-cccd-11ec-b134-287fcffe570f.jpg\n",
            "./Images/Images/this.232a1c44-cccd-11ec-8ca7-287fcffe570f.xml\n",
            "./Images/Images/this.232a1c44-cccd-11ec-8ca7-287fcffe570f.jpg\n",
            "./Images/Images/this.24f93f59-cccd-11ec-9b24-287fcffe570f.xml\n",
            "./Images/Images/this.24f93f59-cccd-11ec-9b24-287fcffe570f.jpg\n",
            "./Images/Images/u.01c157a4-ccd1-11ec-a9ed-287fcffe570f.xml\n",
            "./Images/Images/u.01c157a4-ccd1-11ec-a9ed-287fcffe570f.jpg\n",
            "./Images/Images/u.0391bfa8-ccd1-11ec-a814-287fcffe570f.xml\n",
            "./Images/Images/u.0391bfa8-ccd1-11ec-a814-287fcffe570f.jpg\n",
            "./Images/Images/u.056360c7-ccd1-11ec-bbdc-287fcffe570f.xml\n",
            "./Images/Images/u.056360c7-ccd1-11ec-bbdc-287fcffe570f.jpg\n",
            "./Images/Images/u.0733d751-ccd1-11ec-9f85-287fcffe570f.xml\n",
            "./Images/Images/u.0733d751-ccd1-11ec-9f85-287fcffe570f.jpg\n",
            "./Images/Images/u.090420a3-ccd1-11ec-960f-287fcffe570f.xml\n",
            "./Images/Images/u.090420a3-ccd1-11ec-960f-287fcffe570f.jpg\n",
            "./Images/Images/u.0ad1be89-ccd1-11ec-8170-287fcffe570f.xml\n",
            "./Images/Images/u.0ad1be89-ccd1-11ec-8170-287fcffe570f.jpg\n",
            "./Images/Images/u.0c9d92fa-ccd1-11ec-ae31-287fcffe570f.xml\n",
            "./Images/Images/u.0c9d92fa-ccd1-11ec-ae31-287fcffe570f.jpg\n",
            "./Images/Images/u.0e6aef70-ccd1-11ec-a046-287fcffe570f.xml\n",
            "./Images/Images/u.0e6aef70-ccd1-11ec-a046-287fcffe570f.jpg\n",
            "./Images/Images/u.1039402a-ccd1-11ec-b92a-287fcffe570f.xml\n",
            "./Images/Images/u.1039402a-ccd1-11ec-b92a-287fcffe570f.jpg\n",
            "./Images/Images/u.12088917-ccd1-11ec-9287-287fcffe570f.xml\n",
            "./Images/Images/u.12088917-ccd1-11ec-9287-287fcffe570f.jpg\n",
            "./Images/Images/u.13d7df6f-ccd1-11ec-b2d4-287fcffe570f.xml\n",
            "./Images/Images/u.13d7df6f-ccd1-11ec-b2d4-287fcffe570f.jpg\n",
            "./Images/Images/u.15a62a46-ccd1-11ec-b4ad-287fcffe570f.xml\n",
            "./Images/Images/u.15a62a46-ccd1-11ec-b4ad-287fcffe570f.jpg\n",
            "./Images/Images/u.17739c08-ccd1-11ec-862d-287fcffe570f.xml\n",
            "./Images/Images/u.17739c08-ccd1-11ec-862d-287fcffe570f.jpg\n",
            "./Images/Images/u.1942dbb4-ccd1-11ec-8949-287fcffe570f.xml\n",
            "./Images/Images/u.1942dbb4-ccd1-11ec-8949-287fcffe570f.jpg\n",
            "./Images/Images/u.1b13a16e-ccd1-11ec-a224-287fcffe570f.xml\n",
            "./Images/Images/u.1b13a16e-ccd1-11ec-a224-287fcffe570f.jpg\n",
            "./Images/Images/u.1ce3fc1a-ccd1-11ec-a752-287fcffe570f.xml\n",
            "./Images/Images/u.1ce3fc1a-ccd1-11ec-a752-287fcffe570f.jpg\n",
            "./Images/Images/u.1eb3d3b6-ccd1-11ec-89ba-287fcffe570f.xml\n",
            "./Images/Images/u.1eb3d3b6-ccd1-11ec-89ba-287fcffe570f.jpg\n",
            "./Images/Images/u.fc52be17-ccd0-11ec-8f4e-287fcffe570f.xml\n",
            "./Images/Images/u.fc52be17-ccd0-11ec-8f4e-287fcffe570f.jpg\n",
            "./Images/Images/u.fe264edf-ccd0-11ec-9fec-287fcffe570f.xml\n",
            "./Images/Images/u.fe264edf-ccd0-11ec-9fec-287fcffe570f.jpg\n",
            "./Images/Images/u.fff4da6b-ccd0-11ec-9c62-287fcffe570f.xml\n",
            "./Images/Images/u.fff4da6b-ccd0-11ec-9c62-287fcffe570f.jpg\n",
            "./Images/Images/v.2503d170-ccd1-11ec-95cb-287fcffe570f.xml\n",
            "./Images/Images/v.2503d170-ccd1-11ec-95cb-287fcffe570f.jpg\n",
            "./Images/Images/v.26d9e2cf-ccd1-11ec-99c2-287fcffe570f.xml\n",
            "./Images/Images/v.26d9e2cf-ccd1-11ec-99c2-287fcffe570f.jpg\n",
            "./Images/Images/v.28aa4428-ccd1-11ec-9340-287fcffe570f.xml\n",
            "./Images/Images/v.28aa4428-ccd1-11ec-9340-287fcffe570f.jpg\n",
            "./Images/Images/v.2a79bf49-ccd1-11ec-81d4-287fcffe570f.xml\n",
            "./Images/Images/v.2a79bf49-ccd1-11ec-81d4-287fcffe570f.jpg\n",
            "./Images/Images/v.2c45fb4c-ccd1-11ec-b36e-287fcffe570f.xml\n",
            "./Images/Images/v.2c45fb4c-ccd1-11ec-b36e-287fcffe570f.jpg\n",
            "./Images/Images/v.2e1514e6-ccd1-11ec-95b8-287fcffe570f.xml\n",
            "./Images/Images/v.2e1514e6-ccd1-11ec-95b8-287fcffe570f.jpg\n",
            "./Images/Images/v.2fe6378a-ccd1-11ec-b9ba-287fcffe570f.xml\n",
            "./Images/Images/v.2fe6378a-ccd1-11ec-b9ba-287fcffe570f.jpg\n",
            "./Images/Images/v.31b3c527-ccd1-11ec-8e3b-287fcffe570f.xml\n",
            "./Images/Images/v.31b3c527-ccd1-11ec-8e3b-287fcffe570f.jpg\n",
            "./Images/Images/v.3384175e-ccd1-11ec-86ba-287fcffe570f.xml\n",
            "./Images/Images/v.3384175e-ccd1-11ec-86ba-287fcffe570f.jpg\n",
            "./Images/Images/v.3553ff97-ccd1-11ec-a41f-287fcffe570f.xml\n",
            "./Images/Images/v.3553ff97-ccd1-11ec-a41f-287fcffe570f.jpg\n",
            "./Images/Images/v.37222bcf-ccd1-11ec-8735-287fcffe570f.xml\n",
            "./Images/Images/v.37222bcf-ccd1-11ec-8735-287fcffe570f.jpg\n",
            "./Images/Images/v.38f4426e-ccd1-11ec-86d6-287fcffe570f.xml\n",
            "./Images/Images/v.38f4426e-ccd1-11ec-86d6-287fcffe570f.jpg\n",
            "./Images/Images/v.3abfe04c-ccd1-11ec-beec-287fcffe570f.xml\n",
            "./Images/Images/v.3abfe04c-ccd1-11ec-beec-287fcffe570f.jpg\n",
            "./Images/Images/v.3c8d8b96-ccd1-11ec-98d1-287fcffe570f.xml\n",
            "./Images/Images/v.3c8d8b96-ccd1-11ec-98d1-287fcffe570f.jpg\n",
            "./Images/Images/v.3e5de069-ccd1-11ec-87e7-287fcffe570f.xml\n",
            "./Images/Images/v.3e5de069-ccd1-11ec-87e7-287fcffe570f.jpg\n",
            "./Images/Images/v.402cd353-ccd1-11ec-805b-287fcffe570f.xml\n",
            "./Images/Images/v.402cd353-ccd1-11ec-805b-287fcffe570f.jpg\n",
            "./Images/Images/v.41fb1bad-ccd1-11ec-8558-287fcffe570f.xml\n",
            "./Images/Images/v.41fb1bad-ccd1-11ec-8558-287fcffe570f.jpg\n",
            "./Images/Images/v.43c866f5-ccd1-11ec-84bf-287fcffe570f.xml\n",
            "./Images/Images/v.43c866f5-ccd1-11ec-84bf-287fcffe570f.jpg\n",
            "./Images/Images/v.459842b2-ccd1-11ec-97e4-287fcffe570f.xml\n",
            "./Images/Images/v.459842b2-ccd1-11ec-97e4-287fcffe570f.jpg\n",
            "./Images/Images/v.47660287-ccd1-11ec-9a35-287fcffe570f.xml\n",
            "./Images/Images/v.47660287-ccd1-11ec-9a35-287fcffe570f.jpg\n",
            "./Images/Images/w.4dbbf13a-ccd1-11ec-9be2-287fcffe570f.xml\n",
            "./Images/Images/w.4dbbf13a-ccd1-11ec-9be2-287fcffe570f.jpg\n",
            "./Images/Images/w.4f91db75-ccd1-11ec-b4db-287fcffe570f.xml\n",
            "./Images/Images/w.4f91db75-ccd1-11ec-b4db-287fcffe570f.jpg\n",
            "./Images/Images/w.516125d3-ccd1-11ec-adf8-287fcffe570f.xml\n",
            "./Images/Images/w.516125d3-ccd1-11ec-adf8-287fcffe570f.jpg\n",
            "./Images/Images/w.5330eb4c-ccd1-11ec-961c-287fcffe570f.xml\n",
            "./Images/Images/w.5330eb4c-ccd1-11ec-961c-287fcffe570f.jpg\n",
            "./Images/Images/w.5500c996-ccd1-11ec-b349-287fcffe570f.xml\n",
            "./Images/Images/w.5500c996-ccd1-11ec-b349-287fcffe570f.jpg\n",
            "./Images/Images/w.56cfe714-ccd1-11ec-866c-287fcffe570f.xml\n",
            "./Images/Images/w.56cfe714-ccd1-11ec-866c-287fcffe570f.jpg\n",
            "./Images/Images/w.58a02688-ccd1-11ec-9241-287fcffe570f.xml\n",
            "./Images/Images/w.58a02688-ccd1-11ec-9241-287fcffe570f.jpg\n",
            "./Images/Images/w.5a7112cf-ccd1-11ec-bddf-287fcffe570f.xml\n",
            "./Images/Images/w.5a7112cf-ccd1-11ec-bddf-287fcffe570f.jpg\n",
            "./Images/Images/w.5c3f0588-ccd1-11ec-9029-287fcffe570f.xml\n",
            "./Images/Images/w.5c3f0588-ccd1-11ec-9029-287fcffe570f.jpg\n",
            "./Images/Images/w.5e0fb852-ccd1-11ec-83f9-287fcffe570f.xml\n",
            "./Images/Images/w.5e0fb852-ccd1-11ec-83f9-287fcffe570f.jpg\n",
            "./Images/Images/w.5fde6d76-ccd1-11ec-9c88-287fcffe570f.xml\n",
            "./Images/Images/w.5fde6d76-ccd1-11ec-9c88-287fcffe570f.jpg\n",
            "./Images/Images/w.61ae0748-ccd1-11ec-ad5f-287fcffe570f.xml\n",
            "./Images/Images/w.61ae0748-ccd1-11ec-ad5f-287fcffe570f.jpg\n",
            "./Images/Images/w.637d095c-ccd1-11ec-9a3d-287fcffe570f.xml\n",
            "./Images/Images/w.637d095c-ccd1-11ec-9a3d-287fcffe570f.jpg\n",
            "./Images/Images/w.654e3ebb-ccd1-11ec-bc27-287fcffe570f.xml\n",
            "./Images/Images/w.654e3ebb-ccd1-11ec-bc27-287fcffe570f.jpg\n",
            "./Images/Images/w.671b205d-ccd1-11ec-90c2-287fcffe570f.xml\n",
            "./Images/Images/w.671b205d-ccd1-11ec-90c2-287fcffe570f.jpg\n",
            "./Images/Images/w.68ea761c-ccd1-11ec-a035-287fcffe570f.xml\n",
            "./Images/Images/w.68ea761c-ccd1-11ec-a035-287fcffe570f.jpg\n",
            "./Images/Images/w.6aba51b9-ccd1-11ec-9fe2-287fcffe570f.xml\n",
            "./Images/Images/w.6aba51b9-ccd1-11ec-9fe2-287fcffe570f.jpg\n",
            "./Images/Images/w.6c8a917d-ccd1-11ec-8986-287fcffe570f.xml\n",
            "./Images/Images/w.6c8a917d-ccd1-11ec-8986-287fcffe570f.jpg\n",
            "./Images/Images/w.6e569fdb-ccd1-11ec-a632-287fcffe570f.xml\n",
            "./Images/Images/w.6e569fdb-ccd1-11ec-a632-287fcffe570f.jpg\n",
            "./Images/Images/w.7024e5c4-ccd1-11ec-9e8d-287fcffe570f.xml\n",
            "./Images/Images/w.7024e5c4-ccd1-11ec-9e8d-287fcffe570f.jpg\n",
            "./Images/Images/x.7670a008-ccd1-11ec-a87f-287fcffe570f.xml\n",
            "./Images/Images/x.7670a008-ccd1-11ec-a87f-287fcffe570f.jpg\n",
            "./Images/Images/x.7846e1fc-ccd1-11ec-928c-287fcffe570f.xml\n",
            "./Images/Images/x.7846e1fc-ccd1-11ec-928c-287fcffe570f.jpg\n",
            "./Images/Images/x.7a16426f-ccd1-11ec-99b0-287fcffe570f.xml\n",
            "./Images/Images/x.7a16426f-ccd1-11ec-99b0-287fcffe570f.jpg\n",
            "./Images/Images/x.7be611a5-ccd1-11ec-bf47-287fcffe570f.xml\n",
            "./Images/Images/x.7be611a5-ccd1-11ec-bf47-287fcffe570f.jpg\n",
            "./Images/Images/x.7db21460-ccd1-11ec-97e5-287fcffe570f.xml\n",
            "./Images/Images/x.7db21460-ccd1-11ec-97e5-287fcffe570f.jpg\n",
            "./Images/Images/x.7f8157b7-ccd1-11ec-833b-287fcffe570f.xml\n",
            "./Images/Images/x.7f8157b7-ccd1-11ec-833b-287fcffe570f.jpg\n",
            "./Images/Images/x.8151d3bd-ccd1-11ec-8db1-287fcffe570f.xml\n",
            "./Images/Images/x.8151d3bd-ccd1-11ec-8db1-287fcffe570f.jpg\n",
            "./Images/Images/x.8321ecd7-ccd1-11ec-8fa8-287fcffe570f.xml\n",
            "./Images/Images/x.8321ecd7-ccd1-11ec-8fa8-287fcffe570f.jpg\n",
            "./Images/Images/x.84f2a7fb-ccd1-11ec-9483-287fcffe570f.xml\n",
            "./Images/Images/x.84f2a7fb-ccd1-11ec-9483-287fcffe570f.jpg\n",
            "./Images/Images/x.86bec6f9-ccd1-11ec-8c10-287fcffe570f.xml\n",
            "./Images/Images/x.86bec6f9-ccd1-11ec-8c10-287fcffe570f.jpg\n",
            "./Images/Images/x.888e3d5b-ccd1-11ec-ade5-287fcffe570f.xml\n",
            "./Images/Images/x.888e3d5b-ccd1-11ec-ade5-287fcffe570f.jpg\n",
            "./Images/Images/x.8a5e136d-ccd1-11ec-8622-287fcffe570f.xml\n",
            "./Images/Images/x.8a5e136d-ccd1-11ec-8622-287fcffe570f.jpg\n",
            "./Images/Images/x.8c2e65ea-ccd1-11ec-aabd-287fcffe570f.xml\n",
            "./Images/Images/x.8c2e65ea-ccd1-11ec-aabd-287fcffe570f.jpg\n",
            "./Images/Images/x.8dfd0e43-ccd1-11ec-ba19-287fcffe570f.xml\n",
            "./Images/Images/x.8dfd0e43-ccd1-11ec-ba19-287fcffe570f.jpg\n",
            "./Images/Images/x.8fcc795c-ccd1-11ec-a61e-287fcffe570f.xml\n",
            "./Images/Images/x.8fcc795c-ccd1-11ec-a61e-287fcffe570f.jpg\n",
            "./Images/Images/x.919c7b9f-ccd1-11ec-97bd-287fcffe570f.xml\n",
            "./Images/Images/x.919c7b9f-ccd1-11ec-97bd-287fcffe570f.jpg\n",
            "./Images/Images/x.936b8529-ccd1-11ec-b02a-287fcffe570f.xml\n",
            "./Images/Images/x.936b8529-ccd1-11ec-b02a-287fcffe570f.jpg\n",
            "./Images/Images/x.953abad8-ccd1-11ec-b38f-287fcffe570f.xml\n",
            "./Images/Images/x.953abad8-ccd1-11ec-b38f-287fcffe570f.jpg\n",
            "./Images/Images/x.970a48a1-ccd1-11ec-a528-287fcffe570f.xml\n",
            "./Images/Images/x.970a48a1-ccd1-11ec-a528-287fcffe570f.jpg\n",
            "./Images/Images/x.98db50cf-ccd1-11ec-b0dd-287fcffe570f.xml\n",
            "./Images/Images/x.98db50cf-ccd1-11ec-b0dd-287fcffe570f.jpg\n",
            "./Images/Images/y.9f315afa-ccd1-11ec-92d4-287fcffe570f.xml\n",
            "./Images/Images/y.9f315afa-ccd1-11ec-92d4-287fcffe570f.jpg\n",
            "./Images/Images/y.a105e215-ccd1-11ec-95aa-287fcffe570f.xml\n",
            "./Images/Images/y.a105e215-ccd1-11ec-95aa-287fcffe570f.jpg\n",
            "./Images/Images/y.a2d5294d-ccd1-11ec-86af-287fcffe570f.xml\n",
            "./Images/Images/y.a2d5294d-ccd1-11ec-86af-287fcffe570f.jpg\n",
            "./Images/Images/y.a4a515d9-ccd1-11ec-9a9a-287fcffe570f.xml\n",
            "./Images/Images/y.a4a515d9-ccd1-11ec-9a9a-287fcffe570f.jpg\n",
            "./Images/Images/y.a6748ea6-ccd1-11ec-99f4-287fcffe570f.xml\n",
            "./Images/Images/y.a6748ea6-ccd1-11ec-99f4-287fcffe570f.jpg\n",
            "./Images/Images/y.a8426729-ccd1-11ec-b4ef-287fcffe570f.xml\n",
            "./Images/Images/y.a8426729-ccd1-11ec-b4ef-287fcffe570f.jpg\n",
            "./Images/Images/y.aa1037b7-ccd1-11ec-aa6d-287fcffe570f.xml\n",
            "./Images/Images/y.aa1037b7-ccd1-11ec-aa6d-287fcffe570f.jpg\n",
            "./Images/Images/y.abdf79fd-ccd1-11ec-9e84-287fcffe570f.xml\n",
            "./Images/Images/y.abdf79fd-ccd1-11ec-9e84-287fcffe570f.jpg\n",
            "./Images/Images/y.adadacfc-ccd1-11ec-ac67-287fcffe570f.xml\n",
            "./Images/Images/y.adadacfc-ccd1-11ec-ac67-287fcffe570f.jpg\n",
            "./Images/Images/y.af7bf5f7-ccd1-11ec-9038-287fcffe570f.xml\n",
            "./Images/Images/y.af7bf5f7-ccd1-11ec-9038-287fcffe570f.jpg\n",
            "./Images/Images/y.b14cf8a7-ccd1-11ec-a454-287fcffe570f.xml\n",
            "./Images/Images/y.b14cf8a7-ccd1-11ec-a454-287fcffe570f.jpg\n",
            "./Images/Images/y.b31b5542-ccd1-11ec-a955-287fcffe570f.xml\n",
            "./Images/Images/y.b31b5542-ccd1-11ec-a955-287fcffe570f.jpg\n",
            "./Images/Images/y.b4ead483-ccd1-11ec-bf84-287fcffe570f.xml\n",
            "./Images/Images/y.b4ead483-ccd1-11ec-bf84-287fcffe570f.jpg\n",
            "./Images/Images/y.b6b735ef-ccd1-11ec-8192-287fcffe570f.xml\n",
            "./Images/Images/y.b6b735ef-ccd1-11ec-8192-287fcffe570f.jpg\n",
            "./Images/Images/y.b8861c11-ccd1-11ec-b2cd-287fcffe570f.xml\n",
            "./Images/Images/y.b8861c11-ccd1-11ec-b2cd-287fcffe570f.jpg\n",
            "./Images/Images/y.ba535763-ccd1-11ec-a183-287fcffe570f.xml\n",
            "./Images/Images/y.ba535763-ccd1-11ec-a183-287fcffe570f.jpg\n",
            "./Images/Images/y.bc23b083-ccd1-11ec-acfe-287fcffe570f.xml\n",
            "./Images/Images/y.bc23b083-ccd1-11ec-acfe-287fcffe570f.jpg\n",
            "./Images/Images/y.bdef79a9-ccd1-11ec-abf0-287fcffe570f.xml\n",
            "./Images/Images/y.bdef79a9-ccd1-11ec-abf0-287fcffe570f.jpg\n",
            "./Images/Images/y.bfc0a7c4-ccd1-11ec-9ccf-287fcffe570f.xml\n",
            "./Images/Images/y.bfc0a7c4-ccd1-11ec-9ccf-287fcffe570f.jpg\n",
            "./Images/Images/y.c18df86d-ccd1-11ec-b494-287fcffe570f.xml\n",
            "./Images/Images/y.c18df86d-ccd1-11ec-b494-287fcffe570f.jpg\n",
            "./Images/Images/yes.7c27f4c6-cccd-11ec-9ae6-287fcffe570f.xml\n",
            "./Images/Images/yes.7c27f4c6-cccd-11ec-9ae6-287fcffe570f.jpg\n",
            "./Images/Images/yes.7df527c9-cccd-11ec-84f9-287fcffe570f.xml\n",
            "./Images/Images/yes.7df527c9-cccd-11ec-84f9-287fcffe570f.jpg\n",
            "./Images/Images/yes.7fc4bc0b-cccd-11ec-8e3e-287fcffe570f.xml\n",
            "./Images/Images/yes.7fc4bc0b-cccd-11ec-8e3e-287fcffe570f.jpg\n",
            "./Images/Images/yes.81926406-cccd-11ec-a117-287fcffe570f.xml\n",
            "./Images/Images/yes.81926406-cccd-11ec-a117-287fcffe570f.jpg\n",
            "./Images/Images/yes.835fff51-cccd-11ec-b942-287fcffe570f.xml\n",
            "./Images/Images/yes.835fff51-cccd-11ec-b942-287fcffe570f.jpg\n",
            "./Images/Images/yes.852feff8-cccd-11ec-8c73-287fcffe570f.xml\n",
            "./Images/Images/yes.852feff8-cccd-11ec-8c73-287fcffe570f.jpg\n",
            "./Images/Images/yes.87007be2-cccd-11ec-89b1-287fcffe570f.xml\n",
            "./Images/Images/yes.87007be2-cccd-11ec-89b1-287fcffe570f.jpg\n",
            "./Images/Images/yes.88d058c9-cccd-11ec-84bc-287fcffe570f.xml\n",
            "./Images/Images/yes.88d058c9-cccd-11ec-84bc-287fcffe570f.jpg\n",
            "./Images/Images/yes.8a9dcdad-cccd-11ec-b25d-287fcffe570f.xml\n",
            "./Images/Images/yes.8a9dcdad-cccd-11ec-b25d-287fcffe570f.jpg\n",
            "./Images/Images/yes.8c6ba203-cccd-11ec-9b6e-287fcffe570f.xml\n",
            "./Images/Images/yes.8c6ba203-cccd-11ec-9b6e-287fcffe570f.jpg\n",
            "./Images/Images/yes.8e3bf5e6-cccd-11ec-8ece-287fcffe570f.xml\n",
            "./Images/Images/yes.8e3bf5e6-cccd-11ec-8ece-287fcffe570f.jpg\n",
            "./Images/Images/yes.900cb1a2-cccd-11ec-9183-287fcffe570f.xml\n",
            "./Images/Images/yes.900cb1a2-cccd-11ec-9183-287fcffe570f.jpg\n",
            "./Images/Images/yes.91de5c6b-cccd-11ec-9cc0-287fcffe570f.xml\n",
            "./Images/Images/yes.91de5c6b-cccd-11ec-9cc0-287fcffe570f.jpg\n",
            "./Images/Images/yes.93aa4ddf-cccd-11ec-95fa-287fcffe570f.xml\n",
            "./Images/Images/yes.93aa4ddf-cccd-11ec-95fa-287fcffe570f.jpg\n",
            "./Images/Images/yes.957c08eb-cccd-11ec-9950-287fcffe570f.xml\n",
            "./Images/Images/yes.957c08eb-cccd-11ec-9950-287fcffe570f.jpg\n",
            "./Images/Images/yes.974cecaf-cccd-11ec-90e3-287fcffe570f.xml\n",
            "./Images/Images/yes.974cecaf-cccd-11ec-90e3-287fcffe570f.jpg\n",
            "./Images/Images/yes.99196fd3-cccd-11ec-b60a-287fcffe570f.xml\n",
            "./Images/Images/yes.99196fd3-cccd-11ec-b60a-287fcffe570f.jpg\n",
            "./Images/Images/yes.9ae9e832-cccd-11ec-9b50-287fcffe570f.xml\n",
            "./Images/Images/yes.9ae9e832-cccd-11ec-9b50-287fcffe570f.jpg\n",
            "./Images/Images/yes.9cb9ac2e-cccd-11ec-9950-287fcffe570f.xml\n",
            "./Images/Images/yes.9cb9ac2e-cccd-11ec-9950-287fcffe570f.jpg\n",
            "./Images/Images/yes.9e85f5a1-cccd-11ec-a501-287fcffe570f.xml\n",
            "./Images/Images/yes.9e85f5a1-cccd-11ec-a501-287fcffe570f.jpg\n",
            "./Images/Images/z.c7dc7c8a-ccd1-11ec-a129-287fcffe570f.xml\n",
            "./Images/Images/z.c7dc7c8a-ccd1-11ec-a129-287fcffe570f.jpg\n",
            "./Images/Images/z.c9b04542-ccd1-11ec-ada1-287fcffe570f.xml\n",
            "./Images/Images/z.c9b04542-ccd1-11ec-ada1-287fcffe570f.jpg\n",
            "./Images/Images/z.cb7f2e0c-ccd1-11ec-b2e0-287fcffe570f.xml\n",
            "./Images/Images/z.cb7f2e0c-ccd1-11ec-b2e0-287fcffe570f.jpg\n",
            "./Images/Images/z.cd4c7258-ccd1-11ec-bd4e-287fcffe570f.xml\n",
            "./Images/Images/z.cd4c7258-ccd1-11ec-bd4e-287fcffe570f.jpg\n",
            "./Images/Images/z.cf19a201-ccd1-11ec-b800-287fcffe570f.xml\n",
            "./Images/Images/z.cf19a201-ccd1-11ec-b800-287fcffe570f.jpg\n",
            "./Images/Images/z.d0e9fcf7-ccd1-11ec-958c-287fcffe570f.xml\n",
            "./Images/Images/z.d0e9fcf7-ccd1-11ec-958c-287fcffe570f.jpg\n",
            "./Images/Images/z.d2b9b458-ccd1-11ec-923d-287fcffe570f.xml\n",
            "./Images/Images/z.d2b9b458-ccd1-11ec-923d-287fcffe570f.jpg\n",
            "./Images/Images/z.d487765b-ccd1-11ec-be69-287fcffe570f.xml\n",
            "./Images/Images/z.d487765b-ccd1-11ec-be69-287fcffe570f.jpg\n",
            "./Images/Images/z.d657d71f-ccd1-11ec-9010-287fcffe570f.xml\n",
            "./Images/Images/z.d657d71f-ccd1-11ec-9010-287fcffe570f.jpg\n",
            "./Images/Images/z.d828488e-ccd1-11ec-844c-287fcffe570f.xml\n",
            "./Images/Images/z.d828488e-ccd1-11ec-844c-287fcffe570f.jpg\n",
            "./Images/Images/z.d9f822b6-ccd1-11ec-8b40-287fcffe570f.xml\n",
            "./Images/Images/z.d9f822b6-ccd1-11ec-8b40-287fcffe570f.jpg\n",
            "./Images/Images/z.dbc8d0e8-ccd1-11ec-8b8a-287fcffe570f.xml\n",
            "./Images/Images/z.dbc8d0e8-ccd1-11ec-8b8a-287fcffe570f.jpg\n",
            "./Images/Images/z.dd970ecf-ccd1-11ec-9664-287fcffe570f.xml\n",
            "./Images/Images/z.dd970ecf-ccd1-11ec-9664-287fcffe570f.jpg\n",
            "./Images/Images/z.df68c4a9-ccd1-11ec-aae1-287fcffe570f.xml\n",
            "./Images/Images/z.df68c4a9-ccd1-11ec-aae1-287fcffe570f.jpg\n",
            "./Images/Images/z.e137e8e5-ccd1-11ec-9247-287fcffe570f.xml\n",
            "./Images/Images/z.e137e8e5-ccd1-11ec-9247-287fcffe570f.jpg\n",
            "./Images/Images/z.e305c7e9-ccd1-11ec-b72e-287fcffe570f.xml\n",
            "./Images/Images/z.e305c7e9-ccd1-11ec-b72e-287fcffe570f.jpg\n",
            "./Images/Images/z.e4d702b9-ccd1-11ec-93a7-287fcffe570f.xml\n",
            "./Images/Images/z.e4d702b9-ccd1-11ec-93a7-287fcffe570f.jpg\n",
            "./Images/Images/z.e6a32425-ccd1-11ec-928a-287fcffe570f.xml\n",
            "./Images/Images/z.e6a32425-ccd1-11ec-928a-287fcffe570f.jpg\n",
            "./Images/Images/z.e8751198-ccd1-11ec-ae2c-287fcffe570f.xml\n",
            "./Images/Images/z.e8751198-ccd1-11ec-ae2c-287fcffe570f.jpg\n",
            "./Images/Images/z.ea417c34-ccd1-11ec-994d-287fcffe570f.xml\n",
            "./Images/Images/z.ea417c34-ccd1-11ec-994d-287fcffe570f.jpg\n"
          ]
        }
      ],
      "source": [
        "path = './Images/Images'\n",
        "xml_files = glob.glob(path+\"/*.xml\")\n",
        "xml_files = sorted(xml_files)\n",
        "img_files = glob.glob(path+\"/*.jpg\")\n",
        "img_files = sorted(img_files)\n",
        "len(img_files)\n",
        "\n",
        "data = []\n",
        "labels = []\n",
        "bboxes = []\n",
        "imagePaths = []\n",
        "\n",
        "for i, file in enumerate(xml_files):\n",
        "    print(file)\n",
        "    print(img_files[i])\n",
        "    root = ET.parse(file).getroot()\n",
        "    xmin = int(root.find(\"object\").find(\"bndbox\").find(\"xmin\").text)\n",
        "    ymin = int(root.find(\"object\").find(\"bndbox\").find(\"ymin\").text)\n",
        "    xmax = int(root.find(\"object\").find(\"bndbox\").find(\"xmax\").text)\n",
        "    ymax = int(root.find(\"object\").find(\"bndbox\").find(\"ymax\").text)\n",
        "    class_name = root.find(\"object\").find(\"name\").text.lower()\n",
        "\n",
        "    imagePath = img_files[i]\n",
        "    image = cv2.imread(imagePath)\n",
        "    (h,w)=image.shape[:2]\n",
        "\n",
        "    image = cv2.imread(imagePath)\n",
        "    image = cv2.cvtColor(image, cv2.COLOR_BGR2RGB)\n",
        "    image = cv2.resize(image, (224, 224))\n",
        "    \n",
        "    x_scale = ( 224 / w)\n",
        "    y_scale = ( 224 / h)\n",
        "    \n",
        "    startx = int(xmin*x_scale)\n",
        "    starty = int(ymin*y_scale)\n",
        "    endx = int(xmax*x_scale)\n",
        "    endy = int(ymax*y_scale)\n",
        "    \n",
        "    data.append(image)\n",
        "    labels.append(class_name)\n",
        "    bboxes.append((startx, starty, endx, endy))\n",
        "    imagePaths.append(imagePath)\n",
        "    \n",
        "# labels    "
      ]
    },
    {
      "cell_type": "code",
      "execution_count": null,
      "id": "7f4c2e28",
      "metadata": {
        "id": "7f4c2e28"
      },
      "outputs": [],
      "source": [
        "#from the xml files I will extract the necessary bounding boxes to find my data\n",
        "class SignLanguageData(torch.utils.data.Dataset):\n",
        "    # initialize the constructor\n",
        "    def __init__(self, tensors, transforms=None):\n",
        "        self.tensors = tensors\n",
        "        self.transforms = transforms\n",
        "    def __getitem__(self, index):\n",
        "        # grab the image, label, and its bounding box coordinates\n",
        "        image = self.tensors[0][index]\n",
        "        label = self.tensors[1][index]\n",
        "        bbox = self.tensors[2][index]\n",
        "        # transpose the image such that its channel dimension becomes\n",
        "        # the leading one\n",
        "        image = image.permute(2, 0, 1)\n",
        "        # check to see if we have any image transformations to apply\n",
        "        # and if so, apply them\n",
        "        if self.transforms:\n",
        "            image = self.transforms(image)\n",
        "        # return a tuple of the images, labels, and bounding\n",
        "        # box coordinates\n",
        "        target = {}\n",
        "        bbox = bbox.unsqueeze(0)\n",
        "        target[\"boxes\"] = bbox\n",
        "        label = label.unsqueeze(0)\n",
        "        target[\"labels\"] = label\n",
        "#         return (image, label, bbox)\n",
        "        return image, target\n",
        "    def __len__(self):\n",
        "        # return the size of the dataset\n",
        "        return self.tensors[0].size(0)"
      ]
    },
    {
      "cell_type": "code",
      "execution_count": null,
      "id": "f17121ed",
      "metadata": {
        "id": "f17121ed"
      },
      "outputs": [],
      "source": [
        "data = np.array(data, dtype=\"float32\")\n",
        "labels = np.array(labels)\n",
        "bboxes = np.array(bboxes, dtype=\"float32\")\n",
        "imagePaths = np.array(imagePaths)\n",
        "# perform label encoding on the labels\n",
        "le = LabelEncoder()\n",
        "labels = le.fit_transform(labels)"
      ]
    },
    {
      "cell_type": "code",
      "execution_count": null,
      "id": "010cff9b",
      "metadata": {
        "id": "010cff9b"
      },
      "outputs": [],
      "source": [
        "split = train_test_split(data, labels, bboxes, imagePaths,\n",
        "test_size=0.20, random_state=42)\n",
        "# unpack the data split\n",
        "(trainImages, testImages) = split[:2]\n",
        "(trainLabels, testLabels) = split[2:4]\n",
        "(trainBBoxes, testBBoxes) = split[4:6]\n",
        "(trainPaths, testPaths) = split[6:]"
      ]
    },
    {
      "cell_type": "code",
      "execution_count": null,
      "id": "fb0dd857",
      "metadata": {
        "id": "fb0dd857"
      },
      "outputs": [],
      "source": [
        "(trainImages, testImages) = torch.tensor(trainImages),torch.tensor(testImages)\n",
        "(trainLabels, testLabels) = torch.tensor(trainLabels),torch.tensor(testLabels)\n",
        "(trainBBoxes, testBBoxes) = torch.tensor(trainBBoxes),torch.tensor(testBBoxes)"
      ]
    },
    {
      "cell_type": "code",
      "execution_count": null,
      "id": "79e89279",
      "metadata": {
        "id": "79e89279"
      },
      "outputs": [],
      "source": [
        "from torchvision import transforms\n",
        "\n",
        "# transforms = transforms.Compose([\n",
        "#     transforms.ToPILImage(),\n",
        "#     transforms.ToTensor(),\n",
        "#     transforms.RandomHorizontalFlip(p=0.5),\n",
        "#     transforms.Normalize(mean=MEAN, std=STD)\n",
        "# ])\n",
        "\n",
        "transforms = transforms.Compose([\n",
        "    transforms.ToPILImage(),\n",
        "    transforms.ToTensor(),\n",
        "    transforms.Normalize(mean=MEAN, std=STD)\n",
        "])\n",
        "#https://github.com/EdwardRaff/Inside-Deep-Learning/blob/main/Chapter_8.ipynb\n",
        "def collate_fn(batch):\n",
        "    \"\"\"\n",
        "    batch is going to contain a python list of objects. In our case, our data loader returns (Tensor, Dict) pairs\n",
        "    The FasterRCNN algorithm wants a List[Tensors] and a List[Dict]. So we will use this function to convert the \n",
        "    batch of data into the form we want, and then give it to the Dataloader to use\n",
        "    \"\"\"\n",
        "    imgs = []\n",
        "    labels = []\n",
        "    for img, label in batch:\n",
        "        imgs.append(img)\n",
        "        labels.append(label)\n",
        "    return imgs, labels"
      ]
    },
    {
      "cell_type": "code",
      "execution_count": null,
      "id": "37e94d03",
      "metadata": {
        "id": "37e94d03",
        "outputId": "d8364b7d-cf4c-408a-9a13-ec6dd4fd8f53",
        "colab": {
          "base_uri": "https://localhost:8080/"
        }
      },
      "outputs": [
        {
          "output_type": "stream",
          "name": "stdout",
          "text": [
            "[INFO] total training samples: 544...\n",
            "[INFO] total test samples: 137...\n"
          ]
        }
      ],
      "source": [
        "trainDS = SignLanguageData((trainImages, trainLabels, trainBBoxes),transforms=transforms)\n",
        "testDS = SignLanguageData((testImages, testLabels, testBBoxes),transforms=transforms)\n",
        "print(\"[INFO] total training samples: {}...\".format(len(trainDS)))\n",
        "print(\"[INFO] total test samples: {}...\".format(len(testDS)))\n",
        "# calculate steps per epoch for training and validation set\n",
        "trainSteps = len(trainDS) // BATCH_SIZE\n",
        "valSteps = len(testDS) // BATCH_SIZE\n",
        "# create data loaders\n",
        "trainLoader = DataLoader(trainDS, batch_size=BATCH_SIZE, shuffle=True, collate_fn=collate_fn, pin_memory=PIN_MEMORY)\n",
        "testLoader = DataLoader(testDS, batch_size=BATCH_SIZE, collate_fn=collate_fn,  pin_memory=PIN_MEMORY)"
      ]
    },
    {
      "cell_type": "code",
      "execution_count": null,
      "id": "0357e0d6",
      "metadata": {
        "id": "0357e0d6",
        "outputId": "48d51b39-cb27-4667-bd3d-2cd2a992a4a4",
        "colab": {
          "base_uri": "https://localhost:8080/",
          "height": 286
        }
      },
      "outputs": [
        {
          "output_type": "execute_result",
          "data": {
            "text/plain": [
              "<matplotlib.image.AxesImage at 0x7fb7c14b2b10>"
            ]
          },
          "metadata": {},
          "execution_count": 131
        },
        {
          "output_type": "display_data",
          "data": {
            "text/plain": [
              "<Figure size 432x288 with 1 Axes>"
            ],
            "image/png": "[encoded data removed]"
          },
          "metadata": {}
        }
      ],
      "source": [
        "from matplotlib.pyplot import imshow\n",
        "x, y = trainDS[0] # Grab an image with its labels\n",
        "imshow(x.numpy()[0,:])"
      ]
    },
    {
      "cell_type": "code",
      "execution_count": null,
      "id": "2c787260",
      "metadata": {
        "id": "2c787260",
        "outputId": "0f0f1b31-8e09-4525-aa3b-544eda915ccf",
        "colab": {
          "base_uri": "https://localhost:8080/"
        }
      },
      "outputs": [
        {
          "output_type": "stream",
          "name": "stdout",
          "text": [
            "{'boxes': tensor([[ 54., 123.,  91., 167.]]), 'labels': tensor([23])}\n",
            "Boxes:  tensor([[ 54., 123.,  91., 167.]])\n",
            "Labels:  tensor([23])\n"
          ]
        }
      ],
      "source": [
        "print(y) #prints out everything\n",
        "print(\"Boxes: \", y['boxes']) #prints a tensor showing the pixel locations of the corners for all 3 objects\n",
        "print(\"Labels: \", y['labels'])"
      ]
    },
    {
      "cell_type": "code",
      "execution_count": null,
      "id": "4d51fb5b",
      "metadata": {
        "id": "4d51fb5b",
        "outputId": "ca9355c7-49e0-45f7-f1ff-0bb4bea8dde3",
        "colab": {
          "base_uri": "https://localhost:8080/"
        }
      },
      "outputs": [
        {
          "output_type": "stream",
          "name": "stdout",
          "text": [
            "{'a': 0, 'b': 1, 'c': 2, 'd': 3, 'e': 4, 'f': 5, 'g': 6, 'h': 7, 'hello': 8, 'i': 9, 'j': 10, 'k': 11, 'l': 12, 'm': 13, 'my': 14, 'n': 15, 'name': 16, 'no': 17, 'o': 18, 'p': 19, 'project': 20, 'q': 21, 'r': 22, 's': 23, 't': 24, 'thank you': 25, 'this': 26, 'u': 27, 'v': 28, 'w': 29, 'x': 30, 'y': 31, 'yes': 32, 'z': 33}\n"
          ]
        }
      ],
      "source": [
        "le_name_mapping = dict(zip(le.classes_, le.transform(le.classes_)))\n",
        "print(le_name_mapping)"
      ]
    },
    {
      "cell_type": "code",
      "execution_count": null,
      "id": "b0d89232",
      "metadata": {
        "id": "b0d89232",
        "outputId": "f7f007af-e6a9-41d8-9dfc-7512a63d02ec",
        "colab": {
          "base_uri": "https://localhost:8080/",
          "height": 269
        }
      },
      "outputs": [
        {
          "output_type": "display_data",
          "data": {
            "text/plain": [
              "<Figure size 432x288 with 1 Axes>"
            ],
            "image/png": "[encoded data removed]"
          },
          "metadata": {}
        }
      ],
      "source": [
        "import matplotlib.patches as patches\n",
        "def plotDetection(ax, abs_pos, label=None):\n",
        "    \"\"\"\n",
        "    ax: the matpllib axis to add this plot to\n",
        "    abs_pos: the positions of the bounding box\n",
        "    label: the label of the prediction to add\n",
        "    \"\"\"\n",
        "    x1, y1, x2, y2 = abs_pos\n",
        "    #make a rectangle for the bounding box\n",
        "    rect = patches.Rectangle((x1,y1),x2-x1,y2-y1,linewidth=1,edgecolor='r',facecolor='none')\n",
        "    ax.add_patch(rect)\n",
        "    #add the label if given\n",
        "    if label is not None:\n",
        "        plt.text(x1+0.5, y1, label, color='black', bbox=dict(facecolor='white', edgecolor='white', pad=1.0))\n",
        "    \n",
        "    return \n",
        "fig,ax = plt.subplots(1)\n",
        "ax.imshow(x.numpy()[0,:])\n",
        "plotDetection(ax, y['boxes'][0], y['labels'][0].item())"
      ]
    },
    {
      "cell_type": "code",
      "execution_count": null,
      "id": "7208d83a",
      "metadata": {
        "id": "7208d83a",
        "outputId": "9cfa78db-656f-457c-f9d8-fd7b5731a2c1",
        "colab": {
          "base_uri": "https://localhost:8080/"
        }
      },
      "outputs": [
        {
          "output_type": "stream",
          "name": "stdout",
          "text": [
            "[INFO] saving testing image paths...\n"
          ]
        }
      ],
      "source": [
        "print(\"[INFO] saving testing image paths...\")\n",
        "f = open(TEST_PATHS, \"w\")\n",
        "f.write(\"\\n\".join(testPaths))\n",
        "f.close()\n",
        "# load the ResNet50 network\n",
        "# resnet = resnet50(pretrained=True)\n",
        "rcnn = torchvision.models.detection.fasterrcnn_resnet50_fpn(pretrained=True)\n",
        "# freeze all ResNet50 layers so they will *not* be updated during the\n",
        "# training process\n",
        "for param in rcnn.parameters():\n",
        "    param.requires_grad = False\n",
        "\n",
        "# modelOutputFeats = model.fc.in_features\n",
        "# model.fc = nn.Linear(modelOutputFeats, len(trainDS.classes))\n",
        "# model = model.to(DEVICE)\n",
        "    "
      ]
    },
    {
      "cell_type": "code",
      "execution_count": null,
      "id": "14d97061",
      "metadata": {
        "id": "14d97061"
      },
      "outputs": [],
      "source": [
        "#How many channels are in the input?\n",
        "C = 3\n",
        "#How many classes are there?\n",
        "classes = 34\n",
        "#How many filters in our backbone\n",
        "n_filters = 32"
      ]
    },
    {
      "cell_type": "code",
      "execution_count": null,
      "id": "005ce723",
      "metadata": {
        "id": "005ce723"
      },
      "outputs": [],
      "source": [
        "#Define our helper function that creates a hidden layer for a CNN\n",
        "def cnnLayer(in_filters, out_filters, kernel_size=3):\n",
        "    \"\"\"\n",
        "    in_filters: how many channels are in the input to this layer\n",
        "    out_filters: how many channels should this layer output\n",
        "    kernel_size: how large should the filters of this layer be\n",
        "    \"\"\"\n",
        "    padding = kernel_size//2\n",
        "    return nn.Sequential(\n",
        "        nn.Conv2d(in_filters, out_filters, kernel_size, padding=padding), \n",
        "        nn.BatchNorm2d(out_filters),\n",
        "        nn.LeakyReLU(), # I'm not setting the leak value to anything just to make the code shorter. \n",
        "    )\n",
        "\n",
        "def moveTo(obj, device):\n",
        "    \"\"\"\n",
        "    obj: the python object to move to a device, or to move its contents to a device\n",
        "    device: the compute device to move objects to\n",
        "    \"\"\"\n",
        "    if hasattr(obj, \"to\"):\n",
        "        return obj.to(device)\n",
        "    elif isinstance(obj, list):\n",
        "        return [moveTo(x, device) for x in obj]\n",
        "    elif isinstance(obj, tuple):\n",
        "        return tuple(moveTo(list(obj), device))\n",
        "    elif isinstance(obj, set):\n",
        "        return set(moveTo(list(obj), device))\n",
        "    elif isinstance(obj, dict):\n",
        "        to_ret = dict()\n",
        "        for key, value in obj.items():\n",
        "            to_ret[moveTo(key, device)] = moveTo(value, device)\n",
        "        return to_ret\n",
        "    else:\n",
        "        return obj"
      ]
    },
    {
      "cell_type": "code",
      "execution_count": null,
      "id": "708b1674",
      "metadata": {
        "id": "708b1674"
      },
      "outputs": [],
      "source": [
        "backbone = nn.Sequential(\n",
        "    cnnLayer(C, n_filters),    \n",
        "    cnnLayer(n_filters, n_filters),\n",
        "    cnnLayer(n_filters, n_filters),\n",
        "    nn.MaxPool2d((2,2)),\n",
        "    cnnLayer(n_filters, 2*n_filters),\n",
        "    cnnLayer(2*n_filters, 2*n_filters),\n",
        "    cnnLayer(2*n_filters, 2*n_filters),\n",
        "    nn.MaxPool2d((2,2)),\n",
        "    cnnLayer(2*n_filters, 4*n_filters),\n",
        "    cnnLayer(4*n_filters, 4*n_filters),\n",
        ")\n",
        "#Let Faster RCNN know exactly how many output channels to expect\n",
        "backbone.out_channels = n_filters*4"
      ]
    },
    {
      "cell_type": "code",
      "execution_count": null,
      "id": "a4824895",
      "metadata": {
        "id": "a4824895"
      },
      "outputs": [],
      "source": [
        "# How many proposals $k$ should be generated? Every aspect ration will be one, and the process will be repeated for multiple image sizes \n",
        "anchor_generator = AnchorGenerator(sizes=((224),), aspect_ratios=((1.0),)) #To make this run faster, we are telling PyTorch to look for only square images that are 32 x 32 in size\n",
        "\n",
        "#Tell PyTorch to use the final output of the backbone as the featuremap (['0']), use adaptive pooling down to a 7x7 grid (output_size=7)\n",
        "roi_pooler = torchvision.ops.MultiScaleRoIAlign(featmap_names=['0'], output_size=7, sampling_ratio=2)\n",
        "#sampling_ratio is poorly named, and controls details on how the RoI grabs slices of the feature map when a fractional pixel location is predicted (e.g., 5.8 instead of 6). We are not going to go into those low level details, 2 is a reasonable default for most work. \n",
        "        \n",
        "#Now we can create the FasterRCNN object. We give it the backbone network, number of classes, min & max size to process images at (we know all our images at 100 pixels), a mean and standard deviation to subtract from the images, and the anchor generation (RPN) and RoI objects\n",
        "model = FasterRCNN(backbone, num_classes=classes, image_mean = (0.5,), image_std = (0.5,), min_size=100, max_size=100, rpn_anchor_generator=anchor_generator, box_roi_pool=roi_pooler)\n"
      ]
    },
    {
      "cell_type": "code",
      "execution_count": null,
      "id": "031f8c67",
      "metadata": {
        "id": "031f8c67",
        "outputId": "64c61641-41bc-4392-f86b-274675b7e539",
        "colab": {
          "base_uri": "https://localhost:8080/"
        }
      },
      "outputs": [
        {
          "output_type": "stream",
          "name": "stderr",
          "text": [
            "Epoch:   0%|          | 0/1 [00:00<?, ?it/s]\n",
            "Train Batch:   0%|          | 0/34 [00:00<?, ?it/s]\u001b[A\n",
            "Train Batch:   6%|▌         | 2/34 [00:00<00:03, 10.44it/s]\u001b[A\n",
            "Train Batch:  12%|█▏        | 4/34 [00:00<00:02, 10.48it/s]\u001b[A\n",
            "Train Batch:  18%|█▊        | 6/34 [00:00<00:02, 10.27it/s]\u001b[A\n",
            "Train Batch:  24%|██▎       | 8/34 [00:00<00:02,  9.27it/s]\u001b[A\n",
            "Train Batch:  26%|██▋       | 9/34 [00:00<00:02,  8.73it/s]\u001b[A\n",
            "Train Batch:  29%|██▉       | 10/34 [00:01<00:02,  8.34it/s]\u001b[A\n",
            "Train Batch:  32%|███▏      | 11/34 [00:01<00:02,  7.98it/s]\u001b[A\n",
            "Train Batch:  35%|███▌      | 12/34 [00:01<00:02,  7.48it/s]\u001b[A\n",
            "Train Batch:  38%|███▊      | 13/34 [00:01<00:02,  7.43it/s]\u001b[A\n",
            "Train Batch:  41%|████      | 14/34 [00:01<00:02,  7.35it/s]\u001b[A\n",
            "Train Batch:  44%|████▍     | 15/34 [00:01<00:02,  7.42it/s]\u001b[A\n",
            "Train Batch:  47%|████▋     | 16/34 [00:01<00:02,  7.57it/s]\u001b[A\n",
            "Train Batch:  50%|█████     | 17/34 [00:02<00:02,  7.62it/s]\u001b[A\n",
            "Train Batch:  53%|█████▎    | 18/34 [00:02<00:02,  7.47it/s]\u001b[A\n",
            "Train Batch:  56%|█████▌    | 19/34 [00:02<00:02,  7.50it/s]\u001b[A\n",
            "Train Batch:  59%|█████▉    | 20/34 [00:02<00:01,  7.15it/s]\u001b[A\n",
            "Train Batch:  62%|██████▏   | 21/34 [00:02<00:01,  7.28it/s]\u001b[A\n",
            "Train Batch:  65%|██████▍   | 22/34 [00:02<00:01,  7.21it/s]\u001b[A\n",
            "Train Batch:  68%|██████▊   | 23/34 [00:02<00:01,  7.30it/s]\u001b[A\n",
            "Train Batch:  71%|███████   | 24/34 [00:03<00:01,  7.26it/s]\u001b[A\n",
            "Train Batch:  74%|███████▎  | 25/34 [00:03<00:01,  7.31it/s]\u001b[A\n",
            "Train Batch:  76%|███████▋  | 26/34 [00:03<00:01,  7.25it/s]\u001b[A\n",
            "Train Batch:  79%|███████▉  | 27/34 [00:03<00:00,  7.37it/s]\u001b[A\n",
            "Train Batch:  82%|████████▏ | 28/34 [00:03<00:00,  7.28it/s]\u001b[A\n",
            "Train Batch:  85%|████████▌ | 29/34 [00:03<00:00,  7.19it/s]\u001b[A\n",
            "Train Batch:  88%|████████▊ | 30/34 [00:03<00:00,  7.10it/s]\u001b[A\n",
            "Train Batch:  91%|█████████ | 31/34 [00:04<00:00,  7.10it/s]\u001b[A\n",
            "Train Batch:  94%|█████████▍| 32/34 [00:04<00:00,  7.06it/s]\u001b[A\n",
            "Train Batch:  97%|█████████▋| 33/34 [00:04<00:00,  6.99it/s]\u001b[A\n",
            "Train Batch: 100%|██████████| 34/34 [00:04<00:00,  7.17it/s]\u001b[A\n",
            "Epoch: 100%|██████████| 1/1 [00:04<00:00,  4.45s/it]\n"
          ]
        }
      ],
      "source": [
        "model = model.train()\n",
        "model.to(DEVICE)\n",
        "optimizer = torch.optim.AdamW(model.parameters())\n",
        "\n",
        "for epoch in tqdm(range(1), desc=\"Epoch\", disable=False):\n",
        "    running_loss = 0.0\n",
        "    for inputs, labels in tqdm(trainLoader, desc=\"Train Batch\", leave=False, disable=False):\n",
        "        #Move the batch to the device we are using. \n",
        "        inputs = moveTo(inputs, DEVICE)\n",
        "        labels = moveTo(labels, DEVICE)\n",
        "\n",
        "        optimizer.zero_grad()\n",
        "        #rcnn wants model(inputs, labels) - not just model(inputs)\n",
        "        losses = model(inputs, labels)\n",
        "        # Compute loss, RCNN gives us a list of losses to add up.\n",
        "        loss = 0\n",
        "        for partial_loss in losses.values():\n",
        "            loss += partial_loss\n",
        "        #now proceed like normal\n",
        "        loss.backward()\n",
        "        \n",
        "        optimizer.step()\n",
        "\n",
        "        running_loss += loss.item()"
      ]
    },
    {
      "cell_type": "code",
      "execution_count": null,
      "id": "8cccb23d",
      "metadata": {
        "id": "8cccb23d"
      },
      "outputs": [],
      "source": [
        "# objectDetector = ObjectDetector(rcnn, len(le.classes_))\n",
        "# objectDetector = objectDetector.to(DEVICE)\n",
        "# # define our loss functions\n",
        "classLossFunc = CrossEntropyLoss()\n",
        "bboxLossFunc = MSELoss()\n",
        "# # initialize the optimizer, compile the model, and show the model\n",
        "# # summary\n",
        "opt = Adam(model.parameters(), lr=INIT_LR)\n",
        "# print(objectDetector)\n",
        "# # initialize a dictionary to store training history\n",
        "H = {\"total_train_loss\": [], \"total_val_loss\": [], \"train_class_acc\": [],\"val_class_acc\": []}"
      ]
    },
    {
      "cell_type": "code",
      "source": [
        "#https://stackoverflow.com/questions/71288513/how-can-i-determine-validation-loss-for-faster-rcnn-pytorch\n",
        "from typing import Tuple, List, Dict, Optional\n",
        "import torch\n",
        "from torch import Tensor\n",
        "from collections import OrderedDict\n",
        "from torchvision.models.detection.roi_heads import fastrcnn_loss\n",
        "from torchvision.models.detection.rpn import concat_box_prediction_layers\n",
        "def eval_forward(model, images, targets):\n",
        "    # type: (List[Tensor], Optional[List[Dict[str, Tensor]]]) -> Tuple[Dict[str, Tensor], List[Dict[str, Tensor]]]\n",
        "    \"\"\"\n",
        "    Args:\n",
        "        images (list[Tensor]): images to be processed\n",
        "        targets (list[Dict[str, Tensor]]): ground-truth boxes present in the image (optional)\n",
        "    Returns:\n",
        "        result (list[BoxList] or dict[Tensor]): the output from the model.\n",
        "            It returns list[BoxList] contains additional fields\n",
        "            like `scores`, `labels` and `mask` (for Mask R-CNN models).\n",
        "    \"\"\"\n",
        "    model.eval()\n",
        "\n",
        "    original_image_sizes: List[Tuple[int, int]] = []\n",
        "    for img in images:\n",
        "        val = img.shape[-2:]\n",
        "        assert len(val) == 2\n",
        "        original_image_sizes.append((val[0], val[1]))\n",
        "\n",
        "    images, targets = model.transform(images, targets)\n",
        "\n",
        "    # Check for degenerate boxes\n",
        "    # TODO: Move this to a function\n",
        "    if targets is not None:\n",
        "        for target_idx, target in enumerate(targets):\n",
        "            boxes = target[\"boxes\"]\n",
        "            degenerate_boxes = boxes[:, 2:] <= boxes[:, :2]\n",
        "            if degenerate_boxes.any():\n",
        "                # print the first degenerate box\n",
        "                bb_idx = torch.where(degenerate_boxes.any(dim=1))[0][0]\n",
        "                degen_bb: List[float] = boxes[bb_idx].tolist()\n",
        "                raise ValueError(\n",
        "                    \"All bounding boxes should have positive height and width.\"\n",
        "                    f\" Found invalid box {degen_bb} for target at index {target_idx}.\"\n",
        "                )\n",
        "\n",
        "    features = model.backbone(images.tensors)\n",
        "    if isinstance(features, torch.Tensor):\n",
        "        features = OrderedDict([(\"0\", features)])\n",
        "    model.rpn.training=True\n",
        "    #model.roi_heads.training=True\n",
        "\n",
        "\n",
        "    #####proposals, proposal_losses = model.rpn(images, features, targets)\n",
        "    features_rpn = list(features.values())\n",
        "    objectness, pred_bbox_deltas = model.rpn.head(features_rpn)\n",
        "    anchors = model.rpn.anchor_generator(images, features_rpn)\n",
        "\n",
        "    num_images = len(anchors)\n",
        "    num_anchors_per_level_shape_tensors = [o[0].shape for o in objectness]\n",
        "    num_anchors_per_level = [s[0] * s[1] * s[2] for s in num_anchors_per_level_shape_tensors]\n",
        "    objectness, pred_bbox_deltas = concat_box_prediction_layers(objectness, pred_bbox_deltas)\n",
        "    # apply pred_bbox_deltas to anchors to obtain the decoded proposals\n",
        "    # note that we detach the deltas because Faster R-CNN do not backprop through\n",
        "    # the proposals\n",
        "    proposals = model.rpn.box_coder.decode(pred_bbox_deltas.detach(), anchors)\n",
        "    proposals = proposals.view(num_images, -1, 4)\n",
        "    proposals, scores = model.rpn.filter_proposals(proposals, objectness, images.image_sizes, num_anchors_per_level)\n",
        "\n",
        "    proposal_losses = {}\n",
        "    assert targets is not None\n",
        "    labels, matched_gt_boxes = model.rpn.assign_targets_to_anchors(anchors, targets)\n",
        "    regression_targets = model.rpn.box_coder.encode(matched_gt_boxes, anchors)\n",
        "    loss_objectness, loss_rpn_box_reg = model.rpn.compute_loss(\n",
        "        objectness, pred_bbox_deltas, labels, regression_targets\n",
        "    )\n",
        "    proposal_losses = {\n",
        "        \"loss_objectness\": loss_objectness,\n",
        "        \"loss_rpn_box_reg\": loss_rpn_box_reg,\n",
        "    }\n",
        "\n",
        "    #####detections, detector_losses = model.roi_heads(features, proposals, images.image_sizes, targets)\n",
        "    image_shapes = images.image_sizes\n",
        "    proposals, matched_idxs, labels, regression_targets = model.roi_heads.select_training_samples(proposals, targets)\n",
        "    box_features = model.roi_heads.box_roi_pool(features, proposals, image_shapes)\n",
        "    box_features = model.roi_heads.box_head(box_features)\n",
        "    class_logits, box_regression = model.roi_heads.box_predictor(box_features)\n",
        "\n",
        "    result: List[Dict[str, torch.Tensor]] = []\n",
        "    detector_losses = {}\n",
        "    loss_classifier, loss_box_reg = fastrcnn_loss(class_logits, box_regression, labels, regression_targets)\n",
        "    detector_losses = {\"loss_classifier\": loss_classifier, \"loss_box_reg\": loss_box_reg}\n",
        "    boxes, scores, labels = model.roi_heads.postprocess_detections(class_logits, box_regression, proposals, image_shapes)\n",
        "    num_images = len(boxes)\n",
        "    for i in range(num_images):\n",
        "        result.append(\n",
        "            {\n",
        "                \"boxes\": boxes[i],\n",
        "                \"labels\": labels[i],\n",
        "                \"scores\": scores[i],\n",
        "            }\n",
        "        )\n",
        "    detections = result\n",
        "    detections = model.transform.postprocess(detections, images.image_sizes, original_image_sizes)  # type: ignore[operator]\n",
        "    model.rpn.training=False\n",
        "    model.roi_heads.training=False\n",
        "    losses = {}\n",
        "    losses.update(detector_losses)\n",
        "    losses.update(proposal_losses)\n",
        "    return losses, detections"
      ],
      "metadata": {
        "id": "TrkzYkDFZidz"
      },
      "id": "TrkzYkDFZidz",
      "execution_count": null,
      "outputs": []
    },
    {
      "cell_type": "code",
      "execution_count": null,
      "id": "4119f833",
      "metadata": {
        "scrolled": true,
        "id": "4119f833",
        "outputId": "de473a3e-cfbd-4e89-8f7b-dfb90559d912",
        "colab": {
          "base_uri": "https://localhost:8080/"
        }
      },
      "outputs": [
        {
          "output_type": "stream",
          "name": "stdout",
          "text": [
            "[INFO] training the network...\n"
          ]
        },
        {
          "output_type": "stream",
          "name": "stderr",
          "text": [
            "  0%|          | 1/200 [00:05<19:53,  6.00s/it]"
          ]
        },
        {
          "output_type": "stream",
          "name": "stdout",
          "text": [
            "[INFO] EPOCH: 1/200\n",
            "Train loss: 0.707619\n",
            "Val loss: 0.723656, Val accuracy: 0.0000\n"
          ]
        },
        {
          "output_type": "stream",
          "name": "stderr",
          "text": [
            "\r  1%|          | 2/200 [00:11<18:57,  5.75s/it]"
          ]
        },
        {
          "output_type": "stream",
          "name": "stdout",
          "text": [
            "[INFO] EPOCH: 2/200\n",
            "Train loss: 0.675587\n",
            "Val loss: 0.719941, Val accuracy: 0.0000\n"
          ]
        },
        {
          "output_type": "stream",
          "name": "stderr",
          "text": [
            "\r  2%|▏         | 3/200 [00:16<18:08,  5.53s/it]"
          ]
        },
        {
          "output_type": "stream",
          "name": "stdout",
          "text": [
            "[INFO] EPOCH: 3/200\n",
            "Train loss: 0.659672\n",
            "Val loss: 0.712957, Val accuracy: 0.0000\n"
          ]
        },
        {
          "output_type": "stream",
          "name": "stderr",
          "text": [
            "\r  2%|▏         | 4/200 [00:21<17:30,  5.36s/it]"
          ]
        },
        {
          "output_type": "stream",
          "name": "stdout",
          "text": [
            "[INFO] EPOCH: 4/200\n",
            "Train loss: 0.660241\n",
            "Val loss: 0.720105, Val accuracy: 0.0292\n"
          ]
        },
        {
          "output_type": "stream",
          "name": "stderr",
          "text": [
            "\r  2%|▎         | 5/200 [00:27<17:25,  5.36s/it]"
          ]
        },
        {
          "output_type": "stream",
          "name": "stdout",
          "text": [
            "[INFO] EPOCH: 5/200\n",
            "Train loss: 0.658116\n",
            "Val loss: 0.730783, Val accuracy: 0.0511\n"
          ]
        },
        {
          "output_type": "stream",
          "name": "stderr",
          "text": [
            "\r  3%|▎         | 6/200 [00:31<16:26,  5.09s/it]"
          ]
        },
        {
          "output_type": "stream",
          "name": "stdout",
          "text": [
            "[INFO] EPOCH: 6/200\n",
            "Train loss: 0.671966\n",
            "Val loss: 0.747884, Val accuracy: 0.0730\n"
          ]
        },
        {
          "output_type": "stream",
          "name": "stderr",
          "text": [
            "\r  4%|▎         | 7/200 [00:36<15:54,  4.95s/it]"
          ]
        },
        {
          "output_type": "stream",
          "name": "stdout",
          "text": [
            "[INFO] EPOCH: 7/200\n",
            "Train loss: 0.661383\n",
            "Val loss: 0.739528, Val accuracy: 0.0438\n"
          ]
        },
        {
          "output_type": "stream",
          "name": "stderr",
          "text": [
            "\r  4%|▍         | 8/200 [00:40<15:17,  4.78s/it]"
          ]
        },
        {
          "output_type": "stream",
          "name": "stdout",
          "text": [
            "[INFO] EPOCH: 8/200\n",
            "Train loss: 0.656744\n",
            "Val loss: 0.723940, Val accuracy: 0.0803\n"
          ]
        },
        {
          "output_type": "stream",
          "name": "stderr",
          "text": [
            "\r  4%|▍         | 9/200 [00:45<14:46,  4.64s/it]"
          ]
        },
        {
          "output_type": "stream",
          "name": "stdout",
          "text": [
            "[INFO] EPOCH: 9/200\n",
            "Train loss: 0.656631\n",
            "Val loss: 0.712663, Val accuracy: 0.0949\n"
          ]
        },
        {
          "output_type": "stream",
          "name": "stderr",
          "text": [
            "\r  5%|▌         | 10/200 [00:49<14:26,  4.56s/it]"
          ]
        },
        {
          "output_type": "stream",
          "name": "stdout",
          "text": [
            "[INFO] EPOCH: 10/200\n",
            "Train loss: 0.648425\n",
            "Val loss: 0.707061, Val accuracy: 0.1168\n"
          ]
        },
        {
          "output_type": "stream",
          "name": "stderr",
          "text": [
            "\r  6%|▌         | 11/200 [00:53<14:09,  4.49s/it]"
          ]
        },
        {
          "output_type": "stream",
          "name": "stdout",
          "text": [
            "[INFO] EPOCH: 11/200\n",
            "Train loss: 0.629507\n",
            "Val loss: 0.694365, Val accuracy: 0.1752\n"
          ]
        },
        {
          "output_type": "stream",
          "name": "stderr",
          "text": [
            "\r  6%|▌         | 12/200 [00:58<14:07,  4.51s/it]"
          ]
        },
        {
          "output_type": "stream",
          "name": "stdout",
          "text": [
            "[INFO] EPOCH: 12/200\n",
            "Train loss: 0.632164\n",
            "Val loss: 0.715477, Val accuracy: 0.1752\n"
          ]
        },
        {
          "output_type": "stream",
          "name": "stderr",
          "text": [
            "\r  6%|▋         | 13/200 [01:02<13:55,  4.47s/it]"
          ]
        },
        {
          "output_type": "stream",
          "name": "stdout",
          "text": [
            "[INFO] EPOCH: 13/200\n",
            "Train loss: 0.633209\n",
            "Val loss: 0.701460, Val accuracy: 0.2117\n"
          ]
        },
        {
          "output_type": "stream",
          "name": "stderr",
          "text": [
            "\r  7%|▋         | 14/200 [01:07<13:39,  4.41s/it]"
          ]
        },
        {
          "output_type": "stream",
          "name": "stdout",
          "text": [
            "[INFO] EPOCH: 14/200\n",
            "Train loss: 0.617336\n",
            "Val loss: 0.676707, Val accuracy: 0.2044\n"
          ]
        },
        {
          "output_type": "stream",
          "name": "stderr",
          "text": [
            "\r  8%|▊         | 15/200 [01:11<13:30,  4.38s/it]"
          ]
        },
        {
          "output_type": "stream",
          "name": "stdout",
          "text": [
            "[INFO] EPOCH: 15/200\n",
            "Train loss: 0.613059\n",
            "Val loss: 0.713700, Val accuracy: 0.2409\n"
          ]
        },
        {
          "output_type": "stream",
          "name": "stderr",
          "text": [
            "\r  8%|▊         | 16/200 [01:15<13:19,  4.34s/it]"
          ]
        },
        {
          "output_type": "stream",
          "name": "stdout",
          "text": [
            "[INFO] EPOCH: 16/200\n",
            "Train loss: 0.602663\n",
            "Val loss: 0.675001, Val accuracy: 0.2190\n"
          ]
        },
        {
          "output_type": "stream",
          "name": "stderr",
          "text": [
            "\r  8%|▊         | 17/200 [01:19<13:08,  4.31s/it]"
          ]
        },
        {
          "output_type": "stream",
          "name": "stdout",
          "text": [
            "[INFO] EPOCH: 17/200\n",
            "Train loss: 0.615583\n",
            "Val loss: 0.693585, Val accuracy: 0.2336\n"
          ]
        },
        {
          "output_type": "stream",
          "name": "stderr",
          "text": [
            "\r  9%|▉         | 18/200 [01:24<13:03,  4.31s/it]"
          ]
        },
        {
          "output_type": "stream",
          "name": "stdout",
          "text": [
            "[INFO] EPOCH: 18/200\n",
            "Train loss: 0.595534\n",
            "Val loss: 0.680694, Val accuracy: 0.2628\n"
          ]
        },
        {
          "output_type": "stream",
          "name": "stderr",
          "text": [
            "\r 10%|▉         | 19/200 [01:28<12:57,  4.30s/it]"
          ]
        },
        {
          "output_type": "stream",
          "name": "stdout",
          "text": [
            "[INFO] EPOCH: 19/200\n",
            "Train loss: 0.591797\n",
            "Val loss: 0.669389, Val accuracy: 0.3139\n"
          ]
        },
        {
          "output_type": "stream",
          "name": "stderr",
          "text": [
            "\r 10%|█         | 20/200 [01:32<12:48,  4.27s/it]"
          ]
        },
        {
          "output_type": "stream",
          "name": "stdout",
          "text": [
            "[INFO] EPOCH: 20/200\n",
            "Train loss: 0.581879\n",
            "Val loss: 0.660105, Val accuracy: 0.3066\n"
          ]
        },
        {
          "output_type": "stream",
          "name": "stderr",
          "text": [
            "\r 10%|█         | 21/200 [01:37<12:45,  4.27s/it]"
          ]
        },
        {
          "output_type": "stream",
          "name": "stdout",
          "text": [
            "[INFO] EPOCH: 21/200\n",
            "Train loss: 0.577860\n",
            "Val loss: 0.669011, Val accuracy: 0.2701\n"
          ]
        },
        {
          "output_type": "stream",
          "name": "stderr",
          "text": [
            "\r 11%|█         | 22/200 [01:41<12:43,  4.29s/it]"
          ]
        },
        {
          "output_type": "stream",
          "name": "stdout",
          "text": [
            "[INFO] EPOCH: 22/200\n",
            "Train loss: 0.579019\n",
            "Val loss: 0.673686, Val accuracy: 0.4088\n"
          ]
        },
        {
          "output_type": "stream",
          "name": "stderr",
          "text": [
            "\r 12%|█▏        | 23/200 [01:45<12:36,  4.27s/it]"
          ]
        },
        {
          "output_type": "stream",
          "name": "stdout",
          "text": [
            "[INFO] EPOCH: 23/200\n",
            "Train loss: 0.568939\n",
            "Val loss: 0.653588, Val accuracy: 0.3577\n"
          ]
        },
        {
          "output_type": "stream",
          "name": "stderr",
          "text": [
            "\r 12%|█▏        | 24/200 [01:49<12:30,  4.26s/it]"
          ]
        },
        {
          "output_type": "stream",
          "name": "stdout",
          "text": [
            "[INFO] EPOCH: 24/200\n",
            "Train loss: 0.563882\n",
            "Val loss: 0.626598, Val accuracy: 0.3869\n"
          ]
        },
        {
          "output_type": "stream",
          "name": "stderr",
          "text": [
            "\r 12%|█▎        | 25/200 [01:54<12:33,  4.31s/it]"
          ]
        },
        {
          "output_type": "stream",
          "name": "stdout",
          "text": [
            "[INFO] EPOCH: 25/200\n",
            "Train loss: 0.558836\n",
            "Val loss: 0.648459, Val accuracy: 0.4307\n"
          ]
        },
        {
          "output_type": "stream",
          "name": "stderr",
          "text": [
            "\r 13%|█▎        | 26/200 [01:58<12:22,  4.27s/it]"
          ]
        },
        {
          "output_type": "stream",
          "name": "stdout",
          "text": [
            "[INFO] EPOCH: 26/200\n",
            "Train loss: 0.557142\n",
            "Val loss: 0.638444, Val accuracy: 0.4161\n"
          ]
        },
        {
          "output_type": "stream",
          "name": "stderr",
          "text": [
            "\r 14%|█▎        | 27/200 [02:02<12:15,  4.25s/it]"
          ]
        },
        {
          "output_type": "stream",
          "name": "stdout",
          "text": [
            "[INFO] EPOCH: 27/200\n",
            "Train loss: 0.560010\n",
            "Val loss: 0.661553, Val accuracy: 0.3796\n"
          ]
        },
        {
          "output_type": "stream",
          "name": "stderr",
          "text": [
            "\r 14%|█▍        | 28/200 [02:06<12:06,  4.23s/it]"
          ]
        },
        {
          "output_type": "stream",
          "name": "stdout",
          "text": [
            "[INFO] EPOCH: 28/200\n",
            "Train loss: 0.553861\n",
            "Val loss: 0.631705, Val accuracy: 0.4234\n"
          ]
        },
        {
          "output_type": "stream",
          "name": "stderr",
          "text": [
            "\r 14%|█▍        | 29/200 [02:11<12:06,  4.25s/it]"
          ]
        },
        {
          "output_type": "stream",
          "name": "stdout",
          "text": [
            "[INFO] EPOCH: 29/200\n",
            "Train loss: 0.555574\n",
            "Val loss: 0.646431, Val accuracy: 0.4745\n"
          ]
        },
        {
          "output_type": "stream",
          "name": "stderr",
          "text": [
            "\r 15%|█▌        | 30/200 [02:15<12:03,  4.26s/it]"
          ]
        },
        {
          "output_type": "stream",
          "name": "stdout",
          "text": [
            "[INFO] EPOCH: 30/200\n",
            "Train loss: 0.542247\n",
            "Val loss: 0.628975, Val accuracy: 0.4818\n"
          ]
        },
        {
          "output_type": "stream",
          "name": "stderr",
          "text": [
            "\r 16%|█▌        | 31/200 [02:19<11:59,  4.26s/it]"
          ]
        },
        {
          "output_type": "stream",
          "name": "stdout",
          "text": [
            "[INFO] EPOCH: 31/200\n",
            "Train loss: 0.541825\n",
            "Val loss: 0.636305, Val accuracy: 0.5182\n"
          ]
        },
        {
          "output_type": "stream",
          "name": "stderr",
          "text": [
            "\r 16%|█▌        | 32/200 [02:23<11:50,  4.23s/it]"
          ]
        },
        {
          "output_type": "stream",
          "name": "stdout",
          "text": [
            "[INFO] EPOCH: 32/200\n",
            "Train loss: 0.541739\n",
            "Val loss: 0.644757, Val accuracy: 0.4891\n"
          ]
        },
        {
          "output_type": "stream",
          "name": "stderr",
          "text": [
            "\r 16%|█▋        | 33/200 [02:28<11:45,  4.22s/it]"
          ]
        },
        {
          "output_type": "stream",
          "name": "stdout",
          "text": [
            "[INFO] EPOCH: 33/200\n",
            "Train loss: 0.544525\n",
            "Val loss: 0.633812, Val accuracy: 0.5182\n"
          ]
        },
        {
          "output_type": "stream",
          "name": "stderr",
          "text": [
            "\r 17%|█▋        | 34/200 [02:32<11:42,  4.23s/it]"
          ]
        },
        {
          "output_type": "stream",
          "name": "stdout",
          "text": [
            "[INFO] EPOCH: 34/200\n",
            "Train loss: 0.531233\n",
            "Val loss: 0.608910, Val accuracy: 0.5182\n"
          ]
        },
        {
          "output_type": "stream",
          "name": "stderr",
          "text": [
            "\r 18%|█▊        | 35/200 [02:36<11:36,  4.22s/it]"
          ]
        },
        {
          "output_type": "stream",
          "name": "stdout",
          "text": [
            "[INFO] EPOCH: 35/200\n",
            "Train loss: 0.533024\n",
            "Val loss: 0.660232, Val accuracy: 0.5474\n"
          ]
        },
        {
          "output_type": "stream",
          "name": "stderr",
          "text": [
            "\r 18%|█▊        | 36/200 [02:40<11:34,  4.24s/it]"
          ]
        },
        {
          "output_type": "stream",
          "name": "stdout",
          "text": [
            "[INFO] EPOCH: 36/200\n",
            "Train loss: 0.548587\n",
            "Val loss: 0.614013, Val accuracy: 0.5547\n"
          ]
        },
        {
          "output_type": "stream",
          "name": "stderr",
          "text": [
            "\r 18%|█▊        | 37/200 [02:44<11:29,  4.23s/it]"
          ]
        },
        {
          "output_type": "stream",
          "name": "stdout",
          "text": [
            "[INFO] EPOCH: 37/200\n",
            "Train loss: 0.533062\n",
            "Val loss: 0.639988, Val accuracy: 0.5474\n"
          ]
        },
        {
          "output_type": "stream",
          "name": "stderr",
          "text": [
            "\r 19%|█▉        | 38/200 [02:49<11:23,  4.22s/it]"
          ]
        },
        {
          "output_type": "stream",
          "name": "stdout",
          "text": [
            "[INFO] EPOCH: 38/200\n",
            "Train loss: 0.516143\n",
            "Val loss: 0.635866, Val accuracy: 0.4964\n"
          ]
        },
        {
          "output_type": "stream",
          "name": "stderr",
          "text": [
            "\r 20%|█▉        | 39/200 [02:53<11:20,  4.23s/it]"
          ]
        },
        {
          "output_type": "stream",
          "name": "stdout",
          "text": [
            "[INFO] EPOCH: 39/200\n",
            "Train loss: 0.517005\n",
            "Val loss: 0.635969, Val accuracy: 0.5839\n"
          ]
        },
        {
          "output_type": "stream",
          "name": "stderr",
          "text": [
            "\r 20%|██        | 40/200 [02:57<11:11,  4.19s/it]"
          ]
        },
        {
          "output_type": "stream",
          "name": "stdout",
          "text": [
            "[INFO] EPOCH: 40/200\n",
            "Train loss: 0.524855\n",
            "Val loss: 0.644628, Val accuracy: 0.5401\n"
          ]
        },
        {
          "output_type": "stream",
          "name": "stderr",
          "text": [
            "\r 20%|██        | 41/200 [03:01<11:03,  4.17s/it]"
          ]
        },
        {
          "output_type": "stream",
          "name": "stdout",
          "text": [
            "[INFO] EPOCH: 41/200\n",
            "Train loss: 0.531683\n",
            "Val loss: 0.654768, Val accuracy: 0.5766\n"
          ]
        },
        {
          "output_type": "stream",
          "name": "stderr",
          "text": [
            "\r 21%|██        | 42/200 [03:05<11:02,  4.19s/it]"
          ]
        },
        {
          "output_type": "stream",
          "name": "stdout",
          "text": [
            "[INFO] EPOCH: 42/200\n",
            "Train loss: 0.506815\n",
            "Val loss: 0.642309, Val accuracy: 0.6058\n"
          ]
        },
        {
          "output_type": "stream",
          "name": "stderr",
          "text": [
            "\r 22%|██▏       | 43/200 [03:10<10:57,  4.19s/it]"
          ]
        },
        {
          "output_type": "stream",
          "name": "stdout",
          "text": [
            "[INFO] EPOCH: 43/200\n",
            "Train loss: 0.512144\n",
            "Val loss: 0.621524, Val accuracy: 0.5912\n"
          ]
        },
        {
          "output_type": "stream",
          "name": "stderr",
          "text": [
            "\r 22%|██▏       | 44/200 [03:14<10:56,  4.21s/it]"
          ]
        },
        {
          "output_type": "stream",
          "name": "stdout",
          "text": [
            "[INFO] EPOCH: 44/200\n",
            "Train loss: 0.505213\n",
            "Val loss: 0.640894, Val accuracy: 0.6423\n"
          ]
        },
        {
          "output_type": "stream",
          "name": "stderr",
          "text": [
            "\r 22%|██▎       | 45/200 [03:18<10:50,  4.20s/it]"
          ]
        },
        {
          "output_type": "stream",
          "name": "stdout",
          "text": [
            "[INFO] EPOCH: 45/200\n",
            "Train loss: 0.508298\n",
            "Val loss: 0.639984, Val accuracy: 0.5328\n"
          ]
        },
        {
          "output_type": "stream",
          "name": "stderr",
          "text": [
            "\r 23%|██▎       | 46/200 [03:22<10:44,  4.19s/it]"
          ]
        },
        {
          "output_type": "stream",
          "name": "stdout",
          "text": [
            "[INFO] EPOCH: 46/200\n",
            "Train loss: 0.504485\n",
            "Val loss: 0.636721, Val accuracy: 0.6350\n"
          ]
        },
        {
          "output_type": "stream",
          "name": "stderr",
          "text": [
            "\r 24%|██▎       | 47/200 [03:26<10:39,  4.18s/it]"
          ]
        },
        {
          "output_type": "stream",
          "name": "stdout",
          "text": [
            "[INFO] EPOCH: 47/200\n",
            "Train loss: 0.500869\n",
            "Val loss: 0.628036, Val accuracy: 0.5912\n"
          ]
        },
        {
          "output_type": "stream",
          "name": "stderr",
          "text": [
            "\r 24%|██▍       | 48/200 [03:31<10:37,  4.19s/it]"
          ]
        },
        {
          "output_type": "stream",
          "name": "stdout",
          "text": [
            "[INFO] EPOCH: 48/200\n",
            "Train loss: 0.500456\n",
            "Val loss: 0.679303, Val accuracy: 0.6569\n"
          ]
        },
        {
          "output_type": "stream",
          "name": "stderr",
          "text": [
            "\r 24%|██▍       | 49/200 [03:35<10:32,  4.19s/it]"
          ]
        },
        {
          "output_type": "stream",
          "name": "stdout",
          "text": [
            "[INFO] EPOCH: 49/200\n",
            "Train loss: 0.498800\n",
            "Val loss: 0.640905, Val accuracy: 0.6277\n"
          ]
        },
        {
          "output_type": "stream",
          "name": "stderr",
          "text": [
            "\r 25%|██▌       | 50/200 [03:39<10:27,  4.18s/it]"
          ]
        },
        {
          "output_type": "stream",
          "name": "stdout",
          "text": [
            "[INFO] EPOCH: 50/200\n",
            "Train loss: 0.497478\n",
            "Val loss: 0.654165, Val accuracy: 0.6131\n"
          ]
        },
        {
          "output_type": "stream",
          "name": "stderr",
          "text": [
            "\r 26%|██▌       | 51/200 [03:43<10:22,  4.18s/it]"
          ]
        },
        {
          "output_type": "stream",
          "name": "stdout",
          "text": [
            "[INFO] EPOCH: 51/200\n",
            "Train loss: 0.503507\n",
            "Val loss: 0.604014, Val accuracy: 0.6131\n"
          ]
        },
        {
          "output_type": "stream",
          "name": "stderr",
          "text": [
            "\r 26%|██▌       | 52/200 [03:47<10:17,  4.17s/it]"
          ]
        },
        {
          "output_type": "stream",
          "name": "stdout",
          "text": [
            "[INFO] EPOCH: 52/200\n",
            "Train loss: 0.496761\n",
            "Val loss: 0.592402, Val accuracy: 0.6277\n"
          ]
        },
        {
          "output_type": "stream",
          "name": "stderr",
          "text": [
            "\r 26%|██▋       | 53/200 [03:51<10:12,  4.17s/it]"
          ]
        },
        {
          "output_type": "stream",
          "name": "stdout",
          "text": [
            "[INFO] EPOCH: 53/200\n",
            "Train loss: 0.484890\n",
            "Val loss: 0.631641, Val accuracy: 0.6277\n"
          ]
        },
        {
          "output_type": "stream",
          "name": "stderr",
          "text": [
            "\r 27%|██▋       | 54/200 [03:56<10:09,  4.17s/it]"
          ]
        },
        {
          "output_type": "stream",
          "name": "stdout",
          "text": [
            "[INFO] EPOCH: 54/200\n",
            "Train loss: 0.485111\n",
            "Val loss: 0.628982, Val accuracy: 0.6496\n"
          ]
        },
        {
          "output_type": "stream",
          "name": "stderr",
          "text": [
            "\r 28%|██▊       | 55/200 [04:00<10:07,  4.19s/it]"
          ]
        },
        {
          "output_type": "stream",
          "name": "stdout",
          "text": [
            "[INFO] EPOCH: 55/200\n",
            "Train loss: 0.499701\n",
            "Val loss: 0.644654, Val accuracy: 0.6642\n"
          ]
        },
        {
          "output_type": "stream",
          "name": "stderr",
          "text": [
            "\r 28%|██▊       | 56/200 [04:04<09:59,  4.17s/it]"
          ]
        },
        {
          "output_type": "stream",
          "name": "stdout",
          "text": [
            "[INFO] EPOCH: 56/200\n",
            "Train loss: 0.495724\n",
            "Val loss: 0.632061, Val accuracy: 0.6569\n"
          ]
        },
        {
          "output_type": "stream",
          "name": "stderr",
          "text": [
            "\r 28%|██▊       | 57/200 [04:08<09:55,  4.17s/it]"
          ]
        },
        {
          "output_type": "stream",
          "name": "stdout",
          "text": [
            "[INFO] EPOCH: 57/200\n",
            "Train loss: 0.490456\n",
            "Val loss: 0.646001, Val accuracy: 0.6788\n"
          ]
        },
        {
          "output_type": "stream",
          "name": "stderr",
          "text": [
            "\r 29%|██▉       | 58/200 [04:12<09:53,  4.18s/it]"
          ]
        },
        {
          "output_type": "stream",
          "name": "stdout",
          "text": [
            "[INFO] EPOCH: 58/200\n",
            "Train loss: 0.477924\n",
            "Val loss: 0.668452, Val accuracy: 0.6934\n"
          ]
        },
        {
          "output_type": "stream",
          "name": "stderr",
          "text": [
            "\r 30%|██▉       | 59/200 [04:16<09:45,  4.16s/it]"
          ]
        },
        {
          "output_type": "stream",
          "name": "stdout",
          "text": [
            "[INFO] EPOCH: 59/200\n",
            "Train loss: 0.478026\n",
            "Val loss: 0.669421, Val accuracy: 0.6277\n"
          ]
        },
        {
          "output_type": "stream",
          "name": "stderr",
          "text": [
            "\r 30%|███       | 60/200 [04:21<09:46,  4.19s/it]"
          ]
        },
        {
          "output_type": "stream",
          "name": "stdout",
          "text": [
            "[INFO] EPOCH: 60/200\n",
            "Train loss: 0.474750\n",
            "Val loss: 0.638073, Val accuracy: 0.7153\n"
          ]
        },
        {
          "output_type": "stream",
          "name": "stderr",
          "text": [
            "\r 30%|███       | 61/200 [04:25<09:39,  4.17s/it]"
          ]
        },
        {
          "output_type": "stream",
          "name": "stdout",
          "text": [
            "[INFO] EPOCH: 61/200\n",
            "Train loss: 0.474682\n",
            "Val loss: 0.674961, Val accuracy: 0.6715\n"
          ]
        },
        {
          "output_type": "stream",
          "name": "stderr",
          "text": [
            "\r 31%|███       | 62/200 [04:29<09:34,  4.16s/it]"
          ]
        },
        {
          "output_type": "stream",
          "name": "stdout",
          "text": [
            "[INFO] EPOCH: 62/200\n",
            "Train loss: 0.471096\n",
            "Val loss: 0.653740, Val accuracy: 0.7080\n"
          ]
        },
        {
          "output_type": "stream",
          "name": "stderr",
          "text": [
            "\r 32%|███▏      | 63/200 [04:33<09:27,  4.14s/it]"
          ]
        },
        {
          "output_type": "stream",
          "name": "stdout",
          "text": [
            "[INFO] EPOCH: 63/200\n",
            "Train loss: 0.459820\n",
            "Val loss: 0.639846, Val accuracy: 0.6861\n"
          ]
        },
        {
          "output_type": "stream",
          "name": "stderr",
          "text": [
            "\r 32%|███▏      | 64/200 [04:37<09:23,  4.14s/it]"
          ]
        },
        {
          "output_type": "stream",
          "name": "stdout",
          "text": [
            "[INFO] EPOCH: 64/200\n",
            "Train loss: 0.467459\n",
            "Val loss: 0.576301, Val accuracy: 0.6788\n"
          ]
        },
        {
          "output_type": "stream",
          "name": "stderr",
          "text": [
            "\r 32%|███▎      | 65/200 [04:41<09:19,  4.14s/it]"
          ]
        },
        {
          "output_type": "stream",
          "name": "stdout",
          "text": [
            "[INFO] EPOCH: 65/200\n",
            "Train loss: 0.468447\n",
            "Val loss: 0.644186, Val accuracy: 0.6642\n"
          ]
        },
        {
          "output_type": "stream",
          "name": "stderr",
          "text": [
            "\r 33%|███▎      | 66/200 [04:45<09:15,  4.14s/it]"
          ]
        },
        {
          "output_type": "stream",
          "name": "stdout",
          "text": [
            "[INFO] EPOCH: 66/200\n",
            "Train loss: 0.469678\n",
            "Val loss: 0.636803, Val accuracy: 0.6934\n"
          ]
        },
        {
          "output_type": "stream",
          "name": "stderr",
          "text": [
            "\r 34%|███▎      | 67/200 [04:50<09:11,  4.15s/it]"
          ]
        },
        {
          "output_type": "stream",
          "name": "stdout",
          "text": [
            "[INFO] EPOCH: 67/200\n",
            "Train loss: 0.456042\n",
            "Val loss: 0.636067, Val accuracy: 0.6861\n"
          ]
        },
        {
          "output_type": "stream",
          "name": "stderr",
          "text": [
            "\r 34%|███▍      | 68/200 [04:54<09:12,  4.19s/it]"
          ]
        },
        {
          "output_type": "stream",
          "name": "stdout",
          "text": [
            "[INFO] EPOCH: 68/200\n",
            "Train loss: 0.451908\n",
            "Val loss: 0.638487, Val accuracy: 0.7226\n"
          ]
        },
        {
          "output_type": "stream",
          "name": "stderr",
          "text": [
            "\r 34%|███▍      | 69/200 [04:58<09:08,  4.18s/it]"
          ]
        },
        {
          "output_type": "stream",
          "name": "stdout",
          "text": [
            "[INFO] EPOCH: 69/200\n",
            "Train loss: 0.454225\n",
            "Val loss: 0.630462, Val accuracy: 0.7007\n"
          ]
        },
        {
          "output_type": "stream",
          "name": "stderr",
          "text": [
            "\r 35%|███▌      | 70/200 [05:02<09:04,  4.19s/it]"
          ]
        },
        {
          "output_type": "stream",
          "name": "stdout",
          "text": [
            "[INFO] EPOCH: 70/200\n",
            "Train loss: 0.448396\n",
            "Val loss: 0.613342, Val accuracy: 0.6715\n"
          ]
        },
        {
          "output_type": "stream",
          "name": "stderr",
          "text": [
            "\r 36%|███▌      | 71/200 [05:06<08:57,  4.17s/it]"
          ]
        },
        {
          "output_type": "stream",
          "name": "stdout",
          "text": [
            "[INFO] EPOCH: 71/200\n",
            "Train loss: 0.450015\n",
            "Val loss: 0.616475, Val accuracy: 0.7153\n"
          ]
        },
        {
          "output_type": "stream",
          "name": "stderr",
          "text": [
            "\r 36%|███▌      | 72/200 [05:10<08:52,  4.16s/it]"
          ]
        },
        {
          "output_type": "stream",
          "name": "stdout",
          "text": [
            "[INFO] EPOCH: 72/200\n",
            "Train loss: 0.455322\n",
            "Val loss: 0.651638, Val accuracy: 0.7007\n"
          ]
        },
        {
          "output_type": "stream",
          "name": "stderr",
          "text": [
            "\r 36%|███▋      | 73/200 [05:15<08:48,  4.16s/it]"
          ]
        },
        {
          "output_type": "stream",
          "name": "stdout",
          "text": [
            "[INFO] EPOCH: 73/200\n",
            "Train loss: 0.454534\n",
            "Val loss: 0.645960, Val accuracy: 0.6496\n"
          ]
        },
        {
          "output_type": "stream",
          "name": "stderr",
          "text": [
            "\r 37%|███▋      | 74/200 [05:19<08:43,  4.15s/it]"
          ]
        },
        {
          "output_type": "stream",
          "name": "stdout",
          "text": [
            "[INFO] EPOCH: 74/200\n",
            "Train loss: 0.444508\n",
            "Val loss: 0.692049, Val accuracy: 0.6642\n"
          ]
        },
        {
          "output_type": "stream",
          "name": "stderr",
          "text": [
            "\r 38%|███▊      | 75/200 [05:23<08:40,  4.16s/it]"
          ]
        },
        {
          "output_type": "stream",
          "name": "stdout",
          "text": [
            "[INFO] EPOCH: 75/200\n",
            "Train loss: 0.447152\n",
            "Val loss: 0.655107, Val accuracy: 0.7226\n"
          ]
        },
        {
          "output_type": "stream",
          "name": "stderr",
          "text": [
            "\r 38%|███▊      | 76/200 [05:27<08:38,  4.18s/it]"
          ]
        },
        {
          "output_type": "stream",
          "name": "stdout",
          "text": [
            "[INFO] EPOCH: 76/200\n",
            "Train loss: 0.447861\n",
            "Val loss: 0.673477, Val accuracy: 0.6934\n"
          ]
        },
        {
          "output_type": "stream",
          "name": "stderr",
          "text": [
            "\r 38%|███▊      | 77/200 [05:31<08:32,  4.17s/it]"
          ]
        },
        {
          "output_type": "stream",
          "name": "stdout",
          "text": [
            "[INFO] EPOCH: 77/200\n",
            "Train loss: 0.450355\n",
            "Val loss: 0.651882, Val accuracy: 0.6861\n"
          ]
        },
        {
          "output_type": "stream",
          "name": "stderr",
          "text": [
            "\r 39%|███▉      | 78/200 [05:35<08:27,  4.16s/it]"
          ]
        },
        {
          "output_type": "stream",
          "name": "stdout",
          "text": [
            "[INFO] EPOCH: 78/200\n",
            "Train loss: 0.437494\n",
            "Val loss: 0.691456, Val accuracy: 0.6861\n"
          ]
        },
        {
          "output_type": "stream",
          "name": "stderr",
          "text": [
            "\r 40%|███▉      | 79/200 [05:40<08:23,  4.16s/it]"
          ]
        },
        {
          "output_type": "stream",
          "name": "stdout",
          "text": [
            "[INFO] EPOCH: 79/200\n",
            "Train loss: 0.437617\n",
            "Val loss: 0.622788, Val accuracy: 0.6642\n"
          ]
        },
        {
          "output_type": "stream",
          "name": "stderr",
          "text": [
            "\r 40%|████      | 80/200 [05:44<08:17,  4.15s/it]"
          ]
        },
        {
          "output_type": "stream",
          "name": "stdout",
          "text": [
            "[INFO] EPOCH: 80/200\n",
            "Train loss: 0.431255\n",
            "Val loss: 0.656198, Val accuracy: 0.6496\n"
          ]
        },
        {
          "output_type": "stream",
          "name": "stderr",
          "text": [
            "\r 40%|████      | 81/200 [05:48<08:11,  4.13s/it]"
          ]
        },
        {
          "output_type": "stream",
          "name": "stdout",
          "text": [
            "[INFO] EPOCH: 81/200\n",
            "Train loss: 0.433555\n",
            "Val loss: 0.671150, Val accuracy: 0.6934\n"
          ]
        },
        {
          "output_type": "stream",
          "name": "stderr",
          "text": [
            "\r 41%|████      | 82/200 [05:52<08:09,  4.15s/it]"
          ]
        },
        {
          "output_type": "stream",
          "name": "stdout",
          "text": [
            "[INFO] EPOCH: 82/200\n",
            "Train loss: 0.424693\n",
            "Val loss: 0.656234, Val accuracy: 0.7299\n"
          ]
        },
        {
          "output_type": "stream",
          "name": "stderr",
          "text": [
            "\r 42%|████▏     | 83/200 [05:56<08:03,  4.13s/it]"
          ]
        },
        {
          "output_type": "stream",
          "name": "stdout",
          "text": [
            "[INFO] EPOCH: 83/200\n",
            "Train loss: 0.421324\n",
            "Val loss: 0.654335, Val accuracy: 0.6934\n"
          ]
        },
        {
          "output_type": "stream",
          "name": "stderr",
          "text": [
            "\r 42%|████▏     | 84/200 [06:00<08:03,  4.16s/it]"
          ]
        },
        {
          "output_type": "stream",
          "name": "stdout",
          "text": [
            "[INFO] EPOCH: 84/200\n",
            "Train loss: 0.428878\n",
            "Val loss: 0.673654, Val accuracy: 0.7299\n"
          ]
        },
        {
          "output_type": "stream",
          "name": "stderr",
          "text": [
            "\r 42%|████▎     | 85/200 [06:04<07:57,  4.15s/it]"
          ]
        },
        {
          "output_type": "stream",
          "name": "stdout",
          "text": [
            "[INFO] EPOCH: 85/200\n",
            "Train loss: 0.438533\n",
            "Val loss: 0.659448, Val accuracy: 0.6861\n"
          ]
        },
        {
          "output_type": "stream",
          "name": "stderr",
          "text": [
            "\r 43%|████▎     | 86/200 [06:09<07:55,  4.17s/it]"
          ]
        },
        {
          "output_type": "stream",
          "name": "stdout",
          "text": [
            "[INFO] EPOCH: 86/200\n",
            "Train loss: 0.435097\n",
            "Val loss: 0.655271, Val accuracy: 0.7299\n"
          ]
        },
        {
          "output_type": "stream",
          "name": "stderr",
          "text": [
            "\r 44%|████▎     | 87/200 [06:13<07:49,  4.15s/it]"
          ]
        },
        {
          "output_type": "stream",
          "name": "stdout",
          "text": [
            "[INFO] EPOCH: 87/200\n",
            "Train loss: 0.426892\n",
            "Val loss: 0.655979, Val accuracy: 0.6788\n"
          ]
        },
        {
          "output_type": "stream",
          "name": "stderr",
          "text": [
            "\r 44%|████▍     | 88/200 [06:17<07:45,  4.15s/it]"
          ]
        },
        {
          "output_type": "stream",
          "name": "stdout",
          "text": [
            "[INFO] EPOCH: 88/200\n",
            "Train loss: 0.421018\n",
            "Val loss: 0.665671, Val accuracy: 0.6715\n"
          ]
        },
        {
          "output_type": "stream",
          "name": "stderr",
          "text": [
            "\r 44%|████▍     | 89/200 [06:21<07:40,  4.15s/it]"
          ]
        },
        {
          "output_type": "stream",
          "name": "stdout",
          "text": [
            "[INFO] EPOCH: 89/200\n",
            "Train loss: 0.423037\n",
            "Val loss: 0.669412, Val accuracy: 0.7080\n"
          ]
        },
        {
          "output_type": "stream",
          "name": "stderr",
          "text": [
            "\r 45%|████▌     | 90/200 [06:25<07:34,  4.14s/it]"
          ]
        },
        {
          "output_type": "stream",
          "name": "stdout",
          "text": [
            "[INFO] EPOCH: 90/200\n",
            "Train loss: 0.424247\n",
            "Val loss: 0.616517, Val accuracy: 0.7007\n"
          ]
        },
        {
          "output_type": "stream",
          "name": "stderr",
          "text": [
            "\r 46%|████▌     | 91/200 [06:29<07:29,  4.12s/it]"
          ]
        },
        {
          "output_type": "stream",
          "name": "stdout",
          "text": [
            "[INFO] EPOCH: 91/200\n",
            "Train loss: 0.417482\n",
            "Val loss: 0.628413, Val accuracy: 0.7007\n"
          ]
        },
        {
          "output_type": "stream",
          "name": "stderr",
          "text": [
            "\r 46%|████▌     | 92/200 [06:33<07:25,  4.13s/it]"
          ]
        },
        {
          "output_type": "stream",
          "name": "stdout",
          "text": [
            "[INFO] EPOCH: 92/200\n",
            "Train loss: 0.422872\n",
            "Val loss: 0.657987, Val accuracy: 0.7080\n"
          ]
        },
        {
          "output_type": "stream",
          "name": "stderr",
          "text": [
            "\r 46%|████▋     | 93/200 [06:38<07:21,  4.13s/it]"
          ]
        },
        {
          "output_type": "stream",
          "name": "stdout",
          "text": [
            "[INFO] EPOCH: 93/200\n",
            "Train loss: 0.423499\n",
            "Val loss: 0.676609, Val accuracy: 0.6934\n"
          ]
        },
        {
          "output_type": "stream",
          "name": "stderr",
          "text": [
            "\r 47%|████▋     | 94/200 [06:42<07:17,  4.13s/it]"
          ]
        },
        {
          "output_type": "stream",
          "name": "stdout",
          "text": [
            "[INFO] EPOCH: 94/200\n",
            "Train loss: 0.407734\n",
            "Val loss: 0.644787, Val accuracy: 0.7226\n"
          ]
        },
        {
          "output_type": "stream",
          "name": "stderr",
          "text": [
            "\r 48%|████▊     | 95/200 [06:46<07:13,  4.13s/it]"
          ]
        },
        {
          "output_type": "stream",
          "name": "stdout",
          "text": [
            "[INFO] EPOCH: 95/200\n",
            "Train loss: 0.415153\n",
            "Val loss: 0.668856, Val accuracy: 0.7080\n"
          ]
        },
        {
          "output_type": "stream",
          "name": "stderr",
          "text": [
            "\r 48%|████▊     | 96/200 [06:50<07:08,  4.12s/it]"
          ]
        },
        {
          "output_type": "stream",
          "name": "stdout",
          "text": [
            "[INFO] EPOCH: 96/200\n",
            "Train loss: 0.410158\n",
            "Val loss: 0.654032, Val accuracy: 0.6788\n"
          ]
        },
        {
          "output_type": "stream",
          "name": "stderr",
          "text": [
            "\r 48%|████▊     | 97/200 [06:54<07:04,  4.12s/it]"
          ]
        },
        {
          "output_type": "stream",
          "name": "stdout",
          "text": [
            "[INFO] EPOCH: 97/200\n",
            "Train loss: 0.411529\n",
            "Val loss: 0.660071, Val accuracy: 0.7080\n"
          ]
        },
        {
          "output_type": "stream",
          "name": "stderr",
          "text": [
            "\r 49%|████▉     | 98/200 [06:58<06:58,  4.11s/it]"
          ]
        },
        {
          "output_type": "stream",
          "name": "stdout",
          "text": [
            "[INFO] EPOCH: 98/200\n",
            "Train loss: 0.410535\n",
            "Val loss: 0.619584, Val accuracy: 0.7153\n"
          ]
        },
        {
          "output_type": "stream",
          "name": "stderr",
          "text": [
            "\r 50%|████▉     | 99/200 [07:02<06:53,  4.10s/it]"
          ]
        },
        {
          "output_type": "stream",
          "name": "stdout",
          "text": [
            "[INFO] EPOCH: 99/200\n",
            "Train loss: 0.409269\n",
            "Val loss: 0.676485, Val accuracy: 0.7153\n"
          ]
        },
        {
          "output_type": "stream",
          "name": "stderr",
          "text": [
            "\r 50%|█████     | 100/200 [07:06<06:51,  4.12s/it]"
          ]
        },
        {
          "output_type": "stream",
          "name": "stdout",
          "text": [
            "[INFO] EPOCH: 100/200\n",
            "Train loss: 0.413061\n",
            "Val loss: 0.659222, Val accuracy: 0.7080\n"
          ]
        },
        {
          "output_type": "stream",
          "name": "stderr",
          "text": [
            "\r 50%|█████     | 101/200 [07:11<06:48,  4.13s/it]"
          ]
        },
        {
          "output_type": "stream",
          "name": "stdout",
          "text": [
            "[INFO] EPOCH: 101/200\n",
            "Train loss: 0.410671\n",
            "Val loss: 0.661489, Val accuracy: 0.6934\n"
          ]
        },
        {
          "output_type": "stream",
          "name": "stderr",
          "text": [
            "\r 51%|█████     | 102/200 [07:15<06:44,  4.13s/it]"
          ]
        },
        {
          "output_type": "stream",
          "name": "stdout",
          "text": [
            "[INFO] EPOCH: 102/200\n",
            "Train loss: 0.402244\n",
            "Val loss: 0.704872, Val accuracy: 0.6788\n"
          ]
        },
        {
          "output_type": "stream",
          "name": "stderr",
          "text": [
            "\r 52%|█████▏    | 103/200 [07:19<06:39,  4.12s/it]"
          ]
        },
        {
          "output_type": "stream",
          "name": "stdout",
          "text": [
            "[INFO] EPOCH: 103/200\n",
            "Train loss: 0.405778\n",
            "Val loss: 0.682376, Val accuracy: 0.7007\n"
          ]
        },
        {
          "output_type": "stream",
          "name": "stderr",
          "text": [
            "\r 52%|█████▏    | 104/200 [07:23<06:37,  4.14s/it]"
          ]
        },
        {
          "output_type": "stream",
          "name": "stdout",
          "text": [
            "[INFO] EPOCH: 104/200\n",
            "Train loss: 0.409106\n",
            "Val loss: 0.674826, Val accuracy: 0.7299\n"
          ]
        },
        {
          "output_type": "stream",
          "name": "stderr",
          "text": [
            "\r 52%|█████▎    | 105/200 [07:27<06:32,  4.14s/it]"
          ]
        },
        {
          "output_type": "stream",
          "name": "stdout",
          "text": [
            "[INFO] EPOCH: 105/200\n",
            "Train loss: 0.394871\n",
            "Val loss: 0.654477, Val accuracy: 0.6496\n"
          ]
        },
        {
          "output_type": "stream",
          "name": "stderr",
          "text": [
            "\r 53%|█████▎    | 106/200 [07:31<06:28,  4.13s/it]"
          ]
        },
        {
          "output_type": "stream",
          "name": "stdout",
          "text": [
            "[INFO] EPOCH: 106/200\n",
            "Train loss: 0.397614\n",
            "Val loss: 0.678303, Val accuracy: 0.7226\n"
          ]
        },
        {
          "output_type": "stream",
          "name": "stderr",
          "text": [
            "\r 54%|█████▎    | 107/200 [07:35<06:23,  4.12s/it]"
          ]
        },
        {
          "output_type": "stream",
          "name": "stdout",
          "text": [
            "[INFO] EPOCH: 107/200\n",
            "Train loss: 0.395771\n",
            "Val loss: 0.673300, Val accuracy: 0.6788\n"
          ]
        },
        {
          "output_type": "stream",
          "name": "stderr",
          "text": [
            "\r 54%|█████▍    | 108/200 [07:39<06:20,  4.13s/it]"
          ]
        },
        {
          "output_type": "stream",
          "name": "stdout",
          "text": [
            "[INFO] EPOCH: 108/200\n",
            "Train loss: 0.398375\n",
            "Val loss: 0.670063, Val accuracy: 0.6934\n"
          ]
        },
        {
          "output_type": "stream",
          "name": "stderr",
          "text": [
            "\r 55%|█████▍    | 109/200 [07:44<06:18,  4.16s/it]"
          ]
        },
        {
          "output_type": "stream",
          "name": "stdout",
          "text": [
            "[INFO] EPOCH: 109/200\n",
            "Train loss: 0.401650\n",
            "Val loss: 0.624013, Val accuracy: 0.7518\n"
          ]
        },
        {
          "output_type": "stream",
          "name": "stderr",
          "text": [
            "\r 55%|█████▌    | 110/200 [07:48<06:14,  4.16s/it]"
          ]
        },
        {
          "output_type": "stream",
          "name": "stdout",
          "text": [
            "[INFO] EPOCH: 110/200\n",
            "Train loss: 0.393782\n",
            "Val loss: 0.638520, Val accuracy: 0.6861\n"
          ]
        },
        {
          "output_type": "stream",
          "name": "stderr",
          "text": [
            "\r 56%|█████▌    | 111/200 [07:52<06:08,  4.14s/it]"
          ]
        },
        {
          "output_type": "stream",
          "name": "stdout",
          "text": [
            "[INFO] EPOCH: 111/200\n",
            "Train loss: 0.392319\n",
            "Val loss: 0.686539, Val accuracy: 0.6569\n"
          ]
        },
        {
          "output_type": "stream",
          "name": "stderr",
          "text": [
            "\r 56%|█████▌    | 112/200 [07:56<06:03,  4.13s/it]"
          ]
        },
        {
          "output_type": "stream",
          "name": "stdout",
          "text": [
            "[INFO] EPOCH: 112/200\n",
            "Train loss: 0.398603\n",
            "Val loss: 0.660126, Val accuracy: 0.7080\n"
          ]
        },
        {
          "output_type": "stream",
          "name": "stderr",
          "text": [
            "\r 56%|█████▋    | 113/200 [08:00<06:00,  4.14s/it]"
          ]
        },
        {
          "output_type": "stream",
          "name": "stdout",
          "text": [
            "[INFO] EPOCH: 113/200\n",
            "Train loss: 0.389948\n",
            "Val loss: 0.666955, Val accuracy: 0.6861\n"
          ]
        },
        {
          "output_type": "stream",
          "name": "stderr",
          "text": [
            "\r 57%|█████▋    | 114/200 [08:04<05:55,  4.14s/it]"
          ]
        },
        {
          "output_type": "stream",
          "name": "stdout",
          "text": [
            "[INFO] EPOCH: 114/200\n",
            "Train loss: 0.397003\n",
            "Val loss: 0.657849, Val accuracy: 0.7007\n"
          ]
        },
        {
          "output_type": "stream",
          "name": "stderr",
          "text": [
            "\r 57%|█████▊    | 115/200 [08:08<05:51,  4.14s/it]"
          ]
        },
        {
          "output_type": "stream",
          "name": "stdout",
          "text": [
            "[INFO] EPOCH: 115/200\n",
            "Train loss: 0.386288\n",
            "Val loss: 0.659344, Val accuracy: 0.6569\n"
          ]
        },
        {
          "output_type": "stream",
          "name": "stderr",
          "text": [
            "\r 58%|█████▊    | 116/200 [08:13<05:51,  4.18s/it]"
          ]
        },
        {
          "output_type": "stream",
          "name": "stdout",
          "text": [
            "[INFO] EPOCH: 116/200\n",
            "Train loss: 0.381271\n",
            "Val loss: 0.645854, Val accuracy: 0.7518\n"
          ]
        },
        {
          "output_type": "stream",
          "name": "stderr",
          "text": [
            "\r 58%|█████▊    | 117/200 [08:17<05:46,  4.17s/it]"
          ]
        },
        {
          "output_type": "stream",
          "name": "stdout",
          "text": [
            "[INFO] EPOCH: 117/200\n",
            "Train loss: 0.389587\n",
            "Val loss: 0.669962, Val accuracy: 0.6934\n"
          ]
        },
        {
          "output_type": "stream",
          "name": "stderr",
          "text": [
            "\r 59%|█████▉    | 118/200 [08:21<05:41,  4.17s/it]"
          ]
        },
        {
          "output_type": "stream",
          "name": "stdout",
          "text": [
            "[INFO] EPOCH: 118/200\n",
            "Train loss: 0.389440\n",
            "Val loss: 0.660727, Val accuracy: 0.7226\n"
          ]
        },
        {
          "output_type": "stream",
          "name": "stderr",
          "text": [
            "\r 60%|█████▉    | 119/200 [08:25<05:36,  4.15s/it]"
          ]
        },
        {
          "output_type": "stream",
          "name": "stdout",
          "text": [
            "[INFO] EPOCH: 119/200\n",
            "Train loss: 0.390045\n",
            "Val loss: 0.653383, Val accuracy: 0.6934\n"
          ]
        },
        {
          "output_type": "stream",
          "name": "stderr",
          "text": [
            "\r 60%|██████    | 120/200 [08:29<05:30,  4.13s/it]"
          ]
        },
        {
          "output_type": "stream",
          "name": "stdout",
          "text": [
            "[INFO] EPOCH: 120/200\n",
            "Train loss: 0.393699\n",
            "Val loss: 0.647322, Val accuracy: 0.7153\n"
          ]
        },
        {
          "output_type": "stream",
          "name": "stderr",
          "text": [
            "\r 60%|██████    | 121/200 [08:33<05:25,  4.12s/it]"
          ]
        },
        {
          "output_type": "stream",
          "name": "stdout",
          "text": [
            "[INFO] EPOCH: 121/200\n",
            "Train loss: 0.385852\n",
            "Val loss: 0.667789, Val accuracy: 0.6934\n"
          ]
        },
        {
          "output_type": "stream",
          "name": "stderr",
          "text": [
            "\r 61%|██████    | 122/200 [08:37<05:21,  4.12s/it]"
          ]
        },
        {
          "output_type": "stream",
          "name": "stdout",
          "text": [
            "[INFO] EPOCH: 122/200\n",
            "Train loss: 0.377664\n",
            "Val loss: 0.692385, Val accuracy: 0.6788\n"
          ]
        },
        {
          "output_type": "stream",
          "name": "stderr",
          "text": [
            "\r 62%|██████▏   | 123/200 [08:42<05:16,  4.11s/it]"
          ]
        },
        {
          "output_type": "stream",
          "name": "stdout",
          "text": [
            "[INFO] EPOCH: 123/200\n",
            "Train loss: 0.381447\n",
            "Val loss: 0.695023, Val accuracy: 0.6277\n"
          ]
        },
        {
          "output_type": "stream",
          "name": "stderr",
          "text": [
            "\r 62%|██████▏   | 124/200 [08:46<05:13,  4.12s/it]"
          ]
        },
        {
          "output_type": "stream",
          "name": "stdout",
          "text": [
            "[INFO] EPOCH: 124/200\n",
            "Train loss: 0.386819\n",
            "Val loss: 0.655999, Val accuracy: 0.7226\n"
          ]
        },
        {
          "output_type": "stream",
          "name": "stderr",
          "text": [
            "\r 62%|██████▎   | 125/200 [08:50<05:08,  4.12s/it]"
          ]
        },
        {
          "output_type": "stream",
          "name": "stdout",
          "text": [
            "[INFO] EPOCH: 125/200\n",
            "Train loss: 0.382989\n",
            "Val loss: 0.664701, Val accuracy: 0.7080\n"
          ]
        },
        {
          "output_type": "stream",
          "name": "stderr",
          "text": [
            "\r 63%|██████▎   | 126/200 [08:54<05:04,  4.12s/it]"
          ]
        },
        {
          "output_type": "stream",
          "name": "stdout",
          "text": [
            "[INFO] EPOCH: 126/200\n",
            "Train loss: 0.382323\n",
            "Val loss: 0.666216, Val accuracy: 0.7299\n"
          ]
        },
        {
          "output_type": "stream",
          "name": "stderr",
          "text": [
            "\r 64%|██████▎   | 127/200 [08:58<05:00,  4.12s/it]"
          ]
        },
        {
          "output_type": "stream",
          "name": "stdout",
          "text": [
            "[INFO] EPOCH: 127/200\n",
            "Train loss: 0.376456\n",
            "Val loss: 0.646535, Val accuracy: 0.7153\n"
          ]
        },
        {
          "output_type": "stream",
          "name": "stderr",
          "text": [
            "\r 64%|██████▍   | 128/200 [09:02<04:56,  4.12s/it]"
          ]
        },
        {
          "output_type": "stream",
          "name": "stdout",
          "text": [
            "[INFO] EPOCH: 128/200\n",
            "Train loss: 0.388982\n",
            "Val loss: 0.621195, Val accuracy: 0.7080\n"
          ]
        },
        {
          "output_type": "stream",
          "name": "stderr",
          "text": [
            "\r 64%|██████▍   | 129/200 [09:06<04:52,  4.12s/it]"
          ]
        },
        {
          "output_type": "stream",
          "name": "stdout",
          "text": [
            "[INFO] EPOCH: 129/200\n",
            "Train loss: 0.388656\n",
            "Val loss: 0.644378, Val accuracy: 0.7299\n"
          ]
        },
        {
          "output_type": "stream",
          "name": "stderr",
          "text": [
            "\r 65%|██████▌   | 130/200 [09:10<04:47,  4.11s/it]"
          ]
        },
        {
          "output_type": "stream",
          "name": "stdout",
          "text": [
            "[INFO] EPOCH: 130/200\n",
            "Train loss: 0.384263\n",
            "Val loss: 0.652207, Val accuracy: 0.7007\n"
          ]
        },
        {
          "output_type": "stream",
          "name": "stderr",
          "text": [
            "\r 66%|██████▌   | 131/200 [09:14<04:42,  4.10s/it]"
          ]
        },
        {
          "output_type": "stream",
          "name": "stdout",
          "text": [
            "[INFO] EPOCH: 131/200\n",
            "Train loss: 0.380922\n",
            "Val loss: 0.664162, Val accuracy: 0.7080\n"
          ]
        },
        {
          "output_type": "stream",
          "name": "stderr",
          "text": [
            "\r 66%|██████▌   | 132/200 [09:19<04:39,  4.11s/it]"
          ]
        },
        {
          "output_type": "stream",
          "name": "stdout",
          "text": [
            "[INFO] EPOCH: 132/200\n",
            "Train loss: 0.375455\n",
            "Val loss: 0.614287, Val accuracy: 0.6861\n"
          ]
        },
        {
          "output_type": "stream",
          "name": "stderr",
          "text": [
            "\r 66%|██████▋   | 133/200 [09:23<04:36,  4.12s/it]"
          ]
        },
        {
          "output_type": "stream",
          "name": "stdout",
          "text": [
            "[INFO] EPOCH: 133/200\n",
            "Train loss: 0.374550\n",
            "Val loss: 0.633511, Val accuracy: 0.7226\n"
          ]
        },
        {
          "output_type": "stream",
          "name": "stderr",
          "text": [
            "\r 67%|██████▋   | 134/200 [09:27<04:31,  4.12s/it]"
          ]
        },
        {
          "output_type": "stream",
          "name": "stdout",
          "text": [
            "[INFO] EPOCH: 134/200\n",
            "Train loss: 0.372800\n",
            "Val loss: 0.642567, Val accuracy: 0.7299\n"
          ]
        },
        {
          "output_type": "stream",
          "name": "stderr",
          "text": [
            "\r 68%|██████▊   | 135/200 [09:31<04:27,  4.12s/it]"
          ]
        },
        {
          "output_type": "stream",
          "name": "stdout",
          "text": [
            "[INFO] EPOCH: 135/200\n",
            "Train loss: 0.379953\n",
            "Val loss: 0.634308, Val accuracy: 0.7153\n"
          ]
        },
        {
          "output_type": "stream",
          "name": "stderr",
          "text": [
            "\r 68%|██████▊   | 136/200 [09:35<04:22,  4.10s/it]"
          ]
        },
        {
          "output_type": "stream",
          "name": "stdout",
          "text": [
            "[INFO] EPOCH: 136/200\n",
            "Train loss: 0.380245\n",
            "Val loss: 0.694145, Val accuracy: 0.6788\n"
          ]
        },
        {
          "output_type": "stream",
          "name": "stderr",
          "text": [
            "\r 68%|██████▊   | 137/200 [09:39<04:18,  4.10s/it]"
          ]
        },
        {
          "output_type": "stream",
          "name": "stdout",
          "text": [
            "[INFO] EPOCH: 137/200\n",
            "Train loss: 0.382279\n",
            "Val loss: 0.659482, Val accuracy: 0.6788\n"
          ]
        },
        {
          "output_type": "stream",
          "name": "stderr",
          "text": [
            "\r 69%|██████▉   | 138/200 [09:43<04:14,  4.11s/it]"
          ]
        },
        {
          "output_type": "stream",
          "name": "stdout",
          "text": [
            "[INFO] EPOCH: 138/200\n",
            "Train loss: 0.373597\n",
            "Val loss: 0.631276, Val accuracy: 0.7226\n"
          ]
        },
        {
          "output_type": "stream",
          "name": "stderr",
          "text": [
            "\r 70%|██████▉   | 139/200 [09:47<04:10,  4.10s/it]"
          ]
        },
        {
          "output_type": "stream",
          "name": "stdout",
          "text": [
            "[INFO] EPOCH: 139/200\n",
            "Train loss: 0.369630\n",
            "Val loss: 0.679071, Val accuracy: 0.7226\n"
          ]
        },
        {
          "output_type": "stream",
          "name": "stderr",
          "text": [
            "\r 70%|███████   | 140/200 [09:51<04:06,  4.11s/it]"
          ]
        },
        {
          "output_type": "stream",
          "name": "stdout",
          "text": [
            "[INFO] EPOCH: 140/200\n",
            "Train loss: 0.377591\n",
            "Val loss: 0.692307, Val accuracy: 0.7007\n"
          ]
        },
        {
          "output_type": "stream",
          "name": "stderr",
          "text": [
            "\r 70%|███████   | 141/200 [09:56<04:02,  4.12s/it]"
          ]
        },
        {
          "output_type": "stream",
          "name": "stdout",
          "text": [
            "[INFO] EPOCH: 141/200\n",
            "Train loss: 0.374037\n",
            "Val loss: 0.716666, Val accuracy: 0.7007\n"
          ]
        },
        {
          "output_type": "stream",
          "name": "stderr",
          "text": [
            "\r 71%|███████   | 142/200 [10:00<03:58,  4.11s/it]"
          ]
        },
        {
          "output_type": "stream",
          "name": "stdout",
          "text": [
            "[INFO] EPOCH: 142/200\n",
            "Train loss: 0.374433\n",
            "Val loss: 0.665810, Val accuracy: 0.7080\n"
          ]
        },
        {
          "output_type": "stream",
          "name": "stderr",
          "text": [
            "\r 72%|███████▏  | 143/200 [10:04<03:54,  4.12s/it]"
          ]
        },
        {
          "output_type": "stream",
          "name": "stdout",
          "text": [
            "[INFO] EPOCH: 143/200\n",
            "Train loss: 0.365944\n",
            "Val loss: 0.679032, Val accuracy: 0.6788\n"
          ]
        },
        {
          "output_type": "stream",
          "name": "stderr",
          "text": [
            "\r 72%|███████▏  | 144/200 [10:08<03:50,  4.12s/it]"
          ]
        },
        {
          "output_type": "stream",
          "name": "stdout",
          "text": [
            "[INFO] EPOCH: 144/200\n",
            "Train loss: 0.370588\n",
            "Val loss: 0.581168, Val accuracy: 0.7080\n"
          ]
        },
        {
          "output_type": "stream",
          "name": "stderr",
          "text": [
            "\r 72%|███████▎  | 145/200 [10:12<03:46,  4.12s/it]"
          ]
        },
        {
          "output_type": "stream",
          "name": "stdout",
          "text": [
            "[INFO] EPOCH: 145/200\n",
            "Train loss: 0.366494\n",
            "Val loss: 0.653236, Val accuracy: 0.7153\n"
          ]
        },
        {
          "output_type": "stream",
          "name": "stderr",
          "text": [
            "\r 73%|███████▎  | 146/200 [10:16<03:42,  4.12s/it]"
          ]
        },
        {
          "output_type": "stream",
          "name": "stdout",
          "text": [
            "[INFO] EPOCH: 146/200\n",
            "Train loss: 0.370864\n",
            "Val loss: 0.645236, Val accuracy: 0.6934\n"
          ]
        },
        {
          "output_type": "stream",
          "name": "stderr",
          "text": [
            "\r 74%|███████▎  | 147/200 [10:20<03:37,  4.11s/it]"
          ]
        },
        {
          "output_type": "stream",
          "name": "stdout",
          "text": [
            "[INFO] EPOCH: 147/200\n",
            "Train loss: 0.365431\n",
            "Val loss: 0.656934, Val accuracy: 0.7372\n"
          ]
        },
        {
          "output_type": "stream",
          "name": "stderr",
          "text": [
            "\r 74%|███████▍  | 148/200 [10:24<03:35,  4.14s/it]"
          ]
        },
        {
          "output_type": "stream",
          "name": "stdout",
          "text": [
            "[INFO] EPOCH: 148/200\n",
            "Train loss: 0.356715\n",
            "Val loss: 0.669268, Val accuracy: 0.7372\n"
          ]
        },
        {
          "output_type": "stream",
          "name": "stderr",
          "text": [
            "\r 74%|███████▍  | 149/200 [10:29<03:30,  4.13s/it]"
          ]
        },
        {
          "output_type": "stream",
          "name": "stdout",
          "text": [
            "[INFO] EPOCH: 149/200\n",
            "Train loss: 0.358812\n",
            "Val loss: 0.657068, Val accuracy: 0.7080\n"
          ]
        },
        {
          "output_type": "stream",
          "name": "stderr",
          "text": [
            "\r 75%|███████▌  | 150/200 [10:33<03:26,  4.14s/it]"
          ]
        },
        {
          "output_type": "stream",
          "name": "stdout",
          "text": [
            "[INFO] EPOCH: 150/200\n",
            "Train loss: 0.360896\n",
            "Val loss: 0.665123, Val accuracy: 0.7080\n"
          ]
        },
        {
          "output_type": "stream",
          "name": "stderr",
          "text": [
            "\r 76%|███████▌  | 151/200 [10:37<03:22,  4.14s/it]"
          ]
        },
        {
          "output_type": "stream",
          "name": "stdout",
          "text": [
            "[INFO] EPOCH: 151/200\n",
            "Train loss: 0.362673\n",
            "Val loss: 0.650596, Val accuracy: 0.6350\n"
          ]
        },
        {
          "output_type": "stream",
          "name": "stderr",
          "text": [
            "\r 76%|███████▌  | 152/200 [10:41<03:18,  4.14s/it]"
          ]
        },
        {
          "output_type": "stream",
          "name": "stdout",
          "text": [
            "[INFO] EPOCH: 152/200\n",
            "Train loss: 0.365686\n",
            "Val loss: 0.613509, Val accuracy: 0.7226\n"
          ]
        },
        {
          "output_type": "stream",
          "name": "stderr",
          "text": [
            "\r 76%|███████▋  | 153/200 [10:45<03:14,  4.14s/it]"
          ]
        },
        {
          "output_type": "stream",
          "name": "stdout",
          "text": [
            "[INFO] EPOCH: 153/200\n",
            "Train loss: 0.366215\n",
            "Val loss: 0.660255, Val accuracy: 0.7372\n"
          ]
        },
        {
          "output_type": "stream",
          "name": "stderr",
          "text": [
            "\r 77%|███████▋  | 154/200 [10:49<03:10,  4.15s/it]"
          ]
        },
        {
          "output_type": "stream",
          "name": "stdout",
          "text": [
            "[INFO] EPOCH: 154/200\n",
            "Train loss: 0.362733\n",
            "Val loss: 0.676502, Val accuracy: 0.7226\n"
          ]
        },
        {
          "output_type": "stream",
          "name": "stderr",
          "text": [
            "\r 78%|███████▊  | 155/200 [10:53<03:06,  4.15s/it]"
          ]
        },
        {
          "output_type": "stream",
          "name": "stdout",
          "text": [
            "[INFO] EPOCH: 155/200\n",
            "Train loss: 0.361796\n",
            "Val loss: 0.661835, Val accuracy: 0.7372\n"
          ]
        },
        {
          "output_type": "stream",
          "name": "stderr",
          "text": [
            "\r 78%|███████▊  | 156/200 [10:58<03:02,  4.16s/it]"
          ]
        },
        {
          "output_type": "stream",
          "name": "stdout",
          "text": [
            "[INFO] EPOCH: 156/200\n",
            "Train loss: 0.361013\n",
            "Val loss: 0.676035, Val accuracy: 0.6861\n"
          ]
        },
        {
          "output_type": "stream",
          "name": "stderr",
          "text": [
            "\r 78%|███████▊  | 157/200 [11:02<02:58,  4.16s/it]"
          ]
        },
        {
          "output_type": "stream",
          "name": "stdout",
          "text": [
            "[INFO] EPOCH: 157/200\n",
            "Train loss: 0.363760\n",
            "Val loss: 0.663213, Val accuracy: 0.7226\n"
          ]
        },
        {
          "output_type": "stream",
          "name": "stderr",
          "text": [
            "\r 79%|███████▉  | 158/200 [11:06<02:54,  4.16s/it]"
          ]
        },
        {
          "output_type": "stream",
          "name": "stdout",
          "text": [
            "[INFO] EPOCH: 158/200\n",
            "Train loss: 0.361603\n",
            "Val loss: 0.628310, Val accuracy: 0.7153\n"
          ]
        },
        {
          "output_type": "stream",
          "name": "stderr",
          "text": [
            "\r 80%|███████▉  | 159/200 [11:10<02:49,  4.15s/it]"
          ]
        },
        {
          "output_type": "stream",
          "name": "stdout",
          "text": [
            "[INFO] EPOCH: 159/200\n",
            "Train loss: 0.363092\n",
            "Val loss: 0.648371, Val accuracy: 0.7080\n"
          ]
        },
        {
          "output_type": "stream",
          "name": "stderr",
          "text": [
            "\r 80%|████████  | 160/200 [11:14<02:45,  4.14s/it]"
          ]
        },
        {
          "output_type": "stream",
          "name": "stdout",
          "text": [
            "[INFO] EPOCH: 160/200\n",
            "Train loss: 0.358745\n",
            "Val loss: 0.678825, Val accuracy: 0.7299\n"
          ]
        },
        {
          "output_type": "stream",
          "name": "stderr",
          "text": [
            "\r 80%|████████  | 161/200 [11:18<02:40,  4.12s/it]"
          ]
        },
        {
          "output_type": "stream",
          "name": "stdout",
          "text": [
            "[INFO] EPOCH: 161/200\n",
            "Train loss: 0.362201\n",
            "Val loss: 0.640147, Val accuracy: 0.7007\n"
          ]
        },
        {
          "output_type": "stream",
          "name": "stderr",
          "text": [
            "\r 81%|████████  | 162/200 [11:22<02:35,  4.10s/it]"
          ]
        },
        {
          "output_type": "stream",
          "name": "stdout",
          "text": [
            "[INFO] EPOCH: 162/200\n",
            "Train loss: 0.361324\n",
            "Val loss: 0.662505, Val accuracy: 0.7153\n"
          ]
        },
        {
          "output_type": "stream",
          "name": "stderr",
          "text": [
            "\r 82%|████████▏ | 163/200 [11:26<02:31,  4.09s/it]"
          ]
        },
        {
          "output_type": "stream",
          "name": "stdout",
          "text": [
            "[INFO] EPOCH: 163/200\n",
            "Train loss: 0.351840\n",
            "Val loss: 0.644353, Val accuracy: 0.7226\n"
          ]
        },
        {
          "output_type": "stream",
          "name": "stderr",
          "text": [
            "\r 82%|████████▏ | 164/200 [11:31<02:28,  4.11s/it]"
          ]
        },
        {
          "output_type": "stream",
          "name": "stdout",
          "text": [
            "[INFO] EPOCH: 164/200\n",
            "Train loss: 0.348684\n",
            "Val loss: 0.699495, Val accuracy: 0.7226\n"
          ]
        },
        {
          "output_type": "stream",
          "name": "stderr",
          "text": [
            "\r 82%|████████▎ | 165/200 [11:35<02:24,  4.12s/it]"
          ]
        },
        {
          "output_type": "stream",
          "name": "stdout",
          "text": [
            "[INFO] EPOCH: 165/200\n",
            "Train loss: 0.353535\n",
            "Val loss: 0.614784, Val accuracy: 0.7299\n"
          ]
        },
        {
          "output_type": "stream",
          "name": "stderr",
          "text": [
            "\r 83%|████████▎ | 166/200 [11:39<02:19,  4.12s/it]"
          ]
        },
        {
          "output_type": "stream",
          "name": "stdout",
          "text": [
            "[INFO] EPOCH: 166/200\n",
            "Train loss: 0.362283\n",
            "Val loss: 0.657873, Val accuracy: 0.7080\n"
          ]
        },
        {
          "output_type": "stream",
          "name": "stderr",
          "text": [
            "\r 84%|████████▎ | 167/200 [11:43<02:15,  4.11s/it]"
          ]
        },
        {
          "output_type": "stream",
          "name": "stdout",
          "text": [
            "[INFO] EPOCH: 167/200\n",
            "Train loss: 0.356901\n",
            "Val loss: 0.662590, Val accuracy: 0.7372\n"
          ]
        },
        {
          "output_type": "stream",
          "name": "stderr",
          "text": [
            "\r 84%|████████▍ | 168/200 [11:47<02:11,  4.12s/it]"
          ]
        },
        {
          "output_type": "stream",
          "name": "stdout",
          "text": [
            "[INFO] EPOCH: 168/200\n",
            "Train loss: 0.351754\n",
            "Val loss: 0.642762, Val accuracy: 0.6788\n"
          ]
        },
        {
          "output_type": "stream",
          "name": "stderr",
          "text": [
            "\r 84%|████████▍ | 169/200 [11:51<02:07,  4.11s/it]"
          ]
        },
        {
          "output_type": "stream",
          "name": "stdout",
          "text": [
            "[INFO] EPOCH: 169/200\n",
            "Train loss: 0.349102\n",
            "Val loss: 0.644945, Val accuracy: 0.7226\n"
          ]
        },
        {
          "output_type": "stream",
          "name": "stderr",
          "text": [
            "\r 85%|████████▌ | 170/200 [11:55<02:03,  4.11s/it]"
          ]
        },
        {
          "output_type": "stream",
          "name": "stdout",
          "text": [
            "[INFO] EPOCH: 170/200\n",
            "Train loss: 0.346017\n",
            "Val loss: 0.652666, Val accuracy: 0.7080\n"
          ]
        },
        {
          "output_type": "stream",
          "name": "stderr",
          "text": [
            "\r 86%|████████▌ | 171/200 [11:59<01:58,  4.09s/it]"
          ]
        },
        {
          "output_type": "stream",
          "name": "stdout",
          "text": [
            "[INFO] EPOCH: 171/200\n",
            "Train loss: 0.346084\n",
            "Val loss: 0.692888, Val accuracy: 0.7080\n"
          ]
        },
        {
          "output_type": "stream",
          "name": "stderr",
          "text": [
            "\r 86%|████████▌ | 172/200 [12:03<01:54,  4.10s/it]"
          ]
        },
        {
          "output_type": "stream",
          "name": "stdout",
          "text": [
            "[INFO] EPOCH: 172/200\n",
            "Train loss: 0.351001\n",
            "Val loss: 0.715621, Val accuracy: 0.7080\n"
          ]
        },
        {
          "output_type": "stream",
          "name": "stderr",
          "text": [
            "\r 86%|████████▋ | 173/200 [12:08<01:50,  4.10s/it]"
          ]
        },
        {
          "output_type": "stream",
          "name": "stdout",
          "text": [
            "[INFO] EPOCH: 173/200\n",
            "Train loss: 0.358129\n",
            "Val loss: 0.701595, Val accuracy: 0.6934\n"
          ]
        },
        {
          "output_type": "stream",
          "name": "stderr",
          "text": [
            "\r 87%|████████▋ | 174/200 [12:12<01:46,  4.10s/it]"
          ]
        },
        {
          "output_type": "stream",
          "name": "stdout",
          "text": [
            "[INFO] EPOCH: 174/200\n",
            "Train loss: 0.353735\n",
            "Val loss: 0.634496, Val accuracy: 0.7372\n"
          ]
        },
        {
          "output_type": "stream",
          "name": "stderr",
          "text": [
            "\r 88%|████████▊ | 175/200 [12:16<01:42,  4.10s/it]"
          ]
        },
        {
          "output_type": "stream",
          "name": "stdout",
          "text": [
            "[INFO] EPOCH: 175/200\n",
            "Train loss: 0.342491\n",
            "Val loss: 0.623131, Val accuracy: 0.7080\n"
          ]
        },
        {
          "output_type": "stream",
          "name": "stderr",
          "text": [
            "\r 88%|████████▊ | 176/200 [12:20<01:38,  4.09s/it]"
          ]
        },
        {
          "output_type": "stream",
          "name": "stdout",
          "text": [
            "[INFO] EPOCH: 176/200\n",
            "Train loss: 0.346593\n",
            "Val loss: 0.657341, Val accuracy: 0.7080\n"
          ]
        },
        {
          "output_type": "stream",
          "name": "stderr",
          "text": [
            "\r 88%|████████▊ | 177/200 [12:24<01:34,  4.09s/it]"
          ]
        },
        {
          "output_type": "stream",
          "name": "stdout",
          "text": [
            "[INFO] EPOCH: 177/200\n",
            "Train loss: 0.348213\n",
            "Val loss: 0.627864, Val accuracy: 0.7226\n"
          ]
        },
        {
          "output_type": "stream",
          "name": "stderr",
          "text": [
            "\r 89%|████████▉ | 178/200 [12:28<01:30,  4.09s/it]"
          ]
        },
        {
          "output_type": "stream",
          "name": "stdout",
          "text": [
            "[INFO] EPOCH: 178/200\n",
            "Train loss: 0.343016\n",
            "Val loss: 0.654659, Val accuracy: 0.6934\n"
          ]
        },
        {
          "output_type": "stream",
          "name": "stderr",
          "text": [
            "\r 90%|████████▉ | 179/200 [12:32<01:25,  4.09s/it]"
          ]
        },
        {
          "output_type": "stream",
          "name": "stdout",
          "text": [
            "[INFO] EPOCH: 179/200\n",
            "Train loss: 0.341205\n",
            "Val loss: 0.691057, Val accuracy: 0.7080\n"
          ]
        },
        {
          "output_type": "stream",
          "name": "stderr",
          "text": [
            "\r 90%|█████████ | 180/200 [12:36<01:22,  4.11s/it]"
          ]
        },
        {
          "output_type": "stream",
          "name": "stdout",
          "text": [
            "[INFO] EPOCH: 180/200\n",
            "Train loss: 0.343143\n",
            "Val loss: 0.655186, Val accuracy: 0.7007\n"
          ]
        },
        {
          "output_type": "stream",
          "name": "stderr",
          "text": [
            "\r 90%|█████████ | 181/200 [12:40<01:18,  4.11s/it]"
          ]
        },
        {
          "output_type": "stream",
          "name": "stdout",
          "text": [
            "[INFO] EPOCH: 181/200\n",
            "Train loss: 0.347037\n",
            "Val loss: 0.661869, Val accuracy: 0.6934\n"
          ]
        },
        {
          "output_type": "stream",
          "name": "stderr",
          "text": [
            "\r 91%|█████████ | 182/200 [12:44<01:13,  4.11s/it]"
          ]
        },
        {
          "output_type": "stream",
          "name": "stdout",
          "text": [
            "[INFO] EPOCH: 182/200\n",
            "Train loss: 0.345682\n",
            "Val loss: 0.622299, Val accuracy: 0.7445\n"
          ]
        },
        {
          "output_type": "stream",
          "name": "stderr",
          "text": [
            "\r 92%|█████████▏| 183/200 [12:49<01:09,  4.10s/it]"
          ]
        },
        {
          "output_type": "stream",
          "name": "stdout",
          "text": [
            "[INFO] EPOCH: 183/200\n",
            "Train loss: 0.345167\n",
            "Val loss: 0.647440, Val accuracy: 0.7226\n"
          ]
        },
        {
          "output_type": "stream",
          "name": "stderr",
          "text": [
            "\r 92%|█████████▏| 184/200 [12:53<01:05,  4.10s/it]"
          ]
        },
        {
          "output_type": "stream",
          "name": "stdout",
          "text": [
            "[INFO] EPOCH: 184/200\n",
            "Train loss: 0.343513\n",
            "Val loss: 0.654884, Val accuracy: 0.6934\n"
          ]
        },
        {
          "output_type": "stream",
          "name": "stderr",
          "text": [
            "\r 92%|█████████▎| 185/200 [12:57<01:01,  4.09s/it]"
          ]
        },
        {
          "output_type": "stream",
          "name": "stdout",
          "text": [
            "[INFO] EPOCH: 185/200\n",
            "Train loss: 0.339011\n",
            "Val loss: 0.676442, Val accuracy: 0.6934\n"
          ]
        },
        {
          "output_type": "stream",
          "name": "stderr",
          "text": [
            "\r 93%|█████████▎| 186/200 [13:01<00:57,  4.09s/it]"
          ]
        },
        {
          "output_type": "stream",
          "name": "stdout",
          "text": [
            "[INFO] EPOCH: 186/200\n",
            "Train loss: 0.339502\n",
            "Val loss: 0.660398, Val accuracy: 0.7299\n"
          ]
        },
        {
          "output_type": "stream",
          "name": "stderr",
          "text": [
            "\r 94%|█████████▎| 187/200 [13:05<00:53,  4.10s/it]"
          ]
        },
        {
          "output_type": "stream",
          "name": "stdout",
          "text": [
            "[INFO] EPOCH: 187/200\n",
            "Train loss: 0.341551\n",
            "Val loss: 0.685554, Val accuracy: 0.7226\n"
          ]
        },
        {
          "output_type": "stream",
          "name": "stderr",
          "text": [
            "\r 94%|█████████▍| 188/200 [13:09<00:49,  4.11s/it]"
          ]
        },
        {
          "output_type": "stream",
          "name": "stdout",
          "text": [
            "[INFO] EPOCH: 188/200\n",
            "Train loss: 0.333032\n",
            "Val loss: 0.672935, Val accuracy: 0.7226\n"
          ]
        },
        {
          "output_type": "stream",
          "name": "stderr",
          "text": [
            "\r 94%|█████████▍| 189/200 [13:13<00:45,  4.11s/it]"
          ]
        },
        {
          "output_type": "stream",
          "name": "stdout",
          "text": [
            "[INFO] EPOCH: 189/200\n",
            "Train loss: 0.341721\n",
            "Val loss: 0.632003, Val accuracy: 0.7299\n"
          ]
        },
        {
          "output_type": "stream",
          "name": "stderr",
          "text": [
            "\r 95%|█████████▌| 190/200 [13:17<00:41,  4.12s/it]"
          ]
        },
        {
          "output_type": "stream",
          "name": "stdout",
          "text": [
            "[INFO] EPOCH: 190/200\n",
            "Train loss: 0.340562\n",
            "Val loss: 0.650780, Val accuracy: 0.7226\n"
          ]
        },
        {
          "output_type": "stream",
          "name": "stderr",
          "text": [
            "\r 96%|█████████▌| 191/200 [13:21<00:36,  4.11s/it]"
          ]
        },
        {
          "output_type": "stream",
          "name": "stdout",
          "text": [
            "[INFO] EPOCH: 191/200\n",
            "Train loss: 0.335255\n",
            "Val loss: 0.683082, Val accuracy: 0.7226\n"
          ]
        },
        {
          "output_type": "stream",
          "name": "stderr",
          "text": [
            "\r 96%|█████████▌| 192/200 [13:25<00:32,  4.11s/it]"
          ]
        },
        {
          "output_type": "stream",
          "name": "stdout",
          "text": [
            "[INFO] EPOCH: 192/200\n",
            "Train loss: 0.340642\n",
            "Val loss: 0.648662, Val accuracy: 0.7007\n"
          ]
        },
        {
          "output_type": "stream",
          "name": "stderr",
          "text": [
            "\r 96%|█████████▋| 193/200 [13:30<00:28,  4.11s/it]"
          ]
        },
        {
          "output_type": "stream",
          "name": "stdout",
          "text": [
            "[INFO] EPOCH: 193/200\n",
            "Train loss: 0.339819\n",
            "Val loss: 0.656907, Val accuracy: 0.7299\n"
          ]
        },
        {
          "output_type": "stream",
          "name": "stderr",
          "text": [
            "\r 97%|█████████▋| 194/200 [13:34<00:24,  4.11s/it]"
          ]
        },
        {
          "output_type": "stream",
          "name": "stdout",
          "text": [
            "[INFO] EPOCH: 194/200\n",
            "Train loss: 0.342234\n",
            "Val loss: 0.683679, Val accuracy: 0.7080\n"
          ]
        },
        {
          "output_type": "stream",
          "name": "stderr",
          "text": [
            "\r 98%|█████████▊| 195/200 [13:38<00:20,  4.11s/it]"
          ]
        },
        {
          "output_type": "stream",
          "name": "stdout",
          "text": [
            "[INFO] EPOCH: 195/200\n",
            "Train loss: 0.341515\n",
            "Val loss: 0.690943, Val accuracy: 0.6861\n"
          ]
        },
        {
          "output_type": "stream",
          "name": "stderr",
          "text": [
            "\r 98%|█████████▊| 196/200 [13:42<00:16,  4.14s/it]"
          ]
        },
        {
          "output_type": "stream",
          "name": "stdout",
          "text": [
            "[INFO] EPOCH: 196/200\n",
            "Train loss: 0.342310\n",
            "Val loss: 0.724853, Val accuracy: 0.7080\n"
          ]
        },
        {
          "output_type": "stream",
          "name": "stderr",
          "text": [
            "\r 98%|█████████▊| 197/200 [13:46<00:12,  4.13s/it]"
          ]
        },
        {
          "output_type": "stream",
          "name": "stdout",
          "text": [
            "[INFO] EPOCH: 197/200\n",
            "Train loss: 0.336324\n",
            "Val loss: 0.636726, Val accuracy: 0.7226\n"
          ]
        },
        {
          "output_type": "stream",
          "name": "stderr",
          "text": [
            "\r 99%|█████████▉| 198/200 [13:50<00:08,  4.13s/it]"
          ]
        },
        {
          "output_type": "stream",
          "name": "stdout",
          "text": [
            "[INFO] EPOCH: 198/200\n",
            "Train loss: 0.327603\n",
            "Val loss: 0.646715, Val accuracy: 0.7299\n"
          ]
        },
        {
          "output_type": "stream",
          "name": "stderr",
          "text": [
            "\r100%|█████████▉| 199/200 [13:54<00:04,  4.11s/it]"
          ]
        },
        {
          "output_type": "stream",
          "name": "stdout",
          "text": [
            "[INFO] EPOCH: 199/200\n",
            "Train loss: 0.334350\n",
            "Val loss: 0.635817, Val accuracy: 0.7299\n"
          ]
        },
        {
          "output_type": "stream",
          "name": "stderr",
          "text": [
            "100%|██████████| 200/200 [13:58<00:00,  4.19s/it]"
          ]
        },
        {
          "output_type": "stream",
          "name": "stdout",
          "text": [
            "[INFO] EPOCH: 200/200\n",
            "Train loss: 0.332209\n",
            "Val loss: 0.650323, Val accuracy: 0.7080\n",
            "[INFO] total time taken to train the model: 838.92s\n"
          ]
        },
        {
          "output_type": "stream",
          "name": "stderr",
          "text": [
            "\n"
          ]
        }
      ],
      "source": [
        "print(\"[INFO] training the network...\")\n",
        "startTime = time.time()\n",
        "for e in tqdm(range(NUM_EPOCHS)):\n",
        "    # set the model in training mode\n",
        "    model.train()\n",
        "    # initialize the total training and validation loss\n",
        "    totalTrainLoss = 0\n",
        "    totalValLoss = 0\n",
        "    # initialize the number of correct predictions in the training\n",
        "    # and validation step\n",
        "    trainCorrect = 0\n",
        "    valCorrect = 0\n",
        "    # loop over the training set\n",
        "    for inputs, labels in trainLoader:\n",
        "        #Move the batch to the device we are using. \n",
        "        inputs = moveTo(inputs, DEVICE)\n",
        "        labels = moveTo(labels, DEVICE)\n",
        "        # perform a forward pass and calculate the training loss\n",
        "        predictions = model(inputs, labels)\n",
        "        # print(predictions.keys())\n",
        "#         print(predictions)\n",
        "        proposal_losses = {}\n",
        "        proposal_losses = {\n",
        "        \"loss_objectness\": predictions['loss_objectness'],\n",
        "        \"loss_rpn_box_reg\":  predictions['loss_rpn_box_reg'],\n",
        "        }\n",
        "        detector_losses = {}\n",
        "        detector_losses = {\n",
        "            \"loss_classifier\": predictions['loss_classifier'], \n",
        "            \"loss_box_reg\": predictions['loss_box_reg']\n",
        "        }\n",
        "        \n",
        "        losses = {}\n",
        "        losses.update(detector_losses)\n",
        "        losses.update(proposal_losses)\n",
        "        \n",
        "#         bboxLoss = predictions['loss_box_reg'] + predictions['loss_classifier']\n",
        "#         classLoss = predictions['loss_objectness'] + predictions['loss_rpn_box_reg']\n",
        "#         totalLoss = (BBOX * bboxLoss) + (LABELS * classLoss)\n",
        "        totalLoss = sum(loss for loss in losses.values())\n",
        "        # zero out the gradients, perform the backpropagation step,\n",
        "        # and update the weights\n",
        "        opt.zero_grad()\n",
        "        totalLoss.backward()\n",
        "        opt.step()\n",
        "        # add the loss to the total training loss so far and\n",
        "        # calculate the number of correct predictions\n",
        "        totalTrainLoss += totalLoss\n",
        "#         trainCorrect += (predictions[1].argmax(1) == labels).type(\n",
        "#             torch.float).sum().item()\n",
        "    # switch off autograd\n",
        "    with torch.no_grad():\n",
        "        # set the model in evaluation mode\n",
        "        model.eval()\n",
        "        # loop over the validation set\n",
        "        for inputs, labels in testLoader:\n",
        "            # send the input to the device\n",
        "            inputs = moveTo(inputs, DEVICE)\n",
        "            labels = moveTo(labels, DEVICE)\n",
        "            # make the predictions and calculate the validation loss\n",
        "            predictions = model(inputs, labels)\n",
        "            # print(predictions)\n",
        "            losses, detections = eval_forward(model, inputs, labels)\n",
        "            totalLoss = sum(loss for loss in losses.values())\n",
        "            totalValLoss += totalLoss\n",
        "            # calculate the number of correct predictions\n",
        "            # print(labels[0]['labels'])\n",
        "            for i, prediction in enumerate(predictions):\n",
        "                try:\n",
        "                    valCorrect += (prediction['labels'][prediction['scores'].argmax(0)] == labels[i]['labels']).type(\n",
        "                        torch.float).sum().item()\n",
        "                except:\n",
        "                    valCorrect += 0\n",
        "    # calculate the average training and validation loss\n",
        "    avgTrainLoss = totalTrainLoss / trainSteps\n",
        "    avgValLoss = totalValLoss / valSteps\n",
        "    # calculate the training and validation accuracy\n",
        "#     trainCorrect = trainCorrect / len(trainDS)\n",
        "    valCorrect = valCorrect / len(testDS)\n",
        "    # update our training history\n",
        "    H[\"total_train_loss\"].append(avgTrainLoss.cpu().detach().numpy())\n",
        "#     H[\"train_class_acc\"].append(trainCorrect)\n",
        "    H[\"total_val_loss\"].append(avgValLoss.cpu().detach().numpy())\n",
        "    H[\"val_class_acc\"].append(valCorrect)\n",
        "    if valCorrect == max(H[\"val_class_acc\"]):\n",
        "        torch.save(model.state_dict(), MODEL_PATH)\n",
        "    # print the model training and validation information\n",
        "    print(\"[INFO] EPOCH: {}/{}\".format(e + 1, NUM_EPOCHS))\n",
        "    print(\"Train loss: {:.6f}\".format(\n",
        "        avgTrainLoss ))\n",
        "    print(\"Val loss: {:.6f}, Val accuracy: {:.4f}\".format(\n",
        "        avgValLoss, valCorrect))\n",
        "endTime = time.time()\n",
        "print(\"[INFO] total time taken to train the model: {:.2f}s\".format(endTime - startTime))\n"
      ]
    },
    {
      "cell_type": "code",
      "execution_count": null,
      "id": "784eeeab",
      "metadata": {
        "id": "784eeeab",
        "colab": {
          "base_uri": "https://localhost:8080/"
        },
        "outputId": "4c2efb31-d467-44e0-85ee-a370dc64f431"
      },
      "outputs": [
        {
          "output_type": "stream",
          "name": "stdout",
          "text": [
            "[INFO] saving object detector model...\n",
            "[INFO] saving label encoder...\n"
          ]
        },
        {
          "output_type": "display_data",
          "data": {
            "text/plain": [
              "<Figure size 432x288 with 1 Axes>"
            ],
            "image/png": "[encoded data removed]"
          },
          "metadata": {}
        }
      ],
      "source": [
        "# serialize the model to disk\n",
        "print(\"[INFO] saving object detector model...\")\n",
        "# torch.save(model, MODEL_PATH)\n",
        "# serialize the label encoder to disk\n",
        "print(\"[INFO] saving label encoder...\")\n",
        "f = open(LE_PATH, \"wb\")\n",
        "f.write(pickle.dumps(le))\n",
        "f.close()\n",
        "# plot the training loss and accuracy\n",
        "plt.style.use(\"ggplot\")\n",
        "plt.figure()\n",
        "plt.plot(H[\"total_train_loss\"], label=\"total_train_loss\")\n",
        "plt.plot(H[\"total_val_loss\"], label=\"total_val_loss\")\n",
        "plt.plot(H[\"train_class_acc\"], label=\"train_class_acc\")\n",
        "plt.plot(H[\"val_class_acc\"], label=\"val_class_acc\")\n",
        "plt.title(\"Total Training Loss and Classification Accuracy on Dataset\")\n",
        "plt.xlabel(\"Epoch #\")\n",
        "plt.ylabel(\"Loss/Accuracy\")\n",
        "plt.legend(loc=\"lower left\")\n",
        "# save the training plot\n",
        "plotPath = os.path.sep.join([PLOTS_PATH, \"training.png\"])\n",
        "plt.savefig(plotPath)"
      ]
    },
    {
      "cell_type": "code",
      "source": [
        "model.eval()\n",
        "result()"
      ],
      "metadata": {
        "id": "pR_caUluJjhG"
      },
      "id": "pR_caUluJjhG",
      "execution_count": null,
      "outputs": []
    },
    {
      "cell_type": "markdown",
      "source": [
        ""
      ],
      "metadata": {
        "id": "9oiikJeTteph"
      },
      "id": "9oiikJeTteph"
    },
    {
      "cell_type": "code",
      "execution_count": null,
      "id": "dac03c5e",
      "metadata": {
        "id": "dac03c5e"
      },
      "outputs": [],
      "source": [
        "import cv2 \n",
        "import numpy as np\n",
        "from matplotlib import pyplot as plt"
      ]
    },
    {
      "cell_type": "code",
      "execution_count": null,
      "id": "0f5383ea",
      "metadata": {
        "id": "0f5383ea",
        "colab": {
          "base_uri": "https://localhost:8080/"
        },
        "outputId": "82d57ed0-ed0c-4e5b-b016-ec4fcd649736"
      },
      "outputs": [
        {
          "output_type": "execute_result",
          "data": {
            "text/plain": [
              "FasterRCNN(\n",
              "  (transform): GeneralizedRCNNTransform(\n",
              "      Normalize(mean=(0.5,), std=(0.5,))\n",
              "      Resize(min_size=(100,), max_size=100, mode='bilinear')\n",
              "  )\n",
              "  (backbone): Sequential(\n",
              "    (0): Sequential(\n",
              "      (0): Conv2d(3, 32, kernel_size=(3, 3), stride=(1, 1), padding=(1, 1))\n",
              "      (1): BatchNorm2d(32, eps=1e-05, momentum=0.1, affine=True, track_running_stats=True)\n",
              "      (2): LeakyReLU(negative_slope=0.01)\n",
              "    )\n",
              "    (1): Sequential(\n",
              "      (0): Conv2d(32, 32, kernel_size=(3, 3), stride=(1, 1), padding=(1, 1))\n",
              "      (1): BatchNorm2d(32, eps=1e-05, momentum=0.1, affine=True, track_running_stats=True)\n",
              "      (2): LeakyReLU(negative_slope=0.01)\n",
              "    )\n",
              "    (2): Sequential(\n",
              "      (0): Conv2d(32, 32, kernel_size=(3, 3), stride=(1, 1), padding=(1, 1))\n",
              "      (1): BatchNorm2d(32, eps=1e-05, momentum=0.1, affine=True, track_running_stats=True)\n",
              "      (2): LeakyReLU(negative_slope=0.01)\n",
              "    )\n",
              "    (3): MaxPool2d(kernel_size=(2, 2), stride=(2, 2), padding=0, dilation=1, ceil_mode=False)\n",
              "    (4): Sequential(\n",
              "      (0): Conv2d(32, 64, kernel_size=(3, 3), stride=(1, 1), padding=(1, 1))\n",
              "      (1): BatchNorm2d(64, eps=1e-05, momentum=0.1, affine=True, track_running_stats=True)\n",
              "      (2): LeakyReLU(negative_slope=0.01)\n",
              "    )\n",
              "    (5): Sequential(\n",
              "      (0): Conv2d(64, 64, kernel_size=(3, 3), stride=(1, 1), padding=(1, 1))\n",
              "      (1): BatchNorm2d(64, eps=1e-05, momentum=0.1, affine=True, track_running_stats=True)\n",
              "      (2): LeakyReLU(negative_slope=0.01)\n",
              "    )\n",
              "    (6): Sequential(\n",
              "      (0): Conv2d(64, 64, kernel_size=(3, 3), stride=(1, 1), padding=(1, 1))\n",
              "      (1): BatchNorm2d(64, eps=1e-05, momentum=0.1, affine=True, track_running_stats=True)\n",
              "      (2): LeakyReLU(negative_slope=0.01)\n",
              "    )\n",
              "    (7): MaxPool2d(kernel_size=(2, 2), stride=(2, 2), padding=0, dilation=1, ceil_mode=False)\n",
              "    (8): Sequential(\n",
              "      (0): Conv2d(64, 128, kernel_size=(3, 3), stride=(1, 1), padding=(1, 1))\n",
              "      (1): BatchNorm2d(128, eps=1e-05, momentum=0.1, affine=True, track_running_stats=True)\n",
              "      (2): LeakyReLU(negative_slope=0.01)\n",
              "    )\n",
              "    (9): Sequential(\n",
              "      (0): Conv2d(128, 128, kernel_size=(3, 3), stride=(1, 1), padding=(1, 1))\n",
              "      (1): BatchNorm2d(128, eps=1e-05, momentum=0.1, affine=True, track_running_stats=True)\n",
              "      (2): LeakyReLU(negative_slope=0.01)\n",
              "    )\n",
              "  )\n",
              "  (rpn): RegionProposalNetwork(\n",
              "    (anchor_generator): AnchorGenerator()\n",
              "    (head): RPNHead(\n",
              "      (conv): Conv2d(128, 128, kernel_size=(3, 3), stride=(1, 1), padding=(1, 1))\n",
              "      (cls_logits): Conv2d(128, 1, kernel_size=(1, 1), stride=(1, 1))\n",
              "      (bbox_pred): Conv2d(128, 4, kernel_size=(1, 1), stride=(1, 1))\n",
              "    )\n",
              "  )\n",
              "  (roi_heads): RoIHeads(\n",
              "    (box_roi_pool): MultiScaleRoIAlign(featmap_names=['0'], output_size=(7, 7), sampling_ratio=2)\n",
              "    (box_head): TwoMLPHead(\n",
              "      (fc6): Linear(in_features=6272, out_features=1024, bias=True)\n",
              "      (fc7): Linear(in_features=1024, out_features=1024, bias=True)\n",
              "    )\n",
              "    (box_predictor): FastRCNNPredictor(\n",
              "      (cls_score): Linear(in_features=1024, out_features=34, bias=True)\n",
              "      (bbox_pred): Linear(in_features=1024, out_features=136, bias=True)\n",
              "    )\n",
              "  )\n",
              ")"
            ]
          },
          "metadata": {},
          "execution_count": 114
        }
      ],
      "source": [
        "model = torch.load(\"/content/output/detector_FasterRCNN_200epochs.pth\")\n",
        "model.eval()"
      ]
    },
    {
      "cell_type": "code",
      "execution_count": null,
      "id": "dd36d5ad",
      "metadata": {
        "id": "dd36d5ad"
      },
      "outputs": [],
      "source": [
        "signs = dict(zip(le.classes_, le.transform(le.classes_)))"
      ]
    },
    {
      "cell_type": "code",
      "execution_count": null,
      "id": "21d14903",
      "metadata": {
        "id": "21d14903",
        "colab": {
          "base_uri": "https://localhost:8080/",
          "height": 235
        },
        "outputId": "8a9d9ba7-c834-4ef4-fb0a-0caa02dfaea2"
      },
      "outputs": [
        {
          "output_type": "error",
          "ename": "error",
          "evalue": "ignored",
          "traceback": [
            "\u001b[0;31m---------------------------------------------------------------------------\u001b[0m",
            "\u001b[0;31merror\u001b[0m                                     Traceback (most recent call last)",
            "\u001b[0;32m<ipython-input-116-8a54b77d484c>\u001b[0m in \u001b[0;36m<module>\u001b[0;34m()\u001b[0m\n\u001b[1;32m      4\u001b[0m     \u001b[0mret\u001b[0m\u001b[0;34m,\u001b[0m \u001b[0mframe\u001b[0m \u001b[0;34m=\u001b[0m \u001b[0mcap\u001b[0m\u001b[0;34m.\u001b[0m\u001b[0mread\u001b[0m\u001b[0;34m(\u001b[0m\u001b[0;34m)\u001b[0m\u001b[0;34m\u001b[0m\u001b[0;34m\u001b[0m\u001b[0m\n\u001b[1;32m      5\u001b[0m \u001b[0;34m\u001b[0m\u001b[0m\n\u001b[0;32m----> 6\u001b[0;31m     \u001b[0mimage\u001b[0m \u001b[0;34m=\u001b[0m \u001b[0mcv2\u001b[0m\u001b[0;34m.\u001b[0m\u001b[0mcvtColor\u001b[0m\u001b[0;34m(\u001b[0m\u001b[0mframe\u001b[0m\u001b[0;34m,\u001b[0m \u001b[0mcv2\u001b[0m\u001b[0;34m.\u001b[0m\u001b[0mCOLOR_BGR2RGB\u001b[0m\u001b[0;34m)\u001b[0m\u001b[0;34m\u001b[0m\u001b[0;34m\u001b[0m\u001b[0m\n\u001b[0m\u001b[1;32m      7\u001b[0m     \u001b[0mimage\u001b[0m \u001b[0;34m=\u001b[0m \u001b[0mcv2\u001b[0m\u001b[0;34m.\u001b[0m\u001b[0mresize\u001b[0m\u001b[0;34m(\u001b[0m\u001b[0mimage\u001b[0m\u001b[0;34m,\u001b[0m \u001b[0;34m(\u001b[0m\u001b[0;36m224\u001b[0m\u001b[0;34m,\u001b[0m \u001b[0;36m224\u001b[0m\u001b[0;34m)\u001b[0m\u001b[0;34m)\u001b[0m\u001b[0;34m\u001b[0m\u001b[0;34m\u001b[0m\u001b[0m\n\u001b[1;32m      8\u001b[0m     \u001b[0mimage\u001b[0m \u001b[0;34m=\u001b[0m \u001b[0mimage\u001b[0m\u001b[0;34m.\u001b[0m\u001b[0mtranspose\u001b[0m\u001b[0;34m(\u001b[0m\u001b[0;34m(\u001b[0m\u001b[0;36m2\u001b[0m\u001b[0;34m,\u001b[0m \u001b[0;36m0\u001b[0m\u001b[0;34m,\u001b[0m \u001b[0;36m1\u001b[0m\u001b[0;34m)\u001b[0m\u001b[0;34m)\u001b[0m\u001b[0;34m\u001b[0m\u001b[0;34m\u001b[0m\u001b[0m\n",
            "\u001b[0;31merror\u001b[0m: OpenCV(4.1.2) /io/opencv/modules/imgproc/src/color.cpp:182: error: (-215:Assertion failed) !_src.empty() in function 'cvtColor'\n"
          ]
        }
      ],
      "source": [
        "cap = cv2.VideoCapture(0)\n",
        "\n",
        "while True:\n",
        "    ret, frame = cap.read()\n",
        "    \n",
        "    image = cv2.cvtColor(frame, cv2.COLOR_BGR2RGB)\n",
        "    image = cv2.resize(image, (224, 224))\n",
        "    image = image.transpose((2, 0, 1))\n",
        "    # convert image to PyTorch tensor, normalize it, flash it to the\n",
        "    # current device, and add a batch dimension\n",
        "    image = torch.from_numpy(image)\n",
        "    image = transforms(image).to(config.DEVICE)\n",
        "    image = image.unsqueeze(0)\n",
        "    \n",
        "    (boxPreds, labelPreds) = model(image)\n",
        "    (startX, startY, endX, endY) = boxPreds[0]\n",
        "    # determine the class label with the largest predicted\n",
        "    # probability\n",
        "    labelPreds = torch.nn.Softmax(dim=-1)(labelPreds)\n",
        "    i = labelPreds.argmax(dim=-1).cpu()\n",
        "    label = le.inverse_transform(i)[0]\n",
        "    \n",
        "    (h, w) = image.shape[:2]\n",
        "    # scale the predicted bounding box coordinates based on the image\n",
        "    # dimensions\n",
        "    startX = int(startX * w)\n",
        "    startY = int(startY * h)\n",
        "    endX = int(endX * w)\n",
        "    endY = int(endY * h)\n",
        "    # draw the predicted bounding box and class label on the image\n",
        "    y = startY - 10 if startY - 10 > 10 else startY + 10\n",
        "    cv2.putText(orig, label, (startX, y), cv2.FONT_HERSHEY_SIMPLEX,\n",
        "        0.65, (0, 255, 0), 2)\n",
        "    cv2.rectangle(orig, (startX, startY), (endX, endY),\n",
        "        (0, 255, 0), 2)\n",
        "    # show the output image \n",
        "    cv2.imshow(\"Output\", orig)\n",
        "    cv2.waitKey(0)"
      ]
    },
    {
      "cell_type": "code",
      "execution_count": null,
      "id": "eb1faaac",
      "metadata": {
        "id": "eb1faaac"
      },
      "outputs": [],
      "source": [
        ""
      ]
    },
    {
      "cell_type": "code",
      "execution_count": null,
      "id": "1c7d497f",
      "metadata": {
        "id": "1c7d497f"
      },
      "outputs": [],
      "source": [
        ""
      ]
    }
  ],
  "metadata": {
    "kernelspec": {
      "display_name": "Python 3 (ipykernel)",
      "language": "python",
      "name": "python3"
    },
    "language_info": {
      "codemirror_mode": {
        "name": "ipython",
        "version": 3
      },
      "file_extension": ".py",
      "mimetype": "text/x-python",
      "name": "python",
      "nbconvert_exporter": "python",
      "pygments_lexer": "ipython3",
      "version": "3.9.7"
    },
    "colab": {
      "name": "Attempt 4 - Faster RNN.ipynb",
      "provenance": [],
      "machine_shape": "hm",
      "background_execution": "on"
    },
    "accelerator": "GPU"
  },
  "nbformat": 4,
  "nbformat_minor": 5
}